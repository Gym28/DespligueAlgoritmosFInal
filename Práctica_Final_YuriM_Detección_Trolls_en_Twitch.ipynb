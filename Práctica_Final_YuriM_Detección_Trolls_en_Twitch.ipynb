{
  "nbformat": 4,
  "nbformat_minor": 0,
  "metadata": {
    "accelerator": "GPU",
    "colab": {
      "name": "Práctica Final YuriM- Detección Trolls en Twitch.ipynb",
      "provenance": [],
      "collapsed_sections": [],
      "machine_shape": "hm",
      "include_colab_link": true
    },
    "kernelspec": {
      "display_name": "Python 3",
      "name": "python3"
    },
    "gpuClass": "standard"
  },
  "cells": [
    {
      "cell_type": "markdown",
      "metadata": {
        "id": "view-in-github",
        "colab_type": "text"
      },
      "source": [
        "<a href=\"https://colab.research.google.com/github/Gym28/DespligueAlgoritmosFInal/blob/main/Pr%C3%A1ctica_Final_YuriM_Detecci%C3%B3n_Trolls_en_Twitch.ipynb\" target=\"_parent\"><img src=\"https://colab.research.google.com/assets/colab-badge.svg\" alt=\"Open In Colab\"/></a>"
      ]
    },
    {
      "cell_type": "markdown",
      "metadata": {
        "id": "Cj8bcxFX85UO"
      },
      "source": [
        "# Práctica Final: detección de mensajes troll en chat de Twitch en tiempo real\n",
        "\n",
        "Durante este último año la plataforma de vídeo en streaming Twitch ha cogido mucha popularidad debido a la situación que hemos vivido debido al COVID-19. Por esto, mucha gente de todas las edades ha empezado a consumir esta plataforma de manera diaria.\n",
        "\n",
        "Como consecuencia, no sólo han aumentado las personas que ven contenido en Twitch, sino también el número de los denominados *trolls*, gente que pone comentarios ofensivos en los chat de los streamers.\n",
        "\n",
        "En esta práctica se desarrollará un sistema autónomo basado en IA y desplegado en GCP que detectará en tiempo real si los mensajes que se envían a un canal de Twitch son de un *troll* o no. La práctica constará de tres partes principales que serán evaluadas en la corrección:\n",
        "1. Entrenamiento e inferencia en Batch de un modelo usando Dataflow y AI Platform. **(3.5 puntos)**.\n",
        "2. Despliegue e inferencia online en microservicio con el modelo. **(3.5 puntos)**.\n",
        "3. Inferencia en streaming de un canal de Twitch con el microservicio anterior. **(3 puntos)**."
      ]
    },
    {
      "cell_type": "markdown",
      "metadata": {
        "id": "hgE9XB8ACVmQ"
      },
      "source": [
        "# Configuración de nuestro proyecto en GCP\n"
      ]
    },
    {
      "cell_type": "code",
      "metadata": {
        "id": "zAorVw7RCT9C",
        "outputId": "9ff5272a-4ea1-4ad0-8c16-545174d70364",
        "colab": {
          "base_uri": "https://localhost:8080/"
        }
      },
      "source": [
        "PROJECT_ID = \"practica-final-355911 \" #@param {type:\"string\"}\n",
        "! gcloud config set project $PROJECT_ID"
      ],
      "execution_count": 1,
      "outputs": [
        {
          "output_type": "stream",
          "name": "stdout",
          "text": [
            "Updated property [core/project].\n"
          ]
        }
      ]
    },
    {
      "cell_type": "code",
      "metadata": {
        "id": "hbAl8pSkCXCm"
      },
      "source": [
        "import sys\n",
        "\n",
        "# If you are running this notebook in Colab, run this cell and follow the\n",
        "# instructions to authenticate your GCP account. This provides access to your\n",
        "# Cloud Storage bucket and lets you submit training jobs and prediction\n",
        "# requests.\n",
        "\n",
        "if 'google.colab' in sys.modules:\n",
        "  from google.colab import auth as google_auth\n",
        "  google_auth.authenticate_user()\n",
        "\n",
        "# If you are running this notebook locally, replace the string below with the\n",
        "# path to your service account key and run this cell to authenticate your GCP\n",
        "# account.\n",
        "else:\n",
        "  %env GOOGLE_APPLICATION_CREDENTIALS ''\n"
      ],
      "execution_count": 2,
      "outputs": []
    },
    {
      "cell_type": "code",
      "metadata": {
        "id": "n6Zpx14FCfXy"
      },
      "source": [
        "BUCKET_NAME = \"twitchsentiment\" #@param {type:\"string\"}\n",
        "REGION = \"europe-west1\" #@param {type:\"string\"}"
      ],
      "execution_count": 3,
      "outputs": []
    },
    {
      "cell_type": "code",
      "source": [
        "! gsutil mb -l $REGION gs://$BUCKET_NAME"
      ],
      "metadata": {
        "colab": {
          "base_uri": "https://localhost:8080/"
        },
        "id": "vEW9dX-e7qGc",
        "outputId": "8a14393a-db32-420b-c40b-82a82ebd9b22"
      },
      "execution_count": 79,
      "outputs": [
        {
          "output_type": "stream",
          "name": "stdout",
          "text": [
            "Creating gs://twitchsentiment/...\n"
          ]
        }
      ]
    },
    {
      "cell_type": "code",
      "metadata": {
        "id": "lE4V-Xt0ChSb",
        "outputId": "c2b0e1ec-34c3-445a-dc64-9340361708cb",
        "colab": {
          "base_uri": "https://localhost:8080/"
        }
      },
      "source": [
        "! gsutil ls -al gs://$BUCKET_NAME  #EL SENTIMENT-BATCH FUE UNA PRUEBA PORQUE NO SUBIAN NO SUBIERON LOS OTROS ARCHIVOS MENSAJE ENVIADO POR SLACK"
      ],
      "execution_count": 4,
      "outputs": [
        {
          "output_type": "stream",
          "name": "stdout",
          "text": [
            "   2756023  2022-07-10T11:47:32Z  gs://twitchsentiment/data.json#1657453652618619  metageneration=1\n",
            "TOTAL: 1 objects, 2756023 bytes (2.63 MiB)\n"
          ]
        }
      ]
    },
    {
      "cell_type": "markdown",
      "metadata": {
        "id": "3D8Qw14y_nRa"
      },
      "source": [
        "# Entrenamiento e inferencia en Batch\n",
        "\n",
        "Para esta primera parte se va a utilizar [Tweets Dataset for Detection of Cyber-Trolls](https://www.kaggle.com/dataturks/dataset-for-detection-of-cybertrolls). El objetivo es desarrollar un clasificador binario para detectar si el mensaje recibido es troll (1) o no (0). **Las métricas obtenidas del entrenamiento y la inferencia no se tendrán en cuenta para la evaluación de la práctica, la importancia está en la arquitectura de la solución**.\n",
        "\n",
        "A continuación os dejo un diagrama con la arquitectura que se va a desarrollar:\n",
        "\n",
        "![batch_diagram](https://drive.google.com/uc?export=view&id=1h1BkIunyKSkJYFRbXKNWpHOZ_rDUyGAT)"
      ]
    },
    {
      "cell_type": "markdown",
      "metadata": {
        "id": "qM_dh-471gIq"
      },
      "source": [
        "A continuación, se van a subir los datos de entrenamiento al bucket del proyecto que se haya creado. **Importante:** crea el bucket en una única región para evitar problemas más adelante."
      ]
    },
    {
      "cell_type": "code",
      "metadata": {
        "id": "Sqp4L_nmUjAc",
        "outputId": "ef0b8444-e675-486c-cc72-707a90ed44f5",
        "colab": {
          "base_uri": "https://localhost:8080/"
        }
      },
      "source": [
        "# Upload data to your bucket\n",
        "! wget https://storage.googleapis.com/twitch-practice-keepcoding/data.json -O - | gsutil cp - gs://$BUCKET_NAME/data.json"
      ],
      "execution_count": 81,
      "outputs": [
        {
          "output_type": "stream",
          "name": "stdout",
          "text": [
            "--2022-07-10 11:47:28--  https://storage.googleapis.com/twitch-practice-keepcoding/data.json\n",
            "Resolving storage.googleapis.com (storage.googleapis.com)... 108.177.125.128, 142.250.157.128, 74.125.23.128, ...\n",
            "Connecting to storage.googleapis.com (storage.googleapis.com)|108.177.125.128|:443... connected.\n",
            "HTTP request sent, awaiting response... 200 OK\n",
            "Length: 2756023 (2.6M) [application/json]\n",
            "Saving to: ‘STDOUT’\n",
            "\n",
            "-                     0%[                    ]       0  --.-KB/s               Copying from <STDIN>...\n",
            "-                   100%[===================>]   2.63M   714KB/s    in 3.8s    \n",
            "\n",
            "2022-07-10 11:47:31 (714 KB/s) - written to stdout [2756023/2756023]\n",
            "\n",
            "/ [1 files][    0.0 B/    0.0 B]                                                \n",
            "Operation completed over 1 objects.                                              \n"
          ]
        }
      ]
    },
    {
      "cell_type": "markdown",
      "metadata": {
        "id": "vCQQ9j2I11tg"
      },
      "source": [
        "Ahora se crea el directorio dónde vas a desarrollar esta primera parte de la práctica."
      ]
    },
    {
      "cell_type": "code",
      "metadata": {
        "id": "PsblBlJ6RrGm"
      },
      "source": [
        "%mkdir /content/batch"
      ],
      "execution_count": 6,
      "outputs": []
    },
    {
      "cell_type": "markdown",
      "metadata": {
        "id": "nyK51quU1_oi"
      },
      "source": [
        "Se establece el directorio de trabajo que hemos creado."
      ]
    },
    {
      "cell_type": "code",
      "metadata": {
        "id": "s7ybSaotRwkP",
        "colab": {
          "base_uri": "https://localhost:8080/"
        },
        "outputId": "2c03c2d0-869c-47b9-a8aa-c8635e3f26fa"
      },
      "source": [
        "import os\n",
        "\n",
        "# Set the working directory to the sample code directory\n",
        "%cd /content/batch\n",
        "\n",
        "WORK_DIR = os.getcwd()"
      ],
      "execution_count": 6,
      "outputs": [
        {
          "output_type": "stream",
          "name": "stdout",
          "text": [
            "/content/batch\n"
          ]
        }
      ]
    },
    {
      "cell_type": "markdown",
      "metadata": {
        "id": "4NSd4bAo2aj_"
      },
      "source": [
        "Ahora se descargarán los datos en el workspace de Colab para trabajar en local."
      ]
    },
    {
      "cell_type": "code",
      "metadata": {
        "id": "qOmUJSg1JCgg",
        "colab": {
          "base_uri": "https://localhost:8080/"
        },
        "outputId": "ad3751e4-a67d-4dc5-c2a6-d2776759e55d"
      },
      "source": [
        "! wget https://storage.googleapis.com/twitch-practice-keepcoding/data.json"
      ],
      "execution_count": 7,
      "outputs": [
        {
          "output_type": "stream",
          "name": "stdout",
          "text": [
            "--2022-07-10 07:33:35--  https://storage.googleapis.com/twitch-practice-keepcoding/data.json\n",
            "Resolving storage.googleapis.com (storage.googleapis.com)... 142.250.157.128, 142.251.8.128, 74.125.23.128, ...\n",
            "Connecting to storage.googleapis.com (storage.googleapis.com)|142.250.157.128|:443... connected.\n",
            "HTTP request sent, awaiting response... 200 OK\n",
            "Length: 2756023 (2.6M) [application/json]\n",
            "Saving to: ‘data.json.1’\n",
            "\n",
            "\rdata.json.1           0%[                    ]       0  --.-KB/s               \rdata.json.1         100%[===================>]   2.63M  --.-KB/s    in 0.02s   \n",
            "\n",
            "2022-07-10 07:33:35 (150 MB/s) - ‘data.json.1’ saved [2756023/2756023]\n",
            "\n"
          ]
        }
      ]
    },
    {
      "cell_type": "markdown",
      "metadata": {
        "id": "eRoW6zyg2kEz"
      },
      "source": [
        "Se establecen las dependencias que se usarán en la práctica. Se pueden añadir y quitar las dependencias que no se usen o viceversa."
      ]
    },
    {
      "cell_type": "code",
      "metadata": {
        "id": "9s0-8_JK_z2D",
        "colab": {
          "base_uri": "https://localhost:8080/"
        },
        "outputId": "c8a94874-6d48-45e5-f8db-0e357e43d943"
      },
      "source": [
        "%%writefile requirements.txt\n",
        "\n",
        "apache-beam[gcp]==2.24.0\n",
        "tensorflow\n",
        "gensim==3.6.0\n",
        "fsspec==0.8.4\n",
        "gcsfs==0.7.1\n",
        "numpy==1.20.0"
      ],
      "execution_count": 83,
      "outputs": [
        {
          "output_type": "stream",
          "name": "stdout",
          "text": [
            "Overwriting requirements.txt\n"
          ]
        }
      ]
    },
    {
      "cell_type": "code",
      "metadata": {
        "id": "ZS6P8A4c_8le",
        "colab": {
          "base_uri": "https://localhost:8080/",
          "height": 1000
        },
        "outputId": "f6867fd9-3a24-4be1-a6d8-b1e4fd268782"
      },
      "source": [
        "! pip install -r requirements.txt"
      ],
      "execution_count": 84,
      "outputs": [
        {
          "output_type": "stream",
          "name": "stdout",
          "text": [
            "Looking in indexes: https://pypi.org/simple, https://us-python.pkg.dev/colab-wheels/public/simple/\n",
            "Requirement already satisfied: apache-beam[gcp]==2.24.0 in /usr/local/lib/python3.7/dist-packages (from -r requirements.txt (line 2)) (2.24.0)\n",
            "Requirement already satisfied: tensorflow in /usr/local/lib/python3.7/dist-packages (from -r requirements.txt (line 3)) (2.1.0)\n",
            "Requirement already satisfied: gensim==3.6.0 in /usr/local/lib/python3.7/dist-packages (from -r requirements.txt (line 4)) (3.6.0)\n",
            "Requirement already satisfied: fsspec==0.8.4 in /usr/local/lib/python3.7/dist-packages (from -r requirements.txt (line 5)) (0.8.4)\n",
            "Requirement already satisfied: gcsfs==0.7.1 in /usr/local/lib/python3.7/dist-packages (from -r requirements.txt (line 6)) (0.7.1)\n",
            "Collecting numpy==1.20.0\n",
            "  Using cached numpy-1.20.0-cp37-cp37m-manylinux2010_x86_64.whl (15.3 MB)\n",
            "Requirement already satisfied: scipy>=0.18.1 in /usr/local/lib/python3.7/dist-packages (from gensim==3.6.0->-r requirements.txt (line 4)) (1.4.1)\n",
            "Requirement already satisfied: six>=1.5.0 in /usr/local/lib/python3.7/dist-packages (from gensim==3.6.0->-r requirements.txt (line 4)) (1.15.0)\n",
            "Requirement already satisfied: smart-open>=1.2.1 in /usr/local/lib/python3.7/dist-packages (from gensim==3.6.0->-r requirements.txt (line 4)) (5.2.1)\n",
            "Requirement already satisfied: decorator in /usr/local/lib/python3.7/dist-packages (from gcsfs==0.7.1->-r requirements.txt (line 6)) (4.4.2)\n",
            "Requirement already satisfied: aiohttp in /usr/local/lib/python3.7/dist-packages (from gcsfs==0.7.1->-r requirements.txt (line 6)) (3.8.1)\n",
            "Requirement already satisfied: requests in /usr/local/lib/python3.7/dist-packages (from gcsfs==0.7.1->-r requirements.txt (line 6)) (2.25.0)\n",
            "Requirement already satisfied: google-auth>=1.2 in /usr/local/lib/python3.7/dist-packages (from gcsfs==0.7.1->-r requirements.txt (line 6)) (1.35.0)\n",
            "Requirement already satisfied: google-auth-oauthlib in /usr/local/lib/python3.7/dist-packages (from gcsfs==0.7.1->-r requirements.txt (line 6)) (0.4.6)\n",
            "Requirement already satisfied: crcmod<2.0,>=1.7 in /usr/local/lib/python3.7/dist-packages (from apache-beam[gcp]==2.24.0->-r requirements.txt (line 2)) (1.7)\n",
            "Requirement already satisfied: httplib2<0.18.0,>=0.8 in /usr/local/lib/python3.7/dist-packages (from apache-beam[gcp]==2.24.0->-r requirements.txt (line 2)) (0.17.4)\n",
            "Requirement already satisfied: future<1.0.0,>=0.18.2 in /usr/local/lib/python3.7/dist-packages (from apache-beam[gcp]==2.24.0->-r requirements.txt (line 2)) (0.18.2)\n",
            "Requirement already satisfied: hdfs<3.0.0,>=2.1.0 in /usr/local/lib/python3.7/dist-packages (from apache-beam[gcp]==2.24.0->-r requirements.txt (line 2)) (2.7.0)\n",
            "Requirement already satisfied: pydot<2,>=1.2.0 in /usr/local/lib/python3.7/dist-packages (from apache-beam[gcp]==2.24.0->-r requirements.txt (line 2)) (1.3.0)\n",
            "Requirement already satisfied: typing-extensions<3.8.0,>=3.7.0 in /usr/local/lib/python3.7/dist-packages (from apache-beam[gcp]==2.24.0->-r requirements.txt (line 2)) (3.7.4.3)\n",
            "Requirement already satisfied: pymongo<4.0.0,>=3.8.0 in /usr/local/lib/python3.7/dist-packages (from apache-beam[gcp]==2.24.0->-r requirements.txt (line 2)) (3.12.3)\n",
            "Requirement already satisfied: protobuf<4,>=3.12.2 in /usr/local/lib/python3.7/dist-packages (from apache-beam[gcp]==2.24.0->-r requirements.txt (line 2)) (3.17.3)\n",
            "Requirement already satisfied: grpcio<2,>=1.29.0 in /usr/local/lib/python3.7/dist-packages (from apache-beam[gcp]==2.24.0->-r requirements.txt (line 2)) (1.46.3)\n",
            "Requirement already satisfied: pyarrow<0.18.0,>=0.15.1 in /usr/local/lib/python3.7/dist-packages (from apache-beam[gcp]==2.24.0->-r requirements.txt (line 2)) (0.17.1)\n",
            "Requirement already satisfied: fastavro<0.24,>=0.21.4 in /usr/local/lib/python3.7/dist-packages (from apache-beam[gcp]==2.24.0->-r requirements.txt (line 2)) (0.23.6)\n",
            "Requirement already satisfied: dill<0.3.2,>=0.3.1.1 in /usr/local/lib/python3.7/dist-packages (from apache-beam[gcp]==2.24.0->-r requirements.txt (line 2)) (0.3.1.1)\n",
            "Requirement already satisfied: avro-python3!=1.9.2,<1.10.0,>=1.8.1 in /usr/local/lib/python3.7/dist-packages (from apache-beam[gcp]==2.24.0->-r requirements.txt (line 2)) (1.9.2.1)\n",
            "Requirement already satisfied: python-dateutil<3,>=2.8.0 in /usr/local/lib/python3.7/dist-packages (from apache-beam[gcp]==2.24.0->-r requirements.txt (line 2)) (2.8.2)\n",
            "Requirement already satisfied: oauth2client<4,>=2.0.1 in /usr/local/lib/python3.7/dist-packages (from apache-beam[gcp]==2.24.0->-r requirements.txt (line 2)) (3.0.0)\n",
            "Requirement already satisfied: mock<3.0.0,>=1.0.1 in /usr/local/lib/python3.7/dist-packages (from apache-beam[gcp]==2.24.0->-r requirements.txt (line 2)) (2.0.0)\n",
            "Requirement already satisfied: pytz>=2018.3 in /usr/local/lib/python3.7/dist-packages (from apache-beam[gcp]==2.24.0->-r requirements.txt (line 2)) (2022.1)\n",
            "Requirement already satisfied: google-cloud-dlp<2,>=0.12.0 in /usr/local/lib/python3.7/dist-packages (from apache-beam[gcp]==2.24.0->-r requirements.txt (line 2)) (1.0.2)\n",
            "Requirement already satisfied: google-cloud-bigquery<2,>=1.6.0 in /usr/local/lib/python3.7/dist-packages (from apache-beam[gcp]==2.24.0->-r requirements.txt (line 2)) (1.21.0)\n",
            "Requirement already satisfied: google-cloud-spanner<2,>=1.13.0 in /usr/local/lib/python3.7/dist-packages (from apache-beam[gcp]==2.24.0->-r requirements.txt (line 2)) (1.19.3)\n",
            "Requirement already satisfied: google-apitools<0.5.32,>=0.5.31 in /usr/local/lib/python3.7/dist-packages (from apache-beam[gcp]==2.24.0->-r requirements.txt (line 2)) (0.5.31)\n",
            "Requirement already satisfied: google-cloud-vision<2,>=0.38.0 in /usr/local/lib/python3.7/dist-packages (from apache-beam[gcp]==2.24.0->-r requirements.txt (line 2)) (1.0.2)\n",
            "Requirement already satisfied: cachetools<4,>=3.1.0 in /usr/local/lib/python3.7/dist-packages (from apache-beam[gcp]==2.24.0->-r requirements.txt (line 2)) (3.1.1)\n",
            "Requirement already satisfied: google-cloud-language<2,>=1.3.0 in /usr/local/lib/python3.7/dist-packages (from apache-beam[gcp]==2.24.0->-r requirements.txt (line 2)) (1.3.2)\n",
            "Requirement already satisfied: google-cloud-datastore<2,>=1.7.1 in /usr/local/lib/python3.7/dist-packages (from apache-beam[gcp]==2.24.0->-r requirements.txt (line 2)) (1.8.0)\n",
            "Requirement already satisfied: google-cloud-bigtable<2,>=0.31.1 in /usr/local/lib/python3.7/dist-packages (from apache-beam[gcp]==2.24.0->-r requirements.txt (line 2)) (1.7.2)\n",
            "Requirement already satisfied: grpcio-gcp<1,>=0.2.2 in /usr/local/lib/python3.7/dist-packages (from apache-beam[gcp]==2.24.0->-r requirements.txt (line 2)) (0.2.2)\n",
            "Requirement already satisfied: google-cloud-videointelligence<2,>=1.8.0 in /usr/local/lib/python3.7/dist-packages (from apache-beam[gcp]==2.24.0->-r requirements.txt (line 2)) (1.16.3)\n",
            "Requirement already satisfied: google-cloud-pubsub<2,>=0.39.0 in /usr/local/lib/python3.7/dist-packages (from apache-beam[gcp]==2.24.0->-r requirements.txt (line 2)) (1.7.2)\n",
            "Requirement already satisfied: google-cloud-core<2,>=0.28.1 in /usr/local/lib/python3.7/dist-packages (from apache-beam[gcp]==2.24.0->-r requirements.txt (line 2)) (1.7.2)\n",
            "Requirement already satisfied: fasteners>=0.14 in /usr/local/lib/python3.7/dist-packages (from google-apitools<0.5.32,>=0.5.31->apache-beam[gcp]==2.24.0->-r requirements.txt (line 2)) (0.17.3)\n",
            "Requirement already satisfied: rsa<5,>=3.1.4 in /usr/local/lib/python3.7/dist-packages (from google-auth>=1.2->gcsfs==0.7.1->-r requirements.txt (line 6)) (4.8)\n",
            "Requirement already satisfied: pyasn1-modules>=0.2.1 in /usr/local/lib/python3.7/dist-packages (from google-auth>=1.2->gcsfs==0.7.1->-r requirements.txt (line 6)) (0.2.8)\n",
            "Requirement already satisfied: setuptools>=40.3.0 in /usr/local/lib/python3.7/dist-packages (from google-auth>=1.2->gcsfs==0.7.1->-r requirements.txt (line 6)) (57.4.0)\n",
            "Requirement already satisfied: google-resumable-media!=0.4.0,<0.5.0dev,>=0.3.1 in /usr/local/lib/python3.7/dist-packages (from google-cloud-bigquery<2,>=1.6.0->apache-beam[gcp]==2.24.0->-r requirements.txt (line 2)) (0.4.1)\n",
            "Requirement already satisfied: google-api-core[grpc]!=2.0.*,!=2.1.*,!=2.2.*,!=2.3.0,<3.0.0dev,>=1.31.5 in /usr/local/lib/python3.7/dist-packages (from google-cloud-bigtable<2,>=0.31.1->apache-beam[gcp]==2.24.0->-r requirements.txt (line 2)) (1.31.6)\n",
            "Requirement already satisfied: grpc-google-iam-v1<0.13dev,>=0.12.3 in /usr/local/lib/python3.7/dist-packages (from google-cloud-bigtable<2,>=0.31.1->apache-beam[gcp]==2.24.0->-r requirements.txt (line 2)) (0.12.4)\n",
            "Requirement already satisfied: googleapis-common-protos<2.0dev,>=1.6.0 in /usr/local/lib/python3.7/dist-packages (from google-api-core[grpc]!=2.0.*,!=2.1.*,!=2.2.*,!=2.3.0,<3.0.0dev,>=1.31.5->google-cloud-bigtable<2,>=0.31.1->apache-beam[gcp]==2.24.0->-r requirements.txt (line 2)) (1.56.2)\n",
            "Requirement already satisfied: packaging>=14.3 in /usr/local/lib/python3.7/dist-packages (from google-api-core[grpc]!=2.0.*,!=2.1.*,!=2.2.*,!=2.3.0,<3.0.0dev,>=1.31.5->google-cloud-bigtable<2,>=0.31.1->apache-beam[gcp]==2.24.0->-r requirements.txt (line 2)) (21.3)\n",
            "Requirement already satisfied: docopt in /usr/local/lib/python3.7/dist-packages (from hdfs<3.0.0,>=2.1.0->apache-beam[gcp]==2.24.0->-r requirements.txt (line 2)) (0.6.2)\n",
            "Requirement already satisfied: pbr>=0.11 in /usr/local/lib/python3.7/dist-packages (from mock<3.0.0,>=1.0.1->apache-beam[gcp]==2.24.0->-r requirements.txt (line 2)) (5.9.0)\n",
            "Requirement already satisfied: pyasn1>=0.1.7 in /usr/local/lib/python3.7/dist-packages (from oauth2client<4,>=2.0.1->apache-beam[gcp]==2.24.0->-r requirements.txt (line 2)) (0.4.8)\n",
            "Requirement already satisfied: pyparsing!=3.0.5,>=2.0.2 in /usr/local/lib/python3.7/dist-packages (from packaging>=14.3->google-api-core[grpc]!=2.0.*,!=2.1.*,!=2.2.*,!=2.3.0,<3.0.0dev,>=1.31.5->google-cloud-bigtable<2,>=0.31.1->apache-beam[gcp]==2.24.0->-r requirements.txt (line 2)) (3.0.9)\n",
            "Requirement already satisfied: urllib3<1.27,>=1.21.1 in /usr/local/lib/python3.7/dist-packages (from requests->gcsfs==0.7.1->-r requirements.txt (line 6)) (1.24.3)\n",
            "Requirement already satisfied: chardet<4,>=3.0.2 in /usr/local/lib/python3.7/dist-packages (from requests->gcsfs==0.7.1->-r requirements.txt (line 6)) (3.0.4)\n",
            "Requirement already satisfied: idna<3,>=2.5 in /usr/local/lib/python3.7/dist-packages (from requests->gcsfs==0.7.1->-r requirements.txt (line 6)) (2.10)\n",
            "Requirement already satisfied: certifi>=2017.4.17 in /usr/local/lib/python3.7/dist-packages (from requests->gcsfs==0.7.1->-r requirements.txt (line 6)) (2022.6.15)\n",
            "Requirement already satisfied: wheel>=0.26 in /usr/local/lib/python3.7/dist-packages (from tensorflow->-r requirements.txt (line 3)) (0.37.1)\n",
            "Requirement already satisfied: opt-einsum>=2.3.2 in /usr/local/lib/python3.7/dist-packages (from tensorflow->-r requirements.txt (line 3)) (3.3.0)\n",
            "Requirement already satisfied: gast==0.2.2 in /usr/local/lib/python3.7/dist-packages (from tensorflow->-r requirements.txt (line 3)) (0.2.2)\n",
            "Requirement already satisfied: termcolor>=1.1.0 in /usr/local/lib/python3.7/dist-packages (from tensorflow->-r requirements.txt (line 3)) (1.1.0)\n",
            "Requirement already satisfied: wrapt>=1.11.1 in /usr/local/lib/python3.7/dist-packages (from tensorflow->-r requirements.txt (line 3)) (1.14.1)\n",
            "Requirement already satisfied: absl-py>=0.7.0 in /usr/local/lib/python3.7/dist-packages (from tensorflow->-r requirements.txt (line 3)) (1.1.0)\n",
            "Requirement already satisfied: tensorflow-estimator<2.2.0,>=2.1.0rc0 in /usr/local/lib/python3.7/dist-packages (from tensorflow->-r requirements.txt (line 3)) (2.1.0)\n",
            "Requirement already satisfied: tensorboard<2.2.0,>=2.1.0 in /usr/local/lib/python3.7/dist-packages (from tensorflow->-r requirements.txt (line 3)) (2.1.1)\n",
            "Requirement already satisfied: astor>=0.6.0 in /usr/local/lib/python3.7/dist-packages (from tensorflow->-r requirements.txt (line 3)) (0.8.1)\n",
            "Requirement already satisfied: google-pasta>=0.1.6 in /usr/local/lib/python3.7/dist-packages (from tensorflow->-r requirements.txt (line 3)) (0.2.0)\n",
            "Requirement already satisfied: keras-preprocessing>=1.1.0 in /usr/local/lib/python3.7/dist-packages (from tensorflow->-r requirements.txt (line 3)) (1.1.2)\n",
            "Requirement already satisfied: keras-applications>=1.0.8 in /usr/local/lib/python3.7/dist-packages (from tensorflow->-r requirements.txt (line 3)) (1.0.8)\n",
            "Requirement already satisfied: h5py in /usr/local/lib/python3.7/dist-packages (from keras-applications>=1.0.8->tensorflow->-r requirements.txt (line 3)) (2.10.0)\n",
            "Requirement already satisfied: markdown>=2.6.8 in /usr/local/lib/python3.7/dist-packages (from tensorboard<2.2.0,>=2.1.0->tensorflow->-r requirements.txt (line 3)) (3.3.7)\n",
            "Requirement already satisfied: werkzeug>=0.11.15 in /usr/local/lib/python3.7/dist-packages (from tensorboard<2.2.0,>=2.1.0->tensorflow->-r requirements.txt (line 3)) (1.0.1)\n",
            "Requirement already satisfied: requests-oauthlib>=0.7.0 in /usr/local/lib/python3.7/dist-packages (from google-auth-oauthlib->gcsfs==0.7.1->-r requirements.txt (line 6)) (1.3.1)\n",
            "Requirement already satisfied: importlib-metadata>=4.4 in /usr/local/lib/python3.7/dist-packages (from markdown>=2.6.8->tensorboard<2.2.0,>=2.1.0->tensorflow->-r requirements.txt (line 3)) (4.11.4)\n",
            "Requirement already satisfied: zipp>=0.5 in /usr/local/lib/python3.7/dist-packages (from importlib-metadata>=4.4->markdown>=2.6.8->tensorboard<2.2.0,>=2.1.0->tensorflow->-r requirements.txt (line 3)) (3.8.0)\n",
            "Requirement already satisfied: oauthlib>=3.0.0 in /usr/local/lib/python3.7/dist-packages (from requests-oauthlib>=0.7.0->google-auth-oauthlib->gcsfs==0.7.1->-r requirements.txt (line 6)) (3.2.0)\n",
            "Requirement already satisfied: yarl<2.0,>=1.0 in /usr/local/lib/python3.7/dist-packages (from aiohttp->gcsfs==0.7.1->-r requirements.txt (line 6)) (1.7.2)\n",
            "Requirement already satisfied: asynctest==0.13.0 in /usr/local/lib/python3.7/dist-packages (from aiohttp->gcsfs==0.7.1->-r requirements.txt (line 6)) (0.13.0)\n",
            "Requirement already satisfied: charset-normalizer<3.0,>=2.0 in /usr/local/lib/python3.7/dist-packages (from aiohttp->gcsfs==0.7.1->-r requirements.txt (line 6)) (2.1.0)\n",
            "Requirement already satisfied: multidict<7.0,>=4.5 in /usr/local/lib/python3.7/dist-packages (from aiohttp->gcsfs==0.7.1->-r requirements.txt (line 6)) (6.0.2)\n",
            "Requirement already satisfied: aiosignal>=1.1.2 in /usr/local/lib/python3.7/dist-packages (from aiohttp->gcsfs==0.7.1->-r requirements.txt (line 6)) (1.2.0)\n",
            "Requirement already satisfied: attrs>=17.3.0 in /usr/local/lib/python3.7/dist-packages (from aiohttp->gcsfs==0.7.1->-r requirements.txt (line 6)) (21.4.0)\n",
            "Requirement already satisfied: async-timeout<5.0,>=4.0.0a3 in /usr/local/lib/python3.7/dist-packages (from aiohttp->gcsfs==0.7.1->-r requirements.txt (line 6)) (4.0.2)\n",
            "Requirement already satisfied: frozenlist>=1.1.1 in /usr/local/lib/python3.7/dist-packages (from aiohttp->gcsfs==0.7.1->-r requirements.txt (line 6)) (1.3.0)\n",
            "Installing collected packages: numpy\n",
            "  Attempting uninstall: numpy\n",
            "    Found existing installation: numpy 1.19.5\n",
            "    Uninstalling numpy-1.19.5:\n",
            "      Successfully uninstalled numpy-1.19.5\n",
            "\u001b[31mERROR: pip's dependency resolver does not currently take into account all the packages that are installed. This behaviour is the source of the following dependency conflicts.\n",
            "yellowbrick 1.4 requires scikit-learn>=1.0.0, but you have scikit-learn 0.23.2 which is incompatible.\n",
            "xarray-einstats 0.2.2 requires numpy>=1.21, but you have numpy 1.20.0 which is incompatible.\n",
            "tensorflow-probability 0.16.0 requires gast>=0.3.2, but you have gast 0.2.2 which is incompatible.\n",
            "pymc3 3.11.4 requires cachetools>=4.2.1, but you have cachetools 3.1.1 which is incompatible.\n",
            "imbalanced-learn 0.8.1 requires scikit-learn>=0.24, but you have scikit-learn 0.23.2 which is incompatible.\n",
            "google-colab 1.0.0 requires requests~=2.23.0, but you have requests 2.25.0 which is incompatible.\n",
            "datascience 0.10.6 requires folium==0.2.1, but you have folium 0.8.3 which is incompatible.\n",
            "albumentations 0.1.12 requires imgaug<0.2.7,>=0.2.5, but you have imgaug 0.2.9 which is incompatible.\u001b[0m\n",
            "Successfully installed numpy-1.20.0\n"
          ]
        },
        {
          "output_type": "display_data",
          "data": {
            "application/vnd.colab-display-data+json": {
              "pip_warning": {
                "packages": [
                  "numpy"
                ]
              }
            }
          },
          "metadata": {}
        }
      ]
    },
    {
      "cell_type": "code",
      "source": [
        "import pandas as pd\n",
        "import json\n",
        "data = 'data.json'\n",
        "print(os.path.isfile(data))\n",
        "df = pd.read_json(data ,lines=True)\n",
        "df.head()"
      ],
      "metadata": {
        "colab": {
          "base_uri": "https://localhost:8080/",
          "height": 224
        },
        "id": "EQKfoZuBWYz3",
        "outputId": "0c54989d-e6cf-4337-cf83-89697676f2bf"
      },
      "execution_count": 8,
      "outputs": [
        {
          "output_type": "stream",
          "name": "stdout",
          "text": [
            "True\n"
          ]
        },
        {
          "output_type": "execute_result",
          "data": {
            "text/plain": [
              "                                             content  \\\n",
              "0                             Get fucking real dude.   \n",
              "1   She is as dirty as they come  and that crook ...   \n",
              "2   why did you fuck it up. I could do it all day...   \n",
              "3   Dude they dont finish enclosing the fucking s...   \n",
              "4   WTF are you talking about Men? No men thats n...   \n",
              "\n",
              "                      annotation  extras  \n",
              "0  {'notes': '', 'label': ['1']}     NaN  \n",
              "1  {'notes': '', 'label': ['1']}     NaN  \n",
              "2  {'notes': '', 'label': ['1']}     NaN  \n",
              "3  {'notes': '', 'label': ['1']}     NaN  \n",
              "4  {'notes': '', 'label': ['1']}     NaN  "
            ],
            "text/html": [
              "\n",
              "  <div id=\"df-107e2713-5b62-4c97-9fec-ff5112a0072e\">\n",
              "    <div class=\"colab-df-container\">\n",
              "      <div>\n",
              "<style scoped>\n",
              "    .dataframe tbody tr th:only-of-type {\n",
              "        vertical-align: middle;\n",
              "    }\n",
              "\n",
              "    .dataframe tbody tr th {\n",
              "        vertical-align: top;\n",
              "    }\n",
              "\n",
              "    .dataframe thead th {\n",
              "        text-align: right;\n",
              "    }\n",
              "</style>\n",
              "<table border=\"1\" class=\"dataframe\">\n",
              "  <thead>\n",
              "    <tr style=\"text-align: right;\">\n",
              "      <th></th>\n",
              "      <th>content</th>\n",
              "      <th>annotation</th>\n",
              "      <th>extras</th>\n",
              "    </tr>\n",
              "  </thead>\n",
              "  <tbody>\n",
              "    <tr>\n",
              "      <th>0</th>\n",
              "      <td>Get fucking real dude.</td>\n",
              "      <td>{'notes': '', 'label': ['1']}</td>\n",
              "      <td>NaN</td>\n",
              "    </tr>\n",
              "    <tr>\n",
              "      <th>1</th>\n",
              "      <td>She is as dirty as they come  and that crook ...</td>\n",
              "      <td>{'notes': '', 'label': ['1']}</td>\n",
              "      <td>NaN</td>\n",
              "    </tr>\n",
              "    <tr>\n",
              "      <th>2</th>\n",
              "      <td>why did you fuck it up. I could do it all day...</td>\n",
              "      <td>{'notes': '', 'label': ['1']}</td>\n",
              "      <td>NaN</td>\n",
              "    </tr>\n",
              "    <tr>\n",
              "      <th>3</th>\n",
              "      <td>Dude they dont finish enclosing the fucking s...</td>\n",
              "      <td>{'notes': '', 'label': ['1']}</td>\n",
              "      <td>NaN</td>\n",
              "    </tr>\n",
              "    <tr>\n",
              "      <th>4</th>\n",
              "      <td>WTF are you talking about Men? No men thats n...</td>\n",
              "      <td>{'notes': '', 'label': ['1']}</td>\n",
              "      <td>NaN</td>\n",
              "    </tr>\n",
              "  </tbody>\n",
              "</table>\n",
              "</div>\n",
              "      <button class=\"colab-df-convert\" onclick=\"convertToInteractive('df-107e2713-5b62-4c97-9fec-ff5112a0072e')\"\n",
              "              title=\"Convert this dataframe to an interactive table.\"\n",
              "              style=\"display:none;\">\n",
              "        \n",
              "  <svg xmlns=\"http://www.w3.org/2000/svg\" height=\"24px\"viewBox=\"0 0 24 24\"\n",
              "       width=\"24px\">\n",
              "    <path d=\"M0 0h24v24H0V0z\" fill=\"none\"/>\n",
              "    <path d=\"M18.56 5.44l.94 2.06.94-2.06 2.06-.94-2.06-.94-.94-2.06-.94 2.06-2.06.94zm-11 1L8.5 8.5l.94-2.06 2.06-.94-2.06-.94L8.5 2.5l-.94 2.06-2.06.94zm10 10l.94 2.06.94-2.06 2.06-.94-2.06-.94-.94-2.06-.94 2.06-2.06.94z\"/><path d=\"M17.41 7.96l-1.37-1.37c-.4-.4-.92-.59-1.43-.59-.52 0-1.04.2-1.43.59L10.3 9.45l-7.72 7.72c-.78.78-.78 2.05 0 2.83L4 21.41c.39.39.9.59 1.41.59.51 0 1.02-.2 1.41-.59l7.78-7.78 2.81-2.81c.8-.78.8-2.07 0-2.86zM5.41 20L4 18.59l7.72-7.72 1.47 1.35L5.41 20z\"/>\n",
              "  </svg>\n",
              "      </button>\n",
              "      \n",
              "  <style>\n",
              "    .colab-df-container {\n",
              "      display:flex;\n",
              "      flex-wrap:wrap;\n",
              "      gap: 12px;\n",
              "    }\n",
              "\n",
              "    .colab-df-convert {\n",
              "      background-color: #E8F0FE;\n",
              "      border: none;\n",
              "      border-radius: 50%;\n",
              "      cursor: pointer;\n",
              "      display: none;\n",
              "      fill: #1967D2;\n",
              "      height: 32px;\n",
              "      padding: 0 0 0 0;\n",
              "      width: 32px;\n",
              "    }\n",
              "\n",
              "    .colab-df-convert:hover {\n",
              "      background-color: #E2EBFA;\n",
              "      box-shadow: 0px 1px 2px rgba(60, 64, 67, 0.3), 0px 1px 3px 1px rgba(60, 64, 67, 0.15);\n",
              "      fill: #174EA6;\n",
              "    }\n",
              "\n",
              "    [theme=dark] .colab-df-convert {\n",
              "      background-color: #3B4455;\n",
              "      fill: #D2E3FC;\n",
              "    }\n",
              "\n",
              "    [theme=dark] .colab-df-convert:hover {\n",
              "      background-color: #434B5C;\n",
              "      box-shadow: 0px 1px 3px 1px rgba(0, 0, 0, 0.15);\n",
              "      filter: drop-shadow(0px 1px 2px rgba(0, 0, 0, 0.3));\n",
              "      fill: #FFFFFF;\n",
              "    }\n",
              "  </style>\n",
              "\n",
              "      <script>\n",
              "        const buttonEl =\n",
              "          document.querySelector('#df-107e2713-5b62-4c97-9fec-ff5112a0072e button.colab-df-convert');\n",
              "        buttonEl.style.display =\n",
              "          google.colab.kernel.accessAllowed ? 'block' : 'none';\n",
              "\n",
              "        async function convertToInteractive(key) {\n",
              "          const element = document.querySelector('#df-107e2713-5b62-4c97-9fec-ff5112a0072e');\n",
              "          const dataTable =\n",
              "            await google.colab.kernel.invokeFunction('convertToInteractive',\n",
              "                                                     [key], {});\n",
              "          if (!dataTable) return;\n",
              "\n",
              "          const docLinkHtml = 'Like what you see? Visit the ' +\n",
              "            '<a target=\"_blank\" href=https://colab.research.google.com/notebooks/data_table.ipynb>data table notebook</a>'\n",
              "            + ' to learn more about interactive tables.';\n",
              "          element.innerHTML = '';\n",
              "          dataTable['output_type'] = 'display_data';\n",
              "          await google.colab.output.renderOutput(dataTable, element);\n",
              "          const docLink = document.createElement('div');\n",
              "          docLink.innerHTML = docLinkHtml;\n",
              "          element.appendChild(docLink);\n",
              "        }\n",
              "      </script>\n",
              "    </div>\n",
              "  </div>\n",
              "  "
            ]
          },
          "metadata": {},
          "execution_count": 8
        }
      ]
    },
    {
      "cell_type": "code",
      "source": [
        "cols=[\"content\",\"annotation\"]\n",
        "for name in cols:\n",
        "      print(name, \";\")\n",
        "      print(df[name].value_counts(), \"\\n\")"
      ],
      "metadata": {
        "colab": {
          "base_uri": "https://localhost:8080/"
        },
        "id": "b87RQAuwYVW_",
        "outputId": "87ded087-1c4a-45c1-cbc3-21f096a232a3"
      },
      "execution_count": 9,
      "outputs": [
        {
          "output_type": "stream",
          "name": "stdout",
          "text": [
            "content ;\n",
            "#NAME?                                                                                                                    38\n",
            "  nope                                                                                                                    21\n",
            "  yes.                                                                                                                    20\n",
            "  yes                                                                                                                     20\n",
            "I hate you.                                                                                                               12\n",
            "                                                                                                                          ..\n",
            "It's sucks..lol  cause any other time I'd be fine with 1 meal  but because I cant have none  it's driving me nuts..lol     1\n",
            "Nice robot post!... LOL&gt; I hate those cheesy responses too.                                                             1\n",
            "tell her I will wrestlher and loser gets to clean my office                                                                1\n",
            "Can't hear that blip  still in this damn line. BTW  if Malicious isn't already taken  let's start a band.                  1\n",
            " Who is the biggest gossiper you know?                                                                                     1\n",
            "Name: content, Length: 14640, dtype: int64 \n",
            "\n",
            "annotation ;\n",
            "{'notes': '', 'label': ['0']}    12179\n",
            "{'notes': '', 'label': ['1']}     7822\n",
            "Name: annotation, dtype: int64 \n",
            "\n"
          ]
        }
      ]
    },
    {
      "cell_type": "code",
      "source": [
        "round(df.isnull().mean()*100,2).sort_values(ascending=False)"
      ],
      "metadata": {
        "colab": {
          "base_uri": "https://localhost:8080/"
        },
        "id": "EF8UN__Nbunk",
        "outputId": "00d1ec7f-1fed-442a-c164-70746b90b6a0"
      },
      "execution_count": 17,
      "outputs": [
        {
          "output_type": "execute_result",
          "data": {
            "text/plain": [
              "extras        100.0\n",
              "content         0.0\n",
              "annotation      0.0\n",
              "dtype: float64"
            ]
          },
          "metadata": {},
          "execution_count": 17
        }
      ]
    },
    {
      "cell_type": "markdown",
      "metadata": {
        "id": "k0DDu27S3CJv"
      },
      "source": [
        "##**Entreglable (0.5 puntos)**\n",
        "\n",
        "Desarrollar un pipeline de preprocesamiento utilizando Apache Beam para generar datos de train, eval y test para los datos proporcionados anteriormente. Requisitos:\n",
        "\n",
        "- Proporcionar dos modos de ejecución: `train` y `test`\n",
        "- Soportar ejecuciones en local con `DirectRunner` y ejecuciones en Dataflow usando `DataFlowRunner`."
      ]
    },
    {
      "cell_type": "code",
      "metadata": {
        "id": "1blctlxs_dPO",
        "colab": {
          "base_uri": "https://localhost:8080/"
        },
        "outputId": "f6e35b64-370c-43cb-e757-08f87e85c717"
      },
      "source": [
        "%%writefile preprocess.py\n",
        "\n",
        "# pytype: skip-file\n",
        "\n",
        "\n",
        "from __future__ import absolute_import\n",
        "\n",
        "import argparse\n",
        "import logging\n",
        "import re\n",
        "import os\n",
        "import csv\n",
        "import random\n",
        "\n",
        "from past.builtins import unicode\n",
        "\n",
        "import apache_beam as beam\n",
        "from apache_beam.io import ReadFromText\n",
        "from apache_beam.io import WriteToText\n",
        "from apache_beam.coders.coders import Coder\n",
        "from apache_beam.options.pipeline_options import PipelineOptions\n",
        "from apache_beam.options.pipeline_options import SetupOptions, DirectOptions\n",
        "\n",
        "import nltk\n",
        "from nltk.corpus import stopwords\n",
        "from nltk.stem import SnowballStemmer\n",
        "\n",
        "import json\n",
        "\n",
        "# CLEANING\n",
        "STOP_WORDS = stopwords.words(\"english\")\n",
        "STEMMER = SnowballStemmer(\"english\")\n",
        "TEXT_CLEANING_RE = \"@\\S+|https?:\\S+|http?:\\S|[^A-Za-z0-9]+\"\n",
        "\n",
        "class ExtractColumnsDoFn(beam.DoFn):\n",
        "   \n",
        "   \n",
        "    def process(self, element):\n",
        "        # space removal\n",
        "        element_split = json.loads(element)\n",
        "        # text, sentiment\n",
        "        yield element_split['content'], element_split['annotation']['label'][0]\n",
        "        \n",
        "class PreprocessColumnsTrainFn(beam.DoFn):\n",
        "   \n",
        "   \n",
        "    def process_sentiment(self, sentiment):\n",
        "        sentiment = int(sentiment)\n",
        "        if sentiment == 1:\n",
        "            return \"NON TROLL\"\n",
        "        else:\n",
        "            return \"TROLL\"   \n",
        "\n",
        "    def process_text(self, text):\n",
        "        # Remove link,user and special characters\n",
        "        stem = False\n",
        "        text = re.sub(TEXT_CLEANING_RE, \" \", str(text).lower()).strip()\n",
        "        tokens = []\n",
        "        for token in text.split():\n",
        "            if token not in STOP_WORDS:\n",
        "                if stem:\n",
        "                    tokens.append(STEMMER.stem(token))\n",
        "                else:\n",
        "                    tokens.append(token)\n",
        "        return \" \".join(tokens)\n",
        "\n",
        "    def process(self, element):\n",
        "        processed_text = self.process_text(element[0])\n",
        "        processed_sentiment = self.process_sentiment(element[1])\n",
        "        yield f\"{processed_text}, {processed_sentiment}\"\n",
        "\n",
        "\n",
        "class CustomCoder(Coder):\n",
        "    \"\"\"A custom coder used for reading and writing strings\"\"\"\n",
        "\n",
        "    def __init__(self, encoding: str):\n",
        "        # latin-1\n",
        "        # iso-8859-1\n",
        "        self.enconding = encoding\n",
        "\n",
        "    def encode(self, value):\n",
        "        return value.encode(self.enconding)\n",
        "\n",
        "    def decode(self, value):\n",
        "        return value.decode(self.enconding)\n",
        "\n",
        "    def is_deterministic(self):\n",
        "        return True\n",
        "\n",
        "\n",
        "def run(argv=None, save_main_session=True):\n",
        "\n",
        "    \"\"\"Main entry point; defines and runs the wordcount pipeline.\"\"\"\n",
        "\n",
        "    parser = argparse.ArgumentParser()\n",
        "\n",
        "    parser.add_argument(\n",
        "        \"--work-dir\", dest=\"work_dir\", required=True, help=\"Working directory\",\n",
        "    )\n",
        "\n",
        "    parser.add_argument(\n",
        "        \"--input\", dest=\"input\", required=True, help=\"Input dataset in work dir\",\n",
        "    )\n",
        "    parser.add_argument(\n",
        "        \"--output\",\n",
        "        dest=\"output\",\n",
        "        required=True,\n",
        "        help=\"Output path to store transformed data in work dir\",\n",
        "    )\n",
        "    parser.add_argument(\n",
        "        \"--mode\",\n",
        "        dest=\"mode\",\n",
        "        required=True,\n",
        "        choices=[\"train\", \"test\"],\n",
        "        help=\"Type of output to store transformed data\",\n",
        "    )\n",
        "\n",
        "    known_args, pipeline_args = parser.parse_known_args(argv)\n",
        "\n",
        "    # We use the save_main_session option because one or more DoFn's in this\n",
        "    # workflow rely on global context (e.g., a module imported at module level).\n",
        "    pipeline_options = PipelineOptions(pipeline_args)\n",
        "    pipeline_options.view_as(SetupOptions).save_main_session = save_main_session\n",
        "    pipeline_options.view_as(DirectOptions).direct_num_workers = 0\n",
        "\n",
        "    # The pipeline will be run on exiting the with block.\n",
        "    with beam.Pipeline(options=pipeline_options) as p:\n",
        "\n",
        "        # Read the text file[pattern] into a PCollection.\n",
        "        raw_data = p | \"ReadTwitterData\" >> ReadFromText(\n",
        "            known_args.input, coder=CustomCoder(\"latin-1\")\n",
        "        )\n",
        "\n",
        "        if known_args.mode == \"train\":\n",
        "\n",
        "            transformed_data = (\n",
        "                raw_data\n",
        "                | \"ExtractColumns\" >> beam.ParDo(ExtractColumnsDoFn())\n",
        "                | \"Preprocess\" >> beam.ParDo(PreprocessColumnsTrainFn())\n",
        "            )\n",
        "\n",
        "            eval_percent = 20\n",
        "            assert 0 < eval_percent < 100, \"eval_percent must in the range (0-100)\"\n",
        "            train_dataset, eval_dataset = (\n",
        "                transformed_data\n",
        "                | \"Split dataset\"\n",
        "                >> beam.Partition(\n",
        "                    lambda elem, _: int(random.uniform(0, 100) < eval_percent), 2\n",
        "                )\n",
        "            )\n",
        "\n",
        "            train_dataset | \"TrainWriteToCSV\" >> WriteToText(\n",
        "                os.path.join(known_args.output, \"train\", \"part\")\n",
        "            )\n",
        "            eval_dataset | \"EvalWriteToCSV\" >> WriteToText(\n",
        "                os.path.join(known_args.output, \"eval\", \"part\")\n",
        "            )\n",
        "\n",
        "        else:\n",
        "            transformed_data = (\n",
        "                raw_data\n",
        "                | \"ExtractColumns\" >> beam.ParDo(ExtractColumnsDoFn())\n",
        "                | \"Preprocess\" >> beam.Map(lambda x: f'\"{x[0]}\"')\n",
        "            )\n",
        "\n",
        "            transformed_data | \"TestWriteToCSV\" >> WriteToText(\n",
        "                os.path.join(known_args.output, \"test\", \"part\")\n",
        "            )\n",
        "\n",
        "\n",
        "if __name__ == \"__main__\":\n",
        "    logging.getLogger().setLevel(logging.INFO)\n",
        "    run()"
      ],
      "execution_count": 5,
      "outputs": [
        {
          "output_type": "stream",
          "name": "stdout",
          "text": [
            "Writing preprocess.py\n"
          ]
        }
      ]
    },
    {
      "cell_type": "markdown",
      "metadata": {
        "id": "qawuKC0k4B0e"
      },
      "source": [
        "Se proporciona un fichero `setup.py` necesario para ejecutar en DataFlow. Modificar la variable `REQUIRED_PACKAGES` con las dependencias que se hayan usado en el `requirements.txt`"
      ]
    },
    {
      "cell_type": "code",
      "metadata": {
        "id": "n1MQvWsk_mVX",
        "colab": {
          "base_uri": "https://localhost:8080/"
        },
        "outputId": "864747b4-9945-4448-cd80-20c3c52051e6"
      },
      "source": [
        "%%writefile setup.py\n",
        "\n",
        "import setuptools\n",
        "\n",
        "REQUIRED_PACKAGES = [\n",
        "  \"apache-beam[gcp]==2.24.0\",\n",
        "  \"tensorflow==2.8.0\",\n",
        "  \"gensim==3.6.0\",\n",
        "  \"fsspec==0.8.4\",\n",
        "  \"gcsfs==0.7.1\",\n",
        "  \"numpy==1.20.0\",\n",
        "  \"keras==2.8.0\",\n",
        "]\n",
        "\n",
        "setuptools.setup(\n",
        "    name=\"twitchstreaming\",\n",
        "    version=\"0.0.1\",\n",
        "    install_requires=REQUIRED_PACKAGES,\n",
        "    packages=setuptools.find_packages(),\n",
        "    include_package_data=True,\n",
        "    description=\"Troll detection\",\n",
        ")\n"
      ],
      "execution_count": 7,
      "outputs": [
        {
          "output_type": "stream",
          "name": "stdout",
          "text": [
            "Overwriting setup.py\n"
          ]
        }
      ]
    },
    {
      "cell_type": "markdown",
      "metadata": {
        "id": "jLDlz_fL4UJA"
      },
      "source": [
        "### Validación preprocess train en local (0.25 puntos)\n",
        "\n",
        "Con el comando mostrado a continuación se valida la correcta generación de los datos de entrenamiento y validación en local."
      ]
    },
    {
      "cell_type": "code",
      "source": [
        "import nltk\n",
        "from nltk.corpus import stopwords\n",
        "from nltk.stem import SnowballStemmer\n",
        "nltk.download('stopwords')"
      ],
      "metadata": {
        "colab": {
          "base_uri": "https://localhost:8080/"
        },
        "id": "gHL9bxxBiI2_",
        "outputId": "4cffe306-32a7-4844-9416-cf483d72d54d"
      },
      "execution_count": 8,
      "outputs": [
        {
          "output_type": "stream",
          "name": "stderr",
          "text": [
            "[nltk_data] Downloading package stopwords to /root/nltk_data...\n",
            "[nltk_data]   Package stopwords is already up-to-date!\n"
          ]
        },
        {
          "output_type": "execute_result",
          "data": {
            "text/plain": [
              "True"
            ]
          },
          "metadata": {},
          "execution_count": 8
        }
      ]
    },
    {
      "cell_type": "code",
      "metadata": {
        "id": "vFpirg37C3bN",
        "colab": {
          "base_uri": "https://localhost:8080/"
        },
        "outputId": "5e0c2a3b-a292-4633-b849-5e161b347f58"
      },
      "source": [
        "! python3 preprocess.py \\\n",
        "  --work-dir $WORK_DIR \\\n",
        "  --runner DirectRunner \\\n",
        "  --input $WORK_DIR/data.json \\\n",
        "  --output $WORK_DIR/transformed_data \\\n",
        "  --mode train"
      ],
      "execution_count": 95,
      "outputs": [
        {
          "output_type": "stream",
          "name": "stdout",
          "text": [
            "INFO:apache_beam.runners.portability.fn_api_runner.translations:==================== <function annotate_downstream_side_inputs at 0x7f396a2a3dd0> ====================\n",
            "INFO:apache_beam.runners.portability.fn_api_runner.translations:==================== <function fix_side_input_pcoll_coders at 0x7f396a2a3ef0> ====================\n",
            "INFO:apache_beam.runners.portability.fn_api_runner.translations:==================== <function lift_combiners at 0x7f396a2a3f80> ====================\n",
            "INFO:apache_beam.runners.portability.fn_api_runner.translations:==================== <function expand_sdf at 0x7f396a2a4050> ====================\n",
            "INFO:apache_beam.runners.portability.fn_api_runner.translations:==================== <function expand_gbk at 0x7f396a2a40e0> ====================\n",
            "INFO:apache_beam.runners.portability.fn_api_runner.translations:==================== <function sink_flattens at 0x7f396a2a4200> ====================\n",
            "INFO:apache_beam.runners.portability.fn_api_runner.translations:==================== <function greedily_fuse at 0x7f396a2a4290> ====================\n",
            "INFO:apache_beam.runners.portability.fn_api_runner.translations:==================== <function read_to_impulse at 0x7f396a2a4320> ====================\n",
            "INFO:apache_beam.runners.portability.fn_api_runner.translations:==================== <function impulse_to_input at 0x7f396a2a43b0> ====================\n",
            "INFO:apache_beam.runners.portability.fn_api_runner.translations:==================== <function sort_stages at 0x7f396a2a45f0> ====================\n",
            "INFO:apache_beam.runners.portability.fn_api_runner.translations:==================== <function setup_timer_mapping at 0x7f396a2a4560> ====================\n",
            "INFO:apache_beam.runners.portability.fn_api_runner.translations:==================== <function populate_data_channel_coders at 0x7f396a2a4680> ====================\n",
            "INFO:apache_beam.runners.worker.statecache:Creating state cache with size 100\n",
            "INFO:apache_beam.runners.portability.fn_api_runner.worker_handlers:Created Worker handler <apache_beam.runners.portability.fn_api_runner.worker_handlers.EmbeddedWorkerHandler object at 0x7f396a28bb90> for environment ref_Environment_default_environment_1 (beam:env:embedded_python:v1, b'')\n",
            "INFO:apache_beam.runners.worker.statecache:Creating state cache with size 100\n",
            "INFO:apache_beam.runners.portability.fn_api_runner.worker_handlers:Created Worker handler <apache_beam.runners.portability.fn_api_runner.worker_handlers.EmbeddedWorkerHandler object at 0x7f396a29b850> for environment ref_Environment_default_environment_1 (beam:env:embedded_python:v1, b'')\n",
            "INFO:apache_beam.runners.worker.statecache:Creating state cache with size 100\n",
            "INFO:apache_beam.runners.portability.fn_api_runner.worker_handlers:Created Worker handler <apache_beam.runners.portability.fn_api_runner.worker_handlers.EmbeddedWorkerHandler object at 0x7f396a29bc90> for environment ref_Environment_default_environment_1 (beam:env:embedded_python:v1, b'')\n",
            "INFO:apache_beam.runners.worker.statecache:Creating state cache with size 100\n",
            "INFO:apache_beam.runners.portability.fn_api_runner.worker_handlers:Created Worker handler <apache_beam.runners.portability.fn_api_runner.worker_handlers.EmbeddedWorkerHandler object at 0x7f396a8bcf10> for environment ref_Environment_default_environment_1 (beam:env:embedded_python:v1, b'')\n",
            "INFO:apache_beam.runners.portability.fn_api_runner.fn_runner:Running (((ref_AppliedPTransform_ReadTwitterData/Read/_SDFBoundedSourceWrapper/Impulse_5)+(ReadTwitterData/Read/_SDFBoundedSourceWrapper/ParDo(SDFBoundedSourceDoFn)/PairWithRestriction))+(ReadTwitterData/Read/_SDFBoundedSourceWrapper/ParDo(SDFBoundedSourceDoFn)/SplitAndSizeRestriction))+(ref_PCollection_PCollection_1_split/Write)\n",
            "INFO:apache_beam.runners.portability.fn_api_runner.fn_runner:Running (((((ref_AppliedPTransform_TrainWriteToCSV/Write/WriteImpl/DoOnce/Impulse_16)+(ref_AppliedPTransform_TrainWriteToCSV/Write/WriteImpl/DoOnce/FlatMap(<lambda at core.py:2826>)_17))+(ref_AppliedPTransform_TrainWriteToCSV/Write/WriteImpl/DoOnce/Map(decode)_19))+(ref_AppliedPTransform_TrainWriteToCSV/Write/WriteImpl/InitializeWrite_20))+(ref_PCollection_PCollection_10/Write))+(ref_PCollection_PCollection_11/Write)\n",
            "INFO:apache_beam.runners.portability.fn_api_runner.fn_runner:Running (((((ref_AppliedPTransform_EvalWriteToCSV/Write/WriteImpl/DoOnce/Impulse_32)+(ref_AppliedPTransform_EvalWriteToCSV/Write/WriteImpl/DoOnce/FlatMap(<lambda at core.py:2826>)_33))+(ref_AppliedPTransform_EvalWriteToCSV/Write/WriteImpl/DoOnce/Map(decode)_35))+(ref_AppliedPTransform_EvalWriteToCSV/Write/WriteImpl/InitializeWrite_36))+(ref_PCollection_PCollection_21/Write))+(ref_PCollection_PCollection_22/Write)\n",
            "INFO:apache_beam.runners.portability.fn_api_runner.fn_runner:Running ((((((((((((ref_PCollection_PCollection_1_split/Read)+(ReadTwitterData/Read/_SDFBoundedSourceWrapper/ParDo(SDFBoundedSourceDoFn)/Process))+(ref_AppliedPTransform_ExtractColumns_7))+(ref_AppliedPTransform_Preprocess_8))+(ref_AppliedPTransform_Split dataset/ParDo(ApplyPartitionFnFn)/ParDo(ApplyPartitionFnFn)_11))+(ref_AppliedPTransform_EvalWriteToCSV/Write/WriteImpl/WindowInto(WindowIntoFn)_37))+(ref_AppliedPTransform_TrainWriteToCSV/Write/WriteImpl/WindowInto(WindowIntoFn)_21))+(ref_AppliedPTransform_TrainWriteToCSV/Write/WriteImpl/WriteBundles_22))+(ref_AppliedPTransform_TrainWriteToCSV/Write/WriteImpl/Pair_23))+(TrainWriteToCSV/Write/WriteImpl/GroupByKey/Write))+(ref_AppliedPTransform_EvalWriteToCSV/Write/WriteImpl/WriteBundles_38))+(ref_AppliedPTransform_EvalWriteToCSV/Write/WriteImpl/Pair_39))+(EvalWriteToCSV/Write/WriteImpl/GroupByKey/Write)\n",
            "INFO:apache_beam.runners.portability.fn_api_runner.fn_runner:Running ((EvalWriteToCSV/Write/WriteImpl/GroupByKey/Read)+(ref_AppliedPTransform_EvalWriteToCSV/Write/WriteImpl/Extract_41))+(ref_PCollection_PCollection_27/Write)\n",
            "INFO:apache_beam.runners.portability.fn_api_runner.fn_runner:Running ((ref_PCollection_PCollection_21/Read)+(ref_AppliedPTransform_EvalWriteToCSV/Write/WriteImpl/PreFinalize_42))+(ref_PCollection_PCollection_28/Write)\n",
            "WARNING:apache_beam.io.filebasedsink:Deleting 2 existing files in target path matching: -*-of-%(num_shards)05d\n",
            "INFO:apache_beam.runners.portability.fn_api_runner.fn_runner:Running ((TrainWriteToCSV/Write/WriteImpl/GroupByKey/Read)+(ref_AppliedPTransform_TrainWriteToCSV/Write/WriteImpl/Extract_25))+(ref_PCollection_PCollection_16/Write)\n",
            "INFO:apache_beam.runners.portability.fn_api_runner.fn_runner:Running ((ref_PCollection_PCollection_10/Read)+(ref_AppliedPTransform_TrainWriteToCSV/Write/WriteImpl/PreFinalize_26))+(ref_PCollection_PCollection_17/Write)\n",
            "WARNING:apache_beam.io.filebasedsink:Deleting 2 existing files in target path matching: -*-of-%(num_shards)05d\n",
            "INFO:apache_beam.runners.portability.fn_api_runner.fn_runner:Running (ref_PCollection_PCollection_10/Read)+(ref_AppliedPTransform_TrainWriteToCSV/Write/WriteImpl/FinalizeWrite_27)\n",
            "INFO:apache_beam.io.filebasedsink:Starting finalize_write threads with num_shards: 2 (skipped: 0), batches: 2, num_threads: 2\n",
            "INFO:apache_beam.io.filebasedsink:Renamed 2 shards in 0.10 seconds.\n",
            "INFO:apache_beam.runners.portability.fn_api_runner.fn_runner:Running (ref_PCollection_PCollection_21/Read)+(ref_AppliedPTransform_EvalWriteToCSV/Write/WriteImpl/FinalizeWrite_43)\n",
            "INFO:apache_beam.io.filebasedsink:Starting finalize_write threads with num_shards: 2 (skipped: 0), batches: 2, num_threads: 2\n",
            "INFO:apache_beam.io.filebasedsink:Renamed 2 shards in 0.10 seconds.\n"
          ]
        }
      ]
    },
    {
      "cell_type": "markdown",
      "metadata": {
        "id": "wkkG271a4qnA"
      },
      "source": [
        "### Validación preprocess test en local (0.25 puntos)\n",
        "\n",
        "Con el comando mostrado a continuación se valida la correcta generación de los datos de test en local."
      ]
    },
    {
      "cell_type": "code",
      "metadata": {
        "id": "u4lkLgecLS3i",
        "colab": {
          "base_uri": "https://localhost:8080/"
        },
        "outputId": "dabf70b6-ad6c-4dc5-f99e-015aaa895037"
      },
      "source": [
        "! python3 preprocess.py \\\n",
        "  --work-dir $WORK_DIR \\\n",
        "  --runner DirectRunner \\\n",
        "  --input $WORK_DIR/data.json \\\n",
        "  --output $WORK_DIR/transformed_data \\\n",
        "  --mode test"
      ],
      "execution_count": 56,
      "outputs": [
        {
          "output_type": "stream",
          "name": "stdout",
          "text": [
            "INFO:apache_beam.runners.portability.fn_api_runner.translations:==================== <function annotate_downstream_side_inputs at 0x7f7187322cb0> ====================\n",
            "INFO:apache_beam.runners.portability.fn_api_runner.translations:==================== <function fix_side_input_pcoll_coders at 0x7f7187322dd0> ====================\n",
            "INFO:apache_beam.runners.portability.fn_api_runner.translations:==================== <function lift_combiners at 0x7f7187322e60> ====================\n",
            "INFO:apache_beam.runners.portability.fn_api_runner.translations:==================== <function expand_sdf at 0x7f7187322ef0> ====================\n",
            "INFO:apache_beam.runners.portability.fn_api_runner.translations:==================== <function expand_gbk at 0x7f7187322f80> ====================\n",
            "INFO:apache_beam.runners.portability.fn_api_runner.translations:==================== <function sink_flattens at 0x7f71873230e0> ====================\n",
            "INFO:apache_beam.runners.portability.fn_api_runner.translations:==================== <function greedily_fuse at 0x7f7187323170> ====================\n",
            "INFO:apache_beam.runners.portability.fn_api_runner.translations:==================== <function read_to_impulse at 0x7f7187323200> ====================\n",
            "INFO:apache_beam.runners.portability.fn_api_runner.translations:==================== <function impulse_to_input at 0x7f7187323290> ====================\n",
            "INFO:apache_beam.runners.portability.fn_api_runner.translations:==================== <function sort_stages at 0x7f71873234d0> ====================\n",
            "INFO:apache_beam.runners.portability.fn_api_runner.translations:==================== <function setup_timer_mapping at 0x7f7187323440> ====================\n",
            "INFO:apache_beam.runners.portability.fn_api_runner.translations:==================== <function populate_data_channel_coders at 0x7f7187323560> ====================\n",
            "INFO:apache_beam.runners.worker.statecache:Creating state cache with size 100\n",
            "INFO:apache_beam.runners.portability.fn_api_runner.worker_handlers:Created Worker handler <apache_beam.runners.portability.fn_api_runner.worker_handlers.EmbeddedWorkerHandler object at 0x7f718705fb10> for environment ref_Environment_default_environment_1 (beam:env:embedded_python:v1, b'')\n",
            "INFO:apache_beam.runners.worker.statecache:Creating state cache with size 100\n",
            "INFO:apache_beam.runners.portability.fn_api_runner.worker_handlers:Created Worker handler <apache_beam.runners.portability.fn_api_runner.worker_handlers.EmbeddedWorkerHandler object at 0x7f718705f650> for environment ref_Environment_default_environment_1 (beam:env:embedded_python:v1, b'')\n",
            "INFO:apache_beam.runners.worker.statecache:Creating state cache with size 100\n",
            "INFO:apache_beam.runners.portability.fn_api_runner.worker_handlers:Created Worker handler <apache_beam.runners.portability.fn_api_runner.worker_handlers.EmbeddedWorkerHandler object at 0x7f718706d190> for environment ref_Environment_default_environment_1 (beam:env:embedded_python:v1, b'')\n",
            "INFO:apache_beam.runners.worker.statecache:Creating state cache with size 100\n",
            "INFO:apache_beam.runners.portability.fn_api_runner.worker_handlers:Created Worker handler <apache_beam.runners.portability.fn_api_runner.worker_handlers.EmbeddedWorkerHandler object at 0x7f71876fce90> for environment ref_Environment_default_environment_1 (beam:env:embedded_python:v1, b'')\n",
            "INFO:apache_beam.runners.portability.fn_api_runner.fn_runner:Running (((ref_AppliedPTransform_ReadTwitterData/Read/_SDFBoundedSourceWrapper/Impulse_5)+(ReadTwitterData/Read/_SDFBoundedSourceWrapper/ParDo(SDFBoundedSourceDoFn)/PairWithRestriction))+(ReadTwitterData/Read/_SDFBoundedSourceWrapper/ParDo(SDFBoundedSourceDoFn)/SplitAndSizeRestriction))+(ref_PCollection_PCollection_1_split/Write)\n",
            "INFO:apache_beam.runners.portability.fn_api_runner.fn_runner:Running (((((ref_AppliedPTransform_TestWriteToCSV/Write/WriteImpl/DoOnce/Impulse_13)+(ref_AppliedPTransform_TestWriteToCSV/Write/WriteImpl/DoOnce/FlatMap(<lambda at core.py:2826>)_14))+(ref_AppliedPTransform_TestWriteToCSV/Write/WriteImpl/DoOnce/Map(decode)_16))+(ref_AppliedPTransform_TestWriteToCSV/Write/WriteImpl/InitializeWrite_17))+(ref_PCollection_PCollection_7/Write))+(ref_PCollection_PCollection_8/Write)\n",
            "INFO:apache_beam.runners.portability.fn_api_runner.fn_runner:Running (((((((ref_PCollection_PCollection_1_split/Read)+(ReadTwitterData/Read/_SDFBoundedSourceWrapper/ParDo(SDFBoundedSourceDoFn)/Process))+(ref_AppliedPTransform_ExtractColumns_7))+(ref_AppliedPTransform_Preprocess_8))+(ref_AppliedPTransform_TestWriteToCSV/Write/WriteImpl/WindowInto(WindowIntoFn)_18))+(ref_AppliedPTransform_TestWriteToCSV/Write/WriteImpl/WriteBundles_19))+(ref_AppliedPTransform_TestWriteToCSV/Write/WriteImpl/Pair_20))+(TestWriteToCSV/Write/WriteImpl/GroupByKey/Write)\n",
            "INFO:apache_beam.runners.portability.fn_api_runner.fn_runner:Running ((TestWriteToCSV/Write/WriteImpl/GroupByKey/Read)+(ref_AppliedPTransform_TestWriteToCSV/Write/WriteImpl/Extract_22))+(ref_PCollection_PCollection_13/Write)\n",
            "INFO:apache_beam.runners.portability.fn_api_runner.fn_runner:Running ((ref_PCollection_PCollection_7/Read)+(ref_AppliedPTransform_TestWriteToCSV/Write/WriteImpl/PreFinalize_23))+(ref_PCollection_PCollection_14/Write)\n",
            "WARNING:apache_beam.io.filebasedsink:Deleting 2 existing files in target path matching: -*-of-%(num_shards)05d\n",
            "INFO:apache_beam.runners.portability.fn_api_runner.fn_runner:Running (ref_PCollection_PCollection_7/Read)+(ref_AppliedPTransform_TestWriteToCSV/Write/WriteImpl/FinalizeWrite_24)\n",
            "INFO:apache_beam.io.filebasedsink:Starting finalize_write threads with num_shards: 2 (skipped: 0), batches: 2, num_threads: 2\n",
            "INFO:apache_beam.io.filebasedsink:Renamed 2 shards in 0.10 seconds.\n"
          ]
        }
      ]
    },
    {
      "cell_type": "markdown",
      "metadata": {
        "id": "geZM9Sbj45LK"
      },
      "source": [
        "## Entregable 2 (1.25 puntos)\n",
        "\n",
        "Desarrollar una tarea de entrenamiento para los datos preprocesados. Requisitos:\n",
        "\n",
        "- Soportar ejecuciones en local usando el SDK de AI-Platform y ejecuciones en GCP con el mismo código."
      ]
    },
    {
      "cell_type": "markdown",
      "metadata": {
        "id": "OMUwXgm_5el-"
      },
      "source": [
        "Se crea el directorio donde se dejará este entregable."
      ]
    },
    {
      "cell_type": "code",
      "metadata": {
        "id": "HMi8dI1gLoIc",
        "colab": {
          "base_uri": "https://localhost:8080/"
        },
        "outputId": "13e4d677-34df-448a-8d29-af5251ef6d37"
      },
      "source": [
        "%mkdir /content/batch/trainer"
      ],
      "execution_count": 15,
      "outputs": [
        {
          "output_type": "stream",
          "name": "stdout",
          "text": [
            "mkdir: cannot create directory ‘/content/batch/trainer’: File exists\n"
          ]
        }
      ]
    },
    {
      "cell_type": "code",
      "metadata": {
        "id": "3dJyMXTuNPwo",
        "colab": {
          "base_uri": "https://localhost:8080/",
          "height": 349
        },
        "outputId": "741c1418-eddc-4651-a175-9411263b813b"
      },
      "source": [
        "%%writefile trainer/__init__.py\n",
        "\n",
        "version = \"0.1.0\""
      ],
      "execution_count": 19,
      "outputs": [
        {
          "output_type": "stream",
          "name": "stdout",
          "text": [
            "Writing trainer/__init__.py\n"
          ]
        },
        {
          "output_type": "error",
          "ename": "FileNotFoundError",
          "evalue": "ignored",
          "traceback": [
            "\u001b[0;31m---------------------------------------------------------------------------\u001b[0m",
            "\u001b[0;31mFileNotFoundError\u001b[0m                         Traceback (most recent call last)",
            "\u001b[0;32m<ipython-input-19-6421b952c848>\u001b[0m in \u001b[0;36m<module>\u001b[0;34m()\u001b[0m\n\u001b[0;32m----> 1\u001b[0;31m \u001b[0mget_ipython\u001b[0m\u001b[0;34m(\u001b[0m\u001b[0;34m)\u001b[0m\u001b[0;34m.\u001b[0m\u001b[0mrun_cell_magic\u001b[0m\u001b[0;34m(\u001b[0m\u001b[0;34m'writefile'\u001b[0m\u001b[0;34m,\u001b[0m \u001b[0;34m'trainer/__init__.py'\u001b[0m\u001b[0;34m,\u001b[0m \u001b[0;34m'\\nversion = \"0.1.0\"'\u001b[0m\u001b[0;34m)\u001b[0m\u001b[0;34m\u001b[0m\u001b[0;34m\u001b[0m\u001b[0m\n\u001b[0m",
            "\u001b[0;32m/usr/local/lib/python3.7/dist-packages/IPython/core/interactiveshell.py\u001b[0m in \u001b[0;36mrun_cell_magic\u001b[0;34m(self, magic_name, line, cell)\u001b[0m\n\u001b[1;32m   2115\u001b[0m             \u001b[0mmagic_arg_s\u001b[0m \u001b[0;34m=\u001b[0m \u001b[0mself\u001b[0m\u001b[0;34m.\u001b[0m\u001b[0mvar_expand\u001b[0m\u001b[0;34m(\u001b[0m\u001b[0mline\u001b[0m\u001b[0;34m,\u001b[0m \u001b[0mstack_depth\u001b[0m\u001b[0;34m)\u001b[0m\u001b[0;34m\u001b[0m\u001b[0;34m\u001b[0m\u001b[0m\n\u001b[1;32m   2116\u001b[0m             \u001b[0;32mwith\u001b[0m \u001b[0mself\u001b[0m\u001b[0;34m.\u001b[0m\u001b[0mbuiltin_trap\u001b[0m\u001b[0;34m:\u001b[0m\u001b[0;34m\u001b[0m\u001b[0;34m\u001b[0m\u001b[0m\n\u001b[0;32m-> 2117\u001b[0;31m                 \u001b[0mresult\u001b[0m \u001b[0;34m=\u001b[0m \u001b[0mfn\u001b[0m\u001b[0;34m(\u001b[0m\u001b[0mmagic_arg_s\u001b[0m\u001b[0;34m,\u001b[0m \u001b[0mcell\u001b[0m\u001b[0;34m)\u001b[0m\u001b[0;34m\u001b[0m\u001b[0;34m\u001b[0m\u001b[0m\n\u001b[0m\u001b[1;32m   2118\u001b[0m             \u001b[0;32mreturn\u001b[0m \u001b[0mresult\u001b[0m\u001b[0;34m\u001b[0m\u001b[0;34m\u001b[0m\u001b[0m\n\u001b[1;32m   2119\u001b[0m \u001b[0;34m\u001b[0m\u001b[0m\n",
            "\u001b[0;32m<decorator-gen-97>\u001b[0m in \u001b[0;36mwritefile\u001b[0;34m(self, line, cell)\u001b[0m\n",
            "\u001b[0;32m/usr/local/lib/python3.7/dist-packages/IPython/core/magic.py\u001b[0m in \u001b[0;36m<lambda>\u001b[0;34m(f, *a, **k)\u001b[0m\n\u001b[1;32m    186\u001b[0m     \u001b[0;31m# but it's overkill for just that one bit of state.\u001b[0m\u001b[0;34m\u001b[0m\u001b[0;34m\u001b[0m\u001b[0;34m\u001b[0m\u001b[0m\n\u001b[1;32m    187\u001b[0m     \u001b[0;32mdef\u001b[0m \u001b[0mmagic_deco\u001b[0m\u001b[0;34m(\u001b[0m\u001b[0marg\u001b[0m\u001b[0;34m)\u001b[0m\u001b[0;34m:\u001b[0m\u001b[0;34m\u001b[0m\u001b[0;34m\u001b[0m\u001b[0m\n\u001b[0;32m--> 188\u001b[0;31m         \u001b[0mcall\u001b[0m \u001b[0;34m=\u001b[0m \u001b[0;32mlambda\u001b[0m \u001b[0mf\u001b[0m\u001b[0;34m,\u001b[0m \u001b[0;34m*\u001b[0m\u001b[0ma\u001b[0m\u001b[0;34m,\u001b[0m \u001b[0;34m**\u001b[0m\u001b[0mk\u001b[0m\u001b[0;34m:\u001b[0m \u001b[0mf\u001b[0m\u001b[0;34m(\u001b[0m\u001b[0;34m*\u001b[0m\u001b[0ma\u001b[0m\u001b[0;34m,\u001b[0m \u001b[0;34m**\u001b[0m\u001b[0mk\u001b[0m\u001b[0;34m)\u001b[0m\u001b[0;34m\u001b[0m\u001b[0;34m\u001b[0m\u001b[0m\n\u001b[0m\u001b[1;32m    189\u001b[0m \u001b[0;34m\u001b[0m\u001b[0m\n\u001b[1;32m    190\u001b[0m         \u001b[0;32mif\u001b[0m \u001b[0mcallable\u001b[0m\u001b[0;34m(\u001b[0m\u001b[0marg\u001b[0m\u001b[0;34m)\u001b[0m\u001b[0;34m:\u001b[0m\u001b[0;34m\u001b[0m\u001b[0;34m\u001b[0m\u001b[0m\n",
            "\u001b[0;32m/usr/local/lib/python3.7/dist-packages/IPython/core/magics/osm.py\u001b[0m in \u001b[0;36mwritefile\u001b[0;34m(self, line, cell)\u001b[0m\n\u001b[1;32m    787\u001b[0m \u001b[0;34m\u001b[0m\u001b[0m\n\u001b[1;32m    788\u001b[0m         \u001b[0mmode\u001b[0m \u001b[0;34m=\u001b[0m \u001b[0;34m'a'\u001b[0m \u001b[0;32mif\u001b[0m \u001b[0margs\u001b[0m\u001b[0;34m.\u001b[0m\u001b[0mappend\u001b[0m \u001b[0;32melse\u001b[0m \u001b[0;34m'w'\u001b[0m\u001b[0;34m\u001b[0m\u001b[0;34m\u001b[0m\u001b[0m\n\u001b[0;32m--> 789\u001b[0;31m         \u001b[0;32mwith\u001b[0m \u001b[0mio\u001b[0m\u001b[0;34m.\u001b[0m\u001b[0mopen\u001b[0m\u001b[0;34m(\u001b[0m\u001b[0mfilename\u001b[0m\u001b[0;34m,\u001b[0m \u001b[0mmode\u001b[0m\u001b[0;34m,\u001b[0m \u001b[0mencoding\u001b[0m\u001b[0;34m=\u001b[0m\u001b[0;34m'utf-8'\u001b[0m\u001b[0;34m)\u001b[0m \u001b[0;32mas\u001b[0m \u001b[0mf\u001b[0m\u001b[0;34m:\u001b[0m\u001b[0;34m\u001b[0m\u001b[0;34m\u001b[0m\u001b[0m\n\u001b[0m\u001b[1;32m    790\u001b[0m             \u001b[0mf\u001b[0m\u001b[0;34m.\u001b[0m\u001b[0mwrite\u001b[0m\u001b[0;34m(\u001b[0m\u001b[0mcell\u001b[0m\u001b[0;34m)\u001b[0m\u001b[0;34m\u001b[0m\u001b[0;34m\u001b[0m\u001b[0m\n",
            "\u001b[0;31mFileNotFoundError\u001b[0m: [Errno 2] No such file or directory: 'trainer/__init__.py'"
          ]
        }
      ]
    },
    {
      "cell_type": "code",
      "metadata": {
        "id": "mUu6gKaTL_S2",
        "colab": {
          "base_uri": "https://localhost:8080/",
          "height": 453
        },
        "outputId": "a442241a-3695-4ac2-ae01-75f0c073748b"
      },
      "source": [
        "%%writefile trainer/task.py\n",
        "\n",
        "from __future__ import absolute_import\n",
        "\n",
        "import argparse\n",
        "import multiprocessing as mp\n",
        "import logging\n",
        "import tempfile\n",
        "import os\n",
        "\n",
        "import pickle\n",
        "import gensim\n",
        "import pandas as pd\n",
        "import numpy as np\n",
        "import tensorflow as tf\n",
        "\n",
        "from tensorflow.keras.preprocessing.text import Tokenizer\n",
        "from tensorflow.keras.preprocessing.sequence import pad_sequences\n",
        "from tensorflow.keras.models import Sequential\n",
        "from tensorflow.keras.layers import (\n",
        "    Dense,\n",
        "    Dropout,\n",
        "    Embedding,\n",
        "    LSTM,\n",
        ")\n",
        "from tensorflow.keras.callbacks import ReduceLROnPlateau, EarlyStopping\n",
        "from sklearn.preprocessing import LabelEncoder\n",
        "\n",
        "\n",
        "# WORD2VEC\n",
        "W2V_SIZE = 300\n",
        "W2V_WINDOW = 7\n",
        "# 32\n",
        "W2V_EPOCH = 5\n",
        "W2V_MIN_COUNT = 10\n",
        "\n",
        "# KERAS\n",
        "SEQUENCE_LENGTH = 300\n",
        "\n",
        "# SENTIMENT\n",
        "POSITIVE = \"NON TROLL\"\n",
        "NEGATIVE = \"TROLL\"\n",
        "\n",
        "\n",
        "\n",
        "# EXPORT\n",
        "KERAS_MODEL = \"model.h5\"\n",
        "WORD2VEC_MODEL = \"model.w2v\"\n",
        "TOKENIZER_MODEL = \"tokenizer.pkl\"\n",
        "ENCODER_MODEL = \"encoder.pkl\"\n",
        "\n",
        "\n",
        "def generate_word2vec(train_df):\n",
        "    documents = [_text.split() for _text in train_df.text.values]\n",
        "    w2v_model = gensim.models.word2vec.Word2Vec(\n",
        "        size=W2V_SIZE,\n",
        "        window=W2V_WINDOW,\n",
        "        min_count=W2V_MIN_COUNT,\n",
        "        workers=mp.cpu_count(),\n",
        "    )\n",
        "    w2v_model.build_vocab(documents)\n",
        "\n",
        "    words = w2v_model.wv.vocab.keys()\n",
        "    vocab_size = len(words)\n",
        "    logging.info(f\"Vocab size: {vocab_size}\")\n",
        "    w2v_model.train(documents, total_examples=len(documents), epochs=W2V_EPOCH)\n",
        "\n",
        "    return w2v_model\n",
        "\n",
        "\n",
        "def generate_tokenizer(train_df):\n",
        "    tokenizer = Tokenizer()\n",
        "    tokenizer.fit_on_texts(train_df.text)\n",
        "    vocab_size = len(tokenizer.word_index) + 1\n",
        "    logging.info(f\"Total words: {vocab_size}\")\n",
        "    return tokenizer, vocab_size\n",
        "\n",
        "\n",
        "def generate_label_encoder(train_df):\n",
        "    encoder = LabelEncoder()\n",
        "    encoder.fit(train_df.sentiment.tolist())\n",
        "    return encoder\n",
        "\n",
        "\n",
        "def generate_embedding(word2vec_model, vocab_size, tokenizer):\n",
        "    embedding_matrix = np.zeros((vocab_size, W2V_SIZE))\n",
        "    for word, i in tokenizer.word_index.items():\n",
        "        if word in word2vec_model.wv:\n",
        "            embedding_matrix[i] = word2vec_model.wv[word]\n",
        "    return Embedding(\n",
        "        vocab_size,\n",
        "        W2V_SIZE,\n",
        "        weights=[embedding_matrix],\n",
        "        input_length=SEQUENCE_LENGTH,\n",
        "        trainable=False,\n",
        "    )\n",
        "\n",
        "\n",
        "def train_and_evaluate(\n",
        "    work_dir, train_df, eval_df, batch_size=1024, epochs=8, steps=1000\n",
        "):\n",
        "\n",
        "    \"\"\"\n",
        "    Trains and evaluates the estimator given.\n",
        "    The input functions are generated by the preprocessing function.\n",
        "    \"\"\"\n",
        "\n",
        "    model_dir = os.path.join(work_dir, \"model\")\n",
        "    if tf.io.gfile.exists(model_dir):\n",
        "        tf.io.gfile.rmtree(model_dir)\n",
        "    tf.io.gfile.mkdir(model_dir)\n",
        "\n",
        "    # Specify where to store our model\n",
        "    run_config = tf.estimator.RunConfig()\n",
        "    run_config = run_config.replace(model_dir=model_dir)\n",
        "\n",
        "    # This will give us a more granular visualization of the training\n",
        "    run_config = run_config.replace(save_summary_steps=10)\n",
        "\n",
        "    # Create Word2vec of training data\n",
        "    logging.info(\"---- Generating word2vec model ----\")\n",
        "    word2vec_model = generate_word2vec(train_df)\n",
        "\n",
        "    # Tokenize training data\n",
        "    logging.info(\"---- Generating tokenizer ----\")\n",
        "    tokenizer, vocab_size = generate_tokenizer(train_df)\n",
        "\n",
        "    logging.info(\"---- Tokenizing train data ----\")\n",
        "    x_train = pad_sequences(\n",
        "        tokenizer.texts_to_sequences(train_df.text), maxlen=SEQUENCE_LENGTH\n",
        "    )\n",
        "    logging.info(\"---- Tokenizing eval data ----\")\n",
        "    x_eval = pad_sequences(\n",
        "        tokenizer.texts_to_sequences(eval_df.text), maxlen=SEQUENCE_LENGTH\n",
        "    )\n",
        "\n",
        "    # Label Encoder\n",
        "    logging.info(\"---- Generating label encoder ----\")\n",
        "    label_encoder = generate_label_encoder(train_df)\n",
        "\n",
        "    logging.info(\"---- Encoding train target ----\")\n",
        "    y_train = label_encoder.transform(train_df.sentiment.tolist())\n",
        "    logging.info(\"---- Encoding eval target ----\")\n",
        "    y_eval = label_encoder.transform(eval_df.sentiment.tolist())\n",
        "\n",
        "    y_train = y_train.reshape(-1, 1)\n",
        "    y_eval = y_eval.reshape(-1, 1)\n",
        "\n",
        "    # Create Embedding Layer\n",
        "    logging.info(\"---- Generating embedding layer ----\")\n",
        "    embedding_layer = generate_embedding(word2vec_model, vocab_size, tokenizer)\n",
        "\n",
        "    logging.info(\"---- Generating Sequential model ----\")\n",
        "    model = Sequential()\n",
        "    model.add(embedding_layer)\n",
        "    model.add(Dropout(0.5))\n",
        "    model.add(LSTM(100, dropout=0.2, recurrent_dropout=0.2))\n",
        "    model.add(Dense(1, activation=\"sigmoid\"))\n",
        "\n",
        "    model.summary()\n",
        "\n",
        "    logging.info(\"---- Adding loss function to model ----\")\n",
        "    model.compile(loss=\"binary_crossentropy\", optimizer=\"adam\", metrics=[\"accuracy\"])\n",
        "\n",
        "    logging.info(\"---- Adding callbacks to model ----\")\n",
        "    callbacks = [\n",
        "        ReduceLROnPlateau(monitor=\"val_loss\", patience=5, cooldown=0),\n",
        "        EarlyStopping(monitor=\"val_accuracy\", min_delta=1e-4, patience=5),\n",
        "    ]\n",
        "\n",
        "    logging.info(\"---- Training model ----\")\n",
        "    model.fit(\n",
        "        x_train,\n",
        "        y_train,\n",
        "        batch_size=batch_size,\n",
        "        steps_per_epoch=steps,\n",
        "        epochs=epochs,\n",
        "        validation_split=0.1,\n",
        "        verbose=1,\n",
        "        callbacks=callbacks,\n",
        "    )\n",
        "\n",
        "    logging.info(\"---- Evaluating model ----\")\n",
        "    score = model.evaluate(x_eval, y_eval, batch_size=batch_size)\n",
        "    logging.info(f\"ACCURACY: {score[1]}\")\n",
        "    logging.info(f\"LOSS: {score[0]}\")\n",
        "\n",
        "    logging.info(\"---- Saving models ----\")\n",
        "    pickle.dump(\n",
        "        tokenizer,\n",
        "        tf.io.gfile.GFile(os.path.join(model_dir, TOKENIZER_MODEL), mode=\"wb\"),\n",
        "        protocol=0,\n",
        "    )\n",
        "    with tempfile.NamedTemporaryFile(suffix=\".h5\") as local_file:\n",
        "        with tf.io.gfile.GFile(\n",
        "            os.path.join(model_dir, KERAS_MODEL), mode=\"wb\"\n",
        "        ) as gcs_file:\n",
        "            model.save(local_file.name)\n",
        "            gcs_file.write(local_file.read())\n",
        "\n",
        "    # word2vec_model.save(os.path.join(model_dir, WORD2VEC_MODEL))\n",
        "\n",
        "    # pickle.dump(\n",
        "    #     label_encoder, open(os.path.join(model_dir, ENCODER_MODEL), \"wb\"), protocol=0\n",
        "    # )\n",
        "\n",
        "\n",
        "if __name__ == \"__main__\":\n",
        "\n",
        "    \"\"\"Main function called by AI Platform.\"\"\"\n",
        "\n",
        "    logging.getLogger().setLevel(logging.INFO)\n",
        "\n",
        "    parser = argparse.ArgumentParser(\n",
        "        formatter_class=argparse.ArgumentDefaultsHelpFormatter\n",
        "    )\n",
        "\n",
        "    parser.add_argument(\n",
        "        \"--job-dir\",\n",
        "        help=\"Directory for staging trainer files. \"\n",
        "        \"This can be a Google Cloud Storage path.\",\n",
        "    )\n",
        "\n",
        "    parser.add_argument(\n",
        "        \"--work-dir\",\n",
        "        required=True,\n",
        "        help=\"Directory for staging and working files. \"\n",
        "        \"This can be a Google Cloud Storage path.\",\n",
        "    )\n",
        "\n",
        "    parser.add_argument(\n",
        "        \"--batch-size\",\n",
        "        type=int,\n",
        "        default=1024,\n",
        "        help=\"Batch size for training and evaluation.\",\n",
        "    )\n",
        "\n",
        "    parser.add_argument(\n",
        "        \"--epochs\", type=int, default=8, help=\"Number of epochs to train the model\",\n",
        "    )\n",
        "\n",
        "    parser.add_argument(\n",
        "        \"--steps\",\n",
        "        type=int,\n",
        "        default=1000,\n",
        "        help=\"Number of steps per epoch to train the model\",\n",
        "    )\n",
        "\n",
        "    args = parser.parse_args()\n",
        "\n",
        "    train_data_files = tf.io.gfile.glob(\n",
        "        os.path.join(args.work_dir, \"transformed_data/train/part-*\")\n",
        "    )\n",
        "    eval_data_files = tf.io.gfile.glob(\n",
        "        os.path.join(args.work_dir, \"transformed_data/eval/part-*\")\n",
        "    )\n",
        "\n",
        "    train_df = pd.concat(\n",
        "        [\n",
        "            pd.read_csv(\n",
        "                f,\n",
        "                names=[\"text\", \"sentiment\"],\n",
        "                dtype={\"text\": \"string\", \"sentiment\": \"string\"},\n",
        "            )\n",
        "            for f in train_data_files\n",
        "        ]\n",
        "    ).dropna()\n",
        "\n",
        "    eval_df = pd.concat(\n",
        "        [\n",
        "            pd.read_csv(\n",
        "                f,\n",
        "                names=[\"text\", \"sentiment\"],\n",
        "                dtype={\"text\": \"string\", \"sentiment\": \"string\"},\n",
        "            )\n",
        "            for f in eval_data_files\n",
        "        ]\n",
        "    ).dropna()\n",
        "\n",
        "    train_and_evaluate(\n",
        "        args.work_dir,\n",
        "        train_df=train_df,\n",
        "        eval_df=eval_df,\n",
        "        batch_size=args.batch_size,\n",
        "        epochs=args.epochs,\n",
        "        steps=args.steps,\n",
        "    )"
      ],
      "execution_count": 14,
      "outputs": [
        {
          "output_type": "stream",
          "name": "stdout",
          "text": [
            "Writing trainer/task.py\n"
          ]
        },
        {
          "output_type": "error",
          "ename": "FileNotFoundError",
          "evalue": "ignored",
          "traceback": [
            "\u001b[0;31m---------------------------------------------------------------------------\u001b[0m",
            "\u001b[0;31mFileNotFoundError\u001b[0m                         Traceback (most recent call last)",
            "\u001b[0;32m<ipython-input-14-564f1dafa640>\u001b[0m in \u001b[0;36m<module>\u001b[0;34m()\u001b[0m\n\u001b[0;32m----> 1\u001b[0;31m \u001b[0mget_ipython\u001b[0m\u001b[0;34m(\u001b[0m\u001b[0;34m)\u001b[0m\u001b[0;34m.\u001b[0m\u001b[0mrun_cell_magic\u001b[0m\u001b[0;34m(\u001b[0m\u001b[0;34m'writefile'\u001b[0m\u001b[0;34m,\u001b[0m \u001b[0;34m'trainer/task.py'\u001b[0m\u001b[0;34m,\u001b[0m \u001b[0;34m'\\nfrom __future__ import absolute_import\\n\\nimport argparse\\nimport multiprocessing as mp\\nimport logging\\nimport tempfile\\nimport os\\n\\nimport pickle\\nimport gensim\\nimport pandas as pd\\nimport numpy as np\\nimport tensorflow as tf\\n\\nfrom tensorflow.keras.preprocessing.text import Tokenizer\\nfrom tensorflow.keras.preprocessing.sequence import pad_sequences\\nfrom tensorflow.keras.models import Sequential\\nfrom tensorflow.keras.layers import (\\n    Dense,\\n    Dropout,\\n    Embedding,\\n    LSTM,\\n)\\nfrom tensorflow.keras.callbacks import ReduceLROnPlateau, EarlyStopping\\nfrom sklearn.preprocessing import LabelEncoder\\n\\n\\n# WORD2VEC\\nW2V_SIZE = 300\\nW2V_WINDOW = 7\\n# 32\\nW2V_EPOCH = 5\\nW2V_MIN_COUNT = 10\\n\\n# KERAS\\nSEQUENCE_LENGTH = 300\\n\\n# SENTIMENT\\nPOSITIVE = \"NON TROLL\"\\nNEGATIVE = \"TROLL\"\\n\\n\\n\\n# EXPORT\\nKERAS_MODEL = \"model.h5\"\\nWORD2VEC_MODEL = \"model.w2v\"\\nTOKENIZER_MODEL = \"tokenizer.pkl\"\\nENCODER_MODEL = \"encoder.pkl\"\\n\\n\\ndef generate_word2vec(train_df):\\n    documents = [_text.split() for _text in train_df.text.values]\\n    w2v_model = gensim.models.word2vec.Word2Vec(\\n        size=W2V_SIZE,\\n        window=W2V_WINDOW,\\n        min_count=W2V_MIN_COUNT,\\n        workers=mp.cpu_count(),\\n    )\\n    w2v_model.build_vocab(documents)\\n\\n    words = w2v_model.wv.vocab.keys(...\n\u001b[0m",
            "\u001b[0;32m/usr/local/lib/python3.7/dist-packages/IPython/core/interactiveshell.py\u001b[0m in \u001b[0;36mrun_cell_magic\u001b[0;34m(self, magic_name, line, cell)\u001b[0m\n\u001b[1;32m   2115\u001b[0m             \u001b[0mmagic_arg_s\u001b[0m \u001b[0;34m=\u001b[0m \u001b[0mself\u001b[0m\u001b[0;34m.\u001b[0m\u001b[0mvar_expand\u001b[0m\u001b[0;34m(\u001b[0m\u001b[0mline\u001b[0m\u001b[0;34m,\u001b[0m \u001b[0mstack_depth\u001b[0m\u001b[0;34m)\u001b[0m\u001b[0;34m\u001b[0m\u001b[0;34m\u001b[0m\u001b[0m\n\u001b[1;32m   2116\u001b[0m             \u001b[0;32mwith\u001b[0m \u001b[0mself\u001b[0m\u001b[0;34m.\u001b[0m\u001b[0mbuiltin_trap\u001b[0m\u001b[0;34m:\u001b[0m\u001b[0;34m\u001b[0m\u001b[0;34m\u001b[0m\u001b[0m\n\u001b[0;32m-> 2117\u001b[0;31m                 \u001b[0mresult\u001b[0m \u001b[0;34m=\u001b[0m \u001b[0mfn\u001b[0m\u001b[0;34m(\u001b[0m\u001b[0mmagic_arg_s\u001b[0m\u001b[0;34m,\u001b[0m \u001b[0mcell\u001b[0m\u001b[0;34m)\u001b[0m\u001b[0;34m\u001b[0m\u001b[0;34m\u001b[0m\u001b[0m\n\u001b[0m\u001b[1;32m   2118\u001b[0m             \u001b[0;32mreturn\u001b[0m \u001b[0mresult\u001b[0m\u001b[0;34m\u001b[0m\u001b[0;34m\u001b[0m\u001b[0m\n\u001b[1;32m   2119\u001b[0m \u001b[0;34m\u001b[0m\u001b[0m\n",
            "\u001b[0;32m<decorator-gen-97>\u001b[0m in \u001b[0;36mwritefile\u001b[0;34m(self, line, cell)\u001b[0m\n",
            "\u001b[0;32m/usr/local/lib/python3.7/dist-packages/IPython/core/magic.py\u001b[0m in \u001b[0;36m<lambda>\u001b[0;34m(f, *a, **k)\u001b[0m\n\u001b[1;32m    186\u001b[0m     \u001b[0;31m# but it's overkill for just that one bit of state.\u001b[0m\u001b[0;34m\u001b[0m\u001b[0;34m\u001b[0m\u001b[0;34m\u001b[0m\u001b[0m\n\u001b[1;32m    187\u001b[0m     \u001b[0;32mdef\u001b[0m \u001b[0mmagic_deco\u001b[0m\u001b[0;34m(\u001b[0m\u001b[0marg\u001b[0m\u001b[0;34m)\u001b[0m\u001b[0;34m:\u001b[0m\u001b[0;34m\u001b[0m\u001b[0;34m\u001b[0m\u001b[0m\n\u001b[0;32m--> 188\u001b[0;31m         \u001b[0mcall\u001b[0m \u001b[0;34m=\u001b[0m \u001b[0;32mlambda\u001b[0m \u001b[0mf\u001b[0m\u001b[0;34m,\u001b[0m \u001b[0;34m*\u001b[0m\u001b[0ma\u001b[0m\u001b[0;34m,\u001b[0m \u001b[0;34m**\u001b[0m\u001b[0mk\u001b[0m\u001b[0;34m:\u001b[0m \u001b[0mf\u001b[0m\u001b[0;34m(\u001b[0m\u001b[0;34m*\u001b[0m\u001b[0ma\u001b[0m\u001b[0;34m,\u001b[0m \u001b[0;34m**\u001b[0m\u001b[0mk\u001b[0m\u001b[0;34m)\u001b[0m\u001b[0;34m\u001b[0m\u001b[0;34m\u001b[0m\u001b[0m\n\u001b[0m\u001b[1;32m    189\u001b[0m \u001b[0;34m\u001b[0m\u001b[0m\n\u001b[1;32m    190\u001b[0m         \u001b[0;32mif\u001b[0m \u001b[0mcallable\u001b[0m\u001b[0;34m(\u001b[0m\u001b[0marg\u001b[0m\u001b[0;34m)\u001b[0m\u001b[0;34m:\u001b[0m\u001b[0;34m\u001b[0m\u001b[0;34m\u001b[0m\u001b[0m\n",
            "\u001b[0;32m/usr/local/lib/python3.7/dist-packages/IPython/core/magics/osm.py\u001b[0m in \u001b[0;36mwritefile\u001b[0;34m(self, line, cell)\u001b[0m\n\u001b[1;32m    787\u001b[0m \u001b[0;34m\u001b[0m\u001b[0m\n\u001b[1;32m    788\u001b[0m         \u001b[0mmode\u001b[0m \u001b[0;34m=\u001b[0m \u001b[0;34m'a'\u001b[0m \u001b[0;32mif\u001b[0m \u001b[0margs\u001b[0m\u001b[0;34m.\u001b[0m\u001b[0mappend\u001b[0m \u001b[0;32melse\u001b[0m \u001b[0;34m'w'\u001b[0m\u001b[0;34m\u001b[0m\u001b[0;34m\u001b[0m\u001b[0m\n\u001b[0;32m--> 789\u001b[0;31m         \u001b[0;32mwith\u001b[0m \u001b[0mio\u001b[0m\u001b[0;34m.\u001b[0m\u001b[0mopen\u001b[0m\u001b[0;34m(\u001b[0m\u001b[0mfilename\u001b[0m\u001b[0;34m,\u001b[0m \u001b[0mmode\u001b[0m\u001b[0;34m,\u001b[0m \u001b[0mencoding\u001b[0m\u001b[0;34m=\u001b[0m\u001b[0;34m'utf-8'\u001b[0m\u001b[0;34m)\u001b[0m \u001b[0;32mas\u001b[0m \u001b[0mf\u001b[0m\u001b[0;34m:\u001b[0m\u001b[0;34m\u001b[0m\u001b[0;34m\u001b[0m\u001b[0m\n\u001b[0m\u001b[1;32m    790\u001b[0m             \u001b[0mf\u001b[0m\u001b[0;34m.\u001b[0m\u001b[0mwrite\u001b[0m\u001b[0;34m(\u001b[0m\u001b[0mcell\u001b[0m\u001b[0;34m)\u001b[0m\u001b[0;34m\u001b[0m\u001b[0;34m\u001b[0m\u001b[0m\n",
            "\u001b[0;31mFileNotFoundError\u001b[0m: [Errno 2] No such file or directory: 'trainer/task.py'"
          ]
        }
      ]
    },
    {
      "cell_type": "markdown",
      "source": [
        ""
      ],
      "metadata": {
        "id": "RfH-0qKuvQlI"
      }
    },
    {
      "cell_type": "markdown",
      "metadata": {
        "id": "8axPHdHX6d9W"
      },
      "source": [
        "### Validación Train en local\n",
        "\n",
        "Con el comando mostrado a continuación se valida el correcto entrenamiento del modelo usando los datos preprocesados del apartado anterior."
      ]
    },
    {
      "cell_type": "code",
      "metadata": {
        "id": "m9997ZzsLmq-",
        "colab": {
          "base_uri": "https://localhost:8080/"
        },
        "outputId": "b5f26e73-926d-439f-a9af-03229b37a46e"
      },
      "source": [
        "# Explicitly tell `gcloud ai-platform local train` to use Python 3 \n",
        "! gcloud config set ml_engine/local_python $(which python3)\n",
        "\n",
        "# This is similar to `python -m trainer.task --job-dir local-training-output`\n",
        "# but it better replicates the AI Platform environment, especially for\n",
        "# distributed training (not applicable here).\n",
        "! gcloud ai-platform local train \\\n",
        "  --package-path trainer \\\n",
        "  --module-name trainer.task \\\n",
        "  -- \\\n",
        "  --work-dir $WORK_DIR \\\n",
        "  --epochs 1"
      ],
      "execution_count": 101,
      "outputs": [
        {
          "output_type": "stream",
          "name": "stdout",
          "text": [
            "Updated property [ml_engine/local_python].\n",
            "/usr/bin/python3: Error while finding module specification for 'trainer.task' (ModuleNotFoundError: No module named 'trainer')\n"
          ]
        }
      ]
    },
    {
      "cell_type": "code",
      "source": [
        "\n",
        "from __future__ import absolute_import\n",
        "from __future__ import print_function\n",
        "\n",
        "import argparse\n",
        "import tempfile\n",
        "import json\n",
        "import os\n",
        "import sys\n",
        "import time\n",
        "\n",
        "import apache_beam as beam\n",
        "from apache_beam.io import ReadFromText\n",
        "from apache_beam.io import WriteToText\n",
        "from apache_beam.options.pipeline_options import GoogleCloudOptions\n",
        "from apache_beam.options.pipeline_options import PipelineOptions\n",
        "from apache_beam.options.pipeline_options import SetupOptions\n",
        "from apache_beam.coders.coders import Coder\n",
        "\n",
        "import pickle\n",
        "import tensorflow as tf\n",
        "from tensorflow.keras.preprocessing.sequence import pad_sequences"
      ],
      "metadata": {
        "id": "fsSljlINnwF5"
      },
      "execution_count": 24,
      "outputs": []
    },
    {
      "cell_type": "markdown",
      "metadata": {
        "id": "0nhlkcjn62Zo"
      },
      "source": [
        "## Entregable 3 (0.5 puntos)\n",
        "\n",
        "Desarrollar un pipeline de inferencia utilizando Apache Beam para generar predicciones usando los modelos generados en el apartado anterior así como los de test generados en el primer entregable.\n"
      ]
    },
    {
      "cell_type": "code",
      "metadata": {
        "id": "eHBpLXB-OmjT",
        "colab": {
          "base_uri": "https://localhost:8080/"
        },
        "outputId": "5cbf39a0-ea3e-4431-963a-8629bf25336c"
      },
      "source": [
        "%%writefile predict.py\n",
        "\n",
        "from __future__ import absolute_import\n",
        "from __future__ import print_function\n",
        "\n",
        "import argparse\n",
        "import tempfile\n",
        "import json\n",
        "import os\n",
        "import sys\n",
        "import time\n",
        "\n",
        "import apache_beam as beam\n",
        "from apache_beam.io import ReadFromText\n",
        "from apache_beam.io import WriteToText\n",
        "from apache_beam.options.pipeline_options import GoogleCloudOptions\n",
        "from apache_beam.options.pipeline_options import PipelineOptions\n",
        "from apache_beam.options.pipeline_options import SetupOptions\n",
        "from apache_beam.coders.coders import Coder\n",
        "\n",
        "import pickle\n",
        "import tensorflow as tf\n",
        "from tensorflow.keras.preprocessing.sequence import pad_sequences\n",
        "\n",
        "# KERAS\n",
        "SEQUENCE_LENGTH = 300\n",
        "\n",
        "# SENTIMENT\n",
        "POSITIVE = \"NON TROLL\"\n",
        "NEGATIVE = \"TROLL\"\n",
        "\n",
        "SENTIMENT_THRESHOLDS = (0.4, 0.7)\n",
        "\n",
        "# EXPORT\n",
        "KERAS_MODEL = \"model.h5\"\n",
        "TOKENIZER_MODEL = \"tokenizer.pkl\"\n",
        "\n",
        "\n",
        "class Predict(beam.DoFn):\n",
        "    def __init__(\n",
        "        self, model_dir,\n",
        "    ):\n",
        "        self.model_dir = model_dir\n",
        "        self.model = None\n",
        "        self.tokenizer = None\n",
        "\n",
        "    def setup(self):\n",
        "        keras_model_path = os.path.join(self.model_dir, KERAS_MODEL)\n",
        "        with tempfile.NamedTemporaryFile(suffix=\".h5\") as local_file:\n",
        "            with tf.io.gfile.GFile(keras_model_path, mode=\"rb\") as gcs_file:\n",
        "                local_file.write(gcs_file.read())\n",
        "                self.model = tf.keras.models.load_model(local_file.name)\n",
        "\n",
        "        tokenizer_path = os.path.join(self.model_dir, TOKENIZER_MODEL)\n",
        "        self.tokenizer = pickle.load(tf.io.gfile.GFile(tokenizer_path, mode=\"rb\"))\n",
        "\n",
        "    def decode_sentiment(self, score):\n",
        "        if score <= SENTIMENT_THRESHOLDS[0]:\n",
        "            label = NEGATIVE\n",
        "            if score <= SENTIMENT_THRESHOLDS[1]:\n",
        "                label = POSITIVE\n",
        "            \n",
        "            return label\n",
        "        else:\n",
        "            return NEGATIVE if score < 0.5 else POSITIVE\n",
        "\n",
        "    def process(self, element):\n",
        "        start_at = time.time()\n",
        "        # Tokenize text\n",
        "        x_test = pad_sequences(\n",
        "            self.tokenizer.texts_to_sequences([element]), maxlen=SEQUENCE_LENGTH\n",
        "        )\n",
        "        # Predict\n",
        "        score = self.model.predict([x_test])[0]\n",
        "        # Decode sentiment\n",
        "        label = self.decode_sentiment(score)\n",
        "\n",
        "        yield {\n",
        "            \"text\": element,\n",
        "            \"label\": label,\n",
        "            \"score\": float(score),\n",
        "            \"elapsed_time\": time.time() - start_at,\n",
        "        }\n",
        "\n",
        "\n",
        "class CustomCoder(Coder):\n",
        "    \"\"\"A custom coder used for reading and writing strings\"\"\"\n",
        "\n",
        "    def __init__(self, encoding: str):\n",
        "        # latin-1\n",
        "        # iso-8859-1\n",
        "        self.enconding = encoding\n",
        "\n",
        "    def encode(self, value):\n",
        "        return value.encode(self.enconding)\n",
        "\n",
        "    def decode(self, value):\n",
        "        return value.decode(self.enconding)\n",
        "\n",
        "    def is_deterministic(self):\n",
        "        return True\n",
        "\n",
        "\n",
        "def run(model_dir, source, sink, beam_options=None):\n",
        "    with beam.Pipeline(options=beam_options) as p:\n",
        "        _ = (\n",
        "            p\n",
        "            | \"Read data\" >> source\n",
        "            # | \"Preprocess\" >> beam.ParDo(PreprocessTextFn(model_dir, \"ID\"))\n",
        "            | \"Predict\" >> beam.ParDo(Predict(model_dir))\n",
        "            | \"Format as JSON\" >> beam.Map(json.dumps)\n",
        "            | \"Write predictions\" >> sink\n",
        "        )\n",
        "\n",
        "\n",
        "if __name__ == \"__main__\":\n",
        "    \"\"\"Main function\"\"\"\n",
        "    parser = argparse.ArgumentParser(\n",
        "        formatter_class=argparse.ArgumentDefaultsHelpFormatter\n",
        "    )\n",
        "\n",
        "    parser.add_argument(\n",
        "        \"--work-dir\",\n",
        "        dest=\"work_dir\",\n",
        "        required=True,\n",
        "        help=\"Directory for temporary files and preprocessed datasets to. \"\n",
        "        \"This can be a Google Cloud Storage path.\",\n",
        "    )\n",
        "\n",
        "    parser.add_argument(\n",
        "        \"--model-dir\",\n",
        "        dest=\"model_dir\",\n",
        "        required=True,\n",
        "        help=\"Path to the exported TensorFlow model. \"\n",
        "        \"This can be a Google Cloud Storage path.\",\n",
        "    )\n",
        "\n",
        "    verbs = parser.add_subparsers(dest=\"verb\")\n",
        "    batch_verb = verbs.add_parser(\"batch\", help=\"Batch prediction\")\n",
        "    batch_verb.add_argument(\n",
        "        \"--inputs-dir\",\n",
        "        dest=\"inputs_dir\",\n",
        "        required=True,\n",
        "        help=\"Input directory where CSV data files are read from. \"\n",
        "        \"This can be a Google Cloud Storage path.\",\n",
        "    )\n",
        "    batch_verb.add_argument(\n",
        "        \"--outputs-dir\",\n",
        "        dest=\"outputs_dir\",\n",
        "        required=True,\n",
        "        help=\"Directory to store prediction results. \"\n",
        "        \"This can be a Google Cloud Storage path.\",\n",
        "    )\n",
        "\n",
        "    args, pipeline_args = parser.parse_known_args()\n",
        "    print(args)\n",
        "    beam_options = PipelineOptions(pipeline_args)\n",
        "    beam_options.view_as(SetupOptions).save_main_session = True\n",
        "    # beam_options.view_as(DirectOptions).direct_num_workers = 0\n",
        "\n",
        "    project = beam_options.view_as(GoogleCloudOptions).project\n",
        "\n",
        "    if args.verb == \"batch\":\n",
        "        results_prefix = os.path.join(args.outputs_dir, \"part\")\n",
        "\n",
        "        source = ReadFromText(args.inputs_dir, coder=CustomCoder(\"latin-1\"))\n",
        "        sink = WriteToText(results_prefix)\n",
        "\n",
        "    else:\n",
        "        parser.print_usage()\n",
        "        sys.exit(1)\n",
        "\n",
        "    run(args.model_dir, source, sink, beam_options)"
      ],
      "execution_count": 102,
      "outputs": [
        {
          "output_type": "stream",
          "name": "stdout",
          "text": [
            "Overwriting predict.py\n"
          ]
        }
      ]
    },
    {
      "cell_type": "markdown",
      "metadata": {
        "id": "MUdgcLIP7a42"
      },
      "source": [
        "Generamos un timestamp para la ejecución de las predicciones"
      ]
    },
    {
      "cell_type": "code",
      "metadata": {
        "id": "_pvKMtuQPOlr"
      },
      "source": [
        "from datetime import datetime\n",
        "\n",
        "# current date and time\n",
        "TIMESTAMP = datetime.now().strftime('%Y-%m-%d_%H-%M-%S')"
      ],
      "execution_count": 28,
      "outputs": []
    },
    {
      "cell_type": "markdown",
      "metadata": {
        "id": "RkLMdMup70ne"
      },
      "source": [
        "### Validación Predict en local\n",
        "\n",
        "Con el comando mostrado a continuación se valida la correcta inferencia usando los modelos anteriores y los datos de test generados anteriormente."
      ]
    },
    {
      "cell_type": "code",
      "metadata": {
        "id": "iUJN0XCLPR_X",
        "colab": {
          "base_uri": "https://localhost:8080/"
        },
        "outputId": "b80aaf64-d4cb-492b-b63f-34c0837fe188"
      },
      "source": [
        "! python3 predict.py \\\n",
        "  --work-dir $WORK_DIR \\\n",
        "  --model-dir $WORK_DIR/model \\\n",
        "  batch \\\n",
        "  --inputs-dir $WORK_DIR/transformed_data/test/part* \\\n",
        "  --outputs-dir $WORK_DIR/predictions/$TIMESTAMP"
      ],
      "execution_count": 29,
      "outputs": [
        {
          "output_type": "stream",
          "name": "stdout",
          "text": [
            "Namespace(inputs_dir='/content/batch/transformed_data/test/part-00000-of-00002', model_dir='/content/batch/model', outputs_dir='/content/batch/predictions/2022-07-10_07-39-09', verb='batch', work_dir='/content/batch')\n",
            "2022-07-10 07:39:16.081481: W tensorflow/core/common_runtime/gpu/gpu_bfc_allocator.cc:39] Overriding allow_growth setting because the TF_FORCE_GPU_ALLOW_GROWTH environment variable is set. Original config value was 0.\n",
            "WARNING:tensorflow:Layer lstm will not use cuDNN kernels since it doesn't meet the criteria. It will use a generic GPU kernel as fallback when running on GPU.\n",
            "WARNING:tensorflow:Layer lstm will not use cuDNN kernels since it doesn't meet the criteria. It will use a generic GPU kernel as fallback when running on GPU.\n"
          ]
        }
      ]
    },
    {
      "cell_type": "markdown",
      "metadata": {
        "id": "Um68jx_F8mjF"
      },
      "source": [
        "##Entregable 4 (1.25 puntos)\n",
        "\n",
        "En este entregable se validará el funcionamiento del código en un proyecto de GCP sobre DataFlow y AI Platform"
      ]
    },
    {
      "cell_type": "markdown",
      "metadata": {
        "id": "_JHC9dCT83FH"
      },
      "source": [
        "Establecemos el bucket y region de GCP sobre el que trabajaremos:"
      ]
    },
    {
      "cell_type": "code",
      "metadata": {
        "id": "cgUpX__KQvt-"
      },
      "source": [
        "GCP_WORK_DIR = 'gs:/$BUCKET_NAME/final-practice-test-execution'\n",
        "GCP_REGION = 'us-east1' "
      ],
      "execution_count": 22,
      "outputs": []
    },
    {
      "cell_type": "markdown",
      "metadata": {
        "id": "_A66WAfm9DmU"
      },
      "source": [
        "### Validación preprocess train en Dataflow (0.25 puntos)\n",
        "\n",
        "Con el comando mostrado a continuación se valida la correcta generación de los datos de entrenamiento y validación en GCP con el servicio DataFlow."
      ]
    },
    {
      "cell_type": "code",
      "metadata": {
        "id": "EJYVuWyJP1Ya",
        "colab": {
          "base_uri": "https://localhost:8080/"
        },
        "outputId": "13e6ce59-9512-4d37-a6e9-cbb46f4af038"
      },
      "source": [
        "! python3 preprocess.py \\\n",
        "  --project $PROJECT_ID \\\n",
        "  --region $GCP_REGION \\\n",
        "  --runner DataflowRunner \\\n",
        "  --temp_location $GCP_WORK_DIR/beam-temp \\\n",
        "  --setup_file ./setup.py \\\n",
        "  --work-dir $GCP_WORK_DIR \\\n",
        "  --input $GCP_WORK_DIR/data.json \\\n",
        "  --output $GCP_WORK_DIR/transformed_data \\\n",
        "  --mode train"
      ],
      "execution_count": 24,
      "outputs": [
        {
          "output_type": "stream",
          "name": "stdout",
          "text": [
            "INFO:apache_beam.internal.gcp.auth:Setting socket default timeout to 60 seconds.\n",
            "INFO:apache_beam.internal.gcp.auth:socket default timeout is 60.0 seconds.\n",
            "INFO:oauth2client.transport:Attempting refresh to obtain initial access_token\n",
            "INFO:apache_beam.runners.portability.stager:Executing command: ['/usr/bin/python3', 'setup.py', 'sdist', '--dist-dir', '/tmp/tmpkhtvxpaw']\n",
            "warning: sdist: standard file not found: should have one of README, README.rst, README.txt, README.md\n",
            "\n",
            "warning: check: missing required meta-data: url\n",
            "\n",
            "warning: check: missing meta-data: either (author and author_email) or (maintainer and maintainer_email) must be supplied\n",
            "\n",
            "INFO:apache_beam.runners.portability.stager:Downloading source distribution of the SDK from PyPi\n",
            "INFO:apache_beam.runners.portability.stager:Executing command: ['/usr/bin/python3', '-m', 'pip', 'download', '--dest', '/tmp/tmpkhtvxpaw', 'apache-beam==2.24.0', '--no-deps', '--no-binary', ':all:']\n",
            "INFO:apache_beam.runners.portability.stager:Staging SDK sources from PyPI: dataflow_python_sdk.tar\n",
            "INFO:apache_beam.runners.portability.stager:Downloading binary distribution of the SDK from PyPi\n",
            "INFO:apache_beam.runners.portability.stager:Executing command: ['/usr/bin/python3', '-m', 'pip', 'download', '--dest', '/tmp/tmpkhtvxpaw', 'apache-beam==2.24.0', '--no-deps', '--only-binary', ':all:', '--python-version', '37', '--implementation', 'cp', '--abi', 'cp37m', '--platform', 'manylinux1_x86_64']\n",
            "INFO:apache_beam.runners.portability.stager:Staging binary distribution of the SDK from PyPI: apache_beam-2.24.0-cp37-cp37m-manylinux1_x86_64.whl\n",
            "WARNING:root:Make sure that locally built Python SDK docker image has Python 3.7 interpreter.\n",
            "INFO:root:Using Python SDK docker image: apache/beam_python3.7_sdk:2.24.0. If the image is not available at local, we will try to pull from hub.docker.com\n",
            "INFO:apache_beam.runners.dataflow.internal.apiclient:Defaulting to the temp_location as staging_location: gs://final-practice-test-execution/beam-temp\n",
            "INFO:apache_beam.runners.dataflow.internal.apiclient:Starting GCS upload to gs://final-practice-test-execution/beam-temp/beamapp-root-0710120330-989662.1657454610.989928/pipeline.pb...\n",
            "Traceback (most recent call last):\n",
            "  File \"/usr/local/lib/python3.7/dist-packages/apache_beam/runners/dataflow/internal/apiclient.py\", line 634, in stage_file\n",
            "    response = self._storage_client.objects.Insert(request, upload=upload)\n",
            "  File \"/usr/local/lib/python3.7/dist-packages/apache_beam/io/gcp/internal/clients/storage/storage_v1_client.py\", line 1156, in Insert\n",
            "    upload=upload, upload_config=upload_config)\n",
            "  File \"/usr/local/lib/python3.7/dist-packages/apitools/base/py/base_api.py\", line 731, in _RunMethod\n",
            "    return self.ProcessHttpResponse(method_config, http_response, request)\n",
            "  File \"/usr/local/lib/python3.7/dist-packages/apitools/base/py/base_api.py\", line 737, in ProcessHttpResponse\n",
            "    self.__ProcessHttpResponse(method_config, http_response, request))\n",
            "  File \"/usr/local/lib/python3.7/dist-packages/apitools/base/py/base_api.py\", line 604, in __ProcessHttpResponse\n",
            "    http_response, method_config=method_config, request=request)\n",
            "apitools.base.py.exceptions.HttpForbiddenError: HttpError accessing <https://www.googleapis.com/upload/storage/v1/b/final-practice-test-execution/o?alt=json&name=beam-temp%2Fbeamapp-root-0710120330-989662.1657454610.989928%2Fpipeline.pb&uploadType=multipart>: response: <{'x-guploader-uploadid': 'ADPycdvCL5lFunPOmfIMAy_OZuf8RRSwy7rI22BeQlcQOYDQT2iqZyyThyx54xbeuIJEWfLqXb1MT-T0CPD9KX1ysq5_0iumtI4j', 'content-type': 'application/json; charset=UTF-8', 'date': 'Sun, 10 Jul 2022 12:03:33 GMT', 'vary': 'Origin, X-Origin', 'cache-control': 'no-cache, no-store, max-age=0, must-revalidate', 'expires': 'Mon, 01 Jan 1990 00:00:00 GMT', 'pragma': 'no-cache', 'content-length': '376', 'server': 'UploadServer', 'status': '403'}>, content <{\n",
            "  \"error\": {\n",
            "    \"code\": 403,\n",
            "    \"message\": \"morenoygin@gmail.com does not have storage.objects.create access to the Google Cloud Storage object.\",\n",
            "    \"errors\": [\n",
            "      {\n",
            "        \"message\": \"morenoygin@gmail.com does not have storage.objects.create access to the Google Cloud Storage object.\",\n",
            "        \"domain\": \"global\",\n",
            "        \"reason\": \"forbidden\"\n",
            "      }\n",
            "    ]\n",
            "  }\n",
            "}\n",
            ">\n",
            "\n",
            "During handling of the above exception, another exception occurred:\n",
            "\n",
            "Traceback (most recent call last):\n",
            "  File \"preprocess.py\", line 172, in <module>\n",
            "    run()\n",
            "  File \"preprocess.py\", line 166, in run\n",
            "    os.path.join(known_args.output, \"test\", \"part\")\n",
            "  File \"/usr/local/lib/python3.7/dist-packages/apache_beam/pipeline.py\", line 555, in __exit__\n",
            "    self.result = self.run()\n",
            "  File \"/usr/local/lib/python3.7/dist-packages/apache_beam/pipeline.py\", line 521, in run\n",
            "    allow_proto_holders=True).run(False)\n",
            "  File \"/usr/local/lib/python3.7/dist-packages/apache_beam/pipeline.py\", line 534, in run\n",
            "    return self.runner.run_pipeline(self, self._options)\n",
            "  File \"/usr/local/lib/python3.7/dist-packages/apache_beam/runners/dataflow/dataflow_runner.py\", line 592, in run_pipeline\n",
            "    self.dataflow_client.create_job(self.job), self)\n",
            "  File \"/usr/local/lib/python3.7/dist-packages/apache_beam/utils/retry.py\", line 236, in wrapper\n",
            "    return fun(*args, **kwargs)\n",
            "  File \"/usr/local/lib/python3.7/dist-packages/apache_beam/runners/dataflow/internal/apiclient.py\", line 656, in create_job\n",
            "    self.create_job_description(job)\n",
            "  File \"/usr/local/lib/python3.7/dist-packages/apache_beam/runners/dataflow/internal/apiclient.py\", line 709, in create_job_description\n",
            "    io.BytesIO(job.proto_pipeline.SerializeToString()))\n",
            "  File \"/usr/local/lib/python3.7/dist-packages/apache_beam/runners/dataflow/internal/apiclient.py\", line 645, in stage_file\n",
            "    (gcs_or_local_path, reportable_errors[e.status_code]))\n",
            "OSError: Could not upload to GCS path gs://final-practice-test-execution/beam-temp/beamapp-root-0710120330-989662.1657454610.989928: access denied. Please verify that credentials are valid and that you have write access to the specified path.\n"
          ]
        }
      ]
    },
    {
      "cell_type": "markdown",
      "metadata": {
        "id": "8czKRMb99ZRX"
      },
      "source": [
        "### Validación preprocess test en Dataflow (0.25 puntos)\n",
        "\n",
        "Con el comando mostrado a continuación se valida la correcta generación de los datos de test en GCP con el servicio DataFlow."
      ]
    },
    {
      "cell_type": "code",
      "metadata": {
        "id": "45mfSRGdQLBO",
        "colab": {
          "base_uri": "https://localhost:8080/"
        },
        "outputId": "9012e7df-bb14-4a8f-ba96-44dcad43022c"
      },
      "source": [
        "! python3 preprocess.py \\\n",
        "  --project $PROJECT_ID \\\n",
        "  --region $GCP_REGION \\\n",
        "  --runner DataflowRunner \\\n",
        "  --temp_location $GCP_WORK_DIR/beam-temp \\\n",
        "  --setup_file ./setup.py \\\n",
        "  --work-dir $GCP_WORK_DIR \\\n",
        "  --input $GCP_WORK_DIR/data.json \\\n",
        "  --output $GCP_WORK_DIR/transformed_data \\\n",
        "  --mode test"
      ],
      "execution_count": 25,
      "outputs": [
        {
          "output_type": "stream",
          "name": "stdout",
          "text": [
            "INFO:apache_beam.internal.gcp.auth:Setting socket default timeout to 60 seconds.\n",
            "INFO:apache_beam.internal.gcp.auth:socket default timeout is 60.0 seconds.\n",
            "INFO:oauth2client.transport:Attempting refresh to obtain initial access_token\n",
            "INFO:apache_beam.runners.portability.stager:Executing command: ['/usr/bin/python3', 'setup.py', 'sdist', '--dist-dir', '/tmp/tmpsmyz6vuo']\n",
            "warning: sdist: standard file not found: should have one of README, README.rst, README.txt, README.md\n",
            "\n",
            "warning: check: missing required meta-data: url\n",
            "\n",
            "warning: check: missing meta-data: either (author and author_email) or (maintainer and maintainer_email) must be supplied\n",
            "\n",
            "INFO:apache_beam.runners.portability.stager:Downloading source distribution of the SDK from PyPi\n",
            "INFO:apache_beam.runners.portability.stager:Executing command: ['/usr/bin/python3', '-m', 'pip', 'download', '--dest', '/tmp/tmpsmyz6vuo', 'apache-beam==2.24.0', '--no-deps', '--no-binary', ':all:']\n",
            "INFO:apache_beam.runners.portability.stager:Staging SDK sources from PyPI: dataflow_python_sdk.tar\n",
            "INFO:apache_beam.runners.portability.stager:Downloading binary distribution of the SDK from PyPi\n",
            "INFO:apache_beam.runners.portability.stager:Executing command: ['/usr/bin/python3', '-m', 'pip', 'download', '--dest', '/tmp/tmpsmyz6vuo', 'apache-beam==2.24.0', '--no-deps', '--only-binary', ':all:', '--python-version', '37', '--implementation', 'cp', '--abi', 'cp37m', '--platform', 'manylinux1_x86_64']\n",
            "INFO:apache_beam.runners.portability.stager:Staging binary distribution of the SDK from PyPI: apache_beam-2.24.0-cp37-cp37m-manylinux1_x86_64.whl\n",
            "WARNING:root:Make sure that locally built Python SDK docker image has Python 3.7 interpreter.\n",
            "INFO:root:Using Python SDK docker image: apache/beam_python3.7_sdk:2.24.0. If the image is not available at local, we will try to pull from hub.docker.com\n",
            "INFO:apache_beam.runners.dataflow.internal.apiclient:Defaulting to the temp_location as staging_location: gs://final-practice-test-execution/beam-temp\n",
            "INFO:apache_beam.runners.dataflow.internal.apiclient:Starting GCS upload to gs://final-practice-test-execution/beam-temp/beamapp-root-0710120401-240244.1657454641.240549/pipeline.pb...\n",
            "Traceback (most recent call last):\n",
            "  File \"/usr/local/lib/python3.7/dist-packages/apache_beam/runners/dataflow/internal/apiclient.py\", line 634, in stage_file\n",
            "    response = self._storage_client.objects.Insert(request, upload=upload)\n",
            "  File \"/usr/local/lib/python3.7/dist-packages/apache_beam/io/gcp/internal/clients/storage/storage_v1_client.py\", line 1156, in Insert\n",
            "    upload=upload, upload_config=upload_config)\n",
            "  File \"/usr/local/lib/python3.7/dist-packages/apitools/base/py/base_api.py\", line 731, in _RunMethod\n",
            "    return self.ProcessHttpResponse(method_config, http_response, request)\n",
            "  File \"/usr/local/lib/python3.7/dist-packages/apitools/base/py/base_api.py\", line 737, in ProcessHttpResponse\n",
            "    self.__ProcessHttpResponse(method_config, http_response, request))\n",
            "  File \"/usr/local/lib/python3.7/dist-packages/apitools/base/py/base_api.py\", line 604, in __ProcessHttpResponse\n",
            "    http_response, method_config=method_config, request=request)\n",
            "apitools.base.py.exceptions.HttpForbiddenError: HttpError accessing <https://www.googleapis.com/upload/storage/v1/b/final-practice-test-execution/o?alt=json&name=beam-temp%2Fbeamapp-root-0710120401-240244.1657454641.240549%2Fpipeline.pb&uploadType=multipart>: response: <{'x-guploader-uploadid': 'ADPycdvdOg03FFU-_FJsScOnrMBKgmyTC9gl17xHsRPntC5jNwxwC_JfJelcdVqy7niMgkzdM2Bsv595eNuso2yZTfs4VV55YI2O', 'content-type': 'application/json; charset=UTF-8', 'date': 'Sun, 10 Jul 2022 12:04:03 GMT', 'vary': 'Origin, X-Origin', 'cache-control': 'no-cache, no-store, max-age=0, must-revalidate', 'expires': 'Mon, 01 Jan 1990 00:00:00 GMT', 'pragma': 'no-cache', 'content-length': '376', 'server': 'UploadServer', 'status': '403'}>, content <{\n",
            "  \"error\": {\n",
            "    \"code\": 403,\n",
            "    \"message\": \"morenoygin@gmail.com does not have storage.objects.create access to the Google Cloud Storage object.\",\n",
            "    \"errors\": [\n",
            "      {\n",
            "        \"message\": \"morenoygin@gmail.com does not have storage.objects.create access to the Google Cloud Storage object.\",\n",
            "        \"domain\": \"global\",\n",
            "        \"reason\": \"forbidden\"\n",
            "      }\n",
            "    ]\n",
            "  }\n",
            "}\n",
            ">\n",
            "\n",
            "During handling of the above exception, another exception occurred:\n",
            "\n",
            "Traceback (most recent call last):\n",
            "  File \"preprocess.py\", line 172, in <module>\n",
            "    run()\n",
            "  File \"preprocess.py\", line 166, in run\n",
            "    os.path.join(known_args.output, \"test\", \"part\")\n",
            "  File \"/usr/local/lib/python3.7/dist-packages/apache_beam/pipeline.py\", line 555, in __exit__\n",
            "    self.result = self.run()\n",
            "  File \"/usr/local/lib/python3.7/dist-packages/apache_beam/pipeline.py\", line 521, in run\n",
            "    allow_proto_holders=True).run(False)\n",
            "  File \"/usr/local/lib/python3.7/dist-packages/apache_beam/pipeline.py\", line 534, in run\n",
            "    return self.runner.run_pipeline(self, self._options)\n",
            "  File \"/usr/local/lib/python3.7/dist-packages/apache_beam/runners/dataflow/dataflow_runner.py\", line 592, in run_pipeline\n",
            "    self.dataflow_client.create_job(self.job), self)\n",
            "  File \"/usr/local/lib/python3.7/dist-packages/apache_beam/utils/retry.py\", line 236, in wrapper\n",
            "    return fun(*args, **kwargs)\n",
            "  File \"/usr/local/lib/python3.7/dist-packages/apache_beam/runners/dataflow/internal/apiclient.py\", line 656, in create_job\n",
            "    self.create_job_description(job)\n",
            "  File \"/usr/local/lib/python3.7/dist-packages/apache_beam/runners/dataflow/internal/apiclient.py\", line 709, in create_job_description\n",
            "    io.BytesIO(job.proto_pipeline.SerializeToString()))\n",
            "  File \"/usr/local/lib/python3.7/dist-packages/apache_beam/runners/dataflow/internal/apiclient.py\", line 645, in stage_file\n",
            "    (gcs_or_local_path, reportable_errors[e.status_code]))\n",
            "OSError: Could not upload to GCS path gs://final-practice-test-execution/beam-temp/beamapp-root-0710120401-240244.1657454641.240549: access denied. Please verify that credentials are valid and that you have write access to the specified path.\n"
          ]
        }
      ]
    },
    {
      "cell_type": "markdown",
      "metadata": {
        "id": "NFNxYtxW9fP9"
      },
      "source": [
        "### Validación Train en AI Platform (0.5 puntos)\n",
        "\n",
        "Con el comando mostrado a continuación se valida el correcto entrenamiento del modelo usando los datos de las ejecuciones anteriores en GCP con los datos obtenidos almacenados en Google Cloud Storage."
      ]
    },
    {
      "cell_type": "markdown",
      "metadata": {
        "id": "b0fP_5Gy9zfz"
      },
      "source": [
        "Generamos un nombre para el job de entrenamiento y donde se almacenarán los metadatos."
      ]
    },
    {
      "cell_type": "code",
      "metadata": {
        "id": "_eU0FkyLQPt6"
      },
      "source": [
        "JOB = \"troll_detection_batch_$(date +%Y%m%d_%H%M%S)\"\n",
        "JOB_DIR = GCP_WORK_DIR + \"/trainer\""
      ],
      "execution_count": 26,
      "outputs": []
    },
    {
      "cell_type": "code",
      "metadata": {
        "id": "3Z33nVs5QSEI",
        "colab": {
          "base_uri": "https://localhost:8080/"
        },
        "outputId": "2dc47d1e-3c3c-4056-b0c7-f4fa5eeae79d"
      },
      "source": [
        "! gcloud ai-platform jobs submit training $JOB \\\n",
        "  --module-name trainer.task \\\n",
        "  --package-path trainer \\\n",
        "  --scale-tier basic_gpu \\\n",
        "  --python-version 3.7 \\\n",
        "  --runtime-version 2.1 \\\n",
        "  --region $GCP_REGION \\\n",
        "  --job-dir $JOB_DIR \\\n",
        "  --stream-logs \\\n",
        "  -- \\\n",
        "  --work-dir $GCP_WORK_DIR \\\n",
        "  --epochs 1"
      ],
      "execution_count": 27,
      "outputs": [
        {
          "output_type": "stream",
          "name": "stdout",
          "text": [
            "\u001b[1;31mERROR:\u001b[0m (gcloud.ai-platform.jobs.submit.training) [/content/trainer] is not a valid Python package because it does not contain an         `__init__.py` file. Please create one and try again. Also, please         ensure that --package-path refers to a local directory.\n",
            "\n"
          ]
        }
      ]
    },
    {
      "cell_type": "markdown",
      "metadata": {
        "id": "wu5SOWsy9886"
      },
      "source": [
        "### Validación predict en Dataflow (0.25 puntos)\n",
        "\n",
        "Con el comando mostrado a continuación se valida la predicción correcta de los datos de test usando los modelos generados en el comando anterior."
      ]
    },
    {
      "cell_type": "markdown",
      "metadata": {
        "id": "OXoHCgMg-LUD"
      },
      "source": [
        "Generamos un timestamp para el almacenamiento de las inferencias en Google Cloud Storage."
      ]
    },
    {
      "cell_type": "code",
      "metadata": {
        "id": "fmcetQtnQjVo"
      },
      "source": [
        "from datetime import datetime\n",
        "\n",
        "# current date and time\n",
        "TIMESTAMP = datetime.now().strftime('%Y-%m-%d_%H-%M-%S')"
      ],
      "execution_count": 34,
      "outputs": []
    },
    {
      "cell_type": "code",
      "metadata": {
        "id": "zT_NxsKDQlxD",
        "colab": {
          "base_uri": "https://localhost:8080/"
        },
        "outputId": "bd43f32b-f73a-497f-fae5-93ae03f72f31"
      },
      "source": [
        "# For using sample models: --model-dir gs://$BUCKET_NAME/models/\n",
        "! python3 predict.py \\\n",
        "  --work-dir $GCP_WORK_DIR \\\n",
        "  --model-dir $GCP_WORK_DIR/model/ \\\n",
        "  batch \\\n",
        "  --project $PROJECT_ID \\\n",
        "  --region $GCP_REGION \\\n",
        "  --runner DataflowRunner \\\n",
        "  --temp_location $GCP_WORK_DIR/beam-temp \\\n",
        "  --setup_file ./setup.py \\\n",
        "  --inputs-dir $GCP_WORK_DIR/transformed_data/test/part* \\\n",
        "  --outputs-dir $GCP_WORK_DIR/predictions/$TIMESTAMP"
      ],
      "execution_count": 35,
      "outputs": [
        {
          "output_type": "stream",
          "name": "stdout",
          "text": [
            "Namespace(inputs_dir='gs://final-practice-test-execution/transformed_data/test/part*', model_dir='gs://final-practice-test-execution/model/', outputs_dir='gs://final-practice-test-execution/predictions/2022-07-10_08-03-39', verb='batch', work_dir='gs://final-practice-test-execution')\n",
            "Traceback (most recent call last):\n",
            "  File \"predict.py\", line 165, in <module>\n",
            "    source = ReadFromText(args.inputs_dir, coder=CustomCoder(\"latin-1\"))\n",
            "  File \"/usr/local/lib/python3.7/dist-packages/apache_beam/io/textio.py\", line 561, in __init__\n",
            "    skip_header_lines=skip_header_lines)\n",
            "  File \"/usr/local/lib/python3.7/dist-packages/apache_beam/io/textio.py\", line 131, in __init__\n",
            "    validate=validate)\n",
            "  File \"/usr/local/lib/python3.7/dist-packages/apache_beam/io/filebasedsource.py\", line 128, in __init__\n",
            "    self._validate()\n",
            "  File \"/usr/local/lib/python3.7/dist-packages/apache_beam/options/value_provider.py\", line 135, in _f\n",
            "    return fnc(self, *args, **kwargs)\n",
            "  File \"/usr/local/lib/python3.7/dist-packages/apache_beam/io/filebasedsource.py\", line 189, in _validate\n",
            "    match_result = FileSystems.match([pattern], limits=[1])[0]\n",
            "  File \"/usr/local/lib/python3.7/dist-packages/apache_beam/io/filesystems.py\", line 204, in match\n",
            "    return filesystem.match(patterns, limits)\n",
            "  File \"/usr/local/lib/python3.7/dist-packages/apache_beam/io/filesystem.py\", line 765, in match\n",
            "    raise BeamIOError(\"Match operation failed\", exceptions)\n",
            "apache_beam.io.filesystem.BeamIOError: Match operation failed with exceptions {'gs://final-practice-test-execution/transformed_data/test/part*': BeamIOError('List operation failed with exceptions {\\'gs://final-practice-test-execution/transformed_data/test/part\\': HttpForbiddenError(\\'HttpError accessing <https://www.googleapis.com/storage/v1/b/final-practice-test-execution/o?alt=json&maxResults=1000&prefix=transformed_data%2Ftest%2Fpart>: response: <{\\\\\\'x-guploader-uploadid\\\\\\': \\\\\\'ADPycdttrJwqF3eb6L00KK1phR_k-9FXqYdb79kDcQbNvor-GvcofxcsHrLpnJq21KIDp36njZDXhzGhqP_ZbNLWkNYF\\\\\\', \\\\\\'content-type\\\\\\': \\\\\\'application/json; charset=UTF-8\\\\\\', \\\\\\'date\\\\\\': \\\\\\'Sun, 10 Jul 2022 08:03:45 GMT\\\\\\', \\\\\\'vary\\\\\\': \\\\\\'Origin, X-Origin\\\\\\', \\\\\\'cache-control\\\\\\': \\\\\\'no-cache, no-store, max-age=0, must-revalidate\\\\\\', \\\\\\'expires\\\\\\': \\\\\\'Mon, 01 Jan 1990 00:00:00 GMT\\\\\\', \\\\\\'pragma\\\\\\': \\\\\\'no-cache\\\\\\', \\\\\\'content-length\\\\\\': \\\\\\'372\\\\\\', \\\\\\'server\\\\\\': \\\\\\'UploadServer\\\\\\', \\\\\\'status\\\\\\': \\\\\\'403\\\\\\'}>, content <{\\\\n  \"error\": {\\\\n    \"code\": 403,\\\\n    \"message\": \"morenoygin@gmail.com does not have storage.objects.list access to the Google Cloud Storage bucket.\",\\\\n    \"errors\": [\\\\n      {\\\\n        \"message\": \"morenoygin@gmail.com does not have storage.objects.list access to the Google Cloud Storage bucket.\",\\\\n        \"domain\": \"global\",\\\\n        \"reason\": \"forbidden\"\\\\n      }\\\\n    ]\\\\n  }\\\\n}\\\\n>\\')}')}\n"
          ]
        }
      ]
    },
    {
      "cell_type": "markdown",
      "metadata": {
        "id": "9GWbfFvwQTGS"
      },
      "source": [
        "# Inferencia online\n",
        "\n",
        "En esta segunda parte de la práctica se realizará un microservicio de inferencia online usando los modelos generados en la primera parte. Para esta parte de la práctica el código de vuestro microservicio deberá estar subido en un repositorio. En la variable de debajo deberéis dejar la URL a vuestro repositorrio pues será el contenido con el que serás evaluado. \n",
        "\n",
        "**Importante:** asegúrate de crear el repositorio de manera pública para poder clonarlo.\n",
        "\n",
        "A continuación os dejo un diagrama con la arquitectura que se va a desarrollar:\n",
        "\n",
        "![online_diagram](https://drive.google.com/uc?export=view&id=1zR7Cwp0Vq1QeTxwLoJ8YJNRM9G5KVh2S)"
      ]
    },
    {
      "cell_type": "markdown",
      "source": [
        ""
      ],
      "metadata": {
        "id": "JJoV1vv5RfG9"
      }
    },
    {
      "cell_type": "code",
      "metadata": {
        "id": "REn23OCIBjXF"
      },
      "source": [
        "REPOSITORIO = \"https://gitkc.cloud/despliegue-de-algoritmos-viii/troll-detection-online-service.git\""
      ],
      "execution_count": 5,
      "outputs": []
    },
    {
      "cell_type": "markdown",
      "source": [
        ""
      ],
      "metadata": {
        "id": "jA9pL73URezI"
      }
    },
    {
      "cell_type": "markdown",
      "metadata": {
        "id": "NqBT-b_8BsIR"
      },
      "source": [
        "Creamos el directorio donde trabajaremos."
      ]
    },
    {
      "cell_type": "code",
      "metadata": {
        "id": "VAskyBUAQZHx",
        "colab": {
          "base_uri": "https://localhost:8080/"
        },
        "outputId": "ec0ef30a-8ce2-4320-82a7-574585d8362a"
      },
      "source": [
        "%mkdir /content/online\n",
        "%cd /content/online"
      ],
      "execution_count": 3,
      "outputs": [
        {
          "output_type": "stream",
          "name": "stdout",
          "text": [
            "mkdir: cannot create directory ‘/content/online’: File exists\n",
            "/content/online\n"
          ]
        }
      ]
    },
    {
      "cell_type": "code",
      "metadata": {
        "id": "xlj7lGW3Q6CS",
        "colab": {
          "base_uri": "https://localhost:8080/"
        },
        "outputId": "ae2fd074-e109-426c-8c5a-7ab19d68dd0b"
      },
      "source": [
        "# Clone the repository\n",
        "! git clone $REPOSITORIO\n",
        "\n",
        "# Set the working directory to the sample code directory\n",
        "%cd ./troll-detection-online-service\n",
        "\n",
        "# Change to develop\n",
        "! git checkout develop"
      ],
      "execution_count": 6,
      "outputs": [
        {
          "output_type": "stream",
          "name": "stdout",
          "text": [
            "Cloning into 'troll-detection-online-service'...\n",
            "remote: Enumerating objects: 49, done.\u001b[K\n",
            "remote: Total 49 (delta 0), reused 0 (delta 0), pack-reused 49\u001b[K\n",
            "Unpacking objects: 100% (49/49), done.\n",
            "/content/online/troll-detection-online-service/troll-detection-online-service\n",
            "Branch 'develop' set up to track remote branch 'develop' from 'origin'.\n",
            "Switched to a new branch 'develop'\n"
          ]
        }
      ]
    },
    {
      "cell_type": "code",
      "metadata": {
        "id": "FndkRszYQ8_f",
        "colab": {
          "base_uri": "https://localhost:8080/"
        },
        "outputId": "3afab05f-f837-4ad5-b171-8ae35c28ea25"
      },
      "source": [
        "! pip install -r requirements.txt"
      ],
      "execution_count": 4,
      "outputs": [
        {
          "output_type": "stream",
          "name": "stdout",
          "text": [
            "Looking in indexes: https://pypi.org/simple, https://us-python.pkg.dev/colab-wheels/public/simple/\n",
            "Requirement already satisfied: requests==2.25.0 in /usr/local/lib/python3.7/dist-packages (from -r requirements.txt (line 1)) (2.25.0)\n",
            "Requirement already satisfied: uvicorn==0.12.2 in /usr/local/lib/python3.7/dist-packages (from -r requirements.txt (line 2)) (0.12.2)\n",
            "Requirement already satisfied: fastapi==0.61.2 in /usr/local/lib/python3.7/dist-packages (from -r requirements.txt (line 3)) (0.61.2)\n",
            "Requirement already satisfied: h5py==2.10.0 in /usr/local/lib/python3.7/dist-packages (from -r requirements.txt (line 4)) (2.10.0)\n",
            "Requirement already satisfied: scikit-learn==0.23.2 in /usr/local/lib/python3.7/dist-packages (from -r requirements.txt (line 5)) (0.23.2)\n",
            "Requirement already satisfied: scipy==1.4.1 in /usr/local/lib/python3.7/dist-packages (from -r requirements.txt (line 6)) (1.4.1)\n",
            "Requirement already satisfied: tensorflow==2.1.0 in /usr/local/lib/python3.7/dist-packages (from -r requirements.txt (line 7)) (2.1.0)\n",
            "Requirement already satisfied: loguru==0.5.3 in /usr/local/lib/python3.7/dist-packages (from -r requirements.txt (line 8)) (0.5.3)\n",
            "Requirement already satisfied: gensim==3.6.0 in /usr/local/lib/python3.7/dist-packages (from -r requirements.txt (line 9)) (3.6.0)\n",
            "Requirement already satisfied: fsspec==0.8.4 in /usr/local/lib/python3.7/dist-packages (from -r requirements.txt (line 10)) (0.8.4)\n",
            "Requirement already satisfied: gcsfs==0.7.1 in /usr/local/lib/python3.7/dist-packages (from -r requirements.txt (line 11)) (0.7.1)\n",
            "Requirement already satisfied: numpy==1.19.5 in /usr/local/lib/python3.7/dist-packages (from -r requirements.txt (line 12)) (1.19.5)\n",
            "Requirement already satisfied: chardet<4,>=3.0.2 in /usr/local/lib/python3.7/dist-packages (from requests==2.25.0->-r requirements.txt (line 1)) (3.0.4)\n",
            "Requirement already satisfied: idna<3,>=2.5 in /usr/local/lib/python3.7/dist-packages (from requests==2.25.0->-r requirements.txt (line 1)) (2.10)\n",
            "Requirement already satisfied: certifi>=2017.4.17 in /usr/local/lib/python3.7/dist-packages (from requests==2.25.0->-r requirements.txt (line 1)) (2022.6.15)\n",
            "Requirement already satisfied: urllib3<1.27,>=1.21.1 in /usr/local/lib/python3.7/dist-packages (from requests==2.25.0->-r requirements.txt (line 1)) (1.24.3)\n",
            "Requirement already satisfied: typing-extensions in /usr/local/lib/python3.7/dist-packages (from uvicorn==0.12.2->-r requirements.txt (line 2)) (3.7.4.3)\n",
            "Requirement already satisfied: h11>=0.8 in /usr/local/lib/python3.7/dist-packages (from uvicorn==0.12.2->-r requirements.txt (line 2)) (0.13.0)\n",
            "Requirement already satisfied: click==7.* in /usr/local/lib/python3.7/dist-packages (from uvicorn==0.12.2->-r requirements.txt (line 2)) (7.1.2)\n",
            "Requirement already satisfied: starlette==0.13.6 in /usr/local/lib/python3.7/dist-packages (from fastapi==0.61.2->-r requirements.txt (line 3)) (0.13.6)\n",
            "Requirement already satisfied: pydantic<2.0.0,>=1.0.0 in /usr/local/lib/python3.7/dist-packages (from fastapi==0.61.2->-r requirements.txt (line 3)) (1.8.2)\n",
            "Requirement already satisfied: six in /usr/local/lib/python3.7/dist-packages (from h5py==2.10.0->-r requirements.txt (line 4)) (1.15.0)\n",
            "Requirement already satisfied: threadpoolctl>=2.0.0 in /usr/local/lib/python3.7/dist-packages (from scikit-learn==0.23.2->-r requirements.txt (line 5)) (3.1.0)\n",
            "Requirement already satisfied: joblib>=0.11 in /usr/local/lib/python3.7/dist-packages (from scikit-learn==0.23.2->-r requirements.txt (line 5)) (1.1.0)\n",
            "Requirement already satisfied: astor>=0.6.0 in /usr/local/lib/python3.7/dist-packages (from tensorflow==2.1.0->-r requirements.txt (line 7)) (0.8.1)\n",
            "Requirement already satisfied: tensorboard<2.2.0,>=2.1.0 in /usr/local/lib/python3.7/dist-packages (from tensorflow==2.1.0->-r requirements.txt (line 7)) (2.1.1)\n",
            "Requirement already satisfied: wrapt>=1.11.1 in /usr/local/lib/python3.7/dist-packages (from tensorflow==2.1.0->-r requirements.txt (line 7)) (1.14.1)\n",
            "Requirement already satisfied: grpcio>=1.8.6 in /usr/local/lib/python3.7/dist-packages (from tensorflow==2.1.0->-r requirements.txt (line 7)) (1.46.3)\n",
            "Requirement already satisfied: keras-applications>=1.0.8 in /usr/local/lib/python3.7/dist-packages (from tensorflow==2.1.0->-r requirements.txt (line 7)) (1.0.8)\n",
            "Requirement already satisfied: keras-preprocessing>=1.1.0 in /usr/local/lib/python3.7/dist-packages (from tensorflow==2.1.0->-r requirements.txt (line 7)) (1.1.2)\n",
            "Requirement already satisfied: wheel>=0.26 in /usr/local/lib/python3.7/dist-packages (from tensorflow==2.1.0->-r requirements.txt (line 7)) (0.37.1)\n",
            "Requirement already satisfied: opt-einsum>=2.3.2 in /usr/local/lib/python3.7/dist-packages (from tensorflow==2.1.0->-r requirements.txt (line 7)) (3.3.0)\n",
            "Requirement already satisfied: tensorflow-estimator<2.2.0,>=2.1.0rc0 in /usr/local/lib/python3.7/dist-packages (from tensorflow==2.1.0->-r requirements.txt (line 7)) (2.1.0)\n",
            "Requirement already satisfied: termcolor>=1.1.0 in /usr/local/lib/python3.7/dist-packages (from tensorflow==2.1.0->-r requirements.txt (line 7)) (1.1.0)\n",
            "Requirement already satisfied: gast==0.2.2 in /usr/local/lib/python3.7/dist-packages (from tensorflow==2.1.0->-r requirements.txt (line 7)) (0.2.2)\n",
            "Requirement already satisfied: google-pasta>=0.1.6 in /usr/local/lib/python3.7/dist-packages (from tensorflow==2.1.0->-r requirements.txt (line 7)) (0.2.0)\n",
            "Requirement already satisfied: absl-py>=0.7.0 in /usr/local/lib/python3.7/dist-packages (from tensorflow==2.1.0->-r requirements.txt (line 7)) (1.1.0)\n",
            "Requirement already satisfied: protobuf>=3.8.0 in /usr/local/lib/python3.7/dist-packages (from tensorflow==2.1.0->-r requirements.txt (line 7)) (3.17.3)\n",
            "Requirement already satisfied: smart-open>=1.2.1 in /usr/local/lib/python3.7/dist-packages (from gensim==3.6.0->-r requirements.txt (line 9)) (5.2.1)\n",
            "Requirement already satisfied: google-auth-oauthlib in /usr/local/lib/python3.7/dist-packages (from gcsfs==0.7.1->-r requirements.txt (line 11)) (0.4.6)\n",
            "Requirement already satisfied: decorator in /usr/local/lib/python3.7/dist-packages (from gcsfs==0.7.1->-r requirements.txt (line 11)) (4.4.2)\n",
            "Requirement already satisfied: google-auth>=1.2 in /usr/local/lib/python3.7/dist-packages (from gcsfs==0.7.1->-r requirements.txt (line 11)) (1.35.0)\n",
            "Requirement already satisfied: aiohttp in /usr/local/lib/python3.7/dist-packages (from gcsfs==0.7.1->-r requirements.txt (line 11)) (3.8.1)\n",
            "Requirement already satisfied: pyasn1-modules>=0.2.1 in /usr/local/lib/python3.7/dist-packages (from google-auth>=1.2->gcsfs==0.7.1->-r requirements.txt (line 11)) (0.2.8)\n",
            "Requirement already satisfied: cachetools<5.0,>=2.0.0 in /usr/local/lib/python3.7/dist-packages (from google-auth>=1.2->gcsfs==0.7.1->-r requirements.txt (line 11)) (3.1.1)\n",
            "Requirement already satisfied: setuptools>=40.3.0 in /usr/local/lib/python3.7/dist-packages (from google-auth>=1.2->gcsfs==0.7.1->-r requirements.txt (line 11)) (57.4.0)\n",
            "Requirement already satisfied: rsa<5,>=3.1.4 in /usr/local/lib/python3.7/dist-packages (from google-auth>=1.2->gcsfs==0.7.1->-r requirements.txt (line 11)) (4.8)\n",
            "Requirement already satisfied: pyasn1<0.5.0,>=0.4.6 in /usr/local/lib/python3.7/dist-packages (from pyasn1-modules>=0.2.1->google-auth>=1.2->gcsfs==0.7.1->-r requirements.txt (line 11)) (0.4.8)\n",
            "Requirement already satisfied: markdown>=2.6.8 in /usr/local/lib/python3.7/dist-packages (from tensorboard<2.2.0,>=2.1.0->tensorflow==2.1.0->-r requirements.txt (line 7)) (3.3.7)\n",
            "Requirement already satisfied: werkzeug>=0.11.15 in /usr/local/lib/python3.7/dist-packages (from tensorboard<2.2.0,>=2.1.0->tensorflow==2.1.0->-r requirements.txt (line 7)) (1.0.1)\n",
            "Requirement already satisfied: requests-oauthlib>=0.7.0 in /usr/local/lib/python3.7/dist-packages (from google-auth-oauthlib->gcsfs==0.7.1->-r requirements.txt (line 11)) (1.3.1)\n",
            "Requirement already satisfied: importlib-metadata>=4.4 in /usr/local/lib/python3.7/dist-packages (from markdown>=2.6.8->tensorboard<2.2.0,>=2.1.0->tensorflow==2.1.0->-r requirements.txt (line 7)) (4.11.4)\n",
            "Requirement already satisfied: zipp>=0.5 in /usr/local/lib/python3.7/dist-packages (from importlib-metadata>=4.4->markdown>=2.6.8->tensorboard<2.2.0,>=2.1.0->tensorflow==2.1.0->-r requirements.txt (line 7)) (3.8.0)\n",
            "Requirement already satisfied: oauthlib>=3.0.0 in /usr/local/lib/python3.7/dist-packages (from requests-oauthlib>=0.7.0->google-auth-oauthlib->gcsfs==0.7.1->-r requirements.txt (line 11)) (3.2.0)\n",
            "Requirement already satisfied: asynctest==0.13.0 in /usr/local/lib/python3.7/dist-packages (from aiohttp->gcsfs==0.7.1->-r requirements.txt (line 11)) (0.13.0)\n",
            "Requirement already satisfied: multidict<7.0,>=4.5 in /usr/local/lib/python3.7/dist-packages (from aiohttp->gcsfs==0.7.1->-r requirements.txt (line 11)) (6.0.2)\n",
            "Requirement already satisfied: frozenlist>=1.1.1 in /usr/local/lib/python3.7/dist-packages (from aiohttp->gcsfs==0.7.1->-r requirements.txt (line 11)) (1.3.0)\n",
            "Requirement already satisfied: aiosignal>=1.1.2 in /usr/local/lib/python3.7/dist-packages (from aiohttp->gcsfs==0.7.1->-r requirements.txt (line 11)) (1.2.0)\n",
            "Requirement already satisfied: async-timeout<5.0,>=4.0.0a3 in /usr/local/lib/python3.7/dist-packages (from aiohttp->gcsfs==0.7.1->-r requirements.txt (line 11)) (4.0.2)\n",
            "Requirement already satisfied: yarl<2.0,>=1.0 in /usr/local/lib/python3.7/dist-packages (from aiohttp->gcsfs==0.7.1->-r requirements.txt (line 11)) (1.7.2)\n",
            "Requirement already satisfied: charset-normalizer<3.0,>=2.0 in /usr/local/lib/python3.7/dist-packages (from aiohttp->gcsfs==0.7.1->-r requirements.txt (line 11)) (2.1.0)\n",
            "Requirement already satisfied: attrs>=17.3.0 in /usr/local/lib/python3.7/dist-packages (from aiohttp->gcsfs==0.7.1->-r requirements.txt (line 11)) (21.4.0)\n"
          ]
        }
      ]
    },
    {
      "cell_type": "code",
      "metadata": {
        "id": "IefrYp6tJ4PE",
        "colab": {
          "base_uri": "https://localhost:8080/"
        },
        "outputId": "7d2df34c-a70f-4a26-c4cd-89a039ac1960"
      },
      "source": [
        "! pip install pyngrok"
      ],
      "execution_count": 7,
      "outputs": [
        {
          "output_type": "stream",
          "name": "stdout",
          "text": [
            "Looking in indexes: https://pypi.org/simple, https://us-python.pkg.dev/colab-wheels/public/simple/\n",
            "Requirement already satisfied: pyngrok in /usr/local/lib/python3.7/dist-packages (5.1.0)\n",
            "Requirement already satisfied: PyYAML in /usr/local/lib/python3.7/dist-packages (from pyngrok) (6.0)\n"
          ]
        }
      ]
    },
    {
      "cell_type": "markdown",
      "metadata": {
        "id": "qNde3TEzCmjg"
      },
      "source": [
        "Para cuando estes modificando, probando y ejecutando ficheros os dejo en las celdas de abajo los comandos de git necesarios para interaccionar con vuestro repositorio en caso de que queráis:"
      ]
    },
    {
      "cell_type": "code",
      "metadata": {
        "id": "qsjWKcYZC6mm",
        "colab": {
          "base_uri": "https://localhost:8080/"
        },
        "outputId": "dc8c540c-dce9-41a7-bc63-a3a5a97926dc"
      },
      "source": [
        "! git status"
      ],
      "execution_count": 6,
      "outputs": [
        {
          "output_type": "stream",
          "name": "stdout",
          "text": [
            "On branch develop\n",
            "Your branch is up to date with 'origin/develop'.\n",
            "\n",
            "Untracked files:\n",
            "  (use \"git add <file>...\" to include in what will be committed)\n",
            "\n",
            "\t\u001b[31mapp/__pycache__/\u001b[m\n",
            "\t\u001b[31mapp/api/__pycache__/\u001b[m\n",
            "\t\u001b[31mapp/api/routes/__pycache__/\u001b[m\n",
            "\t\u001b[31mapp/core/__pycache__/\u001b[m\n",
            "\t\u001b[31mapp/models/__pycache__/\u001b[m\n",
            "\t\u001b[31mapp/services/__pycache__/\u001b[m\n",
            "\n",
            "nothing added to commit but untracked files present (use \"git add\" to track)\n"
          ]
        }
      ]
    },
    {
      "cell_type": "code",
      "metadata": {
        "id": "PuVHFtqvC8Kw"
      },
      "source": [
        "! git add <files>\n",
        "! git commit -m \"Nuevos cambios\"\n",
        "! git push origin master"
      ],
      "execution_count": null,
      "outputs": []
    },
    {
      "cell_type": "code",
      "source": [
        ""
      ],
      "metadata": {
        "id": "9OT9Jp1js3je"
      },
      "execution_count": null,
      "outputs": []
    },
    {
      "cell_type": "markdown",
      "metadata": {
        "id": "H88vcTU_DDpv"
      },
      "source": [
        "Será necesario definir y establecer la variable de entorno `DEFAULT_MODEL_PATH` para definir donde están almacenados nuestros modelos para hacer inferencia."
      ]
    },
    {
      "cell_type": "code",
      "metadata": {
        "id": "Tn9xsgx4u5xP"
      },
      "source": [
        "import os\n",
        "\n",
        "os.environ[\"DEFAULT_MODEL_PATH\"] = \"/content/batch/model/\""
      ],
      "execution_count": 7,
      "outputs": []
    },
    {
      "cell_type": "markdown",
      "metadata": {
        "id": "z-IslHWwDSTU"
      },
      "source": [
        "### Validación inferencia online en local (1.75 puntos)\n",
        "\n",
        "Se validará la correcta inferencia del microservio en local utilizando Swagger. Para ejecutar en local solo hay que ejecutar los comandos a continuación. Después, entrar en la URL proporcionada por ngrock `<ngrok_url>/docs` para acceder a swagger y probar la inferencia como vimos en clase."
      ]
    },
    {
      "cell_type": "code",
      "metadata": {
        "id": "81vGToBWJ_h-",
        "colab": {
          "base_uri": "https://localhost:8080/"
        },
        "outputId": "e1ca9087-941d-4100-91c5-26bca9704795"
      },
      "source": [
        "# For testing purposes\n",
        "import nest_asyncio\n",
        "from pyngrok import ngrok, conf\n",
        "conf.get_default().auth_token= '2BkKb34CzbnizgNNLCTbufaFYSJ_6nuimwZx2wAjfw6Na65GE'\n",
        "\n",
        "ngrok_tunnel = ngrok.connect(8501)\n",
        "\n",
        "print('Public URL:', ngrok_tunnel.public_url)\n",
        "nest_asyncio.apply()"
      ],
      "execution_count": 8,
      "outputs": [
        {
          "output_type": "stream",
          "name": "stdout",
          "text": [
            "Public URL: http://0e29-35-194-238-66.ngrok.io\n"
          ]
        }
      ]
    },
    {
      "cell_type": "code",
      "metadata": {
        "id": "hFeSh7rcuG7L",
        "colab": {
          "base_uri": "https://localhost:8080/"
        },
        "outputId": "6db5ca3e-2e23-4ee5-fdc1-9d3839af0248"
      },
      "source": [
        "! uvicorn app.main:app --port 8501"
      ],
      "execution_count": 9,
      "outputs": [
        {
          "output_type": "stream",
          "name": "stdout",
          "text": [
            "2022-07-10 10:08:00.785858: W tensorflow/stream_executor/platform/default/dso_loader.cc:55] Could not load dynamic library 'libnvinfer.so.6'; dlerror: libnvinfer.so.6: cannot open shared object file: No such file or directory; LD_LIBRARY_PATH: /usr/lib64-nvidia\n",
            "2022-07-10 10:08:00.785990: W tensorflow/stream_executor/platform/default/dso_loader.cc:55] Could not load dynamic library 'libnvinfer_plugin.so.6'; dlerror: libnvinfer_plugin.so.6: cannot open shared object file: No such file or directory; LD_LIBRARY_PATH: /usr/lib64-nvidia\n",
            "2022-07-10 10:08:00.786011: W tensorflow/compiler/tf2tensorrt/utils/py_utils.cc:30] Cannot dlopen some TensorRT libraries. If you would like to use Nvidia GPU with TensorRT, please make sure the missing libraries mentioned above are installed properly.\n",
            "\u001b[32mINFO\u001b[0m:     Started server process [\u001b[36m85561\u001b[0m]\n",
            "\u001b[32mINFO\u001b[0m:     Waiting for application startup.\n",
            "\u001b[32m2022-07-10 10:08:02.058\u001b[0m | \u001b[1mINFO    \u001b[0m | \u001b[36mapp.core.event_handlers\u001b[0m:\u001b[36mstartup\u001b[0m:\u001b[36m22\u001b[0m - \u001b[1mRunning app start handler.\u001b[0m\n",
            "2022-07-10 10:08:02.123787: I tensorflow/stream_executor/platform/default/dso_loader.cc:44] Successfully opened dynamic library libcuda.so.1\n",
            "2022-07-10 10:08:02.143211: I tensorflow/stream_executor/cuda/cuda_gpu_executor.cc:981] successful NUMA node read from SysFS had negative value (-1), but there must be at least one NUMA node, so returning NUMA node zero\n",
            "2022-07-10 10:08:02.144316: I tensorflow/core/common_runtime/gpu/gpu_device.cc:1555] Found device 0 with properties: \n",
            "pciBusID: 0000:00:04.0 name: Tesla P100-PCIE-16GB computeCapability: 6.0\n",
            "coreClock: 1.3285GHz coreCount: 56 deviceMemorySize: 15.90GiB deviceMemoryBandwidth: 681.88GiB/s\n",
            "2022-07-10 10:08:02.144866: I tensorflow/stream_executor/platform/default/dso_loader.cc:44] Successfully opened dynamic library libcudart.so.10.1\n",
            "2022-07-10 10:08:02.147199: I tensorflow/stream_executor/platform/default/dso_loader.cc:44] Successfully opened dynamic library libcublas.so.10\n",
            "2022-07-10 10:08:02.148538: I tensorflow/stream_executor/platform/default/dso_loader.cc:44] Successfully opened dynamic library libcufft.so.10\n",
            "2022-07-10 10:08:02.149015: I tensorflow/stream_executor/platform/default/dso_loader.cc:44] Successfully opened dynamic library libcurand.so.10\n",
            "2022-07-10 10:08:02.151431: I tensorflow/stream_executor/platform/default/dso_loader.cc:44] Successfully opened dynamic library libcusolver.so.10\n",
            "2022-07-10 10:08:02.152521: I tensorflow/stream_executor/platform/default/dso_loader.cc:44] Successfully opened dynamic library libcusparse.so.10\n",
            "2022-07-10 10:08:02.157670: I tensorflow/stream_executor/platform/default/dso_loader.cc:44] Successfully opened dynamic library libcudnn.so.7\n",
            "2022-07-10 10:08:02.157913: I tensorflow/stream_executor/cuda/cuda_gpu_executor.cc:981] successful NUMA node read from SysFS had negative value (-1), but there must be at least one NUMA node, so returning NUMA node zero\n",
            "2022-07-10 10:08:02.159092: I tensorflow/stream_executor/cuda/cuda_gpu_executor.cc:981] successful NUMA node read from SysFS had negative value (-1), but there must be at least one NUMA node, so returning NUMA node zero\n",
            "2022-07-10 10:08:02.160056: I tensorflow/core/common_runtime/gpu/gpu_device.cc:1697] Adding visible gpu devices: 0\n",
            "2022-07-10 10:08:02.160649: I tensorflow/core/platform/cpu_feature_guard.cc:142] Your CPU supports instructions that this TensorFlow binary was not compiled to use: AVX2 FMA\n",
            "2022-07-10 10:08:02.170018: I tensorflow/core/platform/profile_utils/cpu_utils.cc:94] CPU Frequency: 2299995000 Hz\n",
            "2022-07-10 10:08:02.170885: I tensorflow/compiler/xla/service/service.cc:168] XLA service 0x149aa00 initialized for platform Host (this does not guarantee that XLA will be used). Devices:\n",
            "2022-07-10 10:08:02.170948: I tensorflow/compiler/xla/service/service.cc:176]   StreamExecutor device (0): Host, Default Version\n",
            "2022-07-10 10:08:02.485192: I tensorflow/stream_executor/cuda/cuda_gpu_executor.cc:981] successful NUMA node read from SysFS had negative value (-1), but there must be at least one NUMA node, so returning NUMA node zero\n",
            "2022-07-10 10:08:02.486670: I tensorflow/compiler/xla/service/service.cc:168] XLA service 0x149abc0 initialized for platform CUDA (this does not guarantee that XLA will be used). Devices:\n",
            "2022-07-10 10:08:02.486728: I tensorflow/compiler/xla/service/service.cc:176]   StreamExecutor device (0): Tesla P100-PCIE-16GB, Compute Capability 6.0\n",
            "2022-07-10 10:08:02.487023: I tensorflow/stream_executor/cuda/cuda_gpu_executor.cc:981] successful NUMA node read from SysFS had negative value (-1), but there must be at least one NUMA node, so returning NUMA node zero\n",
            "2022-07-10 10:08:02.488011: I tensorflow/core/common_runtime/gpu/gpu_device.cc:1555] Found device 0 with properties: \n",
            "pciBusID: 0000:00:04.0 name: Tesla P100-PCIE-16GB computeCapability: 6.0\n",
            "coreClock: 1.3285GHz coreCount: 56 deviceMemorySize: 15.90GiB deviceMemoryBandwidth: 681.88GiB/s\n",
            "2022-07-10 10:08:02.488124: I tensorflow/stream_executor/platform/default/dso_loader.cc:44] Successfully opened dynamic library libcudart.so.10.1\n",
            "2022-07-10 10:08:02.488172: I tensorflow/stream_executor/platform/default/dso_loader.cc:44] Successfully opened dynamic library libcublas.so.10\n",
            "2022-07-10 10:08:02.488198: I tensorflow/stream_executor/platform/default/dso_loader.cc:44] Successfully opened dynamic library libcufft.so.10\n",
            "2022-07-10 10:08:02.488224: I tensorflow/stream_executor/platform/default/dso_loader.cc:44] Successfully opened dynamic library libcurand.so.10\n",
            "2022-07-10 10:08:02.488246: I tensorflow/stream_executor/platform/default/dso_loader.cc:44] Successfully opened dynamic library libcusolver.so.10\n",
            "2022-07-10 10:08:02.488267: I tensorflow/stream_executor/platform/default/dso_loader.cc:44] Successfully opened dynamic library libcusparse.so.10\n",
            "2022-07-10 10:08:02.488290: I tensorflow/stream_executor/platform/default/dso_loader.cc:44] Successfully opened dynamic library libcudnn.so.7\n",
            "2022-07-10 10:08:02.488400: I tensorflow/stream_executor/cuda/cuda_gpu_executor.cc:981] successful NUMA node read from SysFS had negative value (-1), but there must be at least one NUMA node, so returning NUMA node zero\n",
            "2022-07-10 10:08:02.489434: I tensorflow/stream_executor/cuda/cuda_gpu_executor.cc:981] successful NUMA node read from SysFS had negative value (-1), but there must be at least one NUMA node, so returning NUMA node zero\n",
            "2022-07-10 10:08:02.490381: I tensorflow/core/common_runtime/gpu/gpu_device.cc:1697] Adding visible gpu devices: 0\n",
            "2022-07-10 10:08:02.490504: I tensorflow/stream_executor/platform/default/dso_loader.cc:44] Successfully opened dynamic library libcudart.so.10.1\n",
            "2022-07-10 10:08:02.492217: I tensorflow/core/common_runtime/gpu/gpu_device.cc:1096] Device interconnect StreamExecutor with strength 1 edge matrix:\n",
            "2022-07-10 10:08:02.492266: I tensorflow/core/common_runtime/gpu/gpu_device.cc:1102]      0 \n",
            "2022-07-10 10:08:02.492283: I tensorflow/core/common_runtime/gpu/gpu_device.cc:1115] 0:   N \n",
            "2022-07-10 10:08:02.492466: I tensorflow/stream_executor/cuda/cuda_gpu_executor.cc:981] successful NUMA node read from SysFS had negative value (-1), but there must be at least one NUMA node, so returning NUMA node zero\n",
            "2022-07-10 10:08:02.493511: I tensorflow/stream_executor/cuda/cuda_gpu_executor.cc:981] successful NUMA node read from SysFS had negative value (-1), but there must be at least one NUMA node, so returning NUMA node zero\n",
            "2022-07-10 10:08:02.494465: W tensorflow/core/common_runtime/gpu/gpu_bfc_allocator.cc:39] Overriding allow_growth setting because the TF_FORCE_GPU_ALLOW_GROWTH environment variable is set. Original config value was 0.\n",
            "2022-07-10 10:08:02.494541: I tensorflow/core/common_runtime/gpu/gpu_device.cc:1241] Created TensorFlow device (/job:localhost/replica:0/task:0/device:GPU:0 with 15224 MB memory) -> physical GPU (device: 0, name: Tesla P100-PCIE-16GB, pci bus id: 0000:00:04.0, compute capability: 6.0)\n",
            "\u001b[32mINFO\u001b[0m:     Application startup complete.\n",
            "\u001b[32mINFO\u001b[0m:     Uvicorn running on \u001b[1mhttp://127.0.0.1:8501\u001b[0m (Press CTRL+C to quit)\n",
            "\u001b[32mINFO\u001b[0m:     Shutting down\n",
            "\u001b[32mINFO\u001b[0m:     Finished server process [\u001b[36m85561\u001b[0m]\n"
          ]
        }
      ]
    },
    {
      "cell_type": "markdown",
      "metadata": {
        "id": "fuLtOjukEMIl"
      },
      "source": [
        "### Validación inferencia online en GCP (1.75 puntos)\n",
        "\n",
        "Se validará el correcto funcionamiento del microservicio haciendo una petición POST de inferencia a través de curl al microservicio desplegado en GCP."
      ]
    },
    {
      "cell_type": "markdown",
      "source": [
        ""
      ],
      "metadata": {
        "id": "vKxr-clgS-b_"
      }
    },
    {
      "cell_type": "markdown",
      "metadata": {
        "id": "MX1MiTGuD2KS"
      },
      "source": [
        "Primero, contruiremos una imagen Docker con el microservicio y subiremos el desarrollo al Container Repository en GCP a través de Cloud Build."
      ]
    },
    {
      "cell_type": "code",
      "metadata": {
        "id": "PRhq-d_E7-CY",
        "colab": {
          "base_uri": "https://localhost:8080/"
        },
        "outputId": "43540b2f-d6df-43e9-bfff-e5282c5976a6"
      },
      "source": [
        "! gcloud builds submit --tag gcr.io/$PROJECT_ID/troll-detection-online-service"
      ],
      "execution_count": 14,
      "outputs": [
        {
          "output_type": "stream",
          "name": "stdout",
          "text": [
            "Creating temporary tarball archive of 39 file(s) totalling 15.7 KiB before compression.\n",
            "Uploading tarball of [.] to [gs://concise-emblem-355600_cloudbuild/source/1657445553.880645-e90557aa134847d7a9d206cabd323812.tgz]\n",
            "Created [https://cloudbuild.googleapis.com/v1/projects/concise-emblem-355600/locations/global/builds/3aa2bd9e-719e-48ba-b28d-3ff0e1af083a].\n",
            "Logs are available at [https://console.cloud.google.com/cloud-build/builds/3aa2bd9e-719e-48ba-b28d-3ff0e1af083a?project=784409662071].\n",
            " REMOTE BUILD OUTPUT\n",
            "starting build \"3aa2bd9e-719e-48ba-b28d-3ff0e1af083a\"\n",
            "\n",
            "FETCHSOURCE\n",
            "Fetching storage object: gs://concise-emblem-355600_cloudbuild/source/1657445553.880645-e90557aa134847d7a9d206cabd323812.tgz#1657445554586632\n",
            "Copying gs://concise-emblem-355600_cloudbuild/source/1657445553.880645-e90557aa134847d7a9d206cabd323812.tgz#1657445554586632...\n",
            "/ [1 files][  6.8 KiB/  6.8 KiB]                                                \n",
            "Operation completed over 1 objects/6.8 KiB.\n",
            "BUILD\n",
            "Already have image (with digest): gcr.io/cloud-builders/docker\n",
            "invalid argument \"gcr.io//troll-detection-online-service\" for \"-t, --tag\" flag: invalid reference format\n",
            "See 'docker build --help'.\n",
            "ERROR\n",
            "ERROR: build step 0 \"gcr.io/cloud-builders/docker\" failed: step exited with non-zero status: 125\n",
            "\n",
            "\n",
            "BUILD FAILURE: Build step failure: build step 0 \"gcr.io/cloud-builders/docker\" failed: step exited with non-zero status: 125\n",
            "\u001b[1;31mERROR:\u001b[0m (gcloud.builds.submit) build 3aa2bd9e-719e-48ba-b28d-3ff0e1af083a completed with status \"FAILURE\"\n"
          ]
        }
      ]
    },
    {
      "cell_type": "markdown",
      "metadata": {
        "id": "aYVptQ0WEEd-"
      },
      "source": [
        "Desplegaremos la imagen Docker generada en el Container Registry en el servicio de Cloud Run. Después, validaremos que las inferencias funcionan en GCP usando el comando mostrado a continuación:"
      ]
    },
    {
      "cell_type": "code",
      "metadata": {
        "id": "KC0honui-W23",
        "colab": {
          "base_uri": "https://localhost:8080/"
        },
        "outputId": "24e61b57-c1c2-4678-9a37-5c39c724f954"
      },
      "source": [
        "! curl -X POST \"https://troll-detection-service-g2v7skqfeq-uc.a.run.app/api/model/predict\" -H  \"accept: application/json\" -H  \"Content-Type: application/json\" -d \"{\\\"text\\\":\\\"i hate you\\\"}\""
      ],
      "execution_count": 19,
      "outputs": [
        {
          "output_type": "stream",
          "name": "stdout",
          "text": [
            "{\"label\":\"NO_TROLL\",\"score\":0.40702152252197266,\"elapsed_time\":0.7069370746612549}"
          ]
        }
      ]
    },
    {
      "cell_type": "markdown",
      "metadata": {
        "id": "ZvBWPoGGKwuJ"
      },
      "source": [
        "# Detección de Trolls en Twitch en Streaming\n",
        "\n",
        "En esta última parte de la práctica se realizará un pipeline de inferencia en tiempo real de un chat de Twitch alcualmente en vivo. Para ello, usaremos mi canal de Twitch `https://www.twitch.tv/franalgaba` donde tengo un bot deplegado poniendo mensajes troll y no troll de forma aleatoria del dataset que hemos usado en la primera parte.\n",
        "\n",
        "Para acceder al chat de Twitch os proporciono el conector correspondiente que será desplegado como Cloud Function como hicimos en clase y usando mis credenciales recogerá los mensajes del chat y los enviará a un topic de Pub/Sub en GCP. Después, desarrollarás un job en streaming de Dataflow con el que leerás esos mensajes de Pub/sub, los mandarás a tu microservicio de inferencia para que haga las predicciones y enviarás los resultados a un nuevo tópico de Pub/Sub.\n",
        "\n",
        "Los siguientes pasos es obligatorio realizarlos para seguir con la práctica.\n",
        "\n",
        "debemos hábilitar las apis\n",
        "\n",
        "    Habilita la API de Google Cloud Pub/Sub. \n",
        "    Habilita la API de Google Cloud Function.\n",
        "\n",
        "A continuación os dejo un diagrama con la arquitectura que se va a desarrollar:\n",
        "\n",
        "![streaming_diagram](https://drive.google.com/uc?export=view&id=1TEBPPc9ZF09IM5iGq9FwGAx9PVzAYNPg)"
      ]
    },
    {
      "cell_type": "markdown",
      "metadata": {
        "id": "Yw3oY8n5GjuU"
      },
      "source": [
        "Primero, creamos el publisher que será el encargado de recoger los mensajes de Twitch y enviarlos a Pub/Sub. Esto os lo doy yo desarrollado, sólo tendréis que desplegarlo en una Cloud Function."
      ]
    },
    {
      "cell_type": "code",
      "metadata": {
        "id": "HH8WcRKrKwKy"
      },
      "source": [
        "%mkdir -p /content/streaming/publisher"
      ],
      "execution_count": 8,
      "outputs": []
    },
    {
      "cell_type": "code",
      "metadata": {
        "id": "75whqxX7K54B",
        "colab": {
          "base_uri": "https://localhost:8080/"
        },
        "outputId": "d8900ebf-ccc4-4a25-af54-4863d98c7442"
      },
      "source": [
        "# Execute after restart\n",
        "%cd /content/streaming/publisher"
      ],
      "execution_count": 9,
      "outputs": [
        {
          "output_type": "stream",
          "name": "stdout",
          "text": [
            "/content/streaming/publisher\n"
          ]
        }
      ]
    },
    {
      "cell_type": "code",
      "metadata": {
        "id": "jyOecviAK8QO",
        "colab": {
          "base_uri": "https://localhost:8080/"
        },
        "outputId": "ae00b47c-4a72-4c7e-efc8-aa3b9070151e"
      },
      "source": [
        "%%writefile requirements.txt\n",
        "\n",
        "twitchio==1.2.3\n",
        "loguru==0.5.3\n",
        "google-cloud-pubsub==2.1.0"
      ],
      "execution_count": 3,
      "outputs": [
        {
          "output_type": "stream",
          "name": "stdout",
          "text": [
            "Writing requirements.txt\n"
          ]
        }
      ]
    },
    {
      "cell_type": "markdown",
      "source": [
        "# **con el main que nos diste no podia hacer que es vieran los mensajes , me salian errores , así que decidí poner el de la práctica de strem que vimos en clase **"
      ],
      "metadata": {
        "id": "6V9EZrZYKPmU"
      }
    },
    {
      "cell_type": "code",
      "metadata": {
        "id": "z-pnzR-jMkZ4",
        "colab": {
          "base_uri": "https://localhost:8080/"
        },
        "outputId": "2d55aae2-db80-4eac-9578-dd1100d47168"
      },
      "source": [
        "%%writefile main.py\n",
        "import os\n",
        "\n",
        "from google.cloud import pubsub_v1\n",
        "from tweepy import OAuthHandler, Stream, API\n",
        "from tweepy.streaming import StreamListener\n",
        "from loguru import logger\n",
        "\n",
        "# Get your twitter credentials from the environment variables.\n",
        "CONSUMER_KEY = os.getenv(\"CONSUMER_KEY\")\n",
        "CONSUMER_SECRET = os.getenv(\"CONSUMER_SECRET\")\n",
        "\n",
        "ACCESS_TOKEN = os.getenv(\"ACCESS_TOKEN\")\n",
        "ACESSS_TOKEN_SECRET = os.getenv(\"ACESSS_TOKEN_SECRET\")\n",
        "\n",
        "PROJECT_ID = os.getenv(\"PROJECT_ID\")\n",
        "TOPIC_NAME = os.getenv(\"TOPIC_NAME\")\n",
        "\n",
        "TOPIC_PATH = f\"projects/{PROJECT_ID}/topics/{TOPIC_NAME}\"\n",
        "\n",
        "publisher = pubsub_v1.PublisherClient()\n",
        "\n",
        "\n",
        "class MyStreamListener(StreamListener):\n",
        "\n",
        "    count = 0\n",
        "    total_tweets = 100\n",
        "\n",
        "    def __init__(self, debug: bool=False):\n",
        "        super().__init__()\n",
        "        self.debug = debug\n",
        "\n",
        "    def publish_tweet(self, text):\n",
        "        publisher.publish(TOPIC_PATH, str.encode(text))\n",
        "\n",
        "    def on_status(self, status):\n",
        "\n",
        "        keep_going = True\n",
        "\n",
        "        if hasattr(status, \"retweeted_status\"):  # Check if Retweet\n",
        "            try:\n",
        "                text = status.retweeted_status.extended_tweet[\"full_text\"]\n",
        "            except AttributeError:\n",
        "                text = status.retweeted_status.text\n",
        "        else:\n",
        "            try:\n",
        "                text = status.extended_tweet[\"full_text\"]\n",
        "            except AttributeError:\n",
        "                text = status.text\n",
        "\n",
        "        logger.info(text)\n",
        "        if not self.debug:\n",
        "            self.publish_tweet(text)\n",
        "\n",
        "        self.count += 1\n",
        "        if self.count > self.total_tweets:\n",
        "            keep_going = False\n",
        "        return keep_going\n",
        "\n",
        "    def on_error(self, status_code):\n",
        "        if status_code == 420:\n",
        "            # returning False in on_error disconnects the stream\n",
        "            return False\n",
        "\n",
        "\n",
        "def main(request):\n",
        "\n",
        "    topic_name = f\"projects/{PROJECT_ID}/topics/{TOPIC_NAME}\"\n",
        "    # publisher.create_topic(topic_name)\n",
        "\n",
        "    request_json = request.get_json(silent=True)\n",
        "\n",
        "    if request_json and \"filter\" in request_json:\n",
        "      filter = request_json[\"filter\"]\n",
        "    else:\n",
        "      raise ValueError(\"JSON is invalid, or missing a 'filter' property\")\n",
        "    \n",
        "    logger.info(\"Creating OAuth...\")\n",
        "    auth = OAuthHandler(CONSUMER_KEY, CONSUMER_SECRET)\n",
        "    auth.set_access_token(ACCESS_TOKEN, ACESSS_TOKEN_SECRET)\n",
        "    api = API(auth)\n",
        "\n",
        "    logger.info(\"Starting listener...\")\n",
        "    if \"debug\" in request_json and isinstance(request_json[\"debug\"], bool):\n",
        "        logger.info(f\"Debug mode: {request_json['debug']}\")\n",
        "        myStreamListener = MyStreamListener(request_json[\"debug\"])\n",
        "    else:\n",
        "        myStreamListener = MyStreamListener()\n",
        "\n",
        "    myStream = Stream(auth=api.auth, listener=myStreamListener)\n",
        "    logger.info(f\"Recieved filter: {filter}\")\n",
        "    myStream.filter(track=[filter])"
      ],
      "execution_count": 4,
      "outputs": [
        {
          "output_type": "stream",
          "name": "stdout",
          "text": [
            "Writing main.py\n"
          ]
        }
      ]
    },
    {
      "cell_type": "code",
      "source": [
        "import os\n",
        "\n",
        "os.environ[\"CONSUMER_KEY\"] = \"WrebfpkAkPTGMt08RTbUGgOaC\"\n",
        "os.environ[\"CONSUMER_SECRET\"] = \"KPdZ4Nrevvs0HCybs6MS7hFK8Dq3ii3NjdKikxarl345wQSB6C\"\n",
        "os.environ[\"ACCESS_TOKEN\"] = \"356163876-cPmkCMf1etSRisw8XJZjO79rtBz6YBa6OAhauC1h\"\n",
        "os.environ[\"ACESSS_TOKEN_SECRET\"] = \"CYlJ51K7Ie1lUYs0zBRWkHW1eI2IXm4iq0ROFmhCrV3ww\"\n",
        "os.environ[\"TOPIC_NAME\"] = \"tweets\"\n",
        "os.environ[\"PROJECT_ID\"] = PROJECT_ID"
      ],
      "metadata": {
        "id": "0vxlysoYuqhu"
      },
      "execution_count": 5,
      "outputs": []
    },
    {
      "cell_type": "code",
      "source": [
        "!pip install nest_asyncio\n",
        "import nest_asyncio\n",
        "nest_asyncio.apply()"
      ],
      "metadata": {
        "colab": {
          "base_uri": "https://localhost:8080/"
        },
        "id": "7JZwXkibEKVA",
        "outputId": "7f32f3a4-14b3-4407-afdd-ccbc581efd4b"
      },
      "execution_count": 21,
      "outputs": [
        {
          "output_type": "stream",
          "name": "stdout",
          "text": [
            "Looking in indexes: https://pypi.org/simple, https://us-python.pkg.dev/colab-wheels/public/simple/\n",
            "Requirement already satisfied: nest_asyncio in /usr/local/lib/python3.7/dist-packages (1.5.5)\n"
          ]
        }
      ]
    },
    {
      "cell_type": "markdown",
      "source": [
        "Lo primero que debemos hacer es crear el topic, para ello ya hemos habilitado en cloud el servicio llamado pub/sub que es donde se crean los topicos\n",
        "![imagen.png](data:image/png;base64,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)\n",
        "\n",
        "y se crea el subscriber automáticamente\n",
        "\n",
        "![imagen.png](data:image/png;base64,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)"
      ],
      "metadata": {
        "id": "26KOO5b8K9-6"
      }
    },
    {
      "cell_type": "code",
      "source": [
        "# For printing gathered tweets in Colab\n",
        "\n",
        "from main import main\n",
        "\n",
        "class ResponseMock():\n",
        "\n",
        "  def __init__(self, data):\n",
        "    self.data = data\n",
        "\n",
        "  def get_json(self, silent):\n",
        "    return self.data\n",
        "\n",
        "main(ResponseMock({\"filter\": \"shakira\", \"debug\": True}))"
      ],
      "metadata": {
        "colab": {
          "base_uri": "https://localhost:8080/",
          "height": 1000
        },
        "id": "RgnZSKSGD2vH",
        "outputId": "0378fb12-b4d1-4bf6-f9e8-a3a27d7e90c8"
      },
      "execution_count": 6,
      "outputs": [
        {
          "output_type": "stream",
          "name": "stderr",
          "text": [
            "2022-07-10 12:49:20.448 | INFO     | main:main:77 - Creating OAuth...\n",
            "2022-07-10 12:49:20.450 | INFO     | main:main:82 - Starting listener...\n",
            "2022-07-10 12:49:20.451 | INFO     | main:main:84 - Debug mode: True\n",
            "2022-07-10 12:49:20.454 | INFO     | main:main:90 - Recieved filter: shakira\n",
            "2022-07-10 12:49:28.214 | INFO     | main:on_status:50 - .@Shakira &amp; @rihanna’s \"Can’t Remember To Forget You\" is now charting on @Shazam in 27 countries:\n",
            "\n",
            "🌍 Global — #144 [RE]\n",
            "\n",
            "🇧🇷 Brazil — #65 [+74]\n",
            "🇩🇪 Germany — #101 [RE]\n",
            "🇮🇹 Italy — #152 [RE]\n",
            "🇹🇷 Turkiye —  #180 [RE]\n",
            "🇨🇦 Canada — # 189 [RE] https://t.co/LSwkNqVDYd\n",
            "2022-07-10 12:49:32.505 | INFO     | main:on_status:50 - Baforei tanto essa na época. Passava todo dia no TVZ. https://t.co/JzpuKmwO8k\n",
            "2022-07-10 12:49:54.462 | INFO     | main:on_status:50 - Shakira sonho de muitas a 4 décadas sendo a maior de toda América latina\n",
            "2022-07-10 12:49:58.517 | INFO     | main:on_status:50 - .@bep, @shakira, and @davidguetta's \"Don't You Worry\" has reached 40 MILLION views on YouTube.\n",
            "\n",
            "🛸 Watch: https://t.co/uJMBJF1RHA https://t.co/opTYomyMiZ\n",
            "2022-07-10 12:50:03.094 | INFO     | main:on_status:50 - DON'T YOU WORRY de @bep + @shakira y @davidguetta alcanza 40 MILLONES de visualizaciones en @YouTube.\n",
            "\n",
            "Ver vídeo:https://t.co/8xHKdUySzs\n",
            "\n",
            "#Shakira #DontYouWorry\n",
            "@TabBep @apldeap @iamwill \n",
            "@sonymusic @EpicRecords https://t.co/NlkxU6KyHO\n",
            "2022-07-10 12:50:30.728 | INFO     | main:on_status:50 - Mama eee\n",
            "Rebo Akomi munene boye \n",
            "\n",
            "Abebi ein!\n",
            "Akomi mataku mayi mayi 🙄\n",
            "Evimbi neti alati couche \n",
            "Cedi-Akua ?  🙄 \n",
            "Ba star congolais \n",
            "Bo zuaka soin ya ba ndjoto na bino \n",
            "Bo landa ekzemple \n",
            "ya Rihanna na Shakira \n",
            "\n",
            "Suite …\n",
            "https://t.co/9PEdCgqBy2 https://t.co/kMLkQkRG54\n",
            "2022-07-10 12:50:37.571 | INFO     | main:on_status:50 - si ya flipaba con los cuernos a Shakira pues imagínate a Carla flilia\n",
            "2022-07-10 12:50:52.861 | INFO     | main:on_status:50 - Quem será que vai fazer o papel da mãe do Gavi (sei que aparentemente é mentira, mas deixa o enredo mais interessante)?\n",
            "\n",
            "https://t.co/xJjep9jGFK\n",
            "2022-07-10 12:50:55.783 | INFO     | main:on_status:50 - Finally!!! 😍😍\n",
            "Did Vernon just looked more younger and more handsome?? Aside from shaking his booty like a Shakira plus the Swag \n",
            "\n",
            "#세븐틴 #VERNON #SEVENTEEN #버논 @pledis_17 \n",
            " https://t.co/6t1mtezD9p\n",
            "2022-07-10 12:51:01.723 | INFO     | main:on_status:50 - 🌎 | Daily Top Artists Global\n",
            "\n",
            "— #32 (+4) ↑ Shakira.\n",
            "— 262 dias no chart.\n",
            "— Escute: https://t.co/VTmFpFTmI3 https://t.co/mEkNWbzOVH\n",
            "2022-07-10 12:51:14.335 | INFO     | main:on_status:50 - Most streamed female artists on Spotify on Friday (Jul. 8, 2022):\n",
            "\n",
            "#1 @taylorswift13 29.9M\n",
            "#2 @DojaCat 16.8M\n",
            "#3 @DuaLipa 16.6M\n",
            "#4 @billieeilish 13.4M\n",
            "#5 @ArianaGrande 13.2M\n",
            "#6 @karolg 12.6M\n",
            "#7 @rihanna 10.4M\n",
            "#8 @shakira 10.2M\n",
            "#9 @oliviarodrigo 10M\n",
            "#10 @ladygaga 9.4M\n",
            "2022-07-10 12:51:14.479 | INFO     | main:on_status:50 - 13 years ago today, Shakira released ‘She Wolf.’\n",
            "\n",
            "The classic went on to become one of her signature tracks and an international hit, peaking at #4 in the UK and #11 in the US. The track was praised by critics for its inventiveness and her delivery. https://t.co/J2aGusxyoG\n"
          ]
        },
        {
          "output_type": "error",
          "ename": "KeyboardInterrupt",
          "evalue": "ignored",
          "traceback": [
            "\u001b[0;31m---------------------------------------------------------------------------\u001b[0m",
            "\u001b[0;31mKeyboardInterrupt\u001b[0m                         Traceback (most recent call last)",
            "\u001b[0;32m<ipython-input-6-68bc69887f88>\u001b[0m in \u001b[0;36m<module>\u001b[0;34m()\u001b[0m\n\u001b[1;32m     11\u001b[0m     \u001b[0;32mreturn\u001b[0m \u001b[0mself\u001b[0m\u001b[0;34m.\u001b[0m\u001b[0mdata\u001b[0m\u001b[0;34m\u001b[0m\u001b[0;34m\u001b[0m\u001b[0m\n\u001b[1;32m     12\u001b[0m \u001b[0;34m\u001b[0m\u001b[0m\n\u001b[0;32m---> 13\u001b[0;31m \u001b[0mmain\u001b[0m\u001b[0;34m(\u001b[0m\u001b[0mResponseMock\u001b[0m\u001b[0;34m(\u001b[0m\u001b[0;34m{\u001b[0m\u001b[0;34m\"filter\"\u001b[0m\u001b[0;34m:\u001b[0m \u001b[0;34m\"shakira\"\u001b[0m\u001b[0;34m,\u001b[0m \u001b[0;34m\"debug\"\u001b[0m\u001b[0;34m:\u001b[0m \u001b[0;32mTrue\u001b[0m\u001b[0;34m}\u001b[0m\u001b[0;34m)\u001b[0m\u001b[0;34m)\u001b[0m\u001b[0;34m\u001b[0m\u001b[0;34m\u001b[0m\u001b[0m\n\u001b[0m",
            "\u001b[0;32m/content/main.py\u001b[0m in \u001b[0;36mmain\u001b[0;34m(request)\u001b[0m\n\u001b[1;32m     89\u001b[0m     \u001b[0mmyStream\u001b[0m \u001b[0;34m=\u001b[0m \u001b[0mStream\u001b[0m\u001b[0;34m(\u001b[0m\u001b[0mauth\u001b[0m\u001b[0;34m=\u001b[0m\u001b[0mapi\u001b[0m\u001b[0;34m.\u001b[0m\u001b[0mauth\u001b[0m\u001b[0;34m,\u001b[0m \u001b[0mlistener\u001b[0m\u001b[0;34m=\u001b[0m\u001b[0mmyStreamListener\u001b[0m\u001b[0;34m)\u001b[0m\u001b[0;34m\u001b[0m\u001b[0;34m\u001b[0m\u001b[0m\n\u001b[1;32m     90\u001b[0m     \u001b[0mlogger\u001b[0m\u001b[0;34m.\u001b[0m\u001b[0minfo\u001b[0m\u001b[0;34m(\u001b[0m\u001b[0;34mf\"Recieved filter: {filter}\"\u001b[0m\u001b[0;34m)\u001b[0m\u001b[0;34m\u001b[0m\u001b[0;34m\u001b[0m\u001b[0m\n\u001b[0;32m---> 91\u001b[0;31m     \u001b[0mmyStream\u001b[0m\u001b[0;34m.\u001b[0m\u001b[0mfilter\u001b[0m\u001b[0;34m(\u001b[0m\u001b[0mtrack\u001b[0m\u001b[0;34m=\u001b[0m\u001b[0;34m[\u001b[0m\u001b[0mfilter\u001b[0m\u001b[0;34m]\u001b[0m\u001b[0;34m)\u001b[0m\u001b[0;34m\u001b[0m\u001b[0;34m\u001b[0m\u001b[0m\n\u001b[0m",
            "\u001b[0;32m/usr/local/lib/python3.7/dist-packages/tweepy/streaming.py\u001b[0m in \u001b[0;36mfilter\u001b[0;34m(self, follow, track, is_async, locations, stall_warnings, languages, encoding, filter_level)\u001b[0m\n\u001b[1;32m    472\u001b[0m             \u001b[0mself\u001b[0m\u001b[0;34m.\u001b[0m\u001b[0mbody\u001b[0m\u001b[0;34m[\u001b[0m\u001b[0;34m'filter_level'\u001b[0m\u001b[0;34m]\u001b[0m \u001b[0;34m=\u001b[0m \u001b[0mfilter_level\u001b[0m\u001b[0;34m.\u001b[0m\u001b[0mencode\u001b[0m\u001b[0;34m(\u001b[0m\u001b[0mencoding\u001b[0m\u001b[0;34m)\u001b[0m\u001b[0;34m\u001b[0m\u001b[0;34m\u001b[0m\u001b[0m\n\u001b[1;32m    473\u001b[0m         \u001b[0mself\u001b[0m\u001b[0;34m.\u001b[0m\u001b[0msession\u001b[0m\u001b[0;34m.\u001b[0m\u001b[0mparams\u001b[0m \u001b[0;34m=\u001b[0m \u001b[0;34m{\u001b[0m\u001b[0;34m'delimited'\u001b[0m\u001b[0;34m:\u001b[0m \u001b[0;34m'length'\u001b[0m\u001b[0;34m}\u001b[0m\u001b[0;34m\u001b[0m\u001b[0;34m\u001b[0m\u001b[0m\n\u001b[0;32m--> 474\u001b[0;31m         \u001b[0mself\u001b[0m\u001b[0;34m.\u001b[0m\u001b[0m_start\u001b[0m\u001b[0;34m(\u001b[0m\u001b[0mis_async\u001b[0m\u001b[0;34m)\u001b[0m\u001b[0;34m\u001b[0m\u001b[0;34m\u001b[0m\u001b[0m\n\u001b[0m\u001b[1;32m    475\u001b[0m \u001b[0;34m\u001b[0m\u001b[0m\n\u001b[1;32m    476\u001b[0m     def sitestream(self, follow, stall_warnings=False,\n",
            "\u001b[0;32m/usr/local/lib/python3.7/dist-packages/tweepy/streaming.py\u001b[0m in \u001b[0;36m_start\u001b[0;34m(self, is_async)\u001b[0m\n\u001b[1;32m    387\u001b[0m             \u001b[0mself\u001b[0m\u001b[0;34m.\u001b[0m\u001b[0m_thread\u001b[0m\u001b[0;34m.\u001b[0m\u001b[0mstart\u001b[0m\u001b[0;34m(\u001b[0m\u001b[0;34m)\u001b[0m\u001b[0;34m\u001b[0m\u001b[0;34m\u001b[0m\u001b[0m\n\u001b[1;32m    388\u001b[0m         \u001b[0;32melse\u001b[0m\u001b[0;34m:\u001b[0m\u001b[0;34m\u001b[0m\u001b[0;34m\u001b[0m\u001b[0m\n\u001b[0;32m--> 389\u001b[0;31m             \u001b[0mself\u001b[0m\u001b[0;34m.\u001b[0m\u001b[0m_run\u001b[0m\u001b[0;34m(\u001b[0m\u001b[0;34m)\u001b[0m\u001b[0;34m\u001b[0m\u001b[0;34m\u001b[0m\u001b[0m\n\u001b[0m\u001b[1;32m    390\u001b[0m \u001b[0;34m\u001b[0m\u001b[0m\n\u001b[1;32m    391\u001b[0m     \u001b[0;32mdef\u001b[0m \u001b[0mon_closed\u001b[0m\u001b[0;34m(\u001b[0m\u001b[0mself\u001b[0m\u001b[0;34m,\u001b[0m \u001b[0mresp\u001b[0m\u001b[0;34m)\u001b[0m\u001b[0;34m:\u001b[0m\u001b[0;34m\u001b[0m\u001b[0;34m\u001b[0m\u001b[0m\n",
            "\u001b[0;32m/usr/local/lib/python3.7/dist-packages/tweepy/streaming.py\u001b[0m in \u001b[0;36m_run\u001b[0;34m(self)\u001b[0m\n\u001b[1;32m    287\u001b[0m                     \u001b[0mself\u001b[0m\u001b[0;34m.\u001b[0m\u001b[0msnooze_time\u001b[0m \u001b[0;34m=\u001b[0m \u001b[0mself\u001b[0m\u001b[0;34m.\u001b[0m\u001b[0msnooze_time_step\u001b[0m\u001b[0;34m\u001b[0m\u001b[0;34m\u001b[0m\u001b[0m\n\u001b[1;32m    288\u001b[0m                     \u001b[0mself\u001b[0m\u001b[0;34m.\u001b[0m\u001b[0mlistener\u001b[0m\u001b[0;34m.\u001b[0m\u001b[0mon_connect\u001b[0m\u001b[0;34m(\u001b[0m\u001b[0;34m)\u001b[0m\u001b[0;34m\u001b[0m\u001b[0;34m\u001b[0m\u001b[0m\n\u001b[0;32m--> 289\u001b[0;31m                     \u001b[0mself\u001b[0m\u001b[0;34m.\u001b[0m\u001b[0m_read_loop\u001b[0m\u001b[0;34m(\u001b[0m\u001b[0mresp\u001b[0m\u001b[0;34m)\u001b[0m\u001b[0;34m\u001b[0m\u001b[0;34m\u001b[0m\u001b[0m\n\u001b[0m\u001b[1;32m    290\u001b[0m             \u001b[0;32mexcept\u001b[0m \u001b[0;34m(\u001b[0m\u001b[0mTimeout\u001b[0m\u001b[0;34m,\u001b[0m \u001b[0mssl\u001b[0m\u001b[0;34m.\u001b[0m\u001b[0mSSLError\u001b[0m\u001b[0;34m)\u001b[0m \u001b[0;32mas\u001b[0m \u001b[0mexc\u001b[0m\u001b[0;34m:\u001b[0m\u001b[0;34m\u001b[0m\u001b[0;34m\u001b[0m\u001b[0m\n\u001b[1;32m    291\u001b[0m                 \u001b[0;31m# This is still necessary, as a SSLError can actually be\u001b[0m\u001b[0;34m\u001b[0m\u001b[0;34m\u001b[0m\u001b[0;34m\u001b[0m\u001b[0m\n",
            "\u001b[0;32m/usr/local/lib/python3.7/dist-packages/tweepy/streaming.py\u001b[0m in \u001b[0;36m_read_loop\u001b[0;34m(self, resp)\u001b[0m\n\u001b[1;32m    337\u001b[0m             \u001b[0mlength\u001b[0m \u001b[0;34m=\u001b[0m \u001b[0;36m0\u001b[0m\u001b[0;34m\u001b[0m\u001b[0;34m\u001b[0m\u001b[0m\n\u001b[1;32m    338\u001b[0m             \u001b[0;32mwhile\u001b[0m \u001b[0;32mnot\u001b[0m \u001b[0mresp\u001b[0m\u001b[0;34m.\u001b[0m\u001b[0mraw\u001b[0m\u001b[0;34m.\u001b[0m\u001b[0mclosed\u001b[0m\u001b[0;34m:\u001b[0m\u001b[0;34m\u001b[0m\u001b[0;34m\u001b[0m\u001b[0m\n\u001b[0;32m--> 339\u001b[0;31m                 \u001b[0mline\u001b[0m \u001b[0;34m=\u001b[0m \u001b[0mbuf\u001b[0m\u001b[0;34m.\u001b[0m\u001b[0mread_line\u001b[0m\u001b[0;34m(\u001b[0m\u001b[0;34m)\u001b[0m\u001b[0;34m\u001b[0m\u001b[0;34m\u001b[0m\u001b[0m\n\u001b[0m\u001b[1;32m    340\u001b[0m                 \u001b[0mstripped_line\u001b[0m \u001b[0;34m=\u001b[0m \u001b[0mline\u001b[0m\u001b[0;34m.\u001b[0m\u001b[0mstrip\u001b[0m\u001b[0;34m(\u001b[0m\u001b[0;34m)\u001b[0m \u001b[0;32mif\u001b[0m \u001b[0mline\u001b[0m \u001b[0;32melse\u001b[0m \u001b[0mline\u001b[0m \u001b[0;31m# line is sometimes None so we need to check here\u001b[0m\u001b[0;34m\u001b[0m\u001b[0;34m\u001b[0m\u001b[0m\n\u001b[1;32m    341\u001b[0m                 \u001b[0;32mif\u001b[0m \u001b[0;32mnot\u001b[0m \u001b[0mstripped_line\u001b[0m\u001b[0;34m:\u001b[0m\u001b[0;34m\u001b[0m\u001b[0;34m\u001b[0m\u001b[0m\n",
            "\u001b[0;32m/usr/local/lib/python3.7/dist-packages/tweepy/streaming.py\u001b[0m in \u001b[0;36mread_line\u001b[0;34m(self, sep)\u001b[0m\n\u001b[1;32m    198\u001b[0m             \u001b[0;32melse\u001b[0m\u001b[0;34m:\u001b[0m\u001b[0;34m\u001b[0m\u001b[0;34m\u001b[0m\u001b[0m\n\u001b[1;32m    199\u001b[0m                 \u001b[0mstart\u001b[0m \u001b[0;34m=\u001b[0m \u001b[0mlen\u001b[0m\u001b[0;34m(\u001b[0m\u001b[0mself\u001b[0m\u001b[0;34m.\u001b[0m\u001b[0m_buffer\u001b[0m\u001b[0;34m)\u001b[0m\u001b[0;34m\u001b[0m\u001b[0;34m\u001b[0m\u001b[0m\n\u001b[0;32m--> 200\u001b[0;31m             \u001b[0mself\u001b[0m\u001b[0;34m.\u001b[0m\u001b[0m_buffer\u001b[0m \u001b[0;34m+=\u001b[0m \u001b[0mself\u001b[0m\u001b[0;34m.\u001b[0m\u001b[0m_stream\u001b[0m\u001b[0;34m.\u001b[0m\u001b[0mread\u001b[0m\u001b[0;34m(\u001b[0m\u001b[0mself\u001b[0m\u001b[0;34m.\u001b[0m\u001b[0m_chunk_size\u001b[0m\u001b[0;34m)\u001b[0m\u001b[0;34m\u001b[0m\u001b[0;34m\u001b[0m\u001b[0m\n\u001b[0m\u001b[1;32m    201\u001b[0m         \u001b[0;32mreturn\u001b[0m \u001b[0msix\u001b[0m\u001b[0;34m.\u001b[0m\u001b[0mb\u001b[0m\u001b[0;34m(\u001b[0m\u001b[0;34m''\u001b[0m\u001b[0;34m)\u001b[0m\u001b[0;34m\u001b[0m\u001b[0;34m\u001b[0m\u001b[0m\n\u001b[1;32m    202\u001b[0m \u001b[0;34m\u001b[0m\u001b[0m\n",
            "\u001b[0;32m/usr/local/lib/python3.7/dist-packages/urllib3/response.py\u001b[0m in \u001b[0;36mread\u001b[0;34m(self, amt, decode_content, cache_content)\u001b[0m\n\u001b[1;32m    442\u001b[0m             \u001b[0;32melse\u001b[0m\u001b[0;34m:\u001b[0m\u001b[0;34m\u001b[0m\u001b[0;34m\u001b[0m\u001b[0m\n\u001b[1;32m    443\u001b[0m                 \u001b[0mcache_content\u001b[0m \u001b[0;34m=\u001b[0m \u001b[0;32mFalse\u001b[0m\u001b[0;34m\u001b[0m\u001b[0;34m\u001b[0m\u001b[0m\n\u001b[0;32m--> 444\u001b[0;31m                 \u001b[0mdata\u001b[0m \u001b[0;34m=\u001b[0m \u001b[0mself\u001b[0m\u001b[0;34m.\u001b[0m\u001b[0m_fp\u001b[0m\u001b[0;34m.\u001b[0m\u001b[0mread\u001b[0m\u001b[0;34m(\u001b[0m\u001b[0mamt\u001b[0m\u001b[0;34m)\u001b[0m\u001b[0;34m\u001b[0m\u001b[0;34m\u001b[0m\u001b[0m\n\u001b[0m\u001b[1;32m    445\u001b[0m                 \u001b[0;32mif\u001b[0m \u001b[0mamt\u001b[0m \u001b[0;34m!=\u001b[0m \u001b[0;36m0\u001b[0m \u001b[0;32mand\u001b[0m \u001b[0;32mnot\u001b[0m \u001b[0mdata\u001b[0m\u001b[0;34m:\u001b[0m  \u001b[0;31m# Platform-specific: Buggy versions of Python.\u001b[0m\u001b[0;34m\u001b[0m\u001b[0;34m\u001b[0m\u001b[0m\n\u001b[1;32m    446\u001b[0m                     \u001b[0;31m# Close the connection when no data is returned\u001b[0m\u001b[0;34m\u001b[0m\u001b[0;34m\u001b[0m\u001b[0;34m\u001b[0m\u001b[0m\n",
            "\u001b[0;32m/usr/lib/python3.7/http/client.py\u001b[0m in \u001b[0;36mread\u001b[0;34m(self, amt)\u001b[0m\n\u001b[1;32m    463\u001b[0m             \u001b[0;31m# Amount is given, implement using readinto\u001b[0m\u001b[0;34m\u001b[0m\u001b[0;34m\u001b[0m\u001b[0;34m\u001b[0m\u001b[0m\n\u001b[1;32m    464\u001b[0m             \u001b[0mb\u001b[0m \u001b[0;34m=\u001b[0m \u001b[0mbytearray\u001b[0m\u001b[0;34m(\u001b[0m\u001b[0mamt\u001b[0m\u001b[0;34m)\u001b[0m\u001b[0;34m\u001b[0m\u001b[0;34m\u001b[0m\u001b[0m\n\u001b[0;32m--> 465\u001b[0;31m             \u001b[0mn\u001b[0m \u001b[0;34m=\u001b[0m \u001b[0mself\u001b[0m\u001b[0;34m.\u001b[0m\u001b[0mreadinto\u001b[0m\u001b[0;34m(\u001b[0m\u001b[0mb\u001b[0m\u001b[0;34m)\u001b[0m\u001b[0;34m\u001b[0m\u001b[0;34m\u001b[0m\u001b[0m\n\u001b[0m\u001b[1;32m    466\u001b[0m             \u001b[0;32mreturn\u001b[0m \u001b[0mmemoryview\u001b[0m\u001b[0;34m(\u001b[0m\u001b[0mb\u001b[0m\u001b[0;34m)\u001b[0m\u001b[0;34m[\u001b[0m\u001b[0;34m:\u001b[0m\u001b[0mn\u001b[0m\u001b[0;34m]\u001b[0m\u001b[0;34m.\u001b[0m\u001b[0mtobytes\u001b[0m\u001b[0;34m(\u001b[0m\u001b[0;34m)\u001b[0m\u001b[0;34m\u001b[0m\u001b[0;34m\u001b[0m\u001b[0m\n\u001b[1;32m    467\u001b[0m         \u001b[0;32melse\u001b[0m\u001b[0;34m:\u001b[0m\u001b[0;34m\u001b[0m\u001b[0;34m\u001b[0m\u001b[0m\n",
            "\u001b[0;32m/usr/lib/python3.7/http/client.py\u001b[0m in \u001b[0;36mreadinto\u001b[0;34m(self, b)\u001b[0m\n\u001b[1;32m    497\u001b[0m \u001b[0;34m\u001b[0m\u001b[0m\n\u001b[1;32m    498\u001b[0m         \u001b[0;32mif\u001b[0m \u001b[0mself\u001b[0m\u001b[0;34m.\u001b[0m\u001b[0mchunked\u001b[0m\u001b[0;34m:\u001b[0m\u001b[0;34m\u001b[0m\u001b[0;34m\u001b[0m\u001b[0m\n\u001b[0;32m--> 499\u001b[0;31m             \u001b[0;32mreturn\u001b[0m \u001b[0mself\u001b[0m\u001b[0;34m.\u001b[0m\u001b[0m_readinto_chunked\u001b[0m\u001b[0;34m(\u001b[0m\u001b[0mb\u001b[0m\u001b[0;34m)\u001b[0m\u001b[0;34m\u001b[0m\u001b[0;34m\u001b[0m\u001b[0m\n\u001b[0m\u001b[1;32m    500\u001b[0m \u001b[0;34m\u001b[0m\u001b[0m\n\u001b[1;32m    501\u001b[0m         \u001b[0;32mif\u001b[0m \u001b[0mself\u001b[0m\u001b[0;34m.\u001b[0m\u001b[0mlength\u001b[0m \u001b[0;32mis\u001b[0m \u001b[0;32mnot\u001b[0m \u001b[0;32mNone\u001b[0m\u001b[0;34m:\u001b[0m\u001b[0;34m\u001b[0m\u001b[0;34m\u001b[0m\u001b[0m\n",
            "\u001b[0;32m/usr/lib/python3.7/http/client.py\u001b[0m in \u001b[0;36m_readinto_chunked\u001b[0;34m(self, b)\u001b[0m\n\u001b[1;32m    592\u001b[0m         \u001b[0;32mtry\u001b[0m\u001b[0;34m:\u001b[0m\u001b[0;34m\u001b[0m\u001b[0;34m\u001b[0m\u001b[0m\n\u001b[1;32m    593\u001b[0m             \u001b[0;32mwhile\u001b[0m \u001b[0;32mTrue\u001b[0m\u001b[0;34m:\u001b[0m\u001b[0;34m\u001b[0m\u001b[0;34m\u001b[0m\u001b[0m\n\u001b[0;32m--> 594\u001b[0;31m                 \u001b[0mchunk_left\u001b[0m \u001b[0;34m=\u001b[0m \u001b[0mself\u001b[0m\u001b[0;34m.\u001b[0m\u001b[0m_get_chunk_left\u001b[0m\u001b[0;34m(\u001b[0m\u001b[0;34m)\u001b[0m\u001b[0;34m\u001b[0m\u001b[0;34m\u001b[0m\u001b[0m\n\u001b[0m\u001b[1;32m    595\u001b[0m                 \u001b[0;32mif\u001b[0m \u001b[0mchunk_left\u001b[0m \u001b[0;32mis\u001b[0m \u001b[0;32mNone\u001b[0m\u001b[0;34m:\u001b[0m\u001b[0;34m\u001b[0m\u001b[0;34m\u001b[0m\u001b[0m\n\u001b[1;32m    596\u001b[0m                     \u001b[0;32mreturn\u001b[0m \u001b[0mtotal_bytes\u001b[0m\u001b[0;34m\u001b[0m\u001b[0;34m\u001b[0m\u001b[0m\n",
            "\u001b[0;32m/usr/lib/python3.7/http/client.py\u001b[0m in \u001b[0;36m_get_chunk_left\u001b[0;34m(self)\u001b[0m\n\u001b[1;32m    560\u001b[0m                 \u001b[0mself\u001b[0m\u001b[0;34m.\u001b[0m\u001b[0m_safe_read\u001b[0m\u001b[0;34m(\u001b[0m\u001b[0;36m2\u001b[0m\u001b[0;34m)\u001b[0m  \u001b[0;31m# toss the CRLF at the end of the chunk\u001b[0m\u001b[0;34m\u001b[0m\u001b[0;34m\u001b[0m\u001b[0m\n\u001b[1;32m    561\u001b[0m             \u001b[0;32mtry\u001b[0m\u001b[0;34m:\u001b[0m\u001b[0;34m\u001b[0m\u001b[0;34m\u001b[0m\u001b[0m\n\u001b[0;32m--> 562\u001b[0;31m                 \u001b[0mchunk_left\u001b[0m \u001b[0;34m=\u001b[0m \u001b[0mself\u001b[0m\u001b[0;34m.\u001b[0m\u001b[0m_read_next_chunk_size\u001b[0m\u001b[0;34m(\u001b[0m\u001b[0;34m)\u001b[0m\u001b[0;34m\u001b[0m\u001b[0;34m\u001b[0m\u001b[0m\n\u001b[0m\u001b[1;32m    563\u001b[0m             \u001b[0;32mexcept\u001b[0m \u001b[0mValueError\u001b[0m\u001b[0;34m:\u001b[0m\u001b[0;34m\u001b[0m\u001b[0;34m\u001b[0m\u001b[0m\n\u001b[1;32m    564\u001b[0m                 \u001b[0;32mraise\u001b[0m \u001b[0mIncompleteRead\u001b[0m\u001b[0;34m(\u001b[0m\u001b[0;34mb''\u001b[0m\u001b[0;34m)\u001b[0m\u001b[0;34m\u001b[0m\u001b[0;34m\u001b[0m\u001b[0m\n",
            "\u001b[0;32m/usr/lib/python3.7/http/client.py\u001b[0m in \u001b[0;36m_read_next_chunk_size\u001b[0;34m(self)\u001b[0m\n\u001b[1;32m    520\u001b[0m     \u001b[0;32mdef\u001b[0m \u001b[0m_read_next_chunk_size\u001b[0m\u001b[0;34m(\u001b[0m\u001b[0mself\u001b[0m\u001b[0;34m)\u001b[0m\u001b[0;34m:\u001b[0m\u001b[0;34m\u001b[0m\u001b[0;34m\u001b[0m\u001b[0m\n\u001b[1;32m    521\u001b[0m         \u001b[0;31m# Read the next chunk size from the file\u001b[0m\u001b[0;34m\u001b[0m\u001b[0;34m\u001b[0m\u001b[0;34m\u001b[0m\u001b[0m\n\u001b[0;32m--> 522\u001b[0;31m         \u001b[0mline\u001b[0m \u001b[0;34m=\u001b[0m \u001b[0mself\u001b[0m\u001b[0;34m.\u001b[0m\u001b[0mfp\u001b[0m\u001b[0;34m.\u001b[0m\u001b[0mreadline\u001b[0m\u001b[0;34m(\u001b[0m\u001b[0m_MAXLINE\u001b[0m \u001b[0;34m+\u001b[0m \u001b[0;36m1\u001b[0m\u001b[0;34m)\u001b[0m\u001b[0;34m\u001b[0m\u001b[0;34m\u001b[0m\u001b[0m\n\u001b[0m\u001b[1;32m    523\u001b[0m         \u001b[0;32mif\u001b[0m \u001b[0mlen\u001b[0m\u001b[0;34m(\u001b[0m\u001b[0mline\u001b[0m\u001b[0;34m)\u001b[0m \u001b[0;34m>\u001b[0m \u001b[0m_MAXLINE\u001b[0m\u001b[0;34m:\u001b[0m\u001b[0;34m\u001b[0m\u001b[0;34m\u001b[0m\u001b[0m\n\u001b[1;32m    524\u001b[0m             \u001b[0;32mraise\u001b[0m \u001b[0mLineTooLong\u001b[0m\u001b[0;34m(\u001b[0m\u001b[0;34m\"chunk size\"\u001b[0m\u001b[0;34m)\u001b[0m\u001b[0;34m\u001b[0m\u001b[0;34m\u001b[0m\u001b[0m\n",
            "\u001b[0;32m/usr/lib/python3.7/socket.py\u001b[0m in \u001b[0;36mreadinto\u001b[0;34m(self, b)\u001b[0m\n\u001b[1;32m    587\u001b[0m         \u001b[0;32mwhile\u001b[0m \u001b[0;32mTrue\u001b[0m\u001b[0;34m:\u001b[0m\u001b[0;34m\u001b[0m\u001b[0;34m\u001b[0m\u001b[0m\n\u001b[1;32m    588\u001b[0m             \u001b[0;32mtry\u001b[0m\u001b[0;34m:\u001b[0m\u001b[0;34m\u001b[0m\u001b[0;34m\u001b[0m\u001b[0m\n\u001b[0;32m--> 589\u001b[0;31m                 \u001b[0;32mreturn\u001b[0m \u001b[0mself\u001b[0m\u001b[0;34m.\u001b[0m\u001b[0m_sock\u001b[0m\u001b[0;34m.\u001b[0m\u001b[0mrecv_into\u001b[0m\u001b[0;34m(\u001b[0m\u001b[0mb\u001b[0m\u001b[0;34m)\u001b[0m\u001b[0;34m\u001b[0m\u001b[0;34m\u001b[0m\u001b[0m\n\u001b[0m\u001b[1;32m    590\u001b[0m             \u001b[0;32mexcept\u001b[0m \u001b[0mtimeout\u001b[0m\u001b[0;34m:\u001b[0m\u001b[0;34m\u001b[0m\u001b[0;34m\u001b[0m\u001b[0m\n\u001b[1;32m    591\u001b[0m                 \u001b[0mself\u001b[0m\u001b[0;34m.\u001b[0m\u001b[0m_timeout_occurred\u001b[0m \u001b[0;34m=\u001b[0m \u001b[0;32mTrue\u001b[0m\u001b[0;34m\u001b[0m\u001b[0;34m\u001b[0m\u001b[0m\n",
            "\u001b[0;32m/usr/lib/python3.7/ssl.py\u001b[0m in \u001b[0;36mrecv_into\u001b[0;34m(self, buffer, nbytes, flags)\u001b[0m\n\u001b[1;32m   1069\u001b[0m                   \u001b[0;34m\"non-zero flags not allowed in calls to recv_into() on %s\"\u001b[0m \u001b[0;34m%\u001b[0m\u001b[0;34m\u001b[0m\u001b[0;34m\u001b[0m\u001b[0m\n\u001b[1;32m   1070\u001b[0m                   self.__class__)\n\u001b[0;32m-> 1071\u001b[0;31m             \u001b[0;32mreturn\u001b[0m \u001b[0mself\u001b[0m\u001b[0;34m.\u001b[0m\u001b[0mread\u001b[0m\u001b[0;34m(\u001b[0m\u001b[0mnbytes\u001b[0m\u001b[0;34m,\u001b[0m \u001b[0mbuffer\u001b[0m\u001b[0;34m)\u001b[0m\u001b[0;34m\u001b[0m\u001b[0;34m\u001b[0m\u001b[0m\n\u001b[0m\u001b[1;32m   1072\u001b[0m         \u001b[0;32melse\u001b[0m\u001b[0;34m:\u001b[0m\u001b[0;34m\u001b[0m\u001b[0;34m\u001b[0m\u001b[0m\n\u001b[1;32m   1073\u001b[0m             \u001b[0;32mreturn\u001b[0m \u001b[0msuper\u001b[0m\u001b[0;34m(\u001b[0m\u001b[0;34m)\u001b[0m\u001b[0;34m.\u001b[0m\u001b[0mrecv_into\u001b[0m\u001b[0;34m(\u001b[0m\u001b[0mbuffer\u001b[0m\u001b[0;34m,\u001b[0m \u001b[0mnbytes\u001b[0m\u001b[0;34m,\u001b[0m \u001b[0mflags\u001b[0m\u001b[0;34m)\u001b[0m\u001b[0;34m\u001b[0m\u001b[0;34m\u001b[0m\u001b[0m\n",
            "\u001b[0;32m/usr/lib/python3.7/ssl.py\u001b[0m in \u001b[0;36mread\u001b[0;34m(self, len, buffer)\u001b[0m\n\u001b[1;32m    927\u001b[0m         \u001b[0;32mtry\u001b[0m\u001b[0;34m:\u001b[0m\u001b[0;34m\u001b[0m\u001b[0;34m\u001b[0m\u001b[0m\n\u001b[1;32m    928\u001b[0m             \u001b[0;32mif\u001b[0m \u001b[0mbuffer\u001b[0m \u001b[0;32mis\u001b[0m \u001b[0;32mnot\u001b[0m \u001b[0;32mNone\u001b[0m\u001b[0;34m:\u001b[0m\u001b[0;34m\u001b[0m\u001b[0;34m\u001b[0m\u001b[0m\n\u001b[0;32m--> 929\u001b[0;31m                 \u001b[0;32mreturn\u001b[0m \u001b[0mself\u001b[0m\u001b[0;34m.\u001b[0m\u001b[0m_sslobj\u001b[0m\u001b[0;34m.\u001b[0m\u001b[0mread\u001b[0m\u001b[0;34m(\u001b[0m\u001b[0mlen\u001b[0m\u001b[0;34m,\u001b[0m \u001b[0mbuffer\u001b[0m\u001b[0;34m)\u001b[0m\u001b[0;34m\u001b[0m\u001b[0;34m\u001b[0m\u001b[0m\n\u001b[0m\u001b[1;32m    930\u001b[0m             \u001b[0;32melse\u001b[0m\u001b[0;34m:\u001b[0m\u001b[0;34m\u001b[0m\u001b[0;34m\u001b[0m\u001b[0m\n\u001b[1;32m    931\u001b[0m                 \u001b[0;32mreturn\u001b[0m \u001b[0mself\u001b[0m\u001b[0;34m.\u001b[0m\u001b[0m_sslobj\u001b[0m\u001b[0;34m.\u001b[0m\u001b[0mread\u001b[0m\u001b[0;34m(\u001b[0m\u001b[0mlen\u001b[0m\u001b[0;34m)\u001b[0m\u001b[0;34m\u001b[0m\u001b[0;34m\u001b[0m\u001b[0m\n",
            "\u001b[0;31mKeyboardInterrupt\u001b[0m: "
          ]
        }
      ]
    },
    {
      "cell_type": "markdown",
      "source": [
        "# CREAMOS NUESTRA CLOUD FUNCTION\n",
        "\n",
        "![imagen.png](data:image/png;base64,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)"
      ],
      "metadata": {
        "id": "O9LYLxkrPHI6"
      }
    },
    {
      "cell_type": "markdown",
      "source": [
        "Luego de haber copiado y pegado la Main function del colab y agregar nuestros requirements nos arrojó este error en la implementación de la function"
      ],
      "metadata": {
        "id": "MYeV341YXUfL"
      }
    },
    {
      "cell_type": "code",
      "metadata": {
        "id": "FDrQjJbsVO-4",
        "colab": {
          "base_uri": "https://localhost:8080/"
        },
        "outputId": "5de26643-2d74-4796-c44c-90924e6a4683"
      },
      "source": [
        "# In case user service error...\n",
        "! gcloud iam service-accounts add-iam-policy-binding <project_id>@appspot.gserviceaccount.com --member=user:<mail> --role=roles/iam.serviceAccountUser"
      ],
      "execution_count": 8,
      "outputs": [
        {
          "output_type": "stream",
          "name": "stdout",
          "text": [
            "/bin/bash: project_id: No such file or directory\n"
          ]
        }
      ]
    },
    {
      "cell_type": "markdown",
      "metadata": {
        "id": "7x_BX3FCG3mD"
      },
      "source": [
        "Para lanzar vuestra Cloud Function, que recoja y mande mensajes solo tenéis que ejecutar el comando siguiente (haced los pasos vistos en clase para desplegar el servicio):"
      ]
    },
    {
      "cell_type": "code",
      "metadata": {
        "id": "PcemNpnsKxFy",
        "colab": {
          "base_uri": "https://localhost:8080/"
        },
        "outputId": "1c48ee77-cd30-45ac-8a1b-71fe73c2ecd5"
      },
      "source": [
        "! curl -X POST https://europe-west1-practica-final-355911.cloudfunctions.net/twicht-publica -H \"Content-Type:application/json\"  -d '{\"debug\": false}'"
      ],
      "execution_count": 9,
      "outputs": [
        {
          "output_type": "stream",
          "name": "stdout",
          "text": [
            "\n",
            "<html><head>\n",
            "<meta http-equiv=\"content-type\" content=\"text/html;charset=utf-8\">\n",
            "<title>403 Forbidden</title>\n",
            "</head>\n",
            "<body text=#000000 bgcolor=#ffffff>\n",
            "<h1>Error: Forbidden</h1>\n",
            "<h2>Your client does not have permission to get URL <code>/twicht-publica</code> from this server.</h2>\n",
            "<h2></h2>\n",
            "</body></html>\n"
          ]
        }
      ]
    },
    {
      "cell_type": "markdown",
      "metadata": {
        "id": "Yr3SmFrUHCvN"
      },
      "source": [
        "## Entregable 1 (3 puntos)\n",
        "\n",
        "En este entregable desarrollarás un pipeline de inferencia en streaming usando Apache Beam para ejecutar en Dataflow un job en streaming que llamará a vuestro microservicio para realizar inferencias."
      ]
    },
    {
      "cell_type": "code",
      "metadata": {
        "id": "IwlDH0KFbn1q",
        "colab": {
          "base_uri": "https://localhost:8080/"
        },
        "outputId": "8e5bcc1d-2ca3-46d6-c764-627ce8ffca9d"
      },
      "source": [
        "%mkdir /content/streaming/subscriber"
      ],
      "execution_count": 4,
      "outputs": [
        {
          "output_type": "stream",
          "name": "stdout",
          "text": [
            "mkdir: cannot create directory ‘/content/streaming/subscriber’: File exists\n"
          ]
        }
      ]
    },
    {
      "cell_type": "code",
      "metadata": {
        "id": "DLNtrkgybtHE",
        "colab": {
          "base_uri": "https://localhost:8080/"
        },
        "outputId": "adfa8b39-c629-4af0-bc98-669a42ab5f69"
      },
      "source": [
        "%cd /content/streaming/subscriber"
      ],
      "execution_count": 5,
      "outputs": [
        {
          "output_type": "stream",
          "name": "stdout",
          "text": [
            "/content/streaming/subscriber\n"
          ]
        }
      ]
    },
    {
      "cell_type": "code",
      "metadata": {
        "id": "XtBrcF2zbz04",
        "colab": {
          "base_uri": "https://localhost:8080/"
        },
        "outputId": "612ef055-dcbe-4bc4-e075-d4bf65ab8729"
      },
      "source": [
        "%%writefile requirements.txt\n",
        "\n",
        "apache-beam[gcp]==2.24.0\n",
        "fsspec==0.8.4\n",
        "gcsfs==0.7.1\n",
        "loguru==0.5.3"
      ],
      "execution_count": 6,
      "outputs": [
        {
          "output_type": "stream",
          "name": "stdout",
          "text": [
            "Overwriting requirements.txt\n"
          ]
        }
      ]
    },
    {
      "cell_type": "code",
      "metadata": {
        "id": "6RN9KNMob1jY",
        "colab": {
          "base_uri": "https://localhost:8080/",
          "height": 1000
        },
        "outputId": "b26dec26-f8da-4f74-af10-5d3a5b87bd32"
      },
      "source": [
        "! pip install -r requirements.txt"
      ],
      "execution_count": 7,
      "outputs": [
        {
          "output_type": "stream",
          "name": "stdout",
          "text": [
            "Looking in indexes: https://pypi.org/simple, https://us-python.pkg.dev/colab-wheels/public/simple/\n",
            "Requirement already satisfied: apache-beam[gcp]==2.24.0 in /usr/local/lib/python3.7/dist-packages (from -r requirements.txt (line 2)) (2.24.0)\n",
            "Requirement already satisfied: fsspec==0.8.4 in /usr/local/lib/python3.7/dist-packages (from -r requirements.txt (line 3)) (0.8.4)\n",
            "Requirement already satisfied: gcsfs==0.7.1 in /usr/local/lib/python3.7/dist-packages (from -r requirements.txt (line 4)) (0.7.1)\n",
            "Requirement already satisfied: loguru==0.5.3 in /usr/local/lib/python3.7/dist-packages (from -r requirements.txt (line 5)) (0.5.3)\n",
            "Requirement already satisfied: google-auth>=1.2 in /usr/local/lib/python3.7/dist-packages (from gcsfs==0.7.1->-r requirements.txt (line 4)) (1.35.0)\n",
            "Requirement already satisfied: requests in /usr/local/lib/python3.7/dist-packages (from gcsfs==0.7.1->-r requirements.txt (line 4)) (2.25.0)\n",
            "Requirement already satisfied: aiohttp in /usr/local/lib/python3.7/dist-packages (from gcsfs==0.7.1->-r requirements.txt (line 4)) (3.8.1)\n",
            "Requirement already satisfied: decorator in /usr/local/lib/python3.7/dist-packages (from gcsfs==0.7.1->-r requirements.txt (line 4)) (4.4.2)\n",
            "Requirement already satisfied: google-auth-oauthlib in /usr/local/lib/python3.7/dist-packages (from gcsfs==0.7.1->-r requirements.txt (line 4)) (0.4.6)\n",
            "Requirement already satisfied: numpy<2,>=1.14.3 in /usr/local/lib/python3.7/dist-packages (from apache-beam[gcp]==2.24.0->-r requirements.txt (line 2)) (1.20.0)\n",
            "Requirement already satisfied: pyarrow<0.18.0,>=0.15.1 in /usr/local/lib/python3.7/dist-packages (from apache-beam[gcp]==2.24.0->-r requirements.txt (line 2)) (0.17.1)\n",
            "Requirement already satisfied: avro-python3!=1.9.2,<1.10.0,>=1.8.1 in /usr/local/lib/python3.7/dist-packages (from apache-beam[gcp]==2.24.0->-r requirements.txt (line 2)) (1.9.2.1)\n",
            "Requirement already satisfied: grpcio<2,>=1.29.0 in /usr/local/lib/python3.7/dist-packages (from apache-beam[gcp]==2.24.0->-r requirements.txt (line 2)) (1.46.3)\n",
            "Requirement already satisfied: mock<3.0.0,>=1.0.1 in /usr/local/lib/python3.7/dist-packages (from apache-beam[gcp]==2.24.0->-r requirements.txt (line 2)) (2.0.0)\n",
            "Requirement already satisfied: protobuf<4,>=3.12.2 in /usr/local/lib/python3.7/dist-packages (from apache-beam[gcp]==2.24.0->-r requirements.txt (line 2)) (3.20.1)\n",
            "Requirement already satisfied: crcmod<2.0,>=1.7 in /usr/local/lib/python3.7/dist-packages (from apache-beam[gcp]==2.24.0->-r requirements.txt (line 2)) (1.7)\n",
            "Requirement already satisfied: pymongo<4.0.0,>=3.8.0 in /usr/local/lib/python3.7/dist-packages (from apache-beam[gcp]==2.24.0->-r requirements.txt (line 2)) (3.12.3)\n",
            "Requirement already satisfied: python-dateutil<3,>=2.8.0 in /usr/local/lib/python3.7/dist-packages (from apache-beam[gcp]==2.24.0->-r requirements.txt (line 2)) (2.8.2)\n",
            "Requirement already satisfied: hdfs<3.0.0,>=2.1.0 in /usr/local/lib/python3.7/dist-packages (from apache-beam[gcp]==2.24.0->-r requirements.txt (line 2)) (2.7.0)\n",
            "Requirement already satisfied: future<1.0.0,>=0.18.2 in /usr/local/lib/python3.7/dist-packages (from apache-beam[gcp]==2.24.0->-r requirements.txt (line 2)) (0.18.2)\n",
            "Requirement already satisfied: pydot<2,>=1.2.0 in /usr/local/lib/python3.7/dist-packages (from apache-beam[gcp]==2.24.0->-r requirements.txt (line 2)) (1.3.0)\n",
            "Requirement already satisfied: pytz>=2018.3 in /usr/local/lib/python3.7/dist-packages (from apache-beam[gcp]==2.24.0->-r requirements.txt (line 2)) (2022.1)\n",
            "Requirement already satisfied: httplib2<0.18.0,>=0.8 in /usr/local/lib/python3.7/dist-packages (from apache-beam[gcp]==2.24.0->-r requirements.txt (line 2)) (0.17.4)\n",
            "Requirement already satisfied: fastavro<0.24,>=0.21.4 in /usr/local/lib/python3.7/dist-packages (from apache-beam[gcp]==2.24.0->-r requirements.txt (line 2)) (0.23.6)\n",
            "Requirement already satisfied: typing-extensions<3.8.0,>=3.7.0 in /usr/local/lib/python3.7/dist-packages (from apache-beam[gcp]==2.24.0->-r requirements.txt (line 2)) (3.7.4.3)\n",
            "Requirement already satisfied: oauth2client<4,>=2.0.1 in /usr/local/lib/python3.7/dist-packages (from apache-beam[gcp]==2.24.0->-r requirements.txt (line 2)) (3.0.0)\n",
            "Requirement already satisfied: dill<0.3.2,>=0.3.1.1 in /usr/local/lib/python3.7/dist-packages (from apache-beam[gcp]==2.24.0->-r requirements.txt (line 2)) (0.3.1.1)\n",
            "Requirement already satisfied: google-cloud-datastore<2,>=1.7.1 in /usr/local/lib/python3.7/dist-packages (from apache-beam[gcp]==2.24.0->-r requirements.txt (line 2)) (1.8.0)\n",
            "Requirement already satisfied: google-cloud-bigtable<2,>=0.31.1 in /usr/local/lib/python3.7/dist-packages (from apache-beam[gcp]==2.24.0->-r requirements.txt (line 2)) (1.7.2)\n",
            "Requirement already satisfied: grpcio-gcp<1,>=0.2.2 in /usr/local/lib/python3.7/dist-packages (from apache-beam[gcp]==2.24.0->-r requirements.txt (line 2)) (0.2.2)\n",
            "Requirement already satisfied: google-cloud-dlp<2,>=0.12.0 in /usr/local/lib/python3.7/dist-packages (from apache-beam[gcp]==2.24.0->-r requirements.txt (line 2)) (1.0.2)\n",
            "Requirement already satisfied: google-cloud-spanner<2,>=1.13.0 in /usr/local/lib/python3.7/dist-packages (from apache-beam[gcp]==2.24.0->-r requirements.txt (line 2)) (1.19.3)\n",
            "Requirement already satisfied: google-cloud-videointelligence<2,>=1.8.0 in /usr/local/lib/python3.7/dist-packages (from apache-beam[gcp]==2.24.0->-r requirements.txt (line 2)) (1.16.3)\n",
            "Requirement already satisfied: google-cloud-vision<2,>=0.38.0 in /usr/local/lib/python3.7/dist-packages (from apache-beam[gcp]==2.24.0->-r requirements.txt (line 2)) (1.0.2)\n",
            "Requirement already satisfied: cachetools<4,>=3.1.0 in /usr/local/lib/python3.7/dist-packages (from apache-beam[gcp]==2.24.0->-r requirements.txt (line 2)) (3.1.1)\n",
            "Requirement already satisfied: google-apitools<0.5.32,>=0.5.31 in /usr/local/lib/python3.7/dist-packages (from apache-beam[gcp]==2.24.0->-r requirements.txt (line 2)) (0.5.31)\n",
            "Requirement already satisfied: google-cloud-bigquery<2,>=1.6.0 in /usr/local/lib/python3.7/dist-packages (from apache-beam[gcp]==2.24.0->-r requirements.txt (line 2)) (1.21.0)\n",
            "Requirement already satisfied: google-cloud-core<2,>=0.28.1 in /usr/local/lib/python3.7/dist-packages (from apache-beam[gcp]==2.24.0->-r requirements.txt (line 2)) (1.7.2)\n",
            "Requirement already satisfied: google-cloud-language<2,>=1.3.0 in /usr/local/lib/python3.7/dist-packages (from apache-beam[gcp]==2.24.0->-r requirements.txt (line 2)) (1.3.2)\n",
            "Collecting google-cloud-pubsub<2,>=0.39.0\n",
            "  Using cached google_cloud_pubsub-1.7.2-py2.py3-none-any.whl (144 kB)\n",
            "Requirement already satisfied: six>=1.12.0 in /usr/local/lib/python3.7/dist-packages (from google-apitools<0.5.32,>=0.5.31->apache-beam[gcp]==2.24.0->-r requirements.txt (line 2)) (1.15.0)\n",
            "Requirement already satisfied: fasteners>=0.14 in /usr/local/lib/python3.7/dist-packages (from google-apitools<0.5.32,>=0.5.31->apache-beam[gcp]==2.24.0->-r requirements.txt (line 2)) (0.17.3)\n",
            "Requirement already satisfied: setuptools>=40.3.0 in /usr/local/lib/python3.7/dist-packages (from google-auth>=1.2->gcsfs==0.7.1->-r requirements.txt (line 4)) (57.4.0)\n",
            "Requirement already satisfied: pyasn1-modules>=0.2.1 in /usr/local/lib/python3.7/dist-packages (from google-auth>=1.2->gcsfs==0.7.1->-r requirements.txt (line 4)) (0.2.8)\n",
            "Requirement already satisfied: rsa<5,>=3.1.4 in /usr/local/lib/python3.7/dist-packages (from google-auth>=1.2->gcsfs==0.7.1->-r requirements.txt (line 4)) (4.8)\n",
            "Requirement already satisfied: google-resumable-media!=0.4.0,<0.5.0dev,>=0.3.1 in /usr/local/lib/python3.7/dist-packages (from google-cloud-bigquery<2,>=1.6.0->apache-beam[gcp]==2.24.0->-r requirements.txt (line 2)) (0.4.1)\n",
            "Requirement already satisfied: google-api-core[grpc]!=2.0.*,!=2.1.*,!=2.2.*,!=2.3.0,<3.0.0dev,>=1.31.5 in /usr/local/lib/python3.7/dist-packages (from google-cloud-bigtable<2,>=0.31.1->apache-beam[gcp]==2.24.0->-r requirements.txt (line 2)) (1.31.6)\n",
            "Requirement already satisfied: grpc-google-iam-v1<0.13dev,>=0.12.3 in /usr/local/lib/python3.7/dist-packages (from google-cloud-bigtable<2,>=0.31.1->apache-beam[gcp]==2.24.0->-r requirements.txt (line 2)) (0.12.4)\n",
            "Requirement already satisfied: packaging>=14.3 in /usr/local/lib/python3.7/dist-packages (from google-api-core[grpc]!=2.0.*,!=2.1.*,!=2.2.*,!=2.3.0,<3.0.0dev,>=1.31.5->google-cloud-bigtable<2,>=0.31.1->apache-beam[gcp]==2.24.0->-r requirements.txt (line 2)) (21.3)\n",
            "Requirement already satisfied: googleapis-common-protos<2.0dev,>=1.6.0 in /usr/local/lib/python3.7/dist-packages (from google-api-core[grpc]!=2.0.*,!=2.1.*,!=2.2.*,!=2.3.0,<3.0.0dev,>=1.31.5->google-cloud-bigtable<2,>=0.31.1->apache-beam[gcp]==2.24.0->-r requirements.txt (line 2)) (1.56.2)\n",
            "Requirement already satisfied: docopt in /usr/local/lib/python3.7/dist-packages (from hdfs<3.0.0,>=2.1.0->apache-beam[gcp]==2.24.0->-r requirements.txt (line 2)) (0.6.2)\n",
            "Requirement already satisfied: pbr>=0.11 in /usr/local/lib/python3.7/dist-packages (from mock<3.0.0,>=1.0.1->apache-beam[gcp]==2.24.0->-r requirements.txt (line 2)) (5.9.0)\n",
            "Requirement already satisfied: pyasn1>=0.1.7 in /usr/local/lib/python3.7/dist-packages (from oauth2client<4,>=2.0.1->apache-beam[gcp]==2.24.0->-r requirements.txt (line 2)) (0.4.8)\n",
            "Requirement already satisfied: pyparsing!=3.0.5,>=2.0.2 in /usr/local/lib/python3.7/dist-packages (from packaging>=14.3->google-api-core[grpc]!=2.0.*,!=2.1.*,!=2.2.*,!=2.3.0,<3.0.0dev,>=1.31.5->google-cloud-bigtable<2,>=0.31.1->apache-beam[gcp]==2.24.0->-r requirements.txt (line 2)) (3.0.9)\n",
            "Requirement already satisfied: idna<3,>=2.5 in /usr/local/lib/python3.7/dist-packages (from requests->gcsfs==0.7.1->-r requirements.txt (line 4)) (2.10)\n",
            "Requirement already satisfied: urllib3<1.27,>=1.21.1 in /usr/local/lib/python3.7/dist-packages (from requests->gcsfs==0.7.1->-r requirements.txt (line 4)) (1.24.3)\n",
            "Requirement already satisfied: certifi>=2017.4.17 in /usr/local/lib/python3.7/dist-packages (from requests->gcsfs==0.7.1->-r requirements.txt (line 4)) (2022.6.15)\n",
            "Requirement already satisfied: chardet<4,>=3.0.2 in /usr/local/lib/python3.7/dist-packages (from requests->gcsfs==0.7.1->-r requirements.txt (line 4)) (3.0.4)\n",
            "Requirement already satisfied: yarl<2.0,>=1.0 in /usr/local/lib/python3.7/dist-packages (from aiohttp->gcsfs==0.7.1->-r requirements.txt (line 4)) (1.7.2)\n",
            "Requirement already satisfied: frozenlist>=1.1.1 in /usr/local/lib/python3.7/dist-packages (from aiohttp->gcsfs==0.7.1->-r requirements.txt (line 4)) (1.3.0)\n",
            "Requirement already satisfied: attrs>=17.3.0 in /usr/local/lib/python3.7/dist-packages (from aiohttp->gcsfs==0.7.1->-r requirements.txt (line 4)) (21.4.0)\n",
            "Requirement already satisfied: multidict<7.0,>=4.5 in /usr/local/lib/python3.7/dist-packages (from aiohttp->gcsfs==0.7.1->-r requirements.txt (line 4)) (6.0.2)\n",
            "Requirement already satisfied: asynctest==0.13.0 in /usr/local/lib/python3.7/dist-packages (from aiohttp->gcsfs==0.7.1->-r requirements.txt (line 4)) (0.13.0)\n",
            "Requirement already satisfied: charset-normalizer<3.0,>=2.0 in /usr/local/lib/python3.7/dist-packages (from aiohttp->gcsfs==0.7.1->-r requirements.txt (line 4)) (2.1.0)\n",
            "Requirement already satisfied: aiosignal>=1.1.2 in /usr/local/lib/python3.7/dist-packages (from aiohttp->gcsfs==0.7.1->-r requirements.txt (line 4)) (1.2.0)\n",
            "Requirement already satisfied: async-timeout<5.0,>=4.0.0a3 in /usr/local/lib/python3.7/dist-packages (from aiohttp->gcsfs==0.7.1->-r requirements.txt (line 4)) (4.0.2)\n",
            "Requirement already satisfied: requests-oauthlib>=0.7.0 in /usr/local/lib/python3.7/dist-packages (from google-auth-oauthlib->gcsfs==0.7.1->-r requirements.txt (line 4)) (1.3.1)\n",
            "Requirement already satisfied: oauthlib>=3.0.0 in /usr/local/lib/python3.7/dist-packages (from requests-oauthlib>=0.7.0->google-auth-oauthlib->gcsfs==0.7.1->-r requirements.txt (line 4)) (3.2.0)\n",
            "Installing collected packages: google-cloud-pubsub\n",
            "  Attempting uninstall: google-cloud-pubsub\n",
            "    Found existing installation: google-cloud-pubsub 2.1.0\n",
            "    Uninstalling google-cloud-pubsub-2.1.0:\n",
            "      Successfully uninstalled google-cloud-pubsub-2.1.0\n",
            "Successfully installed google-cloud-pubsub-1.7.2\n"
          ]
        },
        {
          "output_type": "display_data",
          "data": {
            "application/vnd.colab-display-data+json": {
              "pip_warning": {
                "packages": [
                  "google"
                ]
              }
            }
          },
          "metadata": {}
        }
      ]
    },
    {
      "cell_type": "code",
      "metadata": {
        "id": "JMeJPR90b3AN",
        "colab": {
          "base_uri": "https://localhost:8080/"
        },
        "outputId": "d87bb6b6-4892-4c8b-a70b-a69f78cd7566"
      },
      "source": [
        "%%writefile predict.py\n",
        "from __future__ import absolute_import\n",
        "from __future__ import print_function\n",
        "\n",
        "import argparse\n",
        "import requests\n",
        "import json\n",
        "import sys\n",
        "\n",
        "import apache_beam as beam\n",
        "import apache_beam.transforms.window as window\n",
        "from apache_beam.options.pipeline_options import (\n",
        "    GoogleCloudOptions,\n",
        "    StandardOptions,\n",
        "    PipelineOptions,\n",
        "    SetupOptions,\n",
        ")\n",
        "from loguru import logger\n",
        "\n",
        "\n",
        "class Predict(beam.DoFn):\n",
        "    def __init__(self, predict_server) -> None:\n",
        "        self.url = predict_server\n",
        "\n",
        "    def _predict(self, text) -> str:\n",
        "        payload = {\"text\": text}\n",
        "        headers = {\"accept\": \"application/json\", \"Content-Type\": \"application/json\"}\n",
        "        try:\n",
        "            response = requests.post(\n",
        "                self.url, data=json.dumps(payload), headers=headers\n",
        "            )\n",
        "            response = json.loads(response.text)\n",
        "        except Exception:\n",
        "            response = {\"label\": \"undefined\", \"score\": 0, \"elapsed_time\": 0}\n",
        "\n",
        "        return response\n",
        "\n",
        "    def process(self, element, window=beam.DoFn.WindowParam):\n",
        "        logger.info(f\"Text to predict: {element}\")\n",
        "        result = self._predict(element)\n",
        "        result[\"text\"] = element\n",
        "        yield json.dumps(result)\n",
        "\n",
        "\n",
        "def run(predict_server, source, sink, beam_options=None):\n",
        "    with beam.Pipeline(options=beam_options) as p:\n",
        "        _ = (\n",
        "            p\n",
        "            | \"Read data from PubSub\" >> source\n",
        "            | \"decode\" >> beam.Map(lambda x: x.decode(\"utf-8\"))\n",
        "            | \"window\" >> beam.WindowInto(window.FixedWindows(15))\n",
        "            | \"Predict\" >> beam.ParDo(Predict(predict_server))\n",
        "            | \"encode\" >> beam.Map(lambda x: x.encode(\"utf-8\")).with_output_types(bytes)\n",
        "            | \"Write predictions\" >> sink\n",
        "        )\n",
        "\n",
        "\n",
        "if __name__ == \"__main__\":\n",
        "    \"\"\"Main function\"\"\"\n",
        "    parser = argparse.ArgumentParser(\n",
        "        formatter_class=argparse.ArgumentDefaultsHelpFormatter\n",
        "    )\n",
        "\n",
        "    parser.add_argument(\n",
        "        \"--inputs_topic\",\n",
        "        dest=\"inputs_topic\",\n",
        "        required=True,\n",
        "        help=\"Directory for temporary files and preprocessed datasets to. \"\n",
        "        \"This can be a Google Cloud Storage path.\",\n",
        "    )\n",
        "\n",
        "    parser.add_argument(\n",
        "        \"--outputs_topic\",\n",
        "        dest=\"outputs_topic\",\n",
        "        required=True,\n",
        "        help=\"Directory for temporary files and preprocessed datasets to. \"\n",
        "        \"This can be a Google Cloud Storage path.\",\n",
        "    )\n",
        "\n",
        "    parser.add_argument(\n",
        "        \"--predict_server\",\n",
        "        dest=\"predict_server\",\n",
        "        required=True,\n",
        "        help=\"Directory for temporary files and preprocessed datasets to. \"\n",
        "        \"This can be a Google Cloud Storage path.\",\n",
        "    )\n",
        "\n",
        "    args, pipeline_args = parser.parse_known_args()\n",
        "    logger.info(args)\n",
        "    beam_options = PipelineOptions(pipeline_args)\n",
        "    beam_options.view_as(SetupOptions).save_main_session = True\n",
        "    # beam_options.view_as(DirectOptions).direct_num_workers = 0\n",
        "\n",
        "    project = beam_options.view_as(GoogleCloudOptions).project\n",
        "\n",
        "    if not project:\n",
        "        parser.print_usage()\n",
        "        print(\"error: argument --project is required for streaming\")\n",
        "        sys.exit(1)\n",
        "\n",
        "    beam_options.view_as(StandardOptions).streaming = True\n",
        "\n",
        "    source = beam.io.ReadFromPubSub(\n",
        "        topic=\"projects/{}/topics/{}\".format(project, args.inputs_topic)\n",
        "    ).with_output_types(bytes)\n",
        "\n",
        "    sink = beam.io.WriteToPubSub(\n",
        "        topic=\"projects/{}/topics/{}\".format(project, args.outputs_topic)\n",
        "    )\n",
        "\n",
        "    run(args.predict_server, source, sink, beam_options)"
      ],
      "execution_count": 23,
      "outputs": [
        {
          "output_type": "stream",
          "name": "stdout",
          "text": [
            "Writing predict.py\n"
          ]
        }
      ]
    },
    {
      "cell_type": "code",
      "metadata": {
        "id": "jT_Qmb16hgEq",
        "colab": {
          "base_uri": "https://localhost:8080/"
        },
        "outputId": "482e9a1c-de7f-485e-d514-f84019c74296"
      },
      "source": [
        "%%writefile setup.py\n",
        "\n",
        "import setuptools\n",
        "\n",
        "REQUIRED_PACKAGES = [\n",
        "    \"apache-beam[gcp]==2.24.0\",\n",
        "    \"fsspec==0.8.4\",\n",
        "    \"gcsfs==0.7.1\",\n",
        "    \"loguru==0.5.3\",\n",
        "]\n",
        "\n",
        "setuptools.setup(\n",
        "    name=\"twitchstreaming\",\n",
        "    version=\"0.0.1\",\n",
        "    install_requires=REQUIRED_PACKAGES,\n",
        "    packages=setuptools.find_packages(),\n",
        "    include_package_data=True,\n",
        "    description=\"Twitch Troll Detection\",\n",
        ")"
      ],
      "execution_count": 24,
      "outputs": [
        {
          "output_type": "stream",
          "name": "stdout",
          "text": [
            "Writing setup.py\n"
          ]
        }
      ]
    },
    {
      "cell_type": "markdown",
      "metadata": {
        "id": "-RdyxvdVHmnZ"
      },
      "source": [
        "### Validación inferencia en streaming\n",
        "\n",
        "Con el comando mostrado a continuación se genera un job en streaming de Dataflow. Antes de ejecutarlo, deberás crear dos topicos en Pub/Sub, `twitch-chat` donde se recibirán los mensajes de twitch, y `twitch-chat-predictions` donde se mandarán las predicciones generadas por vuestro microservicio.\n",
        "\n",
        "**Importante**: no te olvides de modificar la URL de tu microservicio de inferencia."
      ]
    },
    {
      "cell_type": "code",
      "metadata": {
        "id": "9j4vzFn2wUPk"
      },
      "source": [
        "GCP_WORK_DIR = 'gs://final-practice-test-execution'\n",
        "GCP_REGION = 'us-east1'"
      ],
      "execution_count": 25,
      "outputs": []
    },
    {
      "cell_type": "code",
      "metadata": {
        "id": "S5ftKoXAhiJ7",
        "colab": {
          "base_uri": "https://localhost:8080/"
        },
        "outputId": "dfb7ee2d-23d1-476d-8146-ede791fccfe3"
      },
      "source": [
        "! python3 predict.py \\\n",
        "--project $PROJECT_ID \\\n",
        "--region $GCP_REGION \\\n",
        "--runner DataflowRunner \\\n",
        "--temp_location $GCP_WORK_DIR/beam-temp \\\n",
        "--setup_file ./setup.py \\\n",
        "--inputs_topic twitch-chat \\\n",
        "--outputs_topic twitch-chat-predictions \\\n",
        "--predict_server https://troll-detection-service-g2v7skqfeq-uc.a.run.app/api/model/predict \\"
      ],
      "execution_count": 26,
      "outputs": [
        {
          "output_type": "stream",
          "name": "stdout",
          "text": [
            "\u001b[32m2022-07-10 10:31:33.720\u001b[0m | \u001b[1mINFO    \u001b[0m | \u001b[36m__main__\u001b[0m:\u001b[36m<module>\u001b[0m:\u001b[36m88\u001b[0m - \u001b[1mNamespace(inputs_topic='twitch-chat', outputs_topic='twitch-chat-predictions', predict_server='https://troll-detection-service-g2v7skqfeq-uc.a.run.app/api/model/predict')\u001b[0m\n",
            "usage: predict.py [-h] [--dataflow_endpoint DATAFLOW_ENDPOINT]\n",
            "                  [--project PROJECT] [--job_name JOB_NAME]\n",
            "                  [--staging_location STAGING_LOCATION]\n",
            "                  [--temp_location TEMP_LOCATION] [--region REGION]\n",
            "                  [--service_account_email SERVICE_ACCOUNT_EMAIL] [--no_auth]\n",
            "                  [--template_location TEMPLATE_LOCATION] [--label LABELS]\n",
            "                  [--update] [--transform_name_mapping TRANSFORM_NAME_MAPPING]\n",
            "                  [--enable_streaming_engine]\n",
            "                  [--dataflow_kms_key DATAFLOW_KMS_KEY]\n",
            "                  [--flexrs_goal {COST_OPTIMIZED,SPEED_OPTIMIZED}]\n",
            "predict.py: error: argument --project: expected one argument\n"
          ]
        }
      ]
    },
    {
      "cell_type": "code",
      "source": [
        "REPOSITORIOPRACTICA= \"https://github.com/Gym28/DespligueAlgoritmosFInal.git\""
      ],
      "metadata": {
        "id": "oOJ5aai9sOKE"
      },
      "execution_count": 7,
      "outputs": []
    },
    {
      "cell_type": "code",
      "source": [
        "! git add <files>\n",
        "! git commit -m \"Nuevos cambios\"\n",
        "! git push  $REPOSITORIOPRACTICA origin master"
      ],
      "metadata": {
        "colab": {
          "base_uri": "https://localhost:8080/"
        },
        "id": "xcn0mwnxs5RK",
        "outputId": "1e0a48cd-5b2c-413d-ed7a-a7ed10b427f2"
      },
      "execution_count": 28,
      "outputs": [
        {
          "output_type": "stream",
          "name": "stdout",
          "text": [
            "/bin/bash: -c: line 0: syntax error near unexpected token `newline'\n",
            "/bin/bash: -c: line 0: ` git add <files>'\n",
            "fatal: not a git repository (or any of the parent directories): .git\n",
            "fatal: not a git repository (or any of the parent directories): .git\n"
          ]
        }
      ]
    }
  ]
}