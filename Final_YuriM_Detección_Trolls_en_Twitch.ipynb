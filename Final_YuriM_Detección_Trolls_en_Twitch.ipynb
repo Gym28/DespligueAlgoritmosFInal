{
  "nbformat": 4,
  "nbformat_minor": 0,
  "metadata": {
    "accelerator": "GPU",
    "colab": {
      "name": "Final YuriM- Detección Trolls en Twitch.ipynb",
      "provenance": [],
      "collapsed_sections": [],
      "machine_shape": "hm",
      "include_colab_link": true
    },
    "kernelspec": {
      "display_name": "Python 3",
      "name": "python3"
    },
    "gpuClass": "standard"
  },
  "cells": [
    {
      "cell_type": "markdown",
      "metadata": {
        "id": "view-in-github",
        "colab_type": "text"
      },
      "source": [
        "<a href=\"https://colab.research.google.com/github/Gym28/DespligueAlgoritmosFInal/blob/main/Final_YuriM_Detecci%C3%B3n_Trolls_en_Twitch.ipynb\" target=\"_parent\"><img src=\"https://colab.research.google.com/assets/colab-badge.svg\" alt=\"Open In Colab\"/></a>"
      ]
    },
    {
      "cell_type": "markdown",
      "metadata": {
        "id": "Cj8bcxFX85UO"
      },
      "source": [
        "# Práctica Final: detección de mensajes troll en chat de Twitch en tiempo real\n",
        "\n",
        "Durante este último año la plataforma de vídeo en streaming Twitch ha cogido mucha popularidad debido a la situación que hemos vivido debido al COVID-19. Por esto, mucha gente de todas las edades ha empezado a consumir esta plataforma de manera diaria.\n",
        "\n",
        "Como consecuencia, no sólo han aumentado las personas que ven contenido en Twitch, sino también el número de los denominados *trolls*, gente que pone comentarios ofensivos en los chat de los streamers.\n",
        "\n",
        "En esta práctica se desarrollará un sistema autónomo basado en IA y desplegado en GCP que detectará en tiempo real si los mensajes que se envían a un canal de Twitch son de un *troll* o no. La práctica constará de tres partes principales que serán evaluadas en la corrección:\n",
        "1. Entrenamiento e inferencia en Batch de un modelo usando Dataflow y AI Platform. **(3.5 puntos)**.\n",
        "2. Despliegue e inferencia online en microservicio con el modelo. **(3.5 puntos)**.\n",
        "3. Inferencia en streaming de un canal de Twitch con el microservicio anterior. **(3 puntos)**."
      ]
    },
    {
      "cell_type": "markdown",
      "metadata": {
        "id": "hgE9XB8ACVmQ"
      },
      "source": [
        "# Configuración de nuestro proyecto en GCP\n"
      ]
    },
    {
      "cell_type": "code",
      "metadata": {
        "id": "zAorVw7RCT9C",
        "outputId": "f7363063-4cec-46da-a852-305f69a7c19e",
        "colab": {
          "base_uri": "https://localhost:8080/"
        }
      },
      "source": [
        "PROJECT_ID = \"practica-final-355911 \" #@param {type:\"string\"}\n",
        "! gcloud config set project $PROJECT_ID"
      ],
      "execution_count": 1,
      "outputs": [
        {
          "output_type": "stream",
          "name": "stdout",
          "text": [
            "Updated property [core/project].\n"
          ]
        }
      ]
    },
    {
      "cell_type": "code",
      "metadata": {
        "id": "hbAl8pSkCXCm"
      },
      "source": [
        "import sys\n",
        "\n",
        "# If you are running this notebook in Colab, run this cell and follow the\n",
        "# instructions to authenticate your GCP account. This provides access to your\n",
        "# Cloud Storage bucket and lets you submit training jobs and prediction\n",
        "# requests.\n",
        "\n",
        "if 'google.colab' in sys.modules:\n",
        "  from google.colab import auth as google_auth\n",
        "  google_auth.authenticate_user()\n",
        "\n",
        "# If you are running this notebook locally, replace the string below with the\n",
        "# path to your service account key and run this cell to authenticate your GCP\n",
        "# account.\n",
        "else:\n",
        "  %env GOOGLE_APPLICATION_CREDENTIALS ''\n"
      ],
      "execution_count": 2,
      "outputs": []
    },
    {
      "cell_type": "code",
      "metadata": {
        "id": "n6Zpx14FCfXy"
      },
      "source": [
        "BUCKET_NAME = \"twitchsentiment\" #@param {type:\"string\"}\n",
        "REGION = \"europe-west1\" #@param {type:\"string\"}"
      ],
      "execution_count": 3,
      "outputs": []
    },
    {
      "cell_type": "code",
      "source": [
        "! gsutil mb -l $REGION gs://$BUCKET_NAME"
      ],
      "metadata": {
        "colab": {
          "base_uri": "https://localhost:8080/"
        },
        "id": "vEW9dX-e7qGc",
        "outputId": "fe662793-47a2-40fa-9d9d-6bd538be913f"
      },
      "execution_count": 4,
      "outputs": [
        {
          "output_type": "stream",
          "name": "stdout",
          "text": [
            "Creating gs://twitchsentiment/...\n",
            "ServiceException: 409 A Cloud Storage bucket named 'twitchsentiment' already exists. Try another name. Bucket names must be globally unique across all Google Cloud projects, including those outside of your organization.\n"
          ]
        }
      ]
    },
    {
      "cell_type": "code",
      "metadata": {
        "id": "lE4V-Xt0ChSb",
        "outputId": "555e317c-dfac-49c8-d225-573332267508",
        "colab": {
          "base_uri": "https://localhost:8080/"
        }
      },
      "source": [
        "! gsutil ls -al gs://$BUCKET_NAME  #EL SENTIMENT-BATCH FUE UNA PRUEBA PORQUE NO SUBIAN NO SUBIERON LOS OTROS ARCHIVOS MENSAJE ENVIADO POR SLACK"
      ],
      "execution_count": 4,
      "outputs": [
        {
          "output_type": "stream",
          "name": "stdout",
          "text": [
            "   2756023  2022-07-10T16:50:51Z  gs://twitchsentiment/data.json#1657471851873830  metageneration=1\n",
            "TOTAL: 1 objects, 2756023 bytes (2.63 MiB)\n"
          ]
        }
      ]
    },
    {
      "cell_type": "markdown",
      "metadata": {
        "id": "3D8Qw14y_nRa"
      },
      "source": [
        "# Entrenamiento e inferencia en Batch\n",
        "\n",
        "Para esta primera parte se va a utilizar [Tweets Dataset for Detection of Cyber-Trolls](https://www.kaggle.com/dataturks/dataset-for-detection-of-cybertrolls). El objetivo es desarrollar un clasificador binario para detectar si el mensaje recibido es troll (1) o no (0). **Las métricas obtenidas del entrenamiento y la inferencia no se tendrán en cuenta para la evaluación de la práctica, la importancia está en la arquitectura de la solución**.\n",
        "\n",
        "A continuación os dejo un diagrama con la arquitectura que se va a desarrollar:\n",
        "\n",
        "![batch_diagram](https://drive.google.com/uc?export=view&id=1h1BkIunyKSkJYFRbXKNWpHOZ_rDUyGAT)"
      ]
    },
    {
      "cell_type": "markdown",
      "metadata": {
        "id": "qM_dh-471gIq"
      },
      "source": [
        "A continuación, se van a subir los datos de entrenamiento al bucket del proyecto que se haya creado. **Importante:** crea el bucket en una única región para evitar problemas más adelante."
      ]
    },
    {
      "cell_type": "code",
      "metadata": {
        "id": "Sqp4L_nmUjAc",
        "outputId": "9e04b790-ce92-4e7d-db3f-62737d1cd46d",
        "colab": {
          "base_uri": "https://localhost:8080/"
        }
      },
      "source": [
        "# Upload data to your bucket\n",
        "! wget https://storage.googleapis.com/twitch-practice-keepcoding/data.json -O - | gsutil cp - gs://$BUCKET_NAME/data.json"
      ],
      "execution_count": 7,
      "outputs": [
        {
          "output_type": "stream",
          "name": "stdout",
          "text": [
            "--2022-07-10 16:50:49--  https://storage.googleapis.com/twitch-practice-keepcoding/data.json\n",
            "Resolving storage.googleapis.com (storage.googleapis.com)... 108.177.119.128, 142.251.31.128, 142.251.18.128, ...\n",
            "Connecting to storage.googleapis.com (storage.googleapis.com)|108.177.119.128|:443... connected.\n",
            "HTTP request sent, awaiting response... 200 OK\n",
            "Length: 2756023 (2.6M) [application/json]\n",
            "Saving to: ‘STDOUT’\n",
            "\n",
            "-                     0%[                    ]       0  --.-KB/s               Copying from <STDIN>...\n",
            "-                   100%[===================>]   2.63M  1.30MB/s    in 2.0s    \n",
            "\n",
            "2022-07-10 16:50:51 (1.30 MB/s) - written to stdout [2756023/2756023]\n",
            "\n",
            "/ [1 files][    0.0 B/    0.0 B]                                                \n",
            "Operation completed over 1 objects.                                              \n"
          ]
        }
      ]
    },
    {
      "cell_type": "markdown",
      "metadata": {
        "id": "vCQQ9j2I11tg"
      },
      "source": [
        "Ahora se crea el directorio dónde vas a desarrollar esta primera parte de la práctica."
      ]
    },
    {
      "cell_type": "code",
      "metadata": {
        "id": "PsblBlJ6RrGm"
      },
      "source": [
        "%mkdir /content/batch"
      ],
      "execution_count": 8,
      "outputs": []
    },
    {
      "cell_type": "markdown",
      "metadata": {
        "id": "nyK51quU1_oi"
      },
      "source": [
        "Se establece el directorio de trabajo que hemos creado."
      ]
    },
    {
      "cell_type": "code",
      "metadata": {
        "id": "s7ybSaotRwkP",
        "colab": {
          "base_uri": "https://localhost:8080/"
        },
        "outputId": "0c34236f-9c08-4843-8a27-27c82e875e8d"
      },
      "source": [
        "import os\n",
        "\n",
        "# Set the working directory to the sample code directory\n",
        "%cd /content/batch\n",
        "\n",
        "WORK_DIR = os.getcwd()"
      ],
      "execution_count": 7,
      "outputs": [
        {
          "output_type": "stream",
          "name": "stdout",
          "text": [
            "/content/batch\n"
          ]
        }
      ]
    },
    {
      "cell_type": "markdown",
      "metadata": {
        "id": "4NSd4bAo2aj_"
      },
      "source": [
        "Ahora se descargarán los datos en el workspace de Colab para trabajar en local."
      ]
    },
    {
      "cell_type": "code",
      "metadata": {
        "id": "qOmUJSg1JCgg",
        "colab": {
          "base_uri": "https://localhost:8080/"
        },
        "outputId": "5e46f705-86c0-49cc-fe09-5b678a58be3d"
      },
      "source": [
        "! wget https://storage.googleapis.com/twitch-practice-keepcoding/data.json"
      ],
      "execution_count": 10,
      "outputs": [
        {
          "output_type": "stream",
          "name": "stdout",
          "text": [
            "--2022-07-10 16:51:04--  https://storage.googleapis.com/twitch-practice-keepcoding/data.json\n",
            "Resolving storage.googleapis.com (storage.googleapis.com)... 74.125.128.128, 108.177.119.128, 108.177.127.128, ...\n",
            "Connecting to storage.googleapis.com (storage.googleapis.com)|74.125.128.128|:443... connected.\n",
            "HTTP request sent, awaiting response... 200 OK\n",
            "Length: 2756023 (2.6M) [application/json]\n",
            "Saving to: ‘data.json’\n",
            "\n",
            "\rdata.json             0%[                    ]       0  --.-KB/s               \rdata.json           100%[===================>]   2.63M  --.-KB/s    in 0.01s   \n",
            "\n",
            "2022-07-10 16:51:04 (204 MB/s) - ‘data.json’ saved [2756023/2756023]\n",
            "\n"
          ]
        }
      ]
    },
    {
      "cell_type": "markdown",
      "metadata": {
        "id": "eRoW6zyg2kEz"
      },
      "source": [
        "Se establecen las dependencias que se usarán en la práctica. Se pueden añadir y quitar las dependencias que no se usen o viceversa."
      ]
    },
    {
      "cell_type": "code",
      "metadata": {
        "id": "9s0-8_JK_z2D",
        "colab": {
          "base_uri": "https://localhost:8080/"
        },
        "outputId": "ca4b00d9-9e51-4c87-ddc2-4d3b72dd20ee"
      },
      "source": [
        "%%writefile requirements.txt\n",
        "\n",
        "apache-beam[gcp]==2.24.0\n",
        "tensorflow\n",
        "gensim==3.6.0\n",
        "fsspec==0.8.4\n",
        "gcsfs==0.7.1\n",
        "numpy==1.20.0"
      ],
      "execution_count": 5,
      "outputs": [
        {
          "output_type": "stream",
          "name": "stdout",
          "text": [
            "Writing requirements.txt\n"
          ]
        }
      ]
    },
    {
      "cell_type": "code",
      "metadata": {
        "id": "ZS6P8A4c_8le",
        "colab": {
          "base_uri": "https://localhost:8080/",
          "height": 1000
        },
        "outputId": "7964672c-427e-4256-ea2f-6375a5b3669a"
      },
      "source": [
        "! pip install -r requirements.txt"
      ],
      "execution_count": 12,
      "outputs": [
        {
          "output_type": "stream",
          "name": "stdout",
          "text": [
            "Looking in indexes: https://pypi.org/simple, https://us-python.pkg.dev/colab-wheels/public/simple/\n",
            "Collecting apache-beam[gcp]==2.24.0\n",
            "  Downloading apache_beam-2.24.0-cp37-cp37m-manylinux2010_x86_64.whl (8.5 MB)\n",
            "\u001b[K     |████████████████████████████████| 8.5 MB 3.9 MB/s \n",
            "\u001b[?25hRequirement already satisfied: tensorflow in /usr/local/lib/python3.7/dist-packages (from -r requirements.txt (line 3)) (2.8.2+zzzcolab20220527125636)\n",
            "Requirement already satisfied: gensim==3.6.0 in /usr/local/lib/python3.7/dist-packages (from -r requirements.txt (line 4)) (3.6.0)\n",
            "Collecting fsspec==0.8.4\n",
            "  Downloading fsspec-0.8.4-py3-none-any.whl (91 kB)\n",
            "\u001b[K     |████████████████████████████████| 91 kB 9.7 MB/s \n",
            "\u001b[?25hCollecting gcsfs==0.7.1\n",
            "  Downloading gcsfs-0.7.1-py2.py3-none-any.whl (20 kB)\n",
            "Collecting numpy==1.20.0\n",
            "  Downloading numpy-1.20.0-cp37-cp37m-manylinux2010_x86_64.whl (15.3 MB)\n",
            "\u001b[K     |████████████████████████████████| 15.3 MB 58.3 MB/s \n",
            "\u001b[?25hRequirement already satisfied: six>=1.5.0 in /usr/local/lib/python3.7/dist-packages (from gensim==3.6.0->-r requirements.txt (line 4)) (1.15.0)\n",
            "Requirement already satisfied: scipy>=0.18.1 in /usr/local/lib/python3.7/dist-packages (from gensim==3.6.0->-r requirements.txt (line 4)) (1.4.1)\n",
            "Requirement already satisfied: smart-open>=1.2.1 in /usr/local/lib/python3.7/dist-packages (from gensim==3.6.0->-r requirements.txt (line 4)) (5.2.1)\n",
            "Requirement already satisfied: requests in /usr/local/lib/python3.7/dist-packages (from gcsfs==0.7.1->-r requirements.txt (line 6)) (2.23.0)\n",
            "Requirement already satisfied: decorator in /usr/local/lib/python3.7/dist-packages (from gcsfs==0.7.1->-r requirements.txt (line 6)) (4.4.2)\n",
            "Requirement already satisfied: google-auth-oauthlib in /usr/local/lib/python3.7/dist-packages (from gcsfs==0.7.1->-r requirements.txt (line 6)) (0.4.6)\n",
            "Collecting aiohttp\n",
            "  Downloading aiohttp-3.8.1-cp37-cp37m-manylinux_2_5_x86_64.manylinux1_x86_64.manylinux_2_12_x86_64.manylinux2010_x86_64.whl (1.1 MB)\n",
            "\u001b[K     |████████████████████████████████| 1.1 MB 62.6 MB/s \n",
            "\u001b[?25hRequirement already satisfied: google-auth>=1.2 in /usr/local/lib/python3.7/dist-packages (from gcsfs==0.7.1->-r requirements.txt (line 6)) (1.35.0)\n",
            "Requirement already satisfied: crcmod<2.0,>=1.7 in /usr/local/lib/python3.7/dist-packages (from apache-beam[gcp]==2.24.0->-r requirements.txt (line 2)) (1.7)\n",
            "Collecting pyarrow<0.18.0,>=0.15.1\n",
            "  Downloading pyarrow-0.17.1-cp37-cp37m-manylinux2014_x86_64.whl (63.8 MB)\n",
            "\u001b[K     |████████████████████████████████| 63.8 MB 1.1 MB/s \n",
            "\u001b[?25hCollecting requests\n",
            "  Downloading requests-2.28.1-py3-none-any.whl (62 kB)\n",
            "\u001b[K     |████████████████████████████████| 62 kB 1.5 MB/s \n",
            "\u001b[?25hCollecting typing-extensions<3.8.0,>=3.7.0\n",
            "  Downloading typing_extensions-3.7.4.3-py3-none-any.whl (22 kB)\n",
            "Requirement already satisfied: httplib2<0.18.0,>=0.8 in /usr/local/lib/python3.7/dist-packages (from apache-beam[gcp]==2.24.0->-r requirements.txt (line 2)) (0.17.4)\n",
            "Requirement already satisfied: pydot<2,>=1.2.0 in /usr/local/lib/python3.7/dist-packages (from apache-beam[gcp]==2.24.0->-r requirements.txt (line 2)) (1.3.0)\n",
            "Collecting avro-python3!=1.9.2,<1.10.0,>=1.8.1\n",
            "  Downloading avro-python3-1.9.2.1.tar.gz (37 kB)\n",
            "Collecting future<1.0.0,>=0.18.2\n",
            "  Downloading future-0.18.2.tar.gz (829 kB)\n",
            "\u001b[K     |████████████████████████████████| 829 kB 53.4 MB/s \n",
            "\u001b[?25hCollecting fastavro<0.24,>=0.21.4\n",
            "  Downloading fastavro-0.23.6-cp37-cp37m-manylinux2010_x86_64.whl (1.4 MB)\n",
            "\u001b[K     |████████████████████████████████| 1.4 MB 68.3 MB/s \n",
            "\u001b[?25hRequirement already satisfied: protobuf<4,>=3.12.2 in /usr/local/lib/python3.7/dist-packages (from apache-beam[gcp]==2.24.0->-r requirements.txt (line 2)) (3.17.3)\n",
            "Collecting oauth2client<4,>=2.0.1\n",
            "  Downloading oauth2client-3.0.0.tar.gz (77 kB)\n",
            "\u001b[K     |████████████████████████████████| 77 kB 4.7 MB/s \n",
            "\u001b[?25hCollecting hdfs<3.0.0,>=2.1.0\n",
            "  Downloading hdfs-2.7.0-py3-none-any.whl (34 kB)\n",
            "Requirement already satisfied: grpcio<2,>=1.29.0 in /usr/local/lib/python3.7/dist-packages (from apache-beam[gcp]==2.24.0->-r requirements.txt (line 2)) (1.46.3)\n",
            "Collecting mock<3.0.0,>=1.0.1\n",
            "  Downloading mock-2.0.0-py2.py3-none-any.whl (56 kB)\n",
            "\u001b[K     |████████████████████████████████| 56 kB 4.7 MB/s \n",
            "\u001b[?25hRequirement already satisfied: pytz>=2018.3 in /usr/local/lib/python3.7/dist-packages (from apache-beam[gcp]==2.24.0->-r requirements.txt (line 2)) (2022.1)\n",
            "Collecting pymongo<4.0.0,>=3.8.0\n",
            "  Downloading pymongo-3.12.3-cp37-cp37m-manylinux_2_17_x86_64.manylinux2014_x86_64.whl (508 kB)\n",
            "\u001b[K     |████████████████████████████████| 508 kB 72.3 MB/s \n",
            "\u001b[?25hCollecting dill<0.3.2,>=0.3.1.1\n",
            "  Downloading dill-0.3.1.1.tar.gz (151 kB)\n",
            "\u001b[K     |████████████████████████████████| 151 kB 74.6 MB/s \n",
            "\u001b[?25hRequirement already satisfied: python-dateutil<3,>=2.8.0 in /usr/local/lib/python3.7/dist-packages (from apache-beam[gcp]==2.24.0->-r requirements.txt (line 2)) (2.8.2)\n",
            "Requirement already satisfied: google-cloud-datastore<2,>=1.7.1 in /usr/local/lib/python3.7/dist-packages (from apache-beam[gcp]==2.24.0->-r requirements.txt (line 2)) (1.8.0)\n",
            "Requirement already satisfied: google-cloud-core<2,>=0.28.1 in /usr/local/lib/python3.7/dist-packages (from apache-beam[gcp]==2.24.0->-r requirements.txt (line 2)) (1.0.3)\n",
            "Requirement already satisfied: google-cloud-bigquery<2,>=1.6.0 in /usr/local/lib/python3.7/dist-packages (from apache-beam[gcp]==2.24.0->-r requirements.txt (line 2)) (1.21.0)\n",
            "Collecting google-cloud-spanner<2,>=1.13.0\n",
            "  Downloading google_cloud_spanner-1.19.3-py2.py3-none-any.whl (255 kB)\n",
            "\u001b[K     |████████████████████████████████| 255 kB 71.9 MB/s \n",
            "\u001b[?25hCollecting grpcio-gcp<1,>=0.2.2\n",
            "  Downloading grpcio_gcp-0.2.2-py2.py3-none-any.whl (9.4 kB)\n",
            "Collecting google-apitools<0.5.32,>=0.5.31\n",
            "  Downloading google-apitools-0.5.31.tar.gz (173 kB)\n",
            "\u001b[K     |████████████████████████████████| 173 kB 85.7 MB/s \n",
            "\u001b[?25hCollecting google-cloud-language<2,>=1.3.0\n",
            "  Downloading google_cloud_language-1.3.2-py2.py3-none-any.whl (83 kB)\n",
            "\u001b[K     |████████████████████████████████| 83 kB 2.1 MB/s \n",
            "\u001b[?25hCollecting google-cloud-vision<2,>=0.38.0\n",
            "  Downloading google_cloud_vision-1.0.2-py2.py3-none-any.whl (435 kB)\n",
            "\u001b[K     |████████████████████████████████| 435 kB 85.2 MB/s \n",
            "\u001b[?25hCollecting google-cloud-dlp<2,>=0.12.0\n",
            "  Downloading google_cloud_dlp-1.0.2-py2.py3-none-any.whl (169 kB)\n",
            "\u001b[K     |████████████████████████████████| 169 kB 63.4 MB/s \n",
            "\u001b[?25hCollecting cachetools<4,>=3.1.0\n",
            "  Downloading cachetools-3.1.1-py2.py3-none-any.whl (11 kB)\n",
            "Collecting google-cloud-bigtable<2,>=0.31.1\n",
            "  Downloading google_cloud_bigtable-1.7.2-py2.py3-none-any.whl (267 kB)\n",
            "\u001b[K     |████████████████████████████████| 267 kB 67.7 MB/s \n",
            "\u001b[?25hCollecting google-cloud-videointelligence<2,>=1.8.0\n",
            "  Downloading google_cloud_videointelligence-1.16.3-py2.py3-none-any.whl (183 kB)\n",
            "\u001b[K     |████████████████████████████████| 183 kB 86.2 MB/s \n",
            "\u001b[?25hCollecting google-cloud-pubsub<2,>=0.39.0\n",
            "  Downloading google_cloud_pubsub-1.7.2-py2.py3-none-any.whl (144 kB)\n",
            "\u001b[K     |████████████████████████████████| 144 kB 73.7 MB/s \n",
            "\u001b[?25hCollecting fasteners>=0.14\n",
            "  Downloading fasteners-0.17.3-py3-none-any.whl (18 kB)\n",
            "Requirement already satisfied: setuptools>=40.3.0 in /usr/local/lib/python3.7/dist-packages (from google-auth>=1.2->gcsfs==0.7.1->-r requirements.txt (line 6)) (57.4.0)\n",
            "Requirement already satisfied: pyasn1-modules>=0.2.1 in /usr/local/lib/python3.7/dist-packages (from google-auth>=1.2->gcsfs==0.7.1->-r requirements.txt (line 6)) (0.2.8)\n",
            "Requirement already satisfied: rsa<5,>=3.1.4 in /usr/local/lib/python3.7/dist-packages (from google-auth>=1.2->gcsfs==0.7.1->-r requirements.txt (line 6)) (4.8)\n",
            "Requirement already satisfied: google-resumable-media!=0.4.0,<0.5.0dev,>=0.3.1 in /usr/local/lib/python3.7/dist-packages (from google-cloud-bigquery<2,>=1.6.0->apache-beam[gcp]==2.24.0->-r requirements.txt (line 2)) (0.4.1)\n",
            "Collecting grpc-google-iam-v1<0.13dev,>=0.12.3\n",
            "  Downloading grpc_google_iam_v1-0.12.4-py2.py3-none-any.whl (26 kB)\n",
            "Requirement already satisfied: google-api-core[grpc]!=2.0.*,!=2.1.*,!=2.2.*,!=2.3.0,<3.0.0dev,>=1.31.5 in /usr/local/lib/python3.7/dist-packages (from google-cloud-bigtable<2,>=0.31.1->apache-beam[gcp]==2.24.0->-r requirements.txt (line 2)) (1.31.6)\n",
            "Collecting google-cloud-core<2,>=0.28.1\n",
            "  Downloading google_cloud_core-1.7.2-py2.py3-none-any.whl (28 kB)\n",
            "Requirement already satisfied: packaging>=14.3 in /usr/local/lib/python3.7/dist-packages (from google-api-core[grpc]!=2.0.*,!=2.1.*,!=2.2.*,!=2.3.0,<3.0.0dev,>=1.31.5->google-cloud-bigtable<2,>=0.31.1->apache-beam[gcp]==2.24.0->-r requirements.txt (line 2)) (21.3)\n",
            "Requirement already satisfied: googleapis-common-protos<2.0dev,>=1.6.0 in /usr/local/lib/python3.7/dist-packages (from google-api-core[grpc]!=2.0.*,!=2.1.*,!=2.2.*,!=2.3.0,<3.0.0dev,>=1.31.5->google-cloud-bigtable<2,>=0.31.1->apache-beam[gcp]==2.24.0->-r requirements.txt (line 2)) (1.56.2)\n",
            "Requirement already satisfied: docopt in /usr/local/lib/python3.7/dist-packages (from hdfs<3.0.0,>=2.1.0->apache-beam[gcp]==2.24.0->-r requirements.txt (line 2)) (0.6.2)\n",
            "Collecting pbr>=0.11\n",
            "  Downloading pbr-5.9.0-py2.py3-none-any.whl (112 kB)\n",
            "\u001b[K     |████████████████████████████████| 112 kB 85.0 MB/s \n",
            "\u001b[?25hRequirement already satisfied: pyasn1>=0.1.7 in /usr/local/lib/python3.7/dist-packages (from oauth2client<4,>=2.0.1->apache-beam[gcp]==2.24.0->-r requirements.txt (line 2)) (0.4.8)\n",
            "Requirement already satisfied: pyparsing!=3.0.5,>=2.0.2 in /usr/local/lib/python3.7/dist-packages (from packaging>=14.3->google-api-core[grpc]!=2.0.*,!=2.1.*,!=2.2.*,!=2.3.0,<3.0.0dev,>=1.31.5->google-cloud-bigtable<2,>=0.31.1->apache-beam[gcp]==2.24.0->-r requirements.txt (line 2)) (3.0.9)\n",
            "Requirement already satisfied: certifi>=2017.4.17 in /usr/local/lib/python3.7/dist-packages (from requests->gcsfs==0.7.1->-r requirements.txt (line 6)) (2022.6.15)\n",
            "Requirement already satisfied: charset-normalizer<3,>=2 in /usr/local/lib/python3.7/dist-packages (from requests->gcsfs==0.7.1->-r requirements.txt (line 6)) (2.1.0)\n",
            "Requirement already satisfied: idna<4,>=2.5 in /usr/local/lib/python3.7/dist-packages (from requests->gcsfs==0.7.1->-r requirements.txt (line 6)) (2.10)\n",
            "Requirement already satisfied: urllib3<1.27,>=1.21.1 in /usr/local/lib/python3.7/dist-packages (from requests->gcsfs==0.7.1->-r requirements.txt (line 6)) (1.24.3)\n",
            "Requirement already satisfied: gast>=0.2.1 in /usr/local/lib/python3.7/dist-packages (from tensorflow->-r requirements.txt (line 3)) (0.5.3)\n",
            "Requirement already satisfied: wrapt>=1.11.0 in /usr/local/lib/python3.7/dist-packages (from tensorflow->-r requirements.txt (line 3)) (1.14.1)\n",
            "Requirement already satisfied: tensorflow-io-gcs-filesystem>=0.23.1 in /usr/local/lib/python3.7/dist-packages (from tensorflow->-r requirements.txt (line 3)) (0.26.0)\n",
            "Requirement already satisfied: keras<2.9,>=2.8.0rc0 in /usr/local/lib/python3.7/dist-packages (from tensorflow->-r requirements.txt (line 3)) (2.8.0)\n",
            "Requirement already satisfied: flatbuffers>=1.12 in /usr/local/lib/python3.7/dist-packages (from tensorflow->-r requirements.txt (line 3)) (2.0)\n",
            "Requirement already satisfied: opt-einsum>=2.3.2 in /usr/local/lib/python3.7/dist-packages (from tensorflow->-r requirements.txt (line 3)) (3.3.0)\n",
            "Requirement already satisfied: tensorboard<2.9,>=2.8 in /usr/local/lib/python3.7/dist-packages (from tensorflow->-r requirements.txt (line 3)) (2.8.0)\n",
            "Requirement already satisfied: tensorflow-estimator<2.9,>=2.8 in /usr/local/lib/python3.7/dist-packages (from tensorflow->-r requirements.txt (line 3)) (2.8.0)\n",
            "Requirement already satisfied: termcolor>=1.1.0 in /usr/local/lib/python3.7/dist-packages (from tensorflow->-r requirements.txt (line 3)) (1.1.0)\n",
            "Requirement already satisfied: astunparse>=1.6.0 in /usr/local/lib/python3.7/dist-packages (from tensorflow->-r requirements.txt (line 3)) (1.6.3)\n",
            "Requirement already satisfied: libclang>=9.0.1 in /usr/local/lib/python3.7/dist-packages (from tensorflow->-r requirements.txt (line 3)) (14.0.1)\n",
            "Requirement already satisfied: h5py>=2.9.0 in /usr/local/lib/python3.7/dist-packages (from tensorflow->-r requirements.txt (line 3)) (3.1.0)\n",
            "Requirement already satisfied: keras-preprocessing>=1.1.1 in /usr/local/lib/python3.7/dist-packages (from tensorflow->-r requirements.txt (line 3)) (1.1.2)\n",
            "Requirement already satisfied: absl-py>=0.4.0 in /usr/local/lib/python3.7/dist-packages (from tensorflow->-r requirements.txt (line 3)) (1.1.0)\n",
            "Requirement already satisfied: google-pasta>=0.1.1 in /usr/local/lib/python3.7/dist-packages (from tensorflow->-r requirements.txt (line 3)) (0.2.0)\n",
            "Requirement already satisfied: wheel<1.0,>=0.23.0 in /usr/local/lib/python3.7/dist-packages (from astunparse>=1.6.0->tensorflow->-r requirements.txt (line 3)) (0.37.1)\n",
            "Requirement already satisfied: cached-property in /usr/local/lib/python3.7/dist-packages (from h5py>=2.9.0->tensorflow->-r requirements.txt (line 3)) (1.5.2)\n",
            "Requirement already satisfied: tensorboard-plugin-wit>=1.6.0 in /usr/local/lib/python3.7/dist-packages (from tensorboard<2.9,>=2.8->tensorflow->-r requirements.txt (line 3)) (1.8.1)\n",
            "Requirement already satisfied: tensorboard-data-server<0.7.0,>=0.6.0 in /usr/local/lib/python3.7/dist-packages (from tensorboard<2.9,>=2.8->tensorflow->-r requirements.txt (line 3)) (0.6.1)\n",
            "Requirement already satisfied: markdown>=2.6.8 in /usr/local/lib/python3.7/dist-packages (from tensorboard<2.9,>=2.8->tensorflow->-r requirements.txt (line 3)) (3.3.7)\n",
            "Requirement already satisfied: werkzeug>=0.11.15 in /usr/local/lib/python3.7/dist-packages (from tensorboard<2.9,>=2.8->tensorflow->-r requirements.txt (line 3)) (1.0.1)\n",
            "Requirement already satisfied: requests-oauthlib>=0.7.0 in /usr/local/lib/python3.7/dist-packages (from google-auth-oauthlib->gcsfs==0.7.1->-r requirements.txt (line 6)) (1.3.1)\n",
            "Requirement already satisfied: importlib-metadata>=4.4 in /usr/local/lib/python3.7/dist-packages (from markdown>=2.6.8->tensorboard<2.9,>=2.8->tensorflow->-r requirements.txt (line 3)) (4.11.4)\n",
            "Requirement already satisfied: zipp>=0.5 in /usr/local/lib/python3.7/dist-packages (from importlib-metadata>=4.4->markdown>=2.6.8->tensorboard<2.9,>=2.8->tensorflow->-r requirements.txt (line 3)) (3.8.0)\n",
            "Requirement already satisfied: oauthlib>=3.0.0 in /usr/local/lib/python3.7/dist-packages (from requests-oauthlib>=0.7.0->google-auth-oauthlib->gcsfs==0.7.1->-r requirements.txt (line 6)) (3.2.0)\n",
            "Collecting yarl<2.0,>=1.0\n",
            "  Downloading yarl-1.7.2-cp37-cp37m-manylinux_2_5_x86_64.manylinux1_x86_64.manylinux_2_12_x86_64.manylinux2010_x86_64.whl (271 kB)\n",
            "\u001b[K     |████████████████████████████████| 271 kB 94.1 MB/s \n",
            "\u001b[?25hCollecting frozenlist>=1.1.1\n",
            "  Downloading frozenlist-1.3.0-cp37-cp37m-manylinux_2_5_x86_64.manylinux1_x86_64.manylinux_2_17_x86_64.manylinux2014_x86_64.whl (144 kB)\n",
            "\u001b[K     |████████████████████████████████| 144 kB 92.7 MB/s \n",
            "\u001b[?25hCollecting multidict<7.0,>=4.5\n",
            "  Downloading multidict-6.0.2-cp37-cp37m-manylinux_2_17_x86_64.manylinux2014_x86_64.whl (94 kB)\n",
            "\u001b[K     |████████████████████████████████| 94 kB 3.6 MB/s \n",
            "\u001b[?25hCollecting aiosignal>=1.1.2\n",
            "  Downloading aiosignal-1.2.0-py3-none-any.whl (8.2 kB)\n",
            "Collecting asynctest==0.13.0\n",
            "  Downloading asynctest-0.13.0-py3-none-any.whl (26 kB)\n",
            "Collecting async-timeout<5.0,>=4.0.0a3\n",
            "  Downloading async_timeout-4.0.2-py3-none-any.whl (5.8 kB)\n",
            "Requirement already satisfied: attrs>=17.3.0 in /usr/local/lib/python3.7/dist-packages (from aiohttp->gcsfs==0.7.1->-r requirements.txt (line 6)) (21.4.0)\n",
            "Building wheels for collected packages: avro-python3, dill, future, google-apitools, oauth2client\n",
            "  Building wheel for avro-python3 (setup.py) ... \u001b[?25l\u001b[?25hdone\n",
            "  Created wheel for avro-python3: filename=avro_python3-1.9.2.1-py3-none-any.whl size=43513 sha256=06b58c9ded3cace58bc4ea7032ae54e57f26df4c635ef656f9ed8890148a3733\n",
            "  Stored in directory: /root/.cache/pip/wheels/bc/49/5f/fdb5b9d85055c478213e0158ac122b596816149a02d82e0ab1\n",
            "  Building wheel for dill (setup.py) ... \u001b[?25l\u001b[?25hdone\n",
            "  Created wheel for dill: filename=dill-0.3.1.1-py3-none-any.whl size=78544 sha256=20ec24dcb4c41ac098cbe4d99db0623c6f0594e81a50f68509e7b183e55d239d\n",
            "  Stored in directory: /root/.cache/pip/wheels/a4/61/fd/c57e374e580aa78a45ed78d5859b3a44436af17e22ca53284f\n",
            "  Building wheel for future (setup.py) ... \u001b[?25l\u001b[?25hdone\n",
            "  Created wheel for future: filename=future-0.18.2-py3-none-any.whl size=491070 sha256=484125459d19771fe469b2bfc3d698f305b8132681e181fe718a2ade6efb821c\n",
            "  Stored in directory: /root/.cache/pip/wheels/56/b0/fe/4410d17b32f1f0c3cf54cdfb2bc04d7b4b8f4ae377e2229ba0\n",
            "  Building wheel for google-apitools (setup.py) ... \u001b[?25l\u001b[?25hdone\n",
            "  Created wheel for google-apitools: filename=google_apitools-0.5.31-py3-none-any.whl size=131039 sha256=48bf3571d2cbbbc422ac42d0948212de53d98a5e9b03dcd43a14f7e19a4e0f08\n",
            "  Stored in directory: /root/.cache/pip/wheels/19/b5/2f/1cc3cf2b31e7a9cd1508731212526d9550271274d351c96f16\n",
            "  Building wheel for oauth2client (setup.py) ... \u001b[?25l\u001b[?25hdone\n",
            "  Created wheel for oauth2client: filename=oauth2client-3.0.0-py3-none-any.whl size=106375 sha256=c9876bc0d0a50f41e89ce789ec2f9e7f90f68781bb25755ce84f15c02d11618c\n",
            "  Stored in directory: /root/.cache/pip/wheels/86/73/7a/3b3f76a2142176605ff38fbca574327962c71e25a43197a4c1\n",
            "Successfully built avro-python3 dill future google-apitools oauth2client\n",
            "Installing collected packages: cachetools, typing-extensions, requests, pbr, numpy, multidict, grpcio-gcp, frozenlist, yarl, pymongo, pyarrow, oauth2client, mock, hdfs, grpc-google-iam-v1, google-cloud-core, future, fasteners, fastavro, dill, avro-python3, asynctest, async-timeout, aiosignal, google-cloud-vision, google-cloud-videointelligence, google-cloud-spanner, google-cloud-pubsub, google-cloud-language, google-cloud-dlp, google-cloud-bigtable, google-apitools, fsspec, apache-beam, aiohttp, gcsfs\n",
            "  Attempting uninstall: cachetools\n",
            "    Found existing installation: cachetools 4.2.4\n",
            "    Uninstalling cachetools-4.2.4:\n",
            "      Successfully uninstalled cachetools-4.2.4\n",
            "  Attempting uninstall: typing-extensions\n",
            "    Found existing installation: typing-extensions 4.1.1\n",
            "    Uninstalling typing-extensions-4.1.1:\n",
            "      Successfully uninstalled typing-extensions-4.1.1\n",
            "  Attempting uninstall: requests\n",
            "    Found existing installation: requests 2.23.0\n",
            "    Uninstalling requests-2.23.0:\n",
            "      Successfully uninstalled requests-2.23.0\n",
            "  Attempting uninstall: numpy\n",
            "    Found existing installation: numpy 1.21.6\n",
            "    Uninstalling numpy-1.21.6:\n",
            "      Successfully uninstalled numpy-1.21.6\n",
            "  Attempting uninstall: pymongo\n",
            "    Found existing installation: pymongo 4.1.1\n",
            "    Uninstalling pymongo-4.1.1:\n",
            "      Successfully uninstalled pymongo-4.1.1\n",
            "  Attempting uninstall: pyarrow\n",
            "    Found existing installation: pyarrow 6.0.1\n",
            "    Uninstalling pyarrow-6.0.1:\n",
            "      Successfully uninstalled pyarrow-6.0.1\n",
            "  Attempting uninstall: oauth2client\n",
            "    Found existing installation: oauth2client 4.1.3\n",
            "    Uninstalling oauth2client-4.1.3:\n",
            "      Successfully uninstalled oauth2client-4.1.3\n",
            "  Attempting uninstall: google-cloud-core\n",
            "    Found existing installation: google-cloud-core 1.0.3\n",
            "    Uninstalling google-cloud-core-1.0.3:\n",
            "      Successfully uninstalled google-cloud-core-1.0.3\n",
            "  Attempting uninstall: future\n",
            "    Found existing installation: future 0.16.0\n",
            "    Uninstalling future-0.16.0:\n",
            "      Successfully uninstalled future-0.16.0\n",
            "  Attempting uninstall: dill\n",
            "    Found existing installation: dill 0.3.5.1\n",
            "    Uninstalling dill-0.3.5.1:\n",
            "      Successfully uninstalled dill-0.3.5.1\n",
            "  Attempting uninstall: google-cloud-language\n",
            "    Found existing installation: google-cloud-language 1.2.0\n",
            "    Uninstalling google-cloud-language-1.2.0:\n",
            "      Successfully uninstalled google-cloud-language-1.2.0\n",
            "\u001b[31mERROR: pip's dependency resolver does not currently take into account all the packages that are installed. This behaviour is the source of the following dependency conflicts.\n",
            "xarray-einstats 0.2.2 requires numpy>=1.21, but you have numpy 1.20.0 which is incompatible.\n",
            "pymc3 3.11.4 requires cachetools>=4.2.1, but you have cachetools 3.1.1 which is incompatible.\n",
            "pydrive 1.3.1 requires oauth2client>=4.0.0, but you have oauth2client 3.0.0 which is incompatible.\n",
            "multiprocess 0.70.13 requires dill>=0.3.5.1, but you have dill 0.3.1.1 which is incompatible.\n",
            "google-colab 1.0.0 requires requests~=2.23.0, but you have requests 2.28.1 which is incompatible.\n",
            "datascience 0.10.6 requires folium==0.2.1, but you have folium 0.8.3 which is incompatible.\n",
            "albumentations 0.1.12 requires imgaug<0.2.7,>=0.2.5, but you have imgaug 0.2.9 which is incompatible.\u001b[0m\n",
            "Successfully installed aiohttp-3.8.1 aiosignal-1.2.0 apache-beam-2.24.0 async-timeout-4.0.2 asynctest-0.13.0 avro-python3-1.9.2.1 cachetools-3.1.1 dill-0.3.1.1 fastavro-0.23.6 fasteners-0.17.3 frozenlist-1.3.0 fsspec-0.8.4 future-0.18.2 gcsfs-0.7.1 google-apitools-0.5.31 google-cloud-bigtable-1.7.2 google-cloud-core-1.7.2 google-cloud-dlp-1.0.2 google-cloud-language-1.3.2 google-cloud-pubsub-1.7.2 google-cloud-spanner-1.19.3 google-cloud-videointelligence-1.16.3 google-cloud-vision-1.0.2 grpc-google-iam-v1-0.12.4 grpcio-gcp-0.2.2 hdfs-2.7.0 mock-2.0.0 multidict-6.0.2 numpy-1.20.0 oauth2client-3.0.0 pbr-5.9.0 pyarrow-0.17.1 pymongo-3.12.3 requests-2.28.1 typing-extensions-3.7.4.3 yarl-1.7.2\n"
          ]
        },
        {
          "output_type": "display_data",
          "data": {
            "application/vnd.colab-display-data+json": {
              "pip_warning": {
                "packages": [
                  "cachetools",
                  "google",
                  "numpy",
                  "requests",
                  "typing_extensions"
                ]
              }
            }
          },
          "metadata": {}
        }
      ]
    },
    {
      "cell_type": "code",
      "source": [
        "import pandas as pd\n",
        "import json\n",
        "data = 'data.json'\n",
        "print(os.path.isfile(data))\n",
        "df = pd.read_json(data , lines=True)\n",
        "df.head()"
      ],
      "metadata": {
        "colab": {
          "base_uri": "https://localhost:8080/",
          "height": 224
        },
        "id": "EQKfoZuBWYz3",
        "outputId": "2dcbe61f-4e79-48dc-c96d-1bb40fc55a92"
      },
      "execution_count": 8,
      "outputs": [
        {
          "output_type": "stream",
          "name": "stdout",
          "text": [
            "True\n"
          ]
        },
        {
          "output_type": "execute_result",
          "data": {
            "text/plain": [
              "                                             content  \\\n",
              "0                             Get fucking real dude.   \n",
              "1   She is as dirty as they come  and that crook ...   \n",
              "2   why did you fuck it up. I could do it all day...   \n",
              "3   Dude they dont finish enclosing the fucking s...   \n",
              "4   WTF are you talking about Men? No men thats n...   \n",
              "\n",
              "                      annotation  extras  \n",
              "0  {'notes': '', 'label': ['1']}     NaN  \n",
              "1  {'notes': '', 'label': ['1']}     NaN  \n",
              "2  {'notes': '', 'label': ['1']}     NaN  \n",
              "3  {'notes': '', 'label': ['1']}     NaN  \n",
              "4  {'notes': '', 'label': ['1']}     NaN  "
            ],
            "text/html": [
              "\n",
              "  <div id=\"df-28ee528f-b792-43b5-8c32-dcb1c2ca0970\">\n",
              "    <div class=\"colab-df-container\">\n",
              "      <div>\n",
              "<style scoped>\n",
              "    .dataframe tbody tr th:only-of-type {\n",
              "        vertical-align: middle;\n",
              "    }\n",
              "\n",
              "    .dataframe tbody tr th {\n",
              "        vertical-align: top;\n",
              "    }\n",
              "\n",
              "    .dataframe thead th {\n",
              "        text-align: right;\n",
              "    }\n",
              "</style>\n",
              "<table border=\"1\" class=\"dataframe\">\n",
              "  <thead>\n",
              "    <tr style=\"text-align: right;\">\n",
              "      <th></th>\n",
              "      <th>content</th>\n",
              "      <th>annotation</th>\n",
              "      <th>extras</th>\n",
              "    </tr>\n",
              "  </thead>\n",
              "  <tbody>\n",
              "    <tr>\n",
              "      <th>0</th>\n",
              "      <td>Get fucking real dude.</td>\n",
              "      <td>{'notes': '', 'label': ['1']}</td>\n",
              "      <td>NaN</td>\n",
              "    </tr>\n",
              "    <tr>\n",
              "      <th>1</th>\n",
              "      <td>She is as dirty as they come  and that crook ...</td>\n",
              "      <td>{'notes': '', 'label': ['1']}</td>\n",
              "      <td>NaN</td>\n",
              "    </tr>\n",
              "    <tr>\n",
              "      <th>2</th>\n",
              "      <td>why did you fuck it up. I could do it all day...</td>\n",
              "      <td>{'notes': '', 'label': ['1']}</td>\n",
              "      <td>NaN</td>\n",
              "    </tr>\n",
              "    <tr>\n",
              "      <th>3</th>\n",
              "      <td>Dude they dont finish enclosing the fucking s...</td>\n",
              "      <td>{'notes': '', 'label': ['1']}</td>\n",
              "      <td>NaN</td>\n",
              "    </tr>\n",
              "    <tr>\n",
              "      <th>4</th>\n",
              "      <td>WTF are you talking about Men? No men thats n...</td>\n",
              "      <td>{'notes': '', 'label': ['1']}</td>\n",
              "      <td>NaN</td>\n",
              "    </tr>\n",
              "  </tbody>\n",
              "</table>\n",
              "</div>\n",
              "      <button class=\"colab-df-convert\" onclick=\"convertToInteractive('df-28ee528f-b792-43b5-8c32-dcb1c2ca0970')\"\n",
              "              title=\"Convert this dataframe to an interactive table.\"\n",
              "              style=\"display:none;\">\n",
              "        \n",
              "  <svg xmlns=\"http://www.w3.org/2000/svg\" height=\"24px\"viewBox=\"0 0 24 24\"\n",
              "       width=\"24px\">\n",
              "    <path d=\"M0 0h24v24H0V0z\" fill=\"none\"/>\n",
              "    <path d=\"M18.56 5.44l.94 2.06.94-2.06 2.06-.94-2.06-.94-.94-2.06-.94 2.06-2.06.94zm-11 1L8.5 8.5l.94-2.06 2.06-.94-2.06-.94L8.5 2.5l-.94 2.06-2.06.94zm10 10l.94 2.06.94-2.06 2.06-.94-2.06-.94-.94-2.06-.94 2.06-2.06.94z\"/><path d=\"M17.41 7.96l-1.37-1.37c-.4-.4-.92-.59-1.43-.59-.52 0-1.04.2-1.43.59L10.3 9.45l-7.72 7.72c-.78.78-.78 2.05 0 2.83L4 21.41c.39.39.9.59 1.41.59.51 0 1.02-.2 1.41-.59l7.78-7.78 2.81-2.81c.8-.78.8-2.07 0-2.86zM5.41 20L4 18.59l7.72-7.72 1.47 1.35L5.41 20z\"/>\n",
              "  </svg>\n",
              "      </button>\n",
              "      \n",
              "  <style>\n",
              "    .colab-df-container {\n",
              "      display:flex;\n",
              "      flex-wrap:wrap;\n",
              "      gap: 12px;\n",
              "    }\n",
              "\n",
              "    .colab-df-convert {\n",
              "      background-color: #E8F0FE;\n",
              "      border: none;\n",
              "      border-radius: 50%;\n",
              "      cursor: pointer;\n",
              "      display: none;\n",
              "      fill: #1967D2;\n",
              "      height: 32px;\n",
              "      padding: 0 0 0 0;\n",
              "      width: 32px;\n",
              "    }\n",
              "\n",
              "    .colab-df-convert:hover {\n",
              "      background-color: #E2EBFA;\n",
              "      box-shadow: 0px 1px 2px rgba(60, 64, 67, 0.3), 0px 1px 3px 1px rgba(60, 64, 67, 0.15);\n",
              "      fill: #174EA6;\n",
              "    }\n",
              "\n",
              "    [theme=dark] .colab-df-convert {\n",
              "      background-color: #3B4455;\n",
              "      fill: #D2E3FC;\n",
              "    }\n",
              "\n",
              "    [theme=dark] .colab-df-convert:hover {\n",
              "      background-color: #434B5C;\n",
              "      box-shadow: 0px 1px 3px 1px rgba(0, 0, 0, 0.15);\n",
              "      filter: drop-shadow(0px 1px 2px rgba(0, 0, 0, 0.3));\n",
              "      fill: #FFFFFF;\n",
              "    }\n",
              "  </style>\n",
              "\n",
              "      <script>\n",
              "        const buttonEl =\n",
              "          document.querySelector('#df-28ee528f-b792-43b5-8c32-dcb1c2ca0970 button.colab-df-convert');\n",
              "        buttonEl.style.display =\n",
              "          google.colab.kernel.accessAllowed ? 'block' : 'none';\n",
              "\n",
              "        async function convertToInteractive(key) {\n",
              "          const element = document.querySelector('#df-28ee528f-b792-43b5-8c32-dcb1c2ca0970');\n",
              "          const dataTable =\n",
              "            await google.colab.kernel.invokeFunction('convertToInteractive',\n",
              "                                                     [key], {});\n",
              "          if (!dataTable) return;\n",
              "\n",
              "          const docLinkHtml = 'Like what you see? Visit the ' +\n",
              "            '<a target=\"_blank\" href=https://colab.research.google.com/notebooks/data_table.ipynb>data table notebook</a>'\n",
              "            + ' to learn more about interactive tables.';\n",
              "          element.innerHTML = '';\n",
              "          dataTable['output_type'] = 'display_data';\n",
              "          await google.colab.output.renderOutput(dataTable, element);\n",
              "          const docLink = document.createElement('div');\n",
              "          docLink.innerHTML = docLinkHtml;\n",
              "          element.appendChild(docLink);\n",
              "        }\n",
              "      </script>\n",
              "    </div>\n",
              "  </div>\n",
              "  "
            ]
          },
          "metadata": {},
          "execution_count": 8
        }
      ]
    },
    {
      "cell_type": "code",
      "source": [
        "cols=[\"content\",\"annotation\"]\n",
        "for name in cols:\n",
        "      print(name, \";\")\n",
        "      print(df[name].value_counts(), \"\\n\")"
      ],
      "metadata": {
        "colab": {
          "base_uri": "https://localhost:8080/"
        },
        "id": "b87RQAuwYVW_",
        "outputId": "251468b0-43aa-4835-fcf2-4e16c8a0c884"
      },
      "execution_count": 9,
      "outputs": [
        {
          "output_type": "stream",
          "name": "stdout",
          "text": [
            "content ;\n",
            "#NAME?                                                                                                                    38\n",
            "  nope                                                                                                                    21\n",
            "  yes.                                                                                                                    20\n",
            "  yes                                                                                                                     20\n",
            "I hate you.                                                                                                               12\n",
            "                                                                                                                          ..\n",
            "It's sucks..lol  cause any other time I'd be fine with 1 meal  but because I cant have none  it's driving me nuts..lol     1\n",
            "Nice robot post!... LOL&gt; I hate those cheesy responses too.                                                             1\n",
            "tell her I will wrestlher and loser gets to clean my office                                                                1\n",
            "Can't hear that blip  still in this damn line. BTW  if Malicious isn't already taken  let's start a band.                  1\n",
            " Who is the biggest gossiper you know?                                                                                     1\n",
            "Name: content, Length: 14640, dtype: int64 \n",
            "\n",
            "annotation ;\n",
            "{'notes': '', 'label': ['0']}    12179\n",
            "{'notes': '', 'label': ['1']}     7822\n",
            "Name: annotation, dtype: int64 \n",
            "\n"
          ]
        }
      ]
    },
    {
      "cell_type": "code",
      "source": [
        "round(df.isnull().mean()*100,2).sort_values(ascending=False)"
      ],
      "metadata": {
        "colab": {
          "base_uri": "https://localhost:8080/"
        },
        "id": "EF8UN__Nbunk",
        "outputId": "46fe824d-ea4d-42a9-8b2a-0ad304f7098c"
      },
      "execution_count": 10,
      "outputs": [
        {
          "output_type": "execute_result",
          "data": {
            "text/plain": [
              "extras        100.0\n",
              "content         0.0\n",
              "annotation      0.0\n",
              "dtype: float64"
            ]
          },
          "metadata": {},
          "execution_count": 10
        }
      ]
    },
    {
      "cell_type": "markdown",
      "metadata": {
        "id": "k0DDu27S3CJv"
      },
      "source": [
        "##**Entreglable (0.5 puntos)**\n",
        "\n",
        "Desarrollar un pipeline de preprocesamiento utilizando Apache Beam para generar datos de train, eval y test para los datos proporcionados anteriormente. Requisitos:\n",
        "\n",
        "- Proporcionar dos modos de ejecución: `train` y `test`\n",
        "- Soportar ejecuciones en local con `DirectRunner` y ejecuciones en Dataflow usando `DataFlowRunner`."
      ]
    },
    {
      "cell_type": "code",
      "metadata": {
        "id": "1blctlxs_dPO",
        "colab": {
          "base_uri": "https://localhost:8080/"
        },
        "outputId": "b73894f0-f2b5-4640-8d54-28c1f77c2dc6"
      },
      "source": [
        "%%writefile preprocess.py\n",
        "\n",
        "# pytype: skip-file\n",
        "\n",
        "\n",
        "from __future__ import absolute_import\n",
        "\n",
        "import argparse\n",
        "import logging\n",
        "import re\n",
        "import os\n",
        "import csv\n",
        "import random\n",
        "\n",
        "from past.builtins import unicode\n",
        "\n",
        "import apache_beam as beam\n",
        "from apache_beam.io import ReadFromText\n",
        "from apache_beam.io import WriteToText\n",
        "from apache_beam.coders.coders import Coder\n",
        "from apache_beam.options.pipeline_options import PipelineOptions\n",
        "from apache_beam.options.pipeline_options import SetupOptions, DirectOptions\n",
        "\n",
        "import nltk\n",
        "from nltk.corpus import stopwords\n",
        "from nltk.stem import SnowballStemmer\n",
        "\n",
        "import json\n",
        "\n",
        "# CLEANING\n",
        "STOP_WORDS = stopwords.words(\"english\")\n",
        "STEMMER = SnowballStemmer(\"english\")\n",
        "TEXT_CLEANING_RE = \"@\\S+|https?:\\S+|http?:\\S|[^A-Za-z0-9]+\"\n",
        "\n",
        "class ExtractColumnsDoFn(beam.DoFn):\n",
        "   \n",
        "   \n",
        "    def process(self, element):\n",
        "        # space removal\n",
        "        element_split = json.loads(element)\n",
        "        # text, sentiment\n",
        "        yield element_split['content'], element_split['annotation']['label'][0]\n",
        "        \n",
        "class PreprocessColumnsTrainFn(beam.DoFn):\n",
        "   \n",
        "   \n",
        "    def process_sentiment(self, sentiment):\n",
        "        sentiment = int(sentiment)\n",
        "        if sentiment == 1:\n",
        "            return \"NON TROLL\"\n",
        "        else:\n",
        "            return \"TROLL\"   \n",
        "\n",
        "    def process_text(self, text):\n",
        "        # Remove link,user and special characters\n",
        "        stem = False\n",
        "        text = re.sub(TEXT_CLEANING_RE, \" \", str(text).lower()).strip()\n",
        "        tokens = []\n",
        "        for token in text.split():\n",
        "            if token not in STOP_WORDS:\n",
        "                if stem:\n",
        "                    tokens.append(STEMMER.stem(token))\n",
        "                else:\n",
        "                    tokens.append(token)\n",
        "        return \" \".join(tokens)\n",
        "\n",
        "    def process(self, element):\n",
        "        processed_text = self.process_text(element[0])\n",
        "        processed_sentiment = self.process_sentiment(element[1])\n",
        "        yield f\"{processed_text}, {processed_sentiment}\"\n",
        "\n",
        "\n",
        "class CustomCoder(Coder):\n",
        "    \"\"\"A custom coder used for reading and writing strings\"\"\"\n",
        "\n",
        "    def __init__(self, encoding: str):\n",
        "        # latin-1\n",
        "        # iso-8859-1\n",
        "        self.enconding = encoding\n",
        "\n",
        "    def encode(self, value):\n",
        "        return value.encode(self.enconding)\n",
        "\n",
        "    def decode(self, value):\n",
        "        return value.decode(self.enconding)\n",
        "\n",
        "    def is_deterministic(self):\n",
        "        return True\n",
        "\n",
        "\n",
        "def run(argv=None, save_main_session=True):\n",
        "\n",
        "    \"\"\"Main entry point; defines and runs the wordcount pipeline.\"\"\"\n",
        "\n",
        "    parser = argparse.ArgumentParser()\n",
        "\n",
        "    parser.add_argument(\n",
        "        \"--work-dir\", dest=\"work_dir\", required=True, help=\"Working directory\",\n",
        "    )\n",
        "\n",
        "    parser.add_argument(\n",
        "        \"--input\", dest=\"input\", required=True, help=\"Input dataset in work dir\",\n",
        "    )\n",
        "    parser.add_argument(\n",
        "        \"--output\",\n",
        "        dest=\"output\",\n",
        "        required=True,\n",
        "        help=\"Output path to store transformed data in work dir\",\n",
        "    )\n",
        "    parser.add_argument(\n",
        "        \"--mode\",\n",
        "        dest=\"mode\",\n",
        "        required=True,\n",
        "        choices=[\"train\", \"test\"],\n",
        "        help=\"Type of output to store transformed data\",\n",
        "    )\n",
        "\n",
        "    known_args, pipeline_args = parser.parse_known_args(argv)\n",
        "\n",
        "    # We use the save_main_session option because one or more DoFn's in this\n",
        "    # workflow rely on global context (e.g., a module imported at module level).\n",
        "    pipeline_options = PipelineOptions(pipeline_args)\n",
        "    pipeline_options.view_as(SetupOptions).save_main_session = save_main_session\n",
        "    pipeline_options.view_as(DirectOptions).direct_num_workers = 0\n",
        "\n",
        "    # The pipeline will be run on exiting the with block.\n",
        "    with beam.Pipeline(options=pipeline_options) as p:\n",
        "\n",
        "        # Read the text file[pattern] into a PCollection.\n",
        "        raw_data = p | \"ReadTwitterData\" >> ReadFromText(\n",
        "            known_args.input, coder=CustomCoder(\"latin-1\")\n",
        "        )\n",
        "\n",
        "        if known_args.mode == \"train\":\n",
        "\n",
        "            transformed_data = (\n",
        "                raw_data\n",
        "                | \"ExtractColumns\" >> beam.ParDo(ExtractColumnsDoFn())\n",
        "                | \"Preprocess\" >> beam.ParDo(PreprocessColumnsTrainFn())\n",
        "            )\n",
        "\n",
        "            eval_percent = 20\n",
        "            assert 0 < eval_percent < 100, \"eval_percent must in the range (0-100)\"\n",
        "            train_dataset, eval_dataset = (\n",
        "                transformed_data\n",
        "                | \"Split dataset\"\n",
        "                >> beam.Partition(\n",
        "                    lambda elem, _: int(random.uniform(0, 100) < eval_percent), 2\n",
        "                )\n",
        "            )\n",
        "\n",
        "            train_dataset | \"TrainWriteToCSV\" >> WriteToText(\n",
        "                os.path.join(known_args.output, \"train\", \"part\")\n",
        "            )\n",
        "            eval_dataset | \"EvalWriteToCSV\" >> WriteToText(\n",
        "                os.path.join(known_args.output, \"eval\", \"part\")\n",
        "            )\n",
        "\n",
        "        else:\n",
        "            transformed_data = (\n",
        "                raw_data\n",
        "                | \"ExtractColumns\" >> beam.ParDo(ExtractColumnsDoFn())\n",
        "                | \"Preprocess\" >> beam.Map(lambda x: f'\"{x[0]}\"')\n",
        "            )\n",
        "\n",
        "            transformed_data | \"TestWriteToCSV\" >> WriteToText(\n",
        "                os.path.join(known_args.output, \"test\", \"part\")\n",
        "            )\n",
        "\n",
        "\n",
        "if __name__ == \"__main__\":\n",
        "    logging.getLogger().setLevel(logging.INFO)\n",
        "    run()"
      ],
      "execution_count": 11,
      "outputs": [
        {
          "output_type": "stream",
          "name": "stdout",
          "text": [
            "Writing preprocess.py\n"
          ]
        }
      ]
    },
    {
      "cell_type": "markdown",
      "metadata": {
        "id": "qawuKC0k4B0e"
      },
      "source": [
        "Se proporciona un fichero `setup.py` necesario para ejecutar en DataFlow. Modificar la variable `REQUIRED_PACKAGES` con las dependencias que se hayan usado en el `requirements.txt`"
      ]
    },
    {
      "cell_type": "code",
      "metadata": {
        "id": "n1MQvWsk_mVX",
        "colab": {
          "base_uri": "https://localhost:8080/"
        },
        "outputId": "f1658800-abfd-46ac-ede1-be90483bbcae"
      },
      "source": [
        "%%writefile setup.py\n",
        "\n",
        "import setuptools\n",
        "\n",
        "REQUIRED_PACKAGES = [\n",
        "  \"apache-beam[gcp]==2.24.0\",\n",
        "  \"tensorflow==2.8.0\",\n",
        "  \"gensim==3.6.0\",\n",
        "  \"fsspec==0.8.4\",\n",
        "  \"gcsfs==0.7.1\",\n",
        "  \"numpy==1.20.0\",\n",
        "  \"keras==2.8.0\",\n",
        "]\n",
        "\n",
        "setuptools.setup(\n",
        "    name=\"twitchstreaming\",\n",
        "    version=\"0.0.1\",\n",
        "    install_requires=REQUIRED_PACKAGES,\n",
        "    packages=setuptools.find_packages(),\n",
        "    include_package_data=True,\n",
        "    description=\"Troll detection\",\n",
        ")\n"
      ],
      "execution_count": 12,
      "outputs": [
        {
          "output_type": "stream",
          "name": "stdout",
          "text": [
            "Writing setup.py\n"
          ]
        }
      ]
    },
    {
      "cell_type": "markdown",
      "metadata": {
        "id": "jLDlz_fL4UJA"
      },
      "source": [
        "### Validación preprocess train en local (0.25 puntos)\n",
        "\n",
        "Con el comando mostrado a continuación se valida la correcta generación de los datos de entrenamiento y validación en local."
      ]
    },
    {
      "cell_type": "code",
      "source": [
        "import nltk\n",
        "from nltk.corpus import stopwords\n",
        "from nltk.stem import SnowballStemmer\n",
        "nltk.download('stopwords')"
      ],
      "metadata": {
        "colab": {
          "base_uri": "https://localhost:8080/"
        },
        "id": "gHL9bxxBiI2_",
        "outputId": "6122cba6-89e3-460a-e49b-9be7e63c1494"
      },
      "execution_count": 13,
      "outputs": [
        {
          "output_type": "stream",
          "name": "stderr",
          "text": [
            "[nltk_data] Downloading package stopwords to /root/nltk_data...\n",
            "[nltk_data]   Unzipping corpora/stopwords.zip.\n"
          ]
        },
        {
          "output_type": "execute_result",
          "data": {
            "text/plain": [
              "True"
            ]
          },
          "metadata": {},
          "execution_count": 13
        }
      ]
    },
    {
      "cell_type": "code",
      "metadata": {
        "id": "vFpirg37C3bN",
        "colab": {
          "base_uri": "https://localhost:8080/"
        },
        "outputId": "32c0e186-b235-45eb-8377-b810ea3d50a5"
      },
      "source": [
        "! python3 preprocess.py \\\n",
        "  --work-dir $WORK_DIR \\\n",
        "  --runner DirectRunner \\\n",
        "  --input $WORK_DIR/data.json \\\n",
        "  --output $WORK_DIR/transformed_data \\\n",
        "  --mode train"
      ],
      "execution_count": 14,
      "outputs": [
        {
          "output_type": "stream",
          "name": "stdout",
          "text": [
            "INFO:apache_beam.runners.portability.fn_api_runner.translations:==================== <function annotate_downstream_side_inputs at 0x7fd4926bcdd0> ====================\n",
            "INFO:apache_beam.runners.portability.fn_api_runner.translations:==================== <function fix_side_input_pcoll_coders at 0x7fd4926bcef0> ====================\n",
            "INFO:apache_beam.runners.portability.fn_api_runner.translations:==================== <function lift_combiners at 0x7fd4926bcf80> ====================\n",
            "INFO:apache_beam.runners.portability.fn_api_runner.translations:==================== <function expand_sdf at 0x7fd4926bd050> ====================\n",
            "INFO:apache_beam.runners.portability.fn_api_runner.translations:==================== <function expand_gbk at 0x7fd4926bd0e0> ====================\n",
            "INFO:apache_beam.runners.portability.fn_api_runner.translations:==================== <function sink_flattens at 0x7fd4926bd200> ====================\n",
            "INFO:apache_beam.runners.portability.fn_api_runner.translations:==================== <function greedily_fuse at 0x7fd4926bd290> ====================\n",
            "INFO:apache_beam.runners.portability.fn_api_runner.translations:==================== <function read_to_impulse at 0x7fd4926bd320> ====================\n",
            "INFO:apache_beam.runners.portability.fn_api_runner.translations:==================== <function impulse_to_input at 0x7fd4926bd3b0> ====================\n",
            "INFO:apache_beam.runners.portability.fn_api_runner.translations:==================== <function sort_stages at 0x7fd4926bd5f0> ====================\n",
            "INFO:apache_beam.runners.portability.fn_api_runner.translations:==================== <function setup_timer_mapping at 0x7fd4926bd560> ====================\n",
            "INFO:apache_beam.runners.portability.fn_api_runner.translations:==================== <function populate_data_channel_coders at 0x7fd4926bd680> ====================\n",
            "INFO:apache_beam.runners.worker.statecache:Creating state cache with size 100\n",
            "INFO:apache_beam.runners.portability.fn_api_runner.worker_handlers:Created Worker handler <apache_beam.runners.portability.fn_api_runner.worker_handlers.EmbeddedWorkerHandler object at 0x7fd4926b3ed0> for environment ref_Environment_default_environment_1 (beam:env:embedded_python:v1, b'')\n",
            "INFO:apache_beam.runners.worker.statecache:Creating state cache with size 100\n",
            "INFO:apache_beam.runners.portability.fn_api_runner.worker_handlers:Created Worker handler <apache_beam.runners.portability.fn_api_runner.worker_handlers.EmbeddedWorkerHandler object at 0x7fd4926b3350> for environment ref_Environment_default_environment_1 (beam:env:embedded_python:v1, b'')\n",
            "INFO:apache_beam.runners.worker.statecache:Creating state cache with size 100\n",
            "INFO:apache_beam.runners.portability.fn_api_runner.worker_handlers:Created Worker handler <apache_beam.runners.portability.fn_api_runner.worker_handlers.EmbeddedWorkerHandler object at 0x7fd4926abcd0> for environment ref_Environment_default_environment_1 (beam:env:embedded_python:v1, b'')\n",
            "INFO:apache_beam.runners.worker.statecache:Creating state cache with size 100\n",
            "INFO:apache_beam.runners.portability.fn_api_runner.worker_handlers:Created Worker handler <apache_beam.runners.portability.fn_api_runner.worker_handlers.EmbeddedWorkerHandler object at 0x7fd492c5f290> for environment ref_Environment_default_environment_1 (beam:env:embedded_python:v1, b'')\n",
            "INFO:apache_beam.runners.portability.fn_api_runner.fn_runner:Running (((ref_AppliedPTransform_ReadTwitterData/Read/_SDFBoundedSourceWrapper/Impulse_5)+(ReadTwitterData/Read/_SDFBoundedSourceWrapper/ParDo(SDFBoundedSourceDoFn)/PairWithRestriction))+(ReadTwitterData/Read/_SDFBoundedSourceWrapper/ParDo(SDFBoundedSourceDoFn)/SplitAndSizeRestriction))+(ref_PCollection_PCollection_1_split/Write)\n",
            "INFO:apache_beam.runners.portability.fn_api_runner.fn_runner:Running (((((ref_AppliedPTransform_EvalWriteToCSV/Write/WriteImpl/DoOnce/Impulse_32)+(ref_AppliedPTransform_EvalWriteToCSV/Write/WriteImpl/DoOnce/FlatMap(<lambda at core.py:2826>)_33))+(ref_AppliedPTransform_EvalWriteToCSV/Write/WriteImpl/DoOnce/Map(decode)_35))+(ref_AppliedPTransform_EvalWriteToCSV/Write/WriteImpl/InitializeWrite_36))+(ref_PCollection_PCollection_21/Write))+(ref_PCollection_PCollection_22/Write)\n",
            "INFO:apache_beam.runners.portability.fn_api_runner.fn_runner:Running (((((ref_AppliedPTransform_TrainWriteToCSV/Write/WriteImpl/DoOnce/Impulse_16)+(ref_AppliedPTransform_TrainWriteToCSV/Write/WriteImpl/DoOnce/FlatMap(<lambda at core.py:2826>)_17))+(ref_AppliedPTransform_TrainWriteToCSV/Write/WriteImpl/DoOnce/Map(decode)_19))+(ref_AppliedPTransform_TrainWriteToCSV/Write/WriteImpl/InitializeWrite_20))+(ref_PCollection_PCollection_10/Write))+(ref_PCollection_PCollection_11/Write)\n",
            "INFO:apache_beam.runners.portability.fn_api_runner.fn_runner:Running ((((((((((((ref_PCollection_PCollection_1_split/Read)+(ReadTwitterData/Read/_SDFBoundedSourceWrapper/ParDo(SDFBoundedSourceDoFn)/Process))+(ref_AppliedPTransform_ExtractColumns_7))+(ref_AppliedPTransform_Preprocess_8))+(ref_AppliedPTransform_Split dataset/ParDo(ApplyPartitionFnFn)/ParDo(ApplyPartitionFnFn)_11))+(ref_AppliedPTransform_TrainWriteToCSV/Write/WriteImpl/WindowInto(WindowIntoFn)_21))+(ref_AppliedPTransform_EvalWriteToCSV/Write/WriteImpl/WindowInto(WindowIntoFn)_37))+(ref_AppliedPTransform_TrainWriteToCSV/Write/WriteImpl/WriteBundles_22))+(ref_AppliedPTransform_TrainWriteToCSV/Write/WriteImpl/Pair_23))+(TrainWriteToCSV/Write/WriteImpl/GroupByKey/Write))+(ref_AppliedPTransform_EvalWriteToCSV/Write/WriteImpl/WriteBundles_38))+(ref_AppliedPTransform_EvalWriteToCSV/Write/WriteImpl/Pair_39))+(EvalWriteToCSV/Write/WriteImpl/GroupByKey/Write)\n",
            "INFO:apache_beam.runners.portability.fn_api_runner.fn_runner:Running ((EvalWriteToCSV/Write/WriteImpl/GroupByKey/Read)+(ref_AppliedPTransform_EvalWriteToCSV/Write/WriteImpl/Extract_41))+(ref_PCollection_PCollection_27/Write)\n",
            "INFO:apache_beam.runners.portability.fn_api_runner.fn_runner:Running ((TrainWriteToCSV/Write/WriteImpl/GroupByKey/Read)+(ref_AppliedPTransform_TrainWriteToCSV/Write/WriteImpl/Extract_25))+(ref_PCollection_PCollection_16/Write)\n",
            "INFO:apache_beam.runners.portability.fn_api_runner.fn_runner:Running ((ref_PCollection_PCollection_21/Read)+(ref_AppliedPTransform_EvalWriteToCSV/Write/WriteImpl/PreFinalize_42))+(ref_PCollection_PCollection_28/Write)\n",
            "INFO:apache_beam.runners.portability.fn_api_runner.fn_runner:Running ((ref_PCollection_PCollection_10/Read)+(ref_AppliedPTransform_TrainWriteToCSV/Write/WriteImpl/PreFinalize_26))+(ref_PCollection_PCollection_17/Write)\n",
            "INFO:apache_beam.runners.portability.fn_api_runner.fn_runner:Running (ref_PCollection_PCollection_10/Read)+(ref_AppliedPTransform_TrainWriteToCSV/Write/WriteImpl/FinalizeWrite_27)\n",
            "INFO:apache_beam.io.filebasedsink:Starting finalize_write threads with num_shards: 2 (skipped: 0), batches: 2, num_threads: 2\n",
            "INFO:apache_beam.io.filebasedsink:Renamed 2 shards in 0.10 seconds.\n",
            "INFO:apache_beam.runners.portability.fn_api_runner.fn_runner:Running (ref_PCollection_PCollection_21/Read)+(ref_AppliedPTransform_EvalWriteToCSV/Write/WriteImpl/FinalizeWrite_43)\n",
            "INFO:apache_beam.io.filebasedsink:Starting finalize_write threads with num_shards: 2 (skipped: 0), batches: 2, num_threads: 2\n",
            "INFO:apache_beam.io.filebasedsink:Renamed 2 shards in 0.10 seconds.\n"
          ]
        }
      ]
    },
    {
      "cell_type": "markdown",
      "metadata": {
        "id": "wkkG271a4qnA"
      },
      "source": [
        "### Validación preprocess test en local (0.25 puntos)\n",
        "\n",
        "Con el comando mostrado a continuación se valida la correcta generación de los datos de test en local."
      ]
    },
    {
      "cell_type": "code",
      "metadata": {
        "id": "u4lkLgecLS3i",
        "colab": {
          "base_uri": "https://localhost:8080/"
        },
        "outputId": "e9100306-619a-4980-e8a7-feebbcab15db"
      },
      "source": [
        "! python3 preprocess.py \\\n",
        "  --work-dir $WORK_DIR \\\n",
        "  --runner DirectRunner \\\n",
        "  --input $WORK_DIR/data.json \\\n",
        "  --output $WORK_DIR/transformed_data \\\n",
        "  --mode test"
      ],
      "execution_count": 15,
      "outputs": [
        {
          "output_type": "stream",
          "name": "stdout",
          "text": [
            "INFO:apache_beam.runners.portability.fn_api_runner.translations:==================== <function annotate_downstream_side_inputs at 0x7fdcfd584cb0> ====================\n",
            "INFO:apache_beam.runners.portability.fn_api_runner.translations:==================== <function fix_side_input_pcoll_coders at 0x7fdcfd584dd0> ====================\n",
            "INFO:apache_beam.runners.portability.fn_api_runner.translations:==================== <function lift_combiners at 0x7fdcfd584e60> ====================\n",
            "INFO:apache_beam.runners.portability.fn_api_runner.translations:==================== <function expand_sdf at 0x7fdcfd584ef0> ====================\n",
            "INFO:apache_beam.runners.portability.fn_api_runner.translations:==================== <function expand_gbk at 0x7fdcfd584f80> ====================\n",
            "INFO:apache_beam.runners.portability.fn_api_runner.translations:==================== <function sink_flattens at 0x7fdcfd5850e0> ====================\n",
            "INFO:apache_beam.runners.portability.fn_api_runner.translations:==================== <function greedily_fuse at 0x7fdcfd585170> ====================\n",
            "INFO:apache_beam.runners.portability.fn_api_runner.translations:==================== <function read_to_impulse at 0x7fdcfd585200> ====================\n",
            "INFO:apache_beam.runners.portability.fn_api_runner.translations:==================== <function impulse_to_input at 0x7fdcfd585290> ====================\n",
            "INFO:apache_beam.runners.portability.fn_api_runner.translations:==================== <function sort_stages at 0x7fdcfd5854d0> ====================\n",
            "INFO:apache_beam.runners.portability.fn_api_runner.translations:==================== <function setup_timer_mapping at 0x7fdcfd585440> ====================\n",
            "INFO:apache_beam.runners.portability.fn_api_runner.translations:==================== <function populate_data_channel_coders at 0x7fdcfd585560> ====================\n",
            "INFO:apache_beam.runners.worker.statecache:Creating state cache with size 100\n",
            "INFO:apache_beam.runners.portability.fn_api_runner.worker_handlers:Created Worker handler <apache_beam.runners.portability.fn_api_runner.worker_handlers.EmbeddedWorkerHandler object at 0x7fdcfd2c1ad0> for environment ref_Environment_default_environment_1 (beam:env:embedded_python:v1, b'')\n",
            "INFO:apache_beam.runners.worker.statecache:Creating state cache with size 100\n",
            "INFO:apache_beam.runners.portability.fn_api_runner.worker_handlers:Created Worker handler <apache_beam.runners.portability.fn_api_runner.worker_handlers.EmbeddedWorkerHandler object at 0x7fdcfd2c1750> for environment ref_Environment_default_environment_1 (beam:env:embedded_python:v1, b'')\n",
            "INFO:apache_beam.runners.worker.statecache:Creating state cache with size 100\n",
            "INFO:apache_beam.runners.portability.fn_api_runner.worker_handlers:Created Worker handler <apache_beam.runners.portability.fn_api_runner.worker_handlers.EmbeddedWorkerHandler object at 0x7fdcfd2c12d0> for environment ref_Environment_default_environment_1 (beam:env:embedded_python:v1, b'')\n",
            "INFO:apache_beam.runners.worker.statecache:Creating state cache with size 100\n",
            "INFO:apache_beam.runners.portability.fn_api_runner.worker_handlers:Created Worker handler <apache_beam.runners.portability.fn_api_runner.worker_handlers.EmbeddedWorkerHandler object at 0x7fdcfd8b4050> for environment ref_Environment_default_environment_1 (beam:env:embedded_python:v1, b'')\n",
            "INFO:apache_beam.runners.portability.fn_api_runner.fn_runner:Running (((ref_AppliedPTransform_ReadTwitterData/Read/_SDFBoundedSourceWrapper/Impulse_5)+(ReadTwitterData/Read/_SDFBoundedSourceWrapper/ParDo(SDFBoundedSourceDoFn)/PairWithRestriction))+(ReadTwitterData/Read/_SDFBoundedSourceWrapper/ParDo(SDFBoundedSourceDoFn)/SplitAndSizeRestriction))+(ref_PCollection_PCollection_1_split/Write)\n",
            "INFO:apache_beam.runners.portability.fn_api_runner.fn_runner:Running (((((ref_AppliedPTransform_TestWriteToCSV/Write/WriteImpl/DoOnce/Impulse_13)+(ref_AppliedPTransform_TestWriteToCSV/Write/WriteImpl/DoOnce/FlatMap(<lambda at core.py:2826>)_14))+(ref_AppliedPTransform_TestWriteToCSV/Write/WriteImpl/DoOnce/Map(decode)_16))+(ref_AppliedPTransform_TestWriteToCSV/Write/WriteImpl/InitializeWrite_17))+(ref_PCollection_PCollection_7/Write))+(ref_PCollection_PCollection_8/Write)\n",
            "INFO:apache_beam.runners.portability.fn_api_runner.fn_runner:Running (((((((ref_PCollection_PCollection_1_split/Read)+(ReadTwitterData/Read/_SDFBoundedSourceWrapper/ParDo(SDFBoundedSourceDoFn)/Process))+(ref_AppliedPTransform_ExtractColumns_7))+(ref_AppliedPTransform_Preprocess_8))+(ref_AppliedPTransform_TestWriteToCSV/Write/WriteImpl/WindowInto(WindowIntoFn)_18))+(ref_AppliedPTransform_TestWriteToCSV/Write/WriteImpl/WriteBundles_19))+(ref_AppliedPTransform_TestWriteToCSV/Write/WriteImpl/Pair_20))+(TestWriteToCSV/Write/WriteImpl/GroupByKey/Write)\n",
            "INFO:apache_beam.runners.portability.fn_api_runner.fn_runner:Running ((TestWriteToCSV/Write/WriteImpl/GroupByKey/Read)+(ref_AppliedPTransform_TestWriteToCSV/Write/WriteImpl/Extract_22))+(ref_PCollection_PCollection_13/Write)\n",
            "INFO:apache_beam.runners.portability.fn_api_runner.fn_runner:Running ((ref_PCollection_PCollection_7/Read)+(ref_AppliedPTransform_TestWriteToCSV/Write/WriteImpl/PreFinalize_23))+(ref_PCollection_PCollection_14/Write)\n",
            "INFO:apache_beam.runners.portability.fn_api_runner.fn_runner:Running (ref_PCollection_PCollection_7/Read)+(ref_AppliedPTransform_TestWriteToCSV/Write/WriteImpl/FinalizeWrite_24)\n",
            "INFO:apache_beam.io.filebasedsink:Starting finalize_write threads with num_shards: 2 (skipped: 0), batches: 2, num_threads: 2\n",
            "INFO:apache_beam.io.filebasedsink:Renamed 2 shards in 0.10 seconds.\n"
          ]
        }
      ]
    },
    {
      "cell_type": "markdown",
      "metadata": {
        "id": "geZM9Sbj45LK"
      },
      "source": [
        "## Entregable 2 (1.25 puntos)\n",
        "\n",
        "Desarrollar una tarea de entrenamiento para los datos preprocesados. Requisitos:\n",
        "\n",
        "- Soportar ejecuciones en local usando el SDK de AI-Platform y ejecuciones en GCP con el mismo código."
      ]
    },
    {
      "cell_type": "markdown",
      "metadata": {
        "id": "OMUwXgm_5el-"
      },
      "source": [
        "Se crea el directorio donde se dejará este entregable."
      ]
    },
    {
      "cell_type": "code",
      "metadata": {
        "id": "HMi8dI1gLoIc"
      },
      "source": [
        "%mkdir /content/batch/trainer"
      ],
      "execution_count": 16,
      "outputs": []
    },
    {
      "cell_type": "code",
      "metadata": {
        "id": "3dJyMXTuNPwo",
        "colab": {
          "base_uri": "https://localhost:8080/"
        },
        "outputId": "a36eb0d5-1150-49c0-d681-8b30f5f66686"
      },
      "source": [
        "%%writefile trainer/__init__.py\n",
        "\n",
        "version = \"0.1.0\""
      ],
      "execution_count": 17,
      "outputs": [
        {
          "output_type": "stream",
          "name": "stdout",
          "text": [
            "Writing trainer/__init__.py\n"
          ]
        }
      ]
    },
    {
      "cell_type": "code",
      "metadata": {
        "id": "mUu6gKaTL_S2",
        "colab": {
          "base_uri": "https://localhost:8080/"
        },
        "outputId": "34dddbf9-c2fb-4a66-c870-cbb8d0da6847"
      },
      "source": [
        "%%writefile trainer/task.py\n",
        "\n",
        "from __future__ import absolute_import\n",
        "\n",
        "import argparse\n",
        "import multiprocessing as mp\n",
        "import logging\n",
        "import tempfile\n",
        "import os\n",
        "\n",
        "import pickle\n",
        "import gensim\n",
        "import pandas as pd\n",
        "import numpy as np\n",
        "import tensorflow as tf\n",
        "\n",
        "from tensorflow.keras.preprocessing.text import Tokenizer\n",
        "from tensorflow.keras.preprocessing.sequence import pad_sequences\n",
        "from tensorflow.keras.models import Sequential\n",
        "from tensorflow.keras.layers import (\n",
        "    Dense,\n",
        "    Dropout,\n",
        "    Embedding,\n",
        "    LSTM,\n",
        ")\n",
        "from tensorflow.keras.callbacks import ReduceLROnPlateau, EarlyStopping\n",
        "from sklearn.preprocessing import LabelEncoder\n",
        "\n",
        "\n",
        "# WORD2VEC\n",
        "W2V_SIZE = 300\n",
        "W2V_WINDOW = 7\n",
        "# 32\n",
        "W2V_EPOCH = 5\n",
        "W2V_MIN_COUNT = 10\n",
        "\n",
        "# KERAS\n",
        "SEQUENCE_LENGTH = 300\n",
        "\n",
        "# SENTIMENT\n",
        "POSITIVE = \"TROLL\"\n",
        "NEGATIVE = \"NON_TROLL\"\n",
        "\n",
        "\n",
        "\n",
        "# EXPORT\n",
        "KERAS_MODEL = \"model.h5\"\n",
        "WORD2VEC_MODEL = \"model.w2v\"\n",
        "TOKENIZER_MODEL = \"tokenizer.pkl\"\n",
        "ENCODER_MODEL = \"encoder.pkl\"\n",
        "\n",
        "\n",
        "def generate_word2vec(train_df):\n",
        "    documents = [_text.split() for _text in train_df.text.values]\n",
        "    w2v_model = gensim.models.word2vec.Word2Vec(\n",
        "        size=W2V_SIZE,\n",
        "        window=W2V_WINDOW,\n",
        "        min_count=W2V_MIN_COUNT,\n",
        "        workers=mp.cpu_count(),\n",
        "    )\n",
        "    w2v_model.build_vocab(documents)\n",
        "\n",
        "    words = w2v_model.wv.vocab.keys()\n",
        "    vocab_size = len(words)\n",
        "    logging.info(f\"Vocab size: {vocab_size}\")\n",
        "    w2v_model.train(documents, total_examples=len(documents), epochs=W2V_EPOCH)\n",
        "\n",
        "    return w2v_model\n",
        "\n",
        "\n",
        "def generate_tokenizer(train_df):\n",
        "    tokenizer = Tokenizer()\n",
        "    tokenizer.fit_on_texts(train_df.text)\n",
        "    vocab_size = len(tokenizer.word_index) + 1\n",
        "    logging.info(f\"Total words: {vocab_size}\")\n",
        "    return tokenizer, vocab_size\n",
        "\n",
        "\n",
        "def generate_label_encoder(train_df):\n",
        "    encoder = LabelEncoder()\n",
        "    encoder.fit(train_df.sentiment.tolist())\n",
        "    return encoder\n",
        "\n",
        "\n",
        "def generate_embedding(word2vec_model, vocab_size, tokenizer):\n",
        "    embedding_matrix = np.zeros((vocab_size, W2V_SIZE))\n",
        "    for word, i in tokenizer.word_index.items():\n",
        "        if word in word2vec_model.wv:\n",
        "            embedding_matrix[i] = word2vec_model.wv[word]\n",
        "    return Embedding(\n",
        "        vocab_size,\n",
        "        W2V_SIZE,\n",
        "        weights=[embedding_matrix],\n",
        "        input_length=SEQUENCE_LENGTH,\n",
        "        trainable=False,\n",
        "    )\n",
        "\n",
        "\n",
        "def train_and_evaluate(\n",
        "    work_dir, train_df, eval_df, batch_size=1024, epochs=8, steps=1000\n",
        "):\n",
        "\n",
        "    \"\"\"\n",
        "    Trains and evaluates the estimator given.\n",
        "    The input functions are generated by the preprocessing function.\n",
        "    \"\"\"\n",
        "\n",
        "    model_dir = os.path.join(work_dir, \"model\")\n",
        "    if tf.io.gfile.exists(model_dir):\n",
        "        tf.io.gfile.rmtree(model_dir)\n",
        "    tf.io.gfile.mkdir(model_dir)\n",
        "\n",
        "    # Specify where to store our model\n",
        "    run_config = tf.estimator.RunConfig()\n",
        "    run_config = run_config.replace(model_dir=model_dir)\n",
        "\n",
        "    # This will give us a more granular visualization of the training\n",
        "    run_config = run_config.replace(save_summary_steps=10)\n",
        "\n",
        "    # Create Word2vec of training data\n",
        "    logging.info(\"---- Generating word2vec model ----\")\n",
        "    word2vec_model = generate_word2vec(train_df)\n",
        "\n",
        "    # Tokenize training data\n",
        "    logging.info(\"---- Generating tokenizer ----\")\n",
        "    tokenizer, vocab_size = generate_tokenizer(train_df)\n",
        "\n",
        "    logging.info(\"---- Tokenizing train data ----\")\n",
        "    x_train = pad_sequences(\n",
        "        tokenizer.texts_to_sequences(train_df.text), maxlen=SEQUENCE_LENGTH\n",
        "    )\n",
        "    logging.info(\"---- Tokenizing eval data ----\")\n",
        "    x_eval = pad_sequences(\n",
        "        tokenizer.texts_to_sequences(eval_df.text), maxlen=SEQUENCE_LENGTH\n",
        "    )\n",
        "\n",
        "    # Label Encoder\n",
        "    logging.info(\"---- Generating label encoder ----\")\n",
        "    label_encoder = generate_label_encoder(train_df)\n",
        "\n",
        "    logging.info(\"---- Encoding train target ----\")\n",
        "    y_train = label_encoder.transform(train_df.sentiment.tolist())\n",
        "    logging.info(\"---- Encoding eval target ----\")\n",
        "    y_eval = label_encoder.transform(eval_df.sentiment.tolist())\n",
        "\n",
        "    y_train = y_train.reshape(-1, 1)\n",
        "    y_eval = y_eval.reshape(-1, 1)\n",
        "\n",
        "    # Create Embedding Layer\n",
        "    logging.info(\"---- Generating embedding layer ----\")\n",
        "    embedding_layer = generate_embedding(word2vec_model, vocab_size, tokenizer)\n",
        "\n",
        "    logging.info(\"---- Generating Sequential model ----\")\n",
        "    model = Sequential()\n",
        "    model.add(embedding_layer)\n",
        "    model.add(Dropout(0.5))\n",
        "    model.add(LSTM(100, dropout=0.2, recurrent_dropout=0.2))\n",
        "    model.add(Dense(1, activation=\"sigmoid\"))\n",
        "\n",
        "    model.summary()\n",
        "\n",
        "    logging.info(\"---- Adding loss function to model ----\")\n",
        "    model.compile(loss=\"binary_crossentropy\", optimizer=\"adam\", metrics=[\"accuracy\"])\n",
        "\n",
        "    logging.info(\"---- Adding callbacks to model ----\")\n",
        "    callbacks = [\n",
        "        ReduceLROnPlateau(monitor=\"val_loss\", patience=5, cooldown=0),\n",
        "        EarlyStopping(monitor=\"val_accuracy\", min_delta=1e-4, patience=5),\n",
        "    ]\n",
        "\n",
        "    logging.info(\"---- Training model ----\")\n",
        "    model.fit(\n",
        "        x_train,\n",
        "        y_train,\n",
        "        batch_size=batch_size,\n",
        "        steps_per_epoch=steps,\n",
        "        epochs=epochs,\n",
        "        validation_split=0.1,\n",
        "        verbose=1,\n",
        "        callbacks=callbacks,\n",
        "    )\n",
        "\n",
        "    logging.info(\"---- Evaluating model ----\")\n",
        "    score = model.evaluate(x_eval, y_eval, batch_size=batch_size)\n",
        "    logging.info(f\"ACCURACY: {score[1]}\")\n",
        "    logging.info(f\"LOSS: {score[0]}\")\n",
        "\n",
        "    logging.info(\"---- Saving models ----\")\n",
        "    pickle.dump(\n",
        "        tokenizer,\n",
        "        tf.io.gfile.GFile(os.path.join(model_dir, TOKENIZER_MODEL), mode=\"wb\"),\n",
        "        protocol=0,\n",
        "    )\n",
        "    with tempfile.NamedTemporaryFile(suffix=\".h5\") as local_file:\n",
        "        with tf.io.gfile.GFile(\n",
        "            os.path.join(model_dir, KERAS_MODEL), mode=\"wb\"\n",
        "        ) as gcs_file:\n",
        "            model.save(local_file.name)\n",
        "            gcs_file.write(local_file.read())\n",
        "\n",
        "    # word2vec_model.save(os.path.join(model_dir, WORD2VEC_MODEL))\n",
        "\n",
        "    # pickle.dump(\n",
        "    #     label_encoder, open(os.path.join(model_dir, ENCODER_MODEL), \"wb\"), protocol=0\n",
        "    # )\n",
        "\n",
        "\n",
        "if __name__ == \"__main__\":\n",
        "\n",
        "    \"\"\"Main function called by AI Platform.\"\"\"\n",
        "\n",
        "    logging.getLogger().setLevel(logging.INFO)\n",
        "\n",
        "    parser = argparse.ArgumentParser(\n",
        "        formatter_class=argparse.ArgumentDefaultsHelpFormatter\n",
        "    )\n",
        "\n",
        "    parser.add_argument(\n",
        "        \"--job-dir\",\n",
        "        help=\"Directory for staging trainer files. \"\n",
        "        \"This can be a Google Cloud Storage path.\",\n",
        "    )\n",
        "\n",
        "    parser.add_argument(\n",
        "        \"--work-dir\",\n",
        "        required=True,\n",
        "        help=\"Directory for staging and working files. \"\n",
        "        \"This can be a Google Cloud Storage path.\",\n",
        "    )\n",
        "\n",
        "    parser.add_argument(\n",
        "        \"--batch-size\",\n",
        "        type=int,\n",
        "        default=1024,\n",
        "        help=\"Batch size for training and evaluation.\",\n",
        "    )\n",
        "\n",
        "    parser.add_argument(\n",
        "        \"--epochs\", type=int, default=8, help=\"Number of epochs to train the model\",\n",
        "    )\n",
        "\n",
        "    parser.add_argument(\n",
        "        \"--steps\",\n",
        "        type=int,\n",
        "        default=1000,\n",
        "        help=\"Number of steps per epoch to train the model\",\n",
        "    )\n",
        "\n",
        "    args = parser.parse_args()\n",
        "\n",
        "    train_data_files = tf.io.gfile.glob(\n",
        "        os.path.join(args.work_dir, \"transformed_data/train/part-*\")\n",
        "    )\n",
        "    eval_data_files = tf.io.gfile.glob(\n",
        "        os.path.join(args.work_dir, \"transformed_data/eval/part-*\")\n",
        "    )\n",
        "\n",
        "    train_df = pd.concat(\n",
        "        [\n",
        "            pd.read_csv(\n",
        "                f,\n",
        "                names=[\"text\", \"sentiment\"],\n",
        "                dtype={\"text\": \"string\", \"sentiment\": \"string\"},\n",
        "            )\n",
        "            for f in train_data_files\n",
        "        ]\n",
        "    ).dropna()\n",
        "\n",
        "    eval_df = pd.concat(\n",
        "        [\n",
        "            pd.read_csv(\n",
        "                f,\n",
        "                names=[\"text\", \"sentiment\"],\n",
        "                dtype={\"text\": \"string\", \"sentiment\": \"string\"},\n",
        "            )\n",
        "            for f in eval_data_files\n",
        "        ]\n",
        "    ).dropna()\n",
        "\n",
        "    train_and_evaluate(\n",
        "        args.work_dir,\n",
        "        train_df=train_df,\n",
        "        eval_df=eval_df,\n",
        "        batch_size=args.batch_size,\n",
        "        epochs=args.epochs,\n",
        "        steps=args.steps,\n",
        "    )"
      ],
      "execution_count": 18,
      "outputs": [
        {
          "output_type": "stream",
          "name": "stdout",
          "text": [
            "Writing trainer/task.py\n"
          ]
        }
      ]
    },
    {
      "cell_type": "markdown",
      "source": [
        ""
      ],
      "metadata": {
        "id": "RfH-0qKuvQlI"
      }
    },
    {
      "cell_type": "markdown",
      "metadata": {
        "id": "8axPHdHX6d9W"
      },
      "source": [
        "### Validación Train en local\n",
        "\n",
        "Con el comando mostrado a continuación se valida el correcto entrenamiento del modelo usando los datos preprocesados del apartado anterior."
      ]
    },
    {
      "cell_type": "code",
      "metadata": {
        "id": "m9997ZzsLmq-",
        "colab": {
          "base_uri": "https://localhost:8080/"
        },
        "outputId": "6ac38516-6299-4754-f1d0-3967ee0b2d82"
      },
      "source": [
        "# Explicitly tell `gcloud ai-platform local train` to use Python 3 \n",
        "! gcloud config set ml_engine/local_python $(which python3)\n",
        "\n",
        "# This is similar to `python -m trainer.task --job-dir local-training-output`\n",
        "# but it better replicates the AI Platform environment, especially for\n",
        "# distributed training (not applicable here).\n",
        "! gcloud ai-platform local train \\\n",
        "  --package-path trainer \\\n",
        "  --module-name trainer.task \\\n",
        "  -- \\\n",
        "  --work-dir $WORK_DIR \\\n",
        "  --epochs 1"
      ],
      "execution_count": 19,
      "outputs": [
        {
          "output_type": "stream",
          "name": "stdout",
          "text": [
            "Updated property [ml_engine/local_python].\n",
            "INFO:tensorflow:TF_CONFIG environment variable: {'job': {'job_name': 'trainer.task', 'args': ['--work-dir', '/content/batch', '--epochs', '1']}, 'task': {}, 'cluster': {}, 'environment': 'cloud'}\n",
            "INFO:root:---- Generating word2vec model ----\n",
            "INFO:gensim.models.word2vec:collecting all words and their counts\n",
            "INFO:gensim.models.word2vec:PROGRESS: at sentence #0, processed 0 words, keeping 0 word types\n",
            "INFO:gensim.models.word2vec:PROGRESS: at sentence #10000, processed 78659 words, keeping 10769 word types\n",
            "INFO:gensim.models.word2vec:collected 14828 word types from a corpus of 114153 raw words and 15971 sentences\n",
            "INFO:gensim.models.word2vec:Loading a fresh vocabulary\n",
            "INFO:gensim.models.word2vec:effective_min_count=10 retains 1619 unique words (10% of original 14828, drops 13209)\n",
            "INFO:gensim.models.word2vec:effective_min_count=10 leaves 84649 word corpus (74% of original 114153, drops 29504)\n",
            "INFO:gensim.models.word2vec:deleting the raw counts dictionary of 14828 items\n",
            "INFO:gensim.models.word2vec:sample=0.001 downsamples 57 most-common words\n",
            "INFO:gensim.models.word2vec:downsampling leaves estimated 70535 word corpus (83.3% of prior 84649)\n",
            "INFO:gensim.models.base_any2vec:estimated required memory for 1619 words and 300 dimensions: 4695100 bytes\n",
            "INFO:gensim.models.word2vec:resetting layer weights\n",
            "INFO:root:Vocab size: 1619\n",
            "INFO:gensim.models.base_any2vec:training model with 4 workers on 1619 vocabulary and 300 features, using sg=0 hs=0 sample=0.001 negative=5 window=7\n",
            "INFO:gensim.models.base_any2vec:worker thread finished; awaiting finish of 3 more threads\n",
            "INFO:gensim.models.base_any2vec:worker thread finished; awaiting finish of 2 more threads\n",
            "INFO:gensim.models.base_any2vec:worker thread finished; awaiting finish of 1 more threads\n",
            "INFO:gensim.models.base_any2vec:worker thread finished; awaiting finish of 0 more threads\n",
            "INFO:gensim.models.base_any2vec:EPOCH - 1 : training on 114153 raw words (70541 effective words) took 0.1s, 714663 effective words/s\n",
            "INFO:gensim.models.base_any2vec:worker thread finished; awaiting finish of 3 more threads\n",
            "INFO:gensim.models.base_any2vec:worker thread finished; awaiting finish of 2 more threads\n",
            "INFO:gensim.models.base_any2vec:worker thread finished; awaiting finish of 1 more threads\n",
            "INFO:gensim.models.base_any2vec:worker thread finished; awaiting finish of 0 more threads\n",
            "INFO:gensim.models.base_any2vec:EPOCH - 2 : training on 114153 raw words (70473 effective words) took 0.1s, 873130 effective words/s\n",
            "INFO:gensim.models.base_any2vec:worker thread finished; awaiting finish of 3 more threads\n",
            "INFO:gensim.models.base_any2vec:worker thread finished; awaiting finish of 2 more threads\n",
            "INFO:gensim.models.base_any2vec:worker thread finished; awaiting finish of 1 more threads\n",
            "INFO:gensim.models.base_any2vec:worker thread finished; awaiting finish of 0 more threads\n",
            "INFO:gensim.models.base_any2vec:EPOCH - 3 : training on 114153 raw words (70614 effective words) took 0.1s, 756464 effective words/s\n",
            "INFO:gensim.models.base_any2vec:worker thread finished; awaiting finish of 3 more threads\n",
            "INFO:gensim.models.base_any2vec:worker thread finished; awaiting finish of 2 more threads\n",
            "INFO:gensim.models.base_any2vec:worker thread finished; awaiting finish of 1 more threads\n",
            "INFO:gensim.models.base_any2vec:worker thread finished; awaiting finish of 0 more threads\n",
            "INFO:gensim.models.base_any2vec:EPOCH - 4 : training on 114153 raw words (70617 effective words) took 0.1s, 771984 effective words/s\n",
            "INFO:gensim.models.base_any2vec:worker thread finished; awaiting finish of 3 more threads\n",
            "INFO:gensim.models.base_any2vec:worker thread finished; awaiting finish of 2 more threads\n",
            "INFO:gensim.models.base_any2vec:worker thread finished; awaiting finish of 1 more threads\n",
            "INFO:gensim.models.base_any2vec:worker thread finished; awaiting finish of 0 more threads\n",
            "INFO:gensim.models.base_any2vec:EPOCH - 5 : training on 114153 raw words (70577 effective words) took 0.1s, 801960 effective words/s\n",
            "INFO:gensim.models.base_any2vec:training on a 570765 raw words (352822 effective words) took 0.5s, 718071 effective words/s\n",
            "INFO:root:---- Generating tokenizer ----\n",
            "INFO:root:Total words: 14829\n",
            "INFO:root:---- Tokenizing train data ----\n",
            "INFO:root:---- Tokenizing eval data ----\n",
            "INFO:root:---- Generating label encoder ----\n",
            "INFO:root:---- Encoding train target ----\n",
            "INFO:root:---- Encoding eval target ----\n",
            "INFO:root:---- Generating embedding layer ----\n",
            "INFO:root:---- Generating Sequential model ----\n",
            "2022-07-10 16:54:42.274314: W tensorflow/core/common_runtime/gpu/gpu_bfc_allocator.cc:39] Overriding allow_growth setting because the TF_FORCE_GPU_ALLOW_GROWTH environment variable is set. Original config value was 0.\n",
            "WARNING:tensorflow:Layer lstm will not use cuDNN kernels since it doesn't meet the criteria. It will use a generic GPU kernel as fallback when running on GPU.\n",
            "WARNING:tensorflow:Layer lstm will not use cuDNN kernels since it doesn't meet the criteria. It will use a generic GPU kernel as fallback when running on GPU.\n",
            "Model: \"sequential\"\n",
            "_________________________________________________________________\n",
            " Layer (type)                Output Shape              Param #   \n",
            "=================================================================\n",
            " embedding (Embedding)       (None, 300, 300)          4448700   \n",
            "                                                                 \n",
            " dropout (Dropout)           (None, 300, 300)          0         \n",
            "                                                                 \n",
            " lstm (LSTM)                 (None, 100)               160400    \n",
            "                                                                 \n",
            " dense (Dense)               (None, 1)                 101       \n",
            "                                                                 \n",
            "=================================================================\n",
            "Total params: 4,609,201\n",
            "Trainable params: 160,501\n",
            "Non-trainable params: 4,448,700\n",
            "_________________________________________________________________\n",
            "INFO:root:---- Adding loss function to model ----\n",
            "INFO:root:---- Adding callbacks to model ----\n",
            "INFO:root:---- Training model ----\n",
            "  15/1000 [..............................] - ETA: 18:37 - loss: 0.6920 - accuracy: 0.5456WARNING:tensorflow:Your input ran out of data; interrupting training. Make sure that your dataset or generator can generate at least `steps_per_epoch * epochs` batches (in this case, 1000 batches). You may need to use the repeat() function when building your dataset.\n",
            "WARNING:tensorflow:Your input ran out of data; interrupting training. Make sure that your dataset or generator can generate at least `steps_per_epoch * epochs` batches (in this case, 1000 batches). You may need to use the repeat() function when building your dataset.\n",
            "1000/1000 [==============================] - 24s 17ms/step - loss: 0.6920 - accuracy: 0.5456 - val_loss: 0.6400 - val_accuracy: 1.0000 - lr: 0.0010\n",
            "INFO:root:---- Evaluating model ----\n",
            "4/4 [==============================] - 0s 116ms/step - loss: 0.6834 - accuracy: 0.6008\n",
            "INFO:root:ACCURACY: 0.6008177995681763\n",
            "INFO:root:LOSS: 0.6833968758583069\n",
            "INFO:root:---- Saving models ----\n"
          ]
        }
      ]
    },
    {
      "cell_type": "code",
      "source": [
        "\n",
        "from __future__ import absolute_import\n",
        "from __future__ import print_function\n",
        "\n",
        "import argparse\n",
        "import tempfile\n",
        "import json\n",
        "import os\n",
        "import sys\n",
        "import time\n",
        "\n",
        "import apache_beam as beam\n",
        "from apache_beam.io import ReadFromText\n",
        "from apache_beam.io import WriteToText\n",
        "from apache_beam.options.pipeline_options import GoogleCloudOptions\n",
        "from apache_beam.options.pipeline_options import PipelineOptions\n",
        "from apache_beam.options.pipeline_options import SetupOptions\n",
        "from apache_beam.coders.coders import Coder\n",
        "\n",
        "import pickle\n",
        "import tensorflow as tf\n",
        "from tensorflow.keras.preprocessing.sequence import pad_sequences"
      ],
      "metadata": {
        "id": "fsSljlINnwF5"
      },
      "execution_count": 20,
      "outputs": []
    },
    {
      "cell_type": "markdown",
      "metadata": {
        "id": "0nhlkcjn62Zo"
      },
      "source": [
        "## Entregable 3 (0.5 puntos)\n",
        "\n",
        "Desarrollar un pipeline de inferencia utilizando Apache Beam para generar predicciones usando los modelos generados en el apartado anterior así como los de test generados en el primer entregable.\n"
      ]
    },
    {
      "cell_type": "code",
      "metadata": {
        "id": "eHBpLXB-OmjT",
        "colab": {
          "base_uri": "https://localhost:8080/"
        },
        "outputId": "55698966-5424-4fa7-a744-99f3431f3fdc"
      },
      "source": [
        "%%writefile predict.py\n",
        "\n",
        "from __future__ import absolute_import\n",
        "from __future__ import print_function\n",
        "\n",
        "import argparse\n",
        "import tempfile\n",
        "import json\n",
        "import os\n",
        "import sys\n",
        "import time\n",
        "\n",
        "import apache_beam as beam\n",
        "from apache_beam.io import ReadFromText\n",
        "from apache_beam.io import WriteToText\n",
        "from apache_beam.options.pipeline_options import GoogleCloudOptions\n",
        "from apache_beam.options.pipeline_options import PipelineOptions\n",
        "from apache_beam.options.pipeline_options import SetupOptions\n",
        "from apache_beam.coders.coders import Coder\n",
        "\n",
        "import pickle\n",
        "import tensorflow as tf\n",
        "from tensorflow.keras.preprocessing.sequence import pad_sequences\n",
        "\n",
        "# KERAS\n",
        "SEQUENCE_LENGTH = 300\n",
        "\n",
        "# SENTIMENT\n",
        "POSITIVE = \"TROLL\"\n",
        "NEGATIVE = \"NON_TROLL\"\n",
        "\n",
        "SENTIMENT_THRESHOLDS = (0.4, 0.7)\n",
        "\n",
        "# EXPORT\n",
        "KERAS_MODEL = \"model.h5\"\n",
        "TOKENIZER_MODEL = \"tokenizer.pkl\"\n",
        "\n",
        "\n",
        "class Predict(beam.DoFn):\n",
        "    def __init__(\n",
        "        self, model_dir,\n",
        "    ):\n",
        "        self.model_dir = model_dir\n",
        "        self.model = None\n",
        "        self.tokenizer = None\n",
        "\n",
        "    def setup(self):\n",
        "        keras_model_path = os.path.join(self.model_dir, KERAS_MODEL)\n",
        "        with tempfile.NamedTemporaryFile(suffix=\".h5\") as local_file:\n",
        "            with tf.io.gfile.GFile(keras_model_path, mode=\"rb\") as gcs_file:\n",
        "                local_file.write(gcs_file.read())\n",
        "                self.model = tf.keras.models.load_model(local_file.name)\n",
        "\n",
        "        tokenizer_path = os.path.join(self.model_dir, TOKENIZER_MODEL)\n",
        "        self.tokenizer = pickle.load(tf.io.gfile.GFile(tokenizer_path, mode=\"rb\"))\n",
        "\n",
        "    def decode_sentiment(self, score):\n",
        "        if score <= SENTIMENT_THRESHOLDS[0]:\n",
        "            label = NEGATIVE\n",
        "            if score <= SENTIMENT_THRESHOLDS[1]:\n",
        "                label = POSITIVE\n",
        "            \n",
        "            return label\n",
        "        else:\n",
        "            return NEGATIVE if score < 0.5 else POSITIVE\n",
        "\n",
        "    def process(self, element):\n",
        "        start_at = time.time()\n",
        "        # Tokenize text\n",
        "        x_test = pad_sequences(\n",
        "            self.tokenizer.texts_to_sequences([element]), maxlen=SEQUENCE_LENGTH\n",
        "        )\n",
        "        # Predict\n",
        "        score = self.model.predict([x_test])[0]\n",
        "        # Decode sentiment\n",
        "        label = self.decode_sentiment(score)\n",
        "\n",
        "        yield {\n",
        "            \"text\": element,\n",
        "            \"label\": label,\n",
        "            \"score\": float(score),\n",
        "            \"elapsed_time\": time.time() - start_at,\n",
        "        }\n",
        "\n",
        "\n",
        "class CustomCoder(Coder):\n",
        "    \"\"\"A custom coder used for reading and writing strings\"\"\"\n",
        "\n",
        "    def __init__(self, encoding: str):\n",
        "        # latin-1\n",
        "        # iso-8859-1\n",
        "        self.enconding = encoding\n",
        "\n",
        "    def encode(self, value):\n",
        "        return value.encode(self.enconding)\n",
        "\n",
        "    def decode(self, value):\n",
        "        return value.decode(self.enconding)\n",
        "\n",
        "    def is_deterministic(self):\n",
        "        return True\n",
        "\n",
        "\n",
        "def run(model_dir, source, sink, beam_options=None):\n",
        "    with beam.Pipeline(options=beam_options) as p:\n",
        "        _ = (\n",
        "            p\n",
        "            | \"Read data\" >> source\n",
        "            # | \"Preprocess\" >> beam.ParDo(PreprocessTextFn(model_dir, \"ID\"))\n",
        "            | \"Predict\" >> beam.ParDo(Predict(model_dir))\n",
        "            | \"Format as JSON\" >> beam.Map(json.dumps)\n",
        "            | \"Write predictions\" >> sink\n",
        "        )\n",
        "\n",
        "\n",
        "if __name__ == \"__main__\":\n",
        "    \"\"\"Main function\"\"\"\n",
        "    parser = argparse.ArgumentParser(\n",
        "        formatter_class=argparse.ArgumentDefaultsHelpFormatter\n",
        "    )\n",
        "\n",
        "    parser.add_argument(\n",
        "        \"--work-dir\",\n",
        "        dest=\"work_dir\",\n",
        "        required=True,\n",
        "        help=\"Directory for temporary files and preprocessed datasets to. \"\n",
        "        \"This can be a Google Cloud Storage path.\",\n",
        "    )\n",
        "\n",
        "    parser.add_argument(\n",
        "        \"--model-dir\",\n",
        "        dest=\"model_dir\",\n",
        "        required=True,\n",
        "        help=\"Path to the exported TensorFlow model. \"\n",
        "        \"This can be a Google Cloud Storage path.\",\n",
        "    )\n",
        "\n",
        "    verbs = parser.add_subparsers(dest=\"verb\")\n",
        "    batch_verb = verbs.add_parser(\"batch\", help=\"Batch prediction\")\n",
        "    batch_verb.add_argument(\n",
        "        \"--inputs-dir\",\n",
        "        dest=\"inputs_dir\",\n",
        "        required=True,\n",
        "        help=\"Input directory where CSV data files are read from. \"\n",
        "        \"This can be a Google Cloud Storage path.\",\n",
        "    )\n",
        "    batch_verb.add_argument(\n",
        "        \"--outputs-dir\",\n",
        "        dest=\"outputs_dir\",\n",
        "        required=True,\n",
        "        help=\"Directory to store prediction results. \"\n",
        "        \"This can be a Google Cloud Storage path.\",\n",
        "    )\n",
        "\n",
        "    args, pipeline_args = parser.parse_known_args()\n",
        "    print(args)\n",
        "    beam_options = PipelineOptions(pipeline_args)\n",
        "    beam_options.view_as(SetupOptions).save_main_session = True\n",
        "    # beam_options.view_as(DirectOptions).direct_num_workers = 0\n",
        "\n",
        "    project = beam_options.view_as(GoogleCloudOptions).project\n",
        "\n",
        "    if args.verb == \"batch\":\n",
        "        results_prefix = os.path.join(args.outputs_dir, \"part\")\n",
        "\n",
        "        source = ReadFromText(args.inputs_dir, coder=CustomCoder(\"latin-1\"))\n",
        "        sink = WriteToText(results_prefix)\n",
        "\n",
        "    else:\n",
        "        parser.print_usage()\n",
        "        sys.exit(1)\n",
        "\n",
        "    run(args.model_dir, source, sink, beam_options)"
      ],
      "execution_count": 21,
      "outputs": [
        {
          "output_type": "stream",
          "name": "stdout",
          "text": [
            "Writing predict.py\n"
          ]
        }
      ]
    },
    {
      "cell_type": "markdown",
      "metadata": {
        "id": "MUdgcLIP7a42"
      },
      "source": [
        "Generamos un timestamp para la ejecución de las predicciones"
      ]
    },
    {
      "cell_type": "code",
      "metadata": {
        "id": "_pvKMtuQPOlr"
      },
      "source": [
        "from datetime import datetime\n",
        "\n",
        "# current date and time\n",
        "TIMESTAMP = datetime.now().strftime('%Y-%m-%d_%H-%M-%S')"
      ],
      "execution_count": 22,
      "outputs": []
    },
    {
      "cell_type": "markdown",
      "metadata": {
        "id": "RkLMdMup70ne"
      },
      "source": [
        "### Validación Predict en local\n",
        "\n",
        "Con el comando mostrado a continuación se valida la correcta inferencia usando los modelos anteriores y los datos de test generados anteriormente."
      ]
    },
    {
      "cell_type": "code",
      "metadata": {
        "id": "iUJN0XCLPR_X",
        "colab": {
          "base_uri": "https://localhost:8080/"
        },
        "outputId": "b6bf55dd-c7c4-489a-e449-d730a77ada4d"
      },
      "source": [
        "! python3 predict.py \\\n",
        "  --work-dir $WORK_DIR \\\n",
        "  --model-dir $WORK_DIR/model \\\n",
        "  batch \\\n",
        "  --inputs-dir $WORK_DIR/transformed_data/test/part* \\\n",
        "  --outputs-dir $WORK_DIR/predictions/$TIMESTAMP"
      ],
      "execution_count": 23,
      "outputs": [
        {
          "output_type": "stream",
          "name": "stdout",
          "text": [
            "Namespace(inputs_dir='/content/batch/transformed_data/test/part-00000-of-00002', model_dir='/content/batch/model', outputs_dir='/content/batch/predictions/2022-07-10_16-55-35', verb='batch', work_dir='/content/batch')\n",
            "2022-07-10 16:55:42.082178: W tensorflow/core/common_runtime/gpu/gpu_bfc_allocator.cc:39] Overriding allow_growth setting because the TF_FORCE_GPU_ALLOW_GROWTH environment variable is set. Original config value was 0.\n",
            "WARNING:tensorflow:Layer lstm will not use cuDNN kernels since it doesn't meet the criteria. It will use a generic GPU kernel as fallback when running on GPU.\n",
            "WARNING:tensorflow:Layer lstm will not use cuDNN kernels since it doesn't meet the criteria. It will use a generic GPU kernel as fallback when running on GPU.\n"
          ]
        }
      ]
    },
    {
      "cell_type": "markdown",
      "metadata": {
        "id": "Um68jx_F8mjF"
      },
      "source": [
        "##Entregable 4 (1.25 puntos)\n",
        "\n",
        "En este entregable se validará el funcionamiento del código en un proyecto de GCP sobre DataFlow y AI Platform"
      ]
    },
    {
      "cell_type": "markdown",
      "metadata": {
        "id": "_JHC9dCT83FH"
      },
      "source": [
        "Establecemos el bucket y region de GCP sobre el que trabajaremos:"
      ]
    },
    {
      "cell_type": "code",
      "metadata": {
        "id": "cgUpX__KQvt-"
      },
      "source": [
        "GCP_WORK_DIR = 'gs:/$BUCKET_NAME/final-practice-test-execution'\n",
        "GCP_REGION = 'us-east1' "
      ],
      "execution_count": 24,
      "outputs": []
    },
    {
      "cell_type": "markdown",
      "metadata": {
        "id": "_A66WAfm9DmU"
      },
      "source": [
        "### Validación preprocess train en Dataflow (0.25 puntos)\n",
        "\n",
        "Con el comando mostrado a continuación se valida la correcta generación de los datos de entrenamiento y validación en GCP con el servicio DataFlow."
      ]
    },
    {
      "cell_type": "code",
      "metadata": {
        "id": "EJYVuWyJP1Ya",
        "colab": {
          "base_uri": "https://localhost:8080/"
        },
        "outputId": "8770d1a8-f84d-4347-af9d-ec73004c1091"
      },
      "source": [
        "! python3 preprocess.py \\\n",
        "  --project $PROJECT_ID \\\n",
        "  --region $GCP_REGION \\\n",
        "  --runner DataflowRunner \\\n",
        "  --temp_location $GCP_WORK_DIR/beam-temp \\\n",
        "  --setup_file ./setup.py \\\n",
        "  --work-dir $GCP_WORK_DIR \\\n",
        "  --input $GCP_WORK_DIR/data.json \\\n",
        "  --output $GCP_WORK_DIR/transformed_data \\\n",
        "  --mode train"
      ],
      "execution_count": 25,
      "outputs": [
        {
          "output_type": "stream",
          "name": "stdout",
          "text": [
            "INFO:apache_beam.internal.gcp.auth:Setting socket default timeout to 60 seconds.\n",
            "INFO:apache_beam.internal.gcp.auth:socket default timeout is 60.0 seconds.\n",
            "INFO:oauth2client.transport:Attempting refresh to obtain initial access_token\n",
            "INFO:apache_beam.runners.portability.stager:Executing command: ['/usr/bin/python3', 'setup.py', 'sdist', '--dist-dir', '/tmp/tmp1u4oyob8']\n",
            "warning: sdist: standard file not found: should have one of README, README.rst, README.txt, README.md\n",
            "\n",
            "warning: check: missing required meta-data: url\n",
            "\n",
            "warning: check: missing meta-data: either (author and author_email) or (maintainer and maintainer_email) must be supplied\n",
            "\n",
            "INFO:apache_beam.runners.portability.stager:Downloading source distribution of the SDK from PyPi\n",
            "INFO:apache_beam.runners.portability.stager:Executing command: ['/usr/bin/python3', '-m', 'pip', 'download', '--dest', '/tmp/tmp1u4oyob8', 'apache-beam==2.24.0', '--no-deps', '--no-binary', ':all:']\n",
            "INFO:apache_beam.runners.portability.stager:Staging SDK sources from PyPI: dataflow_python_sdk.tar\n",
            "INFO:apache_beam.runners.portability.stager:Downloading binary distribution of the SDK from PyPi\n",
            "INFO:apache_beam.runners.portability.stager:Executing command: ['/usr/bin/python3', '-m', 'pip', 'download', '--dest', '/tmp/tmp1u4oyob8', 'apache-beam==2.24.0', '--no-deps', '--only-binary', ':all:', '--python-version', '37', '--implementation', 'cp', '--abi', 'cp37m', '--platform', 'manylinux1_x86_64']\n",
            "INFO:apache_beam.runners.portability.stager:Staging binary distribution of the SDK from PyPI: apache_beam-2.24.0-cp37-cp37m-manylinux1_x86_64.whl\n",
            "WARNING:root:Make sure that locally built Python SDK docker image has Python 3.7 interpreter.\n",
            "INFO:root:Using Python SDK docker image: apache/beam_python3.7_sdk:2.24.0. If the image is not available at local, we will try to pull from hub.docker.com\n",
            "INFO:apache_beam.runners.dataflow.internal.apiclient:Defaulting to the temp_location as staging_location: gs://final-practice-test-execution/beam-temp\n",
            "INFO:apache_beam.runners.dataflow.internal.apiclient:Starting GCS upload to gs://final-practice-test-execution/beam-temp/beamapp-root-0710171839-672126.1657473519.672436/pipeline.pb...\n",
            "Traceback (most recent call last):\n",
            "  File \"/usr/local/lib/python3.7/dist-packages/apache_beam/runners/dataflow/internal/apiclient.py\", line 634, in stage_file\n",
            "    response = self._storage_client.objects.Insert(request, upload=upload)\n",
            "  File \"/usr/local/lib/python3.7/dist-packages/apache_beam/io/gcp/internal/clients/storage/storage_v1_client.py\", line 1156, in Insert\n",
            "    upload=upload, upload_config=upload_config)\n",
            "  File \"/usr/local/lib/python3.7/dist-packages/apitools/base/py/base_api.py\", line 731, in _RunMethod\n",
            "    return self.ProcessHttpResponse(method_config, http_response, request)\n",
            "  File \"/usr/local/lib/python3.7/dist-packages/apitools/base/py/base_api.py\", line 737, in ProcessHttpResponse\n",
            "    self.__ProcessHttpResponse(method_config, http_response, request))\n",
            "  File \"/usr/local/lib/python3.7/dist-packages/apitools/base/py/base_api.py\", line 604, in __ProcessHttpResponse\n",
            "    http_response, method_config=method_config, request=request)\n",
            "apitools.base.py.exceptions.HttpForbiddenError: HttpError accessing <https://www.googleapis.com/upload/storage/v1/b/final-practice-test-execution/o?alt=json&name=beam-temp%2Fbeamapp-root-0710171839-672126.1657473519.672436%2Fpipeline.pb&uploadType=multipart>: response: <{'x-guploader-uploadid': 'ADPycdvpUTOJXCkvuXyfop1Wo6_iOdiuF0KBFQitbVbORnHMJq-1OuhQwpUPCW81INMy-4sqU_OQwwk6xmaqFNfqq6JcXaYGM6a0', 'content-type': 'application/json; charset=UTF-8', 'date': 'Sun, 10 Jul 2022 17:18:40 GMT', 'vary': 'Origin, X-Origin', 'cache-control': 'no-cache, no-store, max-age=0, must-revalidate', 'expires': 'Mon, 01 Jan 1990 00:00:00 GMT', 'pragma': 'no-cache', 'content-length': '376', 'server': 'UploadServer', 'status': '403'}>, content <{\n",
            "  \"error\": {\n",
            "    \"code\": 403,\n",
            "    \"message\": \"morenoygin@gmail.com does not have storage.objects.create access to the Google Cloud Storage object.\",\n",
            "    \"errors\": [\n",
            "      {\n",
            "        \"message\": \"morenoygin@gmail.com does not have storage.objects.create access to the Google Cloud Storage object.\",\n",
            "        \"domain\": \"global\",\n",
            "        \"reason\": \"forbidden\"\n",
            "      }\n",
            "    ]\n",
            "  }\n",
            "}\n",
            ">\n",
            "\n",
            "During handling of the above exception, another exception occurred:\n",
            "\n",
            "Traceback (most recent call last):\n",
            "  File \"preprocess.py\", line 172, in <module>\n",
            "    run()\n",
            "  File \"preprocess.py\", line 166, in run\n",
            "    os.path.join(known_args.output, \"test\", \"part\")\n",
            "  File \"/usr/local/lib/python3.7/dist-packages/apache_beam/pipeline.py\", line 555, in __exit__\n",
            "    self.result = self.run()\n",
            "  File \"/usr/local/lib/python3.7/dist-packages/apache_beam/pipeline.py\", line 521, in run\n",
            "    allow_proto_holders=True).run(False)\n",
            "  File \"/usr/local/lib/python3.7/dist-packages/apache_beam/pipeline.py\", line 534, in run\n",
            "    return self.runner.run_pipeline(self, self._options)\n",
            "  File \"/usr/local/lib/python3.7/dist-packages/apache_beam/runners/dataflow/dataflow_runner.py\", line 592, in run_pipeline\n",
            "    self.dataflow_client.create_job(self.job), self)\n",
            "  File \"/usr/local/lib/python3.7/dist-packages/apache_beam/utils/retry.py\", line 236, in wrapper\n",
            "    return fun(*args, **kwargs)\n",
            "  File \"/usr/local/lib/python3.7/dist-packages/apache_beam/runners/dataflow/internal/apiclient.py\", line 656, in create_job\n",
            "    self.create_job_description(job)\n",
            "  File \"/usr/local/lib/python3.7/dist-packages/apache_beam/runners/dataflow/internal/apiclient.py\", line 709, in create_job_description\n",
            "    io.BytesIO(job.proto_pipeline.SerializeToString()))\n",
            "  File \"/usr/local/lib/python3.7/dist-packages/apache_beam/runners/dataflow/internal/apiclient.py\", line 645, in stage_file\n",
            "    (gcs_or_local_path, reportable_errors[e.status_code]))\n",
            "OSError: Could not upload to GCS path gs://final-practice-test-execution/beam-temp/beamapp-root-0710171839-672126.1657473519.672436: access denied. Please verify that credentials are valid and that you have write access to the specified path.\n"
          ]
        }
      ]
    },
    {
      "cell_type": "markdown",
      "metadata": {
        "id": "8czKRMb99ZRX"
      },
      "source": [
        "### Validación preprocess test en Dataflow (0.25 puntos)\n",
        "\n",
        "Con el comando mostrado a continuación se valida la correcta generación de los datos de test en GCP con el servicio DataFlow."
      ]
    },
    {
      "cell_type": "code",
      "metadata": {
        "id": "45mfSRGdQLBO",
        "colab": {
          "base_uri": "https://localhost:8080/"
        },
        "outputId": "9012e7df-bb14-4a8f-ba96-44dcad43022c"
      },
      "source": [
        "! python3 preprocess.py \\\n",
        "  --project $PROJECT_ID \\\n",
        "  --region $GCP_REGION \\\n",
        "  --runner DataflowRunner \\\n",
        "  --temp_location $GCP_WORK_DIR/beam-temp \\\n",
        "  --setup_file ./setup.py \\\n",
        "  --work-dir $GCP_WORK_DIR \\\n",
        "  --input $GCP_WORK_DIR/data.json \\\n",
        "  --output $GCP_WORK_DIR/transformed_data \\\n",
        "  --mode test"
      ],
      "execution_count": null,
      "outputs": [
        {
          "output_type": "stream",
          "name": "stdout",
          "text": [
            "INFO:apache_beam.internal.gcp.auth:Setting socket default timeout to 60 seconds.\n",
            "INFO:apache_beam.internal.gcp.auth:socket default timeout is 60.0 seconds.\n",
            "INFO:oauth2client.transport:Attempting refresh to obtain initial access_token\n",
            "INFO:apache_beam.runners.portability.stager:Executing command: ['/usr/bin/python3', 'setup.py', 'sdist', '--dist-dir', '/tmp/tmpsmyz6vuo']\n",
            "warning: sdist: standard file not found: should have one of README, README.rst, README.txt, README.md\n",
            "\n",
            "warning: check: missing required meta-data: url\n",
            "\n",
            "warning: check: missing meta-data: either (author and author_email) or (maintainer and maintainer_email) must be supplied\n",
            "\n",
            "INFO:apache_beam.runners.portability.stager:Downloading source distribution of the SDK from PyPi\n",
            "INFO:apache_beam.runners.portability.stager:Executing command: ['/usr/bin/python3', '-m', 'pip', 'download', '--dest', '/tmp/tmpsmyz6vuo', 'apache-beam==2.24.0', '--no-deps', '--no-binary', ':all:']\n",
            "INFO:apache_beam.runners.portability.stager:Staging SDK sources from PyPI: dataflow_python_sdk.tar\n",
            "INFO:apache_beam.runners.portability.stager:Downloading binary distribution of the SDK from PyPi\n",
            "INFO:apache_beam.runners.portability.stager:Executing command: ['/usr/bin/python3', '-m', 'pip', 'download', '--dest', '/tmp/tmpsmyz6vuo', 'apache-beam==2.24.0', '--no-deps', '--only-binary', ':all:', '--python-version', '37', '--implementation', 'cp', '--abi', 'cp37m', '--platform', 'manylinux1_x86_64']\n",
            "INFO:apache_beam.runners.portability.stager:Staging binary distribution of the SDK from PyPI: apache_beam-2.24.0-cp37-cp37m-manylinux1_x86_64.whl\n",
            "WARNING:root:Make sure that locally built Python SDK docker image has Python 3.7 interpreter.\n",
            "INFO:root:Using Python SDK docker image: apache/beam_python3.7_sdk:2.24.0. If the image is not available at local, we will try to pull from hub.docker.com\n",
            "INFO:apache_beam.runners.dataflow.internal.apiclient:Defaulting to the temp_location as staging_location: gs://final-practice-test-execution/beam-temp\n",
            "INFO:apache_beam.runners.dataflow.internal.apiclient:Starting GCS upload to gs://final-practice-test-execution/beam-temp/beamapp-root-0710120401-240244.1657454641.240549/pipeline.pb...\n",
            "Traceback (most recent call last):\n",
            "  File \"/usr/local/lib/python3.7/dist-packages/apache_beam/runners/dataflow/internal/apiclient.py\", line 634, in stage_file\n",
            "    response = self._storage_client.objects.Insert(request, upload=upload)\n",
            "  File \"/usr/local/lib/python3.7/dist-packages/apache_beam/io/gcp/internal/clients/storage/storage_v1_client.py\", line 1156, in Insert\n",
            "    upload=upload, upload_config=upload_config)\n",
            "  File \"/usr/local/lib/python3.7/dist-packages/apitools/base/py/base_api.py\", line 731, in _RunMethod\n",
            "    return self.ProcessHttpResponse(method_config, http_response, request)\n",
            "  File \"/usr/local/lib/python3.7/dist-packages/apitools/base/py/base_api.py\", line 737, in ProcessHttpResponse\n",
            "    self.__ProcessHttpResponse(method_config, http_response, request))\n",
            "  File \"/usr/local/lib/python3.7/dist-packages/apitools/base/py/base_api.py\", line 604, in __ProcessHttpResponse\n",
            "    http_response, method_config=method_config, request=request)\n",
            "apitools.base.py.exceptions.HttpForbiddenError: HttpError accessing <https://www.googleapis.com/upload/storage/v1/b/final-practice-test-execution/o?alt=json&name=beam-temp%2Fbeamapp-root-0710120401-240244.1657454641.240549%2Fpipeline.pb&uploadType=multipart>: response: <{'x-guploader-uploadid': 'ADPycdvdOg03FFU-_FJsScOnrMBKgmyTC9gl17xHsRPntC5jNwxwC_JfJelcdVqy7niMgkzdM2Bsv595eNuso2yZTfs4VV55YI2O', 'content-type': 'application/json; charset=UTF-8', 'date': 'Sun, 10 Jul 2022 12:04:03 GMT', 'vary': 'Origin, X-Origin', 'cache-control': 'no-cache, no-store, max-age=0, must-revalidate', 'expires': 'Mon, 01 Jan 1990 00:00:00 GMT', 'pragma': 'no-cache', 'content-length': '376', 'server': 'UploadServer', 'status': '403'}>, content <{\n",
            "  \"error\": {\n",
            "    \"code\": 403,\n",
            "    \"message\": \"morenoygin@gmail.com does not have storage.objects.create access to the Google Cloud Storage object.\",\n",
            "    \"errors\": [\n",
            "      {\n",
            "        \"message\": \"morenoygin@gmail.com does not have storage.objects.create access to the Google Cloud Storage object.\",\n",
            "        \"domain\": \"global\",\n",
            "        \"reason\": \"forbidden\"\n",
            "      }\n",
            "    ]\n",
            "  }\n",
            "}\n",
            ">\n",
            "\n",
            "During handling of the above exception, another exception occurred:\n",
            "\n",
            "Traceback (most recent call last):\n",
            "  File \"preprocess.py\", line 172, in <module>\n",
            "    run()\n",
            "  File \"preprocess.py\", line 166, in run\n",
            "    os.path.join(known_args.output, \"test\", \"part\")\n",
            "  File \"/usr/local/lib/python3.7/dist-packages/apache_beam/pipeline.py\", line 555, in __exit__\n",
            "    self.result = self.run()\n",
            "  File \"/usr/local/lib/python3.7/dist-packages/apache_beam/pipeline.py\", line 521, in run\n",
            "    allow_proto_holders=True).run(False)\n",
            "  File \"/usr/local/lib/python3.7/dist-packages/apache_beam/pipeline.py\", line 534, in run\n",
            "    return self.runner.run_pipeline(self, self._options)\n",
            "  File \"/usr/local/lib/python3.7/dist-packages/apache_beam/runners/dataflow/dataflow_runner.py\", line 592, in run_pipeline\n",
            "    self.dataflow_client.create_job(self.job), self)\n",
            "  File \"/usr/local/lib/python3.7/dist-packages/apache_beam/utils/retry.py\", line 236, in wrapper\n",
            "    return fun(*args, **kwargs)\n",
            "  File \"/usr/local/lib/python3.7/dist-packages/apache_beam/runners/dataflow/internal/apiclient.py\", line 656, in create_job\n",
            "    self.create_job_description(job)\n",
            "  File \"/usr/local/lib/python3.7/dist-packages/apache_beam/runners/dataflow/internal/apiclient.py\", line 709, in create_job_description\n",
            "    io.BytesIO(job.proto_pipeline.SerializeToString()))\n",
            "  File \"/usr/local/lib/python3.7/dist-packages/apache_beam/runners/dataflow/internal/apiclient.py\", line 645, in stage_file\n",
            "    (gcs_or_local_path, reportable_errors[e.status_code]))\n",
            "OSError: Could not upload to GCS path gs://final-practice-test-execution/beam-temp/beamapp-root-0710120401-240244.1657454641.240549: access denied. Please verify that credentials are valid and that you have write access to the specified path.\n"
          ]
        }
      ]
    },
    {
      "cell_type": "markdown",
      "metadata": {
        "id": "NFNxYtxW9fP9"
      },
      "source": [
        "### Validación Train en AI Platform (0.5 puntos)\n",
        "\n",
        "Con el comando mostrado a continuación se valida el correcto entrenamiento del modelo usando los datos de las ejecuciones anteriores en GCP con los datos obtenidos almacenados en Google Cloud Storage."
      ]
    },
    {
      "cell_type": "markdown",
      "metadata": {
        "id": "b0fP_5Gy9zfz"
      },
      "source": [
        "Generamos un nombre para el job de entrenamiento y donde se almacenarán los metadatos."
      ]
    },
    {
      "cell_type": "code",
      "metadata": {
        "id": "_eU0FkyLQPt6"
      },
      "source": [
        "JOB = \"troll_detection_batch_$(date +%Y%m%d_%H%M%S)\"\n",
        "JOB_DIR = GCP_WORK_DIR + \"/trainer\""
      ],
      "execution_count": 26,
      "outputs": []
    },
    {
      "cell_type": "code",
      "metadata": {
        "id": "3Z33nVs5QSEI",
        "colab": {
          "base_uri": "https://localhost:8080/"
        },
        "outputId": "1ae9f612-9969-4d57-bb94-b6b11c10efbf"
      },
      "source": [
        "! gcloud ai-platform jobs submit training $JOB \\\n",
        "  --module-name trainer.task \\\n",
        "  --package-path trainer \\\n",
        "  --scale-tier basic_gpu \\\n",
        "  --python-version 3.7 \\\n",
        "  --runtime-version 2.1 \\\n",
        "  --region $GCP_REGION \\\n",
        "  --job-dir $JOB_DIR \\\n",
        "  --stream-logs \\\n",
        "  -- \\\n",
        "  --work-dir $GCP_WORK_DIR \\\n",
        "  --epochs 1"
      ],
      "execution_count": 27,
      "outputs": [
        {
          "output_type": "stream",
          "name": "stdout",
          "text": [
            "\u001b[1;31mERROR:\u001b[0m (gcloud.ai-platform.jobs.submit.training) 403 Could not upload file [/tmp/tmpj8epox1o/output/twitchstreaming-0.0.1.tar.gz] to [final-practice-test-execution/trainer/packages/5262271271a6e8489577dd804d4c04f3014f4f4e5514f9f3819859497a32bbfc/twitchstreaming-0.0.1.tar.gz]: morenoygin@gmail.com does not have storage.objects.create access to the Google Cloud Storage object.\n"
          ]
        }
      ]
    },
    {
      "cell_type": "markdown",
      "metadata": {
        "id": "wu5SOWsy9886"
      },
      "source": [
        "### Validación predict en Dataflow (0.25 puntos)\n",
        "\n",
        "Con el comando mostrado a continuación se valida la predicción correcta de los datos de test usando los modelos generados en el comando anterior."
      ]
    },
    {
      "cell_type": "markdown",
      "metadata": {
        "id": "OXoHCgMg-LUD"
      },
      "source": [
        "Generamos un timestamp para el almacenamiento de las inferencias en Google Cloud Storage."
      ]
    },
    {
      "cell_type": "code",
      "metadata": {
        "id": "fmcetQtnQjVo"
      },
      "source": [
        "from datetime import datetime\n",
        "\n",
        "# current date and time\n",
        "TIMESTAMP = datetime.now().strftime('%Y-%m-%d_%H-%M-%S')"
      ],
      "execution_count": 28,
      "outputs": []
    },
    {
      "cell_type": "code",
      "metadata": {
        "id": "zT_NxsKDQlxD",
        "colab": {
          "base_uri": "https://localhost:8080/"
        },
        "outputId": "a98ad078-d183-4e96-aaaa-90acfad41944"
      },
      "source": [
        "# For using sample models: --model-dir gs://$BUCKET_NAME/models/\n",
        "! python3 predict.py \\\n",
        "  --work-dir $GCP_WORK_DIR \\\n",
        "  --model-dir $GCP_WORK_DIR/model/ \\\n",
        "  batch \\\n",
        "  --project $PROJECT_ID \\\n",
        "  --region $GCP_REGION \\\n",
        "  --runner DataflowRunner \\\n",
        "  --temp_location $GCP_WORK_DIR/beam-temp \\\n",
        "  --setup_file ./setup.py \\\n",
        "  --inputs-dir $GCP_WORK_DIR/transformed_data/test/part* \\\n",
        "  --outputs-dir $GCP_WORK_DIR/predictions/$TIMESTAMP"
      ],
      "execution_count": 29,
      "outputs": [
        {
          "output_type": "stream",
          "name": "stdout",
          "text": [
            "Namespace(inputs_dir='gs://final-practice-test-execution/transformed_data/test/part*', model_dir='gs://final-practice-test-execution/model/', outputs_dir='gs://final-practice-test-execution/predictions/2022-07-10_17-19-01', verb='batch', work_dir='gs://final-practice-test-execution')\n",
            "Traceback (most recent call last):\n",
            "  File \"predict.py\", line 165, in <module>\n",
            "    source = ReadFromText(args.inputs_dir, coder=CustomCoder(\"latin-1\"))\n",
            "  File \"/usr/local/lib/python3.7/dist-packages/apache_beam/io/textio.py\", line 561, in __init__\n",
            "    skip_header_lines=skip_header_lines)\n",
            "  File \"/usr/local/lib/python3.7/dist-packages/apache_beam/io/textio.py\", line 131, in __init__\n",
            "    validate=validate)\n",
            "  File \"/usr/local/lib/python3.7/dist-packages/apache_beam/io/filebasedsource.py\", line 128, in __init__\n",
            "    self._validate()\n",
            "  File \"/usr/local/lib/python3.7/dist-packages/apache_beam/options/value_provider.py\", line 135, in _f\n",
            "    return fnc(self, *args, **kwargs)\n",
            "  File \"/usr/local/lib/python3.7/dist-packages/apache_beam/io/filebasedsource.py\", line 189, in _validate\n",
            "    match_result = FileSystems.match([pattern], limits=[1])[0]\n",
            "  File \"/usr/local/lib/python3.7/dist-packages/apache_beam/io/filesystems.py\", line 204, in match\n",
            "    return filesystem.match(patterns, limits)\n",
            "  File \"/usr/local/lib/python3.7/dist-packages/apache_beam/io/filesystem.py\", line 765, in match\n",
            "    raise BeamIOError(\"Match operation failed\", exceptions)\n",
            "apache_beam.io.filesystem.BeamIOError: Match operation failed with exceptions {'gs://final-practice-test-execution/transformed_data/test/part*': BeamIOError('List operation failed with exceptions {\\'gs://final-practice-test-execution/transformed_data/test/part\\': HttpForbiddenError(\\'HttpError accessing <https://www.googleapis.com/storage/v1/b/final-practice-test-execution/o?alt=json&maxResults=1000&prefix=transformed_data%2Ftest%2Fpart>: response: <{\\\\\\'x-guploader-uploadid\\\\\\': \\\\\\'ADPycds2V3ZEp32bctMWDHYpzrJUh_czmm4_k41PKt1LJUBoZBZt-fPLTLa_nSYnCnpI4YG8MXRboFS3oTAFa24G8bNRWWJZDrB-\\\\\\', \\\\\\'content-type\\\\\\': \\\\\\'application/json; charset=UTF-8\\\\\\', \\\\\\'date\\\\\\': \\\\\\'Sun, 10 Jul 2022 17:19:09 GMT\\\\\\', \\\\\\'vary\\\\\\': \\\\\\'Origin, X-Origin\\\\\\', \\\\\\'cache-control\\\\\\': \\\\\\'no-cache, no-store, max-age=0, must-revalidate\\\\\\', \\\\\\'expires\\\\\\': \\\\\\'Mon, 01 Jan 1990 00:00:00 GMT\\\\\\', \\\\\\'pragma\\\\\\': \\\\\\'no-cache\\\\\\', \\\\\\'content-length\\\\\\': \\\\\\'372\\\\\\', \\\\\\'server\\\\\\': \\\\\\'UploadServer\\\\\\', \\\\\\'status\\\\\\': \\\\\\'403\\\\\\'}>, content <{\\\\n  \"error\": {\\\\n    \"code\": 403,\\\\n    \"message\": \"morenoygin@gmail.com does not have storage.objects.list access to the Google Cloud Storage bucket.\",\\\\n    \"errors\": [\\\\n      {\\\\n        \"message\": \"morenoygin@gmail.com does not have storage.objects.list access to the Google Cloud Storage bucket.\",\\\\n        \"domain\": \"global\",\\\\n        \"reason\": \"forbidden\"\\\\n      }\\\\n    ]\\\\n  }\\\\n}\\\\n>\\')}')}\n"
          ]
        }
      ]
    },
    {
      "cell_type": "markdown",
      "metadata": {
        "id": "9GWbfFvwQTGS"
      },
      "source": [
        "# Inferencia online\n",
        "\n",
        "En esta segunda parte de la práctica se realizará un microservicio de inferencia online usando los modelos generados en la primera parte. Para esta parte de la práctica el código de vuestro microservicio deberá estar subido en un repositorio. En la variable de debajo deberéis dejar la URL a vuestro repositorrio pues será el contenido con el que serás evaluado. \n",
        "\n",
        "**Importante:** asegúrate de crear el repositorio de manera pública para poder clonarlo.\n",
        "\n",
        "A continuación os dejo un diagrama con la arquitectura que se va a desarrollar:\n",
        "\n",
        "![online_diagram](https://drive.google.com/uc?export=view&id=1zR7Cwp0Vq1QeTxwLoJ8YJNRM9G5KVh2S)"
      ]
    },
    {
      "cell_type": "markdown",
      "source": [
        ""
      ],
      "metadata": {
        "id": "JJoV1vv5RfG9"
      }
    },
    {
      "cell_type": "code",
      "metadata": {
        "id": "REn23OCIBjXF"
      },
      "source": [
        "REPOSITORIO1 = \"https://github.com/Gym28/DespligueAlgoritmosFInal.git\""
      ],
      "execution_count": 1,
      "outputs": []
    },
    {
      "cell_type": "markdown",
      "source": [
        ""
      ],
      "metadata": {
        "id": "jA9pL73URezI"
      }
    },
    {
      "cell_type": "code",
      "source": [
        "from google.colab import drive\n",
        "drive.mount('/content/drive')"
      ],
      "metadata": {
        "id": "ulWBU1NcM67v",
        "outputId": "c2f340b2-bed0-4b69-94dc-6b7c47db7715",
        "colab": {
          "base_uri": "https://localhost:8080/"
        }
      },
      "execution_count": 23,
      "outputs": [
        {
          "output_type": "stream",
          "name": "stdout",
          "text": [
            "Mounted at /content/drive\n"
          ]
        }
      ]
    },
    {
      "cell_type": "code",
      "source": [
        "with open('/content/drive/MyDrive/batch', 'w') as f:\n",
        "  f.write('Hello Google Drive!')\n",
        "!cat /content/drive/My\\ MyDrive/content/batch"
      ],
      "metadata": {
        "id": "zUH_Vwz2NK6t",
        "outputId": "87ce4102-c121-494c-b643-a53d27c04301",
        "colab": {
          "base_uri": "https://localhost:8080/"
        }
      },
      "execution_count": 16,
      "outputs": [
        {
          "output_type": "stream",
          "name": "stdout",
          "text": [
            "cat: '/content/drive/My MyDrive/content/batch': No such file or directory\n"
          ]
        }
      ]
    },
    {
      "cell_type": "code",
      "source": [
        "drive.flush_and_unmount()\n"
      ],
      "metadata": {
        "id": "6rgQNpeyO8j0"
      },
      "execution_count": 22,
      "outputs": []
    },
    {
      "cell_type": "markdown",
      "metadata": {
        "id": "NqBT-b_8BsIR"
      },
      "source": [
        "Creamos el directorio donde trabajaremos."
      ]
    },
    {
      "cell_type": "code",
      "metadata": {
        "id": "VAskyBUAQZHx",
        "colab": {
          "base_uri": "https://localhost:8080/"
        },
        "outputId": "d55a3665-8f93-4faa-f0ea-cbae0c670504"
      },
      "source": [
        "%mkdir /content/online\n",
        "%cd /content/online"
      ],
      "execution_count": 2,
      "outputs": [
        {
          "output_type": "stream",
          "name": "stdout",
          "text": [
            "mkdir: cannot create directory ‘/content/online’: File exists\n",
            "/content/online\n"
          ]
        }
      ]
    },
    {
      "cell_type": "code",
      "metadata": {
        "id": "xlj7lGW3Q6CS",
        "colab": {
          "base_uri": "https://localhost:8080/"
        },
        "outputId": "fc525569-c86c-4d16-957e-df5de1eca6ef"
      },
      "source": [
        "# Clone the repository\n",
        "! git clone $REPOSITORIO1\n",
        "\n",
        "# Set the working directory to the sample code directory\n",
        "%cd .online/troll-detection-online-service\n",
        "\n",
        "# Change to develop\n",
        "! git checkout develop"
      ],
      "execution_count": 6,
      "outputs": [
        {
          "output_type": "stream",
          "name": "stdout",
          "text": [
            "fatal: destination path 'DespligueAlgoritmosFInal' already exists and is not an empty directory.\n",
            "[Errno 2] No such file or directory: '.online/troll-detection-online-service'\n",
            "/content/online\n",
            "fatal: not a git repository (or any of the parent directories): .git\n"
          ]
        }
      ]
    },
    {
      "cell_type": "code",
      "metadata": {
        "id": "FndkRszYQ8_f",
        "colab": {
          "base_uri": "https://localhost:8080/",
          "height": 1000
        },
        "outputId": "99afdb71-b61d-40ed-bac7-572f84295b58"
      },
      "source": [
        "! pip install -r requirements.txt"
      ],
      "execution_count": 74,
      "outputs": [
        {
          "output_type": "stream",
          "name": "stdout",
          "text": [
            "Looking in indexes: https://pypi.org/simple, https://us-python.pkg.dev/colab-wheels/public/simple/\n",
            "Collecting requests==2.25.0\n",
            "  Downloading requests-2.25.0-py2.py3-none-any.whl (61 kB)\n",
            "\u001b[K     |████████████████████████████████| 61 kB 5.5 MB/s \n",
            "\u001b[?25hCollecting uvicorn==0.12.2\n",
            "  Downloading uvicorn-0.12.2-py3-none-any.whl (45 kB)\n",
            "\u001b[K     |████████████████████████████████| 45 kB 3.5 MB/s \n",
            "\u001b[?25hCollecting fastapi==0.61.2\n",
            "  Downloading fastapi-0.61.2-py3-none-any.whl (48 kB)\n",
            "\u001b[K     |████████████████████████████████| 48 kB 6.2 MB/s \n",
            "\u001b[?25hCollecting h5py==2.10.0\n",
            "  Downloading h5py-2.10.0-cp37-cp37m-manylinux1_x86_64.whl (2.9 MB)\n",
            "\u001b[K     |████████████████████████████████| 2.9 MB 32.9 MB/s \n",
            "\u001b[?25hCollecting scikit-learn==0.23.2\n",
            "  Downloading scikit_learn-0.23.2-cp37-cp37m-manylinux1_x86_64.whl (6.8 MB)\n",
            "\u001b[K     |████████████████████████████████| 6.8 MB 52.3 MB/s \n",
            "\u001b[?25hRequirement already satisfied: scipy==1.4.1 in /usr/local/lib/python3.7/dist-packages (from -r requirements.txt (line 6)) (1.4.1)\n",
            "Collecting tensorflow==2.1.0\n",
            "  Downloading tensorflow-2.1.0-cp37-cp37m-manylinux2010_x86_64.whl (421.8 MB)\n",
            "\u001b[K     |████████████████████████████████| 421.8 MB 24 kB/s \n",
            "\u001b[?25hCollecting loguru==0.5.3\n",
            "  Downloading loguru-0.5.3-py3-none-any.whl (57 kB)\n",
            "\u001b[K     |████████████████████████████████| 57 kB 3.2 MB/s \n",
            "\u001b[?25hRequirement already satisfied: gensim==3.6.0 in /usr/local/lib/python3.7/dist-packages (from -r requirements.txt (line 9)) (3.6.0)\n",
            "Requirement already satisfied: fsspec==0.8.4 in /usr/local/lib/python3.7/dist-packages (from -r requirements.txt (line 10)) (0.8.4)\n",
            "Requirement already satisfied: gcsfs==0.7.1 in /usr/local/lib/python3.7/dist-packages (from -r requirements.txt (line 11)) (0.7.1)\n",
            "Collecting numpy==1.19.5\n",
            "  Downloading numpy-1.19.5-cp37-cp37m-manylinux2010_x86_64.whl (14.8 MB)\n",
            "\u001b[K     |████████████████████████████████| 14.8 MB 72.7 MB/s \n",
            "\u001b[?25hRequirement already satisfied: chardet<4,>=3.0.2 in /usr/local/lib/python3.7/dist-packages (from requests==2.25.0->-r requirements.txt (line 1)) (3.0.4)\n",
            "Requirement already satisfied: urllib3<1.27,>=1.21.1 in /usr/local/lib/python3.7/dist-packages (from requests==2.25.0->-r requirements.txt (line 1)) (1.24.3)\n",
            "Requirement already satisfied: certifi>=2017.4.17 in /usr/local/lib/python3.7/dist-packages (from requests==2.25.0->-r requirements.txt (line 1)) (2022.6.15)\n",
            "Requirement already satisfied: idna<3,>=2.5 in /usr/local/lib/python3.7/dist-packages (from requests==2.25.0->-r requirements.txt (line 1)) (2.10)\n",
            "Collecting h11>=0.8\n",
            "  Downloading h11-0.13.0-py3-none-any.whl (58 kB)\n",
            "\u001b[K     |████████████████████████████████| 58 kB 6.3 MB/s \n",
            "\u001b[?25hRequirement already satisfied: click==7.* in /usr/local/lib/python3.7/dist-packages (from uvicorn==0.12.2->-r requirements.txt (line 2)) (7.1.2)\n",
            "Requirement already satisfied: typing-extensions in /usr/local/lib/python3.7/dist-packages (from uvicorn==0.12.2->-r requirements.txt (line 2)) (3.7.4.3)\n",
            "Collecting starlette==0.13.6\n",
            "  Downloading starlette-0.13.6-py3-none-any.whl (59 kB)\n",
            "\u001b[K     |████████████████████████████████| 59 kB 7.4 MB/s \n",
            "\u001b[?25hRequirement already satisfied: pydantic<2.0.0,>=1.0.0 in /usr/local/lib/python3.7/dist-packages (from fastapi==0.61.2->-r requirements.txt (line 3)) (1.8.2)\n",
            "Requirement already satisfied: six in /usr/local/lib/python3.7/dist-packages (from h5py==2.10.0->-r requirements.txt (line 4)) (1.15.0)\n",
            "Requirement already satisfied: threadpoolctl>=2.0.0 in /usr/local/lib/python3.7/dist-packages (from scikit-learn==0.23.2->-r requirements.txt (line 5)) (3.1.0)\n",
            "Requirement already satisfied: joblib>=0.11 in /usr/local/lib/python3.7/dist-packages (from scikit-learn==0.23.2->-r requirements.txt (line 5)) (1.1.0)\n",
            "Requirement already satisfied: astor>=0.6.0 in /usr/local/lib/python3.7/dist-packages (from tensorflow==2.1.0->-r requirements.txt (line 7)) (0.8.1)\n",
            "Requirement already satisfied: termcolor>=1.1.0 in /usr/local/lib/python3.7/dist-packages (from tensorflow==2.1.0->-r requirements.txt (line 7)) (1.1.0)\n",
            "Requirement already satisfied: opt-einsum>=2.3.2 in /usr/local/lib/python3.7/dist-packages (from tensorflow==2.1.0->-r requirements.txt (line 7)) (3.3.0)\n",
            "Collecting keras-applications>=1.0.8\n",
            "  Downloading Keras_Applications-1.0.8-py3-none-any.whl (50 kB)\n",
            "\u001b[K     |████████████████████████████████| 50 kB 6.8 MB/s \n",
            "\u001b[?25hRequirement already satisfied: wheel>=0.26 in /usr/local/lib/python3.7/dist-packages (from tensorflow==2.1.0->-r requirements.txt (line 7)) (0.37.1)\n",
            "Collecting tensorflow-estimator<2.2.0,>=2.1.0rc0\n",
            "  Downloading tensorflow_estimator-2.1.0-py2.py3-none-any.whl (448 kB)\n",
            "\u001b[K     |████████████████████████████████| 448 kB 72.4 MB/s \n",
            "\u001b[?25hRequirement already satisfied: absl-py>=0.7.0 in /usr/local/lib/python3.7/dist-packages (from tensorflow==2.1.0->-r requirements.txt (line 7)) (1.1.0)\n",
            "Requirement already satisfied: keras-preprocessing>=1.1.0 in /usr/local/lib/python3.7/dist-packages (from tensorflow==2.1.0->-r requirements.txt (line 7)) (1.1.2)\n",
            "Requirement already satisfied: protobuf>=3.8.0 in /usr/local/lib/python3.7/dist-packages (from tensorflow==2.1.0->-r requirements.txt (line 7)) (3.17.3)\n",
            "Collecting tensorboard<2.2.0,>=2.1.0\n",
            "  Downloading tensorboard-2.1.1-py3-none-any.whl (3.8 MB)\n",
            "\u001b[K     |████████████████████████████████| 3.8 MB 71.1 MB/s \n",
            "\u001b[?25hRequirement already satisfied: google-pasta>=0.1.6 in /usr/local/lib/python3.7/dist-packages (from tensorflow==2.1.0->-r requirements.txt (line 7)) (0.2.0)\n",
            "Collecting gast==0.2.2\n",
            "  Downloading gast-0.2.2.tar.gz (10 kB)\n",
            "Requirement already satisfied: grpcio>=1.8.6 in /usr/local/lib/python3.7/dist-packages (from tensorflow==2.1.0->-r requirements.txt (line 7)) (1.46.3)\n",
            "Requirement already satisfied: wrapt>=1.11.1 in /usr/local/lib/python3.7/dist-packages (from tensorflow==2.1.0->-r requirements.txt (line 7)) (1.14.1)\n",
            "Requirement already satisfied: smart-open>=1.2.1 in /usr/local/lib/python3.7/dist-packages (from gensim==3.6.0->-r requirements.txt (line 9)) (5.2.1)\n",
            "Requirement already satisfied: aiohttp in /usr/local/lib/python3.7/dist-packages (from gcsfs==0.7.1->-r requirements.txt (line 11)) (3.8.1)\n",
            "Requirement already satisfied: google-auth>=1.2 in /usr/local/lib/python3.7/dist-packages (from gcsfs==0.7.1->-r requirements.txt (line 11)) (1.35.0)\n",
            "Requirement already satisfied: decorator in /usr/local/lib/python3.7/dist-packages (from gcsfs==0.7.1->-r requirements.txt (line 11)) (4.4.2)\n",
            "Requirement already satisfied: google-auth-oauthlib in /usr/local/lib/python3.7/dist-packages (from gcsfs==0.7.1->-r requirements.txt (line 11)) (0.4.6)\n",
            "Requirement already satisfied: cachetools<5.0,>=2.0.0 in /usr/local/lib/python3.7/dist-packages (from google-auth>=1.2->gcsfs==0.7.1->-r requirements.txt (line 11)) (3.1.1)\n",
            "Requirement already satisfied: pyasn1-modules>=0.2.1 in /usr/local/lib/python3.7/dist-packages (from google-auth>=1.2->gcsfs==0.7.1->-r requirements.txt (line 11)) (0.2.8)\n",
            "Requirement already satisfied: rsa<5,>=3.1.4 in /usr/local/lib/python3.7/dist-packages (from google-auth>=1.2->gcsfs==0.7.1->-r requirements.txt (line 11)) (4.8)\n",
            "Requirement already satisfied: setuptools>=40.3.0 in /usr/local/lib/python3.7/dist-packages (from google-auth>=1.2->gcsfs==0.7.1->-r requirements.txt (line 11)) (57.4.0)\n",
            "Requirement already satisfied: pyasn1<0.5.0,>=0.4.6 in /usr/local/lib/python3.7/dist-packages (from pyasn1-modules>=0.2.1->google-auth>=1.2->gcsfs==0.7.1->-r requirements.txt (line 11)) (0.4.8)\n",
            "Requirement already satisfied: markdown>=2.6.8 in /usr/local/lib/python3.7/dist-packages (from tensorboard<2.2.0,>=2.1.0->tensorflow==2.1.0->-r requirements.txt (line 7)) (3.3.7)\n",
            "Requirement already satisfied: werkzeug>=0.11.15 in /usr/local/lib/python3.7/dist-packages (from tensorboard<2.2.0,>=2.1.0->tensorflow==2.1.0->-r requirements.txt (line 7)) (1.0.1)\n",
            "Requirement already satisfied: requests-oauthlib>=0.7.0 in /usr/local/lib/python3.7/dist-packages (from google-auth-oauthlib->gcsfs==0.7.1->-r requirements.txt (line 11)) (1.3.1)\n",
            "Requirement already satisfied: importlib-metadata>=4.4 in /usr/local/lib/python3.7/dist-packages (from markdown>=2.6.8->tensorboard<2.2.0,>=2.1.0->tensorflow==2.1.0->-r requirements.txt (line 7)) (4.11.4)\n",
            "Requirement already satisfied: zipp>=0.5 in /usr/local/lib/python3.7/dist-packages (from importlib-metadata>=4.4->markdown>=2.6.8->tensorboard<2.2.0,>=2.1.0->tensorflow==2.1.0->-r requirements.txt (line 7)) (3.8.0)\n",
            "Requirement already satisfied: oauthlib>=3.0.0 in /usr/local/lib/python3.7/dist-packages (from requests-oauthlib>=0.7.0->google-auth-oauthlib->gcsfs==0.7.1->-r requirements.txt (line 11)) (3.2.0)\n",
            "Requirement already satisfied: attrs>=17.3.0 in /usr/local/lib/python3.7/dist-packages (from aiohttp->gcsfs==0.7.1->-r requirements.txt (line 11)) (21.4.0)\n",
            "Requirement already satisfied: yarl<2.0,>=1.0 in /usr/local/lib/python3.7/dist-packages (from aiohttp->gcsfs==0.7.1->-r requirements.txt (line 11)) (1.7.2)\n",
            "Requirement already satisfied: frozenlist>=1.1.1 in /usr/local/lib/python3.7/dist-packages (from aiohttp->gcsfs==0.7.1->-r requirements.txt (line 11)) (1.3.0)\n",
            "Requirement already satisfied: multidict<7.0,>=4.5 in /usr/local/lib/python3.7/dist-packages (from aiohttp->gcsfs==0.7.1->-r requirements.txt (line 11)) (6.0.2)\n",
            "Requirement already satisfied: charset-normalizer<3.0,>=2.0 in /usr/local/lib/python3.7/dist-packages (from aiohttp->gcsfs==0.7.1->-r requirements.txt (line 11)) (2.1.0)\n",
            "Requirement already satisfied: aiosignal>=1.1.2 in /usr/local/lib/python3.7/dist-packages (from aiohttp->gcsfs==0.7.1->-r requirements.txt (line 11)) (1.2.0)\n",
            "Requirement already satisfied: asynctest==0.13.0 in /usr/local/lib/python3.7/dist-packages (from aiohttp->gcsfs==0.7.1->-r requirements.txt (line 11)) (0.13.0)\n",
            "Requirement already satisfied: async-timeout<5.0,>=4.0.0a3 in /usr/local/lib/python3.7/dist-packages (from aiohttp->gcsfs==0.7.1->-r requirements.txt (line 11)) (4.0.2)\n",
            "Building wheels for collected packages: gast\n",
            "  Building wheel for gast (setup.py) ... \u001b[?25l\u001b[?25hdone\n",
            "  Created wheel for gast: filename=gast-0.2.2-py3-none-any.whl size=7554 sha256=b7529cbb3fa2e4a1973a936abe2d806a7ca4b0fe1e34ff1a2a943f246e54ee22\n",
            "  Stored in directory: /root/.cache/pip/wheels/21/7f/02/420f32a803f7d0967b48dd823da3f558c5166991bfd204eef3\n",
            "Successfully built gast\n",
            "Installing collected packages: requests, numpy, h5py, tensorflow-estimator, tensorboard, starlette, keras-applications, h11, gast, uvicorn, tensorflow, scikit-learn, loguru, fastapi\n",
            "  Attempting uninstall: requests\n",
            "    Found existing installation: requests 2.28.1\n",
            "    Uninstalling requests-2.28.1:\n",
            "      Successfully uninstalled requests-2.28.1\n",
            "  Attempting uninstall: numpy\n",
            "    Found existing installation: numpy 1.20.0\n",
            "    Uninstalling numpy-1.20.0:\n",
            "      Successfully uninstalled numpy-1.20.0\n",
            "  Attempting uninstall: h5py\n",
            "    Found existing installation: h5py 3.1.0\n",
            "    Uninstalling h5py-3.1.0:\n",
            "      Successfully uninstalled h5py-3.1.0\n",
            "  Attempting uninstall: tensorflow-estimator\n",
            "    Found existing installation: tensorflow-estimator 2.8.0\n",
            "    Uninstalling tensorflow-estimator-2.8.0:\n",
            "      Successfully uninstalled tensorflow-estimator-2.8.0\n",
            "  Attempting uninstall: tensorboard\n",
            "    Found existing installation: tensorboard 2.8.0\n",
            "    Uninstalling tensorboard-2.8.0:\n",
            "      Successfully uninstalled tensorboard-2.8.0\n",
            "  Attempting uninstall: gast\n",
            "    Found existing installation: gast 0.5.3\n",
            "    Uninstalling gast-0.5.3:\n",
            "      Successfully uninstalled gast-0.5.3\n",
            "  Attempting uninstall: tensorflow\n",
            "    Found existing installation: tensorflow 2.8.2+zzzcolab20220527125636\n",
            "    Uninstalling tensorflow-2.8.2+zzzcolab20220527125636:\n",
            "      Successfully uninstalled tensorflow-2.8.2+zzzcolab20220527125636\n",
            "  Attempting uninstall: scikit-learn\n",
            "    Found existing installation: scikit-learn 1.0.2\n",
            "    Uninstalling scikit-learn-1.0.2:\n",
            "      Successfully uninstalled scikit-learn-1.0.2\n",
            "\u001b[31mERROR: pip's dependency resolver does not currently take into account all the packages that are installed. This behaviour is the source of the following dependency conflicts.\n",
            "yellowbrick 1.4 requires scikit-learn>=1.0.0, but you have scikit-learn 0.23.2 which is incompatible.\n",
            "xarray-einstats 0.2.2 requires numpy>=1.21, but you have numpy 1.19.5 which is incompatible.\n",
            "tensorflow-probability 0.16.0 requires gast>=0.3.2, but you have gast 0.2.2 which is incompatible.\n",
            "pymc3 3.11.4 requires cachetools>=4.2.1, but you have cachetools 3.1.1 which is incompatible.\n",
            "imbalanced-learn 0.8.1 requires scikit-learn>=0.24, but you have scikit-learn 0.23.2 which is incompatible.\n",
            "google-colab 1.0.0 requires requests~=2.23.0, but you have requests 2.25.0 which is incompatible.\n",
            "datascience 0.10.6 requires folium==0.2.1, but you have folium 0.8.3 which is incompatible.\n",
            "albumentations 0.1.12 requires imgaug<0.2.7,>=0.2.5, but you have imgaug 0.2.9 which is incompatible.\u001b[0m\n",
            "Successfully installed fastapi-0.61.2 gast-0.2.2 h11-0.13.0 h5py-2.10.0 keras-applications-1.0.8 loguru-0.5.3 numpy-1.19.5 requests-2.25.0 scikit-learn-0.23.2 starlette-0.13.6 tensorboard-2.1.1 tensorflow-2.1.0 tensorflow-estimator-2.1.0 uvicorn-0.12.2\n"
          ]
        },
        {
          "output_type": "display_data",
          "data": {
            "application/vnd.colab-display-data+json": {
              "pip_warning": {
                "packages": [
                  "gast",
                  "h5py",
                  "numpy",
                  "requests",
                  "sklearn",
                  "tensorboard",
                  "tensorflow"
                ]
              }
            }
          },
          "metadata": {}
        }
      ]
    },
    {
      "cell_type": "code",
      "metadata": {
        "id": "IefrYp6tJ4PE",
        "colab": {
          "base_uri": "https://localhost:8080/"
        },
        "outputId": "6e7fd564-1996-41b8-a586-2a10a57233c2"
      },
      "source": [
        "! pip install pyngrok"
      ],
      "execution_count": 62,
      "outputs": [
        {
          "output_type": "stream",
          "name": "stdout",
          "text": [
            "Looking in indexes: https://pypi.org/simple, https://us-python.pkg.dev/colab-wheels/public/simple/\n",
            "Requirement already satisfied: pyngrok in /usr/local/lib/python3.7/dist-packages (5.1.0)\n",
            "Requirement already satisfied: PyYAML in /usr/local/lib/python3.7/dist-packages (from pyngrok) (3.13)\n"
          ]
        }
      ]
    },
    {
      "cell_type": "markdown",
      "metadata": {
        "id": "qNde3TEzCmjg"
      },
      "source": [
        "Para cuando estes modificando, probando y ejecutando ficheros os dejo en las celdas de abajo los comandos de git necesarios para interaccionar con vuestro repositorio en caso de que queráis:"
      ]
    },
    {
      "cell_type": "code",
      "metadata": {
        "id": "qsjWKcYZC6mm",
        "colab": {
          "base_uri": "https://localhost:8080/"
        },
        "outputId": "4d3d2efa-a66e-4570-abf3-a5afed69d148"
      },
      "source": [
        "! git status"
      ],
      "execution_count": 4,
      "outputs": [
        {
          "output_type": "stream",
          "name": "stdout",
          "text": [
            "fatal: not a git repository (or any of the parent directories): .git\n"
          ]
        }
      ]
    },
    {
      "cell_type": "code",
      "metadata": {
        "id": "PuVHFtqvC8Kw",
        "colab": {
          "base_uri": "https://localhost:8080/"
        },
        "outputId": "54b9ed3f-8bb1-4e25-a9fa-06ab4dbb4018"
      },
      "source": [
        "! git add all\n",
        "! git commit -m \"Nuevos cambios\"\n",
        "! git push main"
      ],
      "execution_count": 5,
      "outputs": [
        {
          "output_type": "stream",
          "name": "stdout",
          "text": [
            "fatal: not a git repository (or any of the parent directories): .git\n",
            "fatal: not a git repository (or any of the parent directories): .git\n",
            "fatal: not a git repository (or any of the parent directories): .git\n"
          ]
        }
      ]
    },
    {
      "cell_type": "code",
      "source": [
        "! git config --global user.email \"morenoygin@gmail.com\"\n",
        "! git config --global user.name \"gym28\""
      ],
      "metadata": {
        "id": "GEwTDaLhIq-x"
      },
      "execution_count": 60,
      "outputs": []
    },
    {
      "cell_type": "code",
      "source": [
        ""
      ],
      "metadata": {
        "id": "9OT9Jp1js3je"
      },
      "execution_count": null,
      "outputs": []
    },
    {
      "cell_type": "markdown",
      "metadata": {
        "id": "H88vcTU_DDpv"
      },
      "source": [
        "Será necesario definir y establecer la variable de entorno `DEFAULT_MODEL_PATH` para definir donde están almacenados nuestros modelos para hacer inferencia."
      ]
    },
    {
      "cell_type": "code",
      "metadata": {
        "id": "Tn9xsgx4u5xP"
      },
      "source": [
        "import os\n",
        "\n",
        "os.environ[\"DEFAULT_MODEL_PATH\"] = \"/content/batch/model/\""
      ],
      "execution_count": 69,
      "outputs": []
    },
    {
      "cell_type": "markdown",
      "metadata": {
        "id": "z-IslHWwDSTU"
      },
      "source": [
        "### Validación inferencia online en local (1.75 puntos)\n",
        "\n",
        "Se validará la correcta inferencia del microservio en local utilizando Swagger. Para ejecutar en local solo hay que ejecutar los comandos a continuación. Después, entrar en la URL proporcionada por ngrock `<ngrok_url>/docs` para acceder a swagger y probar la inferencia como vimos en clase."
      ]
    },
    {
      "cell_type": "code",
      "metadata": {
        "id": "81vGToBWJ_h-",
        "colab": {
          "base_uri": "https://localhost:8080/"
        },
        "outputId": "863126bb-6844-4790-fe03-1f63df9f523c"
      },
      "source": [
        "# For testing purposes\n",
        "import nest_asyncio\n",
        "from pyngrok import ngrok, conf\n",
        "conf.get_default().auth_token= '2BkKb34CzbnizgNNLCTbufaFYSJ_6nuimwZx2wAjfw6Na65GE'\n",
        "\n",
        "ngrok_tunnel = ngrok.connect(8501)\n",
        "\n",
        "print('Public URL:', ngrok_tunnel.public_url)\n",
        "nest_asyncio.apply()"
      ],
      "execution_count": 70,
      "outputs": [
        {
          "output_type": "stream",
          "name": "stdout",
          "text": [
            "Public URL: http://71bf-34-91-223-68.ngrok.io\n"
          ]
        }
      ]
    },
    {
      "cell_type": "code",
      "metadata": {
        "id": "hFeSh7rcuG7L",
        "colab": {
          "base_uri": "https://localhost:8080/"
        },
        "outputId": "9b1cfb90-f3b9-4ee1-fea0-e5617c56ff6b"
      },
      "source": [
        "!uvicorn app.main:app --port 8501"
      ],
      "execution_count": 73,
      "outputs": [
        {
          "output_type": "stream",
          "name": "stdout",
          "text": [
            "/bin/bash: uvicorn: command not found\n"
          ]
        }
      ]
    },
    {
      "cell_type": "markdown",
      "metadata": {
        "id": "fuLtOjukEMIl"
      },
      "source": [
        "### Validación inferencia online en GCP (1.75 puntos)\n",
        "\n",
        "Se validará el correcto funcionamiento del microservicio haciendo una petición POST de inferencia a través de curl al microservicio desplegado en GCP."
      ]
    },
    {
      "cell_type": "markdown",
      "source": [
        ""
      ],
      "metadata": {
        "id": "vKxr-clgS-b_"
      }
    },
    {
      "cell_type": "markdown",
      "metadata": {
        "id": "MX1MiTGuD2KS"
      },
      "source": [
        "Primero, contruiremos una imagen Docker con el microservicio y subiremos el desarrollo al Container Repository en GCP a través de Cloud Build."
      ]
    },
    {
      "cell_type": "code",
      "metadata": {
        "id": "PRhq-d_E7-CY",
        "colab": {
          "base_uri": "https://localhost:8080/"
        },
        "outputId": "43540b2f-d6df-43e9-bfff-e5282c5976a6"
      },
      "source": [
        "! gcloud builds submit --tag gcr.io/$PROJECT_ID/troll-detection-online-service"
      ],
      "execution_count": null,
      "outputs": [
        {
          "output_type": "stream",
          "name": "stdout",
          "text": [
            "Creating temporary tarball archive of 39 file(s) totalling 15.7 KiB before compression.\n",
            "Uploading tarball of [.] to [gs://concise-emblem-355600_cloudbuild/source/1657445553.880645-e90557aa134847d7a9d206cabd323812.tgz]\n",
            "Created [https://cloudbuild.googleapis.com/v1/projects/concise-emblem-355600/locations/global/builds/3aa2bd9e-719e-48ba-b28d-3ff0e1af083a].\n",
            "Logs are available at [https://console.cloud.google.com/cloud-build/builds/3aa2bd9e-719e-48ba-b28d-3ff0e1af083a?project=784409662071].\n",
            " REMOTE BUILD OUTPUT\n",
            "starting build \"3aa2bd9e-719e-48ba-b28d-3ff0e1af083a\"\n",
            "\n",
            "FETCHSOURCE\n",
            "Fetching storage object: gs://concise-emblem-355600_cloudbuild/source/1657445553.880645-e90557aa134847d7a9d206cabd323812.tgz#1657445554586632\n",
            "Copying gs://concise-emblem-355600_cloudbuild/source/1657445553.880645-e90557aa134847d7a9d206cabd323812.tgz#1657445554586632...\n",
            "/ [1 files][  6.8 KiB/  6.8 KiB]                                                \n",
            "Operation completed over 1 objects/6.8 KiB.\n",
            "BUILD\n",
            "Already have image (with digest): gcr.io/cloud-builders/docker\n",
            "invalid argument \"gcr.io//troll-detection-online-service\" for \"-t, --tag\" flag: invalid reference format\n",
            "See 'docker build --help'.\n",
            "ERROR\n",
            "ERROR: build step 0 \"gcr.io/cloud-builders/docker\" failed: step exited with non-zero status: 125\n",
            "\n",
            "\n",
            "BUILD FAILURE: Build step failure: build step 0 \"gcr.io/cloud-builders/docker\" failed: step exited with non-zero status: 125\n",
            "\u001b[1;31mERROR:\u001b[0m (gcloud.builds.submit) build 3aa2bd9e-719e-48ba-b28d-3ff0e1af083a completed with status \"FAILURE\"\n"
          ]
        }
      ]
    },
    {
      "cell_type": "markdown",
      "metadata": {
        "id": "aYVptQ0WEEd-"
      },
      "source": [
        "Desplegaremos la imagen Docker generada en el Container Registry en el servicio de Cloud Run. Después, validaremos que las inferencias funcionan en GCP usando el comando mostrado a continuación:"
      ]
    },
    {
      "cell_type": "code",
      "metadata": {
        "id": "KC0honui-W23",
        "colab": {
          "base_uri": "https://localhost:8080/"
        },
        "outputId": "24e61b57-c1c2-4678-9a37-5c39c724f954"
      },
      "source": [
        "! curl -X POST \"https://troll-detection-service-g2v7skqfeq-uc.a.run.app/api/model/predict\" -H  \"accept: application/json\" -H  \"Content-Type: application/json\" -d \"{\\\"text\\\":\\\"i hate you\\\"}\""
      ],
      "execution_count": null,
      "outputs": [
        {
          "output_type": "stream",
          "name": "stdout",
          "text": [
            "{\"label\":\"NO_TROLL\",\"score\":0.40702152252197266,\"elapsed_time\":0.7069370746612549}"
          ]
        }
      ]
    },
    {
      "cell_type": "markdown",
      "metadata": {
        "id": "ZvBWPoGGKwuJ"
      },
      "source": [
        "# Detección de Trolls en Twitch en Streaming\n",
        "\n",
        "En esta última parte de la práctica se realizará un pipeline de inferencia en tiempo real de un chat de Twitch alcualmente en vivo. Para ello, usaremos mi canal de Twitch `https://www.twitch.tv/franalgaba` donde tengo un bot deplegado poniendo mensajes troll y no troll de forma aleatoria del dataset que hemos usado en la primera parte.\n",
        "\n",
        "Para acceder al chat de Twitch os proporciono el conector correspondiente que será desplegado como Cloud Function como hicimos en clase y usando mis credenciales recogerá los mensajes del chat y los enviará a un topic de Pub/Sub en GCP. Después, desarrollarás un job en streaming de Dataflow con el que leerás esos mensajes de Pub/sub, los mandarás a tu microservicio de inferencia para que haga las predicciones y enviarás los resultados a un nuevo tópico de Pub/Sub.\n",
        "\n",
        "Los siguientes pasos es obligatorio realizarlos para seguir con la práctica.\n",
        "\n",
        "debemos hábilitar las apis\n",
        "\n",
        "    Habilita la API de Google Cloud Pub/Sub. \n",
        "    Habilita la API de Google Cloud Function.\n",
        "\n",
        "A continuación os dejo un diagrama con la arquitectura que se va a desarrollar:\n",
        "\n",
        "![streaming_diagram](https://drive.google.com/uc?export=view&id=1TEBPPc9ZF09IM5iGq9FwGAx9PVzAYNPg)"
      ]
    },
    {
      "cell_type": "markdown",
      "metadata": {
        "id": "Yw3oY8n5GjuU"
      },
      "source": [
        "Primero, creamos el publisher que será el encargado de recoger los mensajes de Twitch y enviarlos a Pub/Sub. Esto os lo doy yo desarrollado, sólo tendréis que desplegarlo en una Cloud Function."
      ]
    },
    {
      "cell_type": "code",
      "metadata": {
        "id": "HH8WcRKrKwKy"
      },
      "source": [
        "%mkdir -p /content/streaming/publisher"
      ],
      "execution_count": null,
      "outputs": []
    },
    {
      "cell_type": "code",
      "metadata": {
        "id": "75whqxX7K54B",
        "colab": {
          "base_uri": "https://localhost:8080/"
        },
        "outputId": "d8900ebf-ccc4-4a25-af54-4863d98c7442"
      },
      "source": [
        "# Execute after restart\n",
        "%cd /content/streaming/publisher"
      ],
      "execution_count": null,
      "outputs": [
        {
          "output_type": "stream",
          "name": "stdout",
          "text": [
            "/content/streaming/publisher\n"
          ]
        }
      ]
    },
    {
      "cell_type": "code",
      "metadata": {
        "id": "jyOecviAK8QO",
        "colab": {
          "base_uri": "https://localhost:8080/"
        },
        "outputId": "ae00b47c-4a72-4c7e-efc8-aa3b9070151e"
      },
      "source": [
        "%%writefile requirements.txt\n",
        "\n",
        "twitchio==1.2.3\n",
        "loguru==0.5.3\n",
        "google-cloud-pubsub==2.1.0"
      ],
      "execution_count": null,
      "outputs": [
        {
          "output_type": "stream",
          "name": "stdout",
          "text": [
            "Writing requirements.txt\n"
          ]
        }
      ]
    },
    {
      "cell_type": "markdown",
      "source": [
        "# **con el main que nos diste no podia hacer que es vieran los mensajes , me salian errores , así que decidí poner el de la práctica de strem que vimos en clase **"
      ],
      "metadata": {
        "id": "6V9EZrZYKPmU"
      }
    },
    {
      "cell_type": "code",
      "metadata": {
        "id": "z-pnzR-jMkZ4",
        "colab": {
          "base_uri": "https://localhost:8080/"
        },
        "outputId": "2d55aae2-db80-4eac-9578-dd1100d47168"
      },
      "source": [
        "%%writefile main.py\n",
        "import os\n",
        "\n",
        "from google.cloud import pubsub_v1\n",
        "from tweepy import OAuthHandler, Stream, API\n",
        "from tweepy.streaming import StreamListener\n",
        "from loguru import logger\n",
        "\n",
        "# Get your twitter credentials from the environment variables.\n",
        "CONSUMER_KEY = os.getenv(\"CONSUMER_KEY\")\n",
        "CONSUMER_SECRET = os.getenv(\"CONSUMER_SECRET\")\n",
        "\n",
        "ACCESS_TOKEN = os.getenv(\"ACCESS_TOKEN\")\n",
        "ACESSS_TOKEN_SECRET = os.getenv(\"ACESSS_TOKEN_SECRET\")\n",
        "\n",
        "PROJECT_ID = os.getenv(\"PROJECT_ID\")\n",
        "TOPIC_NAME = os.getenv(\"TOPIC_NAME\")\n",
        "\n",
        "TOPIC_PATH = f\"projects/{PROJECT_ID}/topics/{TOPIC_NAME}\"\n",
        "\n",
        "publisher = pubsub_v1.PublisherClient()\n",
        "\n",
        "\n",
        "class MyStreamListener(StreamListener):\n",
        "\n",
        "    count = 0\n",
        "    total_tweets = 100\n",
        "\n",
        "    def __init__(self, debug: bool=False):\n",
        "        super().__init__()\n",
        "        self.debug = debug\n",
        "\n",
        "    def publish_tweet(self, text):\n",
        "        publisher.publish(TOPIC_PATH, str.encode(text))\n",
        "\n",
        "    def on_status(self, status):\n",
        "\n",
        "        keep_going = True\n",
        "\n",
        "        if hasattr(status, \"retweeted_status\"):  # Check if Retweet\n",
        "            try:\n",
        "                text = status.retweeted_status.extended_tweet[\"full_text\"]\n",
        "            except AttributeError:\n",
        "                text = status.retweeted_status.text\n",
        "        else:\n",
        "            try:\n",
        "                text = status.extended_tweet[\"full_text\"]\n",
        "            except AttributeError:\n",
        "                text = status.text\n",
        "\n",
        "        logger.info(text)\n",
        "        if not self.debug:\n",
        "            self.publish_tweet(text)\n",
        "\n",
        "        self.count += 1\n",
        "        if self.count > self.total_tweets:\n",
        "            keep_going = False\n",
        "        return keep_going\n",
        "\n",
        "    def on_error(self, status_code):\n",
        "        if status_code == 420:\n",
        "            # returning False in on_error disconnects the stream\n",
        "            return False\n",
        "\n",
        "\n",
        "def main(request):\n",
        "\n",
        "    topic_name = f\"projects/{PROJECT_ID}/topics/{TOPIC_NAME}\"\n",
        "    # publisher.create_topic(topic_name)\n",
        "\n",
        "    request_json = request.get_json(silent=True)\n",
        "\n",
        "    if request_json and \"filter\" in request_json:\n",
        "      filter = request_json[\"filter\"]\n",
        "    else:\n",
        "      raise ValueError(\"JSON is invalid, or missing a 'filter' property\")\n",
        "    \n",
        "    logger.info(\"Creating OAuth...\")\n",
        "    auth = OAuthHandler(CONSUMER_KEY, CONSUMER_SECRET)\n",
        "    auth.set_access_token(ACCESS_TOKEN, ACESSS_TOKEN_SECRET)\n",
        "    api = API(auth)\n",
        "\n",
        "    logger.info(\"Starting listener...\")\n",
        "    if \"debug\" in request_json and isinstance(request_json[\"debug\"], bool):\n",
        "        logger.info(f\"Debug mode: {request_json['debug']}\")\n",
        "        myStreamListener = MyStreamListener(request_json[\"debug\"])\n",
        "    else:\n",
        "        myStreamListener = MyStreamListener()\n",
        "\n",
        "    myStream = Stream(auth=api.auth, listener=myStreamListener)\n",
        "    logger.info(f\"Recieved filter: {filter}\")\n",
        "    myStream.filter(track=[filter])"
      ],
      "execution_count": null,
      "outputs": [
        {
          "output_type": "stream",
          "name": "stdout",
          "text": [
            "Writing main.py\n"
          ]
        }
      ]
    },
    {
      "cell_type": "code",
      "source": [
        "import os\n",
        "\n",
        "os.environ[\"CONSUMER_KEY\"] = \"WrebfpkAkPTGMt08RTbUGgOaC\"\n",
        "os.environ[\"CONSUMER_SECRET\"] = \"KPdZ4Nrevvs0HCybs6MS7hFK8Dq3ii3NjdKikxarl345wQSB6C\"\n",
        "os.environ[\"ACCESS_TOKEN\"] = \"356163876-cPmkCMf1etSRisw8XJZjO79rtBz6YBa6OAhauC1h\"\n",
        "os.environ[\"ACESSS_TOKEN_SECRET\"] = \"CYlJ51K7Ie1lUYs0zBRWkHW1eI2IXm4iq0ROFmhCrV3ww\"\n",
        "os.environ[\"TOPIC_NAME\"] = \"tweets\"\n",
        "os.environ[\"PROJECT_ID\"] = PROJECT_ID"
      ],
      "metadata": {
        "id": "0vxlysoYuqhu"
      },
      "execution_count": null,
      "outputs": []
    },
    {
      "cell_type": "code",
      "source": [
        "!pip install nest_asyncio\n",
        "import nest_asyncio\n",
        "nest_asyncio.apply()"
      ],
      "metadata": {
        "colab": {
          "base_uri": "https://localhost:8080/"
        },
        "id": "7JZwXkibEKVA",
        "outputId": "7f32f3a4-14b3-4407-afdd-ccbc581efd4b"
      },
      "execution_count": null,
      "outputs": [
        {
          "output_type": "stream",
          "name": "stdout",
          "text": [
            "Looking in indexes: https://pypi.org/simple, https://us-python.pkg.dev/colab-wheels/public/simple/\n",
            "Requirement already satisfied: nest_asyncio in /usr/local/lib/python3.7/dist-packages (1.5.5)\n"
          ]
        }
      ]
    },
    {
      "cell_type": "markdown",
      "source": [
        "Lo primero que debemos hacer es crear el topic, para ello ya hemos habilitado en cloud el servicio llamado pub/sub que es donde se crean los topicos\n",
        "![imagen.png](data:image/png;base64,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)\n",
        "\n",
        "y se crea el subscriber automáticamente\n",
        "\n",
        "![imagen.png](data:image/png;base64,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)"
      ],
      "metadata": {
        "id": "26KOO5b8K9-6"
      }
    },
    {
      "cell_type": "code",
      "source": [
        "# For printing gathered tweets in Colab\n",
        "\n",
        "from main import main\n",
        "\n",
        "class ResponseMock():\n",
        "\n",
        "  def __init__(self, data):\n",
        "    self.data = data\n",
        "\n",
        "  def get_json(self, silent):\n",
        "    return self.data\n",
        "\n",
        "main(ResponseMock({\"filter\": \"shakira\", \"debug\": True}))"
      ],
      "metadata": {
        "colab": {
          "base_uri": "https://localhost:8080/",
          "height": 1000
        },
        "id": "RgnZSKSGD2vH",
        "outputId": "0378fb12-b4d1-4bf6-f9e8-a3a27d7e90c8"
      },
      "execution_count": null,
      "outputs": [
        {
          "output_type": "stream",
          "name": "stderr",
          "text": [
            "2022-07-10 12:49:20.448 | INFO     | main:main:77 - Creating OAuth...\n",
            "2022-07-10 12:49:20.450 | INFO     | main:main:82 - Starting listener...\n",
            "2022-07-10 12:49:20.451 | INFO     | main:main:84 - Debug mode: True\n",
            "2022-07-10 12:49:20.454 | INFO     | main:main:90 - Recieved filter: shakira\n",
            "2022-07-10 12:49:28.214 | INFO     | main:on_status:50 - .@Shakira &amp; @rihanna’s \"Can’t Remember To Forget You\" is now charting on @Shazam in 27 countries:\n",
            "\n",
            "🌍 Global — #144 [RE]\n",
            "\n",
            "🇧🇷 Brazil — #65 [+74]\n",
            "🇩🇪 Germany — #101 [RE]\n",
            "🇮🇹 Italy — #152 [RE]\n",
            "🇹🇷 Turkiye —  #180 [RE]\n",
            "🇨🇦 Canada — # 189 [RE] https://t.co/LSwkNqVDYd\n",
            "2022-07-10 12:49:32.505 | INFO     | main:on_status:50 - Baforei tanto essa na época. Passava todo dia no TVZ. https://t.co/JzpuKmwO8k\n",
            "2022-07-10 12:49:54.462 | INFO     | main:on_status:50 - Shakira sonho de muitas a 4 décadas sendo a maior de toda América latina\n",
            "2022-07-10 12:49:58.517 | INFO     | main:on_status:50 - .@bep, @shakira, and @davidguetta's \"Don't You Worry\" has reached 40 MILLION views on YouTube.\n",
            "\n",
            "🛸 Watch: https://t.co/uJMBJF1RHA https://t.co/opTYomyMiZ\n",
            "2022-07-10 12:50:03.094 | INFO     | main:on_status:50 - DON'T YOU WORRY de @bep + @shakira y @davidguetta alcanza 40 MILLONES de visualizaciones en @YouTube.\n",
            "\n",
            "Ver vídeo:https://t.co/8xHKdUySzs\n",
            "\n",
            "#Shakira #DontYouWorry\n",
            "@TabBep @apldeap @iamwill \n",
            "@sonymusic @EpicRecords https://t.co/NlkxU6KyHO\n",
            "2022-07-10 12:50:30.728 | INFO     | main:on_status:50 - Mama eee\n",
            "Rebo Akomi munene boye \n",
            "\n",
            "Abebi ein!\n",
            "Akomi mataku mayi mayi 🙄\n",
            "Evimbi neti alati couche \n",
            "Cedi-Akua ?  🙄 \n",
            "Ba star congolais \n",
            "Bo zuaka soin ya ba ndjoto na bino \n",
            "Bo landa ekzemple \n",
            "ya Rihanna na Shakira \n",
            "\n",
            "Suite …\n",
            "https://t.co/9PEdCgqBy2 https://t.co/kMLkQkRG54\n",
            "2022-07-10 12:50:37.571 | INFO     | main:on_status:50 - si ya flipaba con los cuernos a Shakira pues imagínate a Carla flilia\n",
            "2022-07-10 12:50:52.861 | INFO     | main:on_status:50 - Quem será que vai fazer o papel da mãe do Gavi (sei que aparentemente é mentira, mas deixa o enredo mais interessante)?\n",
            "\n",
            "https://t.co/xJjep9jGFK\n",
            "2022-07-10 12:50:55.783 | INFO     | main:on_status:50 - Finally!!! 😍😍\n",
            "Did Vernon just looked more younger and more handsome?? Aside from shaking his booty like a Shakira plus the Swag \n",
            "\n",
            "#세븐틴 #VERNON #SEVENTEEN #버논 @pledis_17 \n",
            " https://t.co/6t1mtezD9p\n",
            "2022-07-10 12:51:01.723 | INFO     | main:on_status:50 - 🌎 | Daily Top Artists Global\n",
            "\n",
            "— #32 (+4) ↑ Shakira.\n",
            "— 262 dias no chart.\n",
            "— Escute: https://t.co/VTmFpFTmI3 https://t.co/mEkNWbzOVH\n",
            "2022-07-10 12:51:14.335 | INFO     | main:on_status:50 - Most streamed female artists on Spotify on Friday (Jul. 8, 2022):\n",
            "\n",
            "#1 @taylorswift13 29.9M\n",
            "#2 @DojaCat 16.8M\n",
            "#3 @DuaLipa 16.6M\n",
            "#4 @billieeilish 13.4M\n",
            "#5 @ArianaGrande 13.2M\n",
            "#6 @karolg 12.6M\n",
            "#7 @rihanna 10.4M\n",
            "#8 @shakira 10.2M\n",
            "#9 @oliviarodrigo 10M\n",
            "#10 @ladygaga 9.4M\n",
            "2022-07-10 12:51:14.479 | INFO     | main:on_status:50 - 13 years ago today, Shakira released ‘She Wolf.’\n",
            "\n",
            "The classic went on to become one of her signature tracks and an international hit, peaking at #4 in the UK and #11 in the US. The track was praised by critics for its inventiveness and her delivery. https://t.co/J2aGusxyoG\n"
          ]
        },
        {
          "output_type": "error",
          "ename": "KeyboardInterrupt",
          "evalue": "ignored",
          "traceback": [
            "\u001b[0;31m---------------------------------------------------------------------------\u001b[0m",
            "\u001b[0;31mKeyboardInterrupt\u001b[0m                         Traceback (most recent call last)",
            "\u001b[0;32m<ipython-input-6-68bc69887f88>\u001b[0m in \u001b[0;36m<module>\u001b[0;34m()\u001b[0m\n\u001b[1;32m     11\u001b[0m     \u001b[0;32mreturn\u001b[0m \u001b[0mself\u001b[0m\u001b[0;34m.\u001b[0m\u001b[0mdata\u001b[0m\u001b[0;34m\u001b[0m\u001b[0;34m\u001b[0m\u001b[0m\n\u001b[1;32m     12\u001b[0m \u001b[0;34m\u001b[0m\u001b[0m\n\u001b[0;32m---> 13\u001b[0;31m \u001b[0mmain\u001b[0m\u001b[0;34m(\u001b[0m\u001b[0mResponseMock\u001b[0m\u001b[0;34m(\u001b[0m\u001b[0;34m{\u001b[0m\u001b[0;34m\"filter\"\u001b[0m\u001b[0;34m:\u001b[0m \u001b[0;34m\"shakira\"\u001b[0m\u001b[0;34m,\u001b[0m \u001b[0;34m\"debug\"\u001b[0m\u001b[0;34m:\u001b[0m \u001b[0;32mTrue\u001b[0m\u001b[0;34m}\u001b[0m\u001b[0;34m)\u001b[0m\u001b[0;34m)\u001b[0m\u001b[0;34m\u001b[0m\u001b[0;34m\u001b[0m\u001b[0m\n\u001b[0m",
            "\u001b[0;32m/content/main.py\u001b[0m in \u001b[0;36mmain\u001b[0;34m(request)\u001b[0m\n\u001b[1;32m     89\u001b[0m     \u001b[0mmyStream\u001b[0m \u001b[0;34m=\u001b[0m \u001b[0mStream\u001b[0m\u001b[0;34m(\u001b[0m\u001b[0mauth\u001b[0m\u001b[0;34m=\u001b[0m\u001b[0mapi\u001b[0m\u001b[0;34m.\u001b[0m\u001b[0mauth\u001b[0m\u001b[0;34m,\u001b[0m \u001b[0mlistener\u001b[0m\u001b[0;34m=\u001b[0m\u001b[0mmyStreamListener\u001b[0m\u001b[0;34m)\u001b[0m\u001b[0;34m\u001b[0m\u001b[0;34m\u001b[0m\u001b[0m\n\u001b[1;32m     90\u001b[0m     \u001b[0mlogger\u001b[0m\u001b[0;34m.\u001b[0m\u001b[0minfo\u001b[0m\u001b[0;34m(\u001b[0m\u001b[0;34mf\"Recieved filter: {filter}\"\u001b[0m\u001b[0;34m)\u001b[0m\u001b[0;34m\u001b[0m\u001b[0;34m\u001b[0m\u001b[0m\n\u001b[0;32m---> 91\u001b[0;31m     \u001b[0mmyStream\u001b[0m\u001b[0;34m.\u001b[0m\u001b[0mfilter\u001b[0m\u001b[0;34m(\u001b[0m\u001b[0mtrack\u001b[0m\u001b[0;34m=\u001b[0m\u001b[0;34m[\u001b[0m\u001b[0mfilter\u001b[0m\u001b[0;34m]\u001b[0m\u001b[0;34m)\u001b[0m\u001b[0;34m\u001b[0m\u001b[0;34m\u001b[0m\u001b[0m\n\u001b[0m",
            "\u001b[0;32m/usr/local/lib/python3.7/dist-packages/tweepy/streaming.py\u001b[0m in \u001b[0;36mfilter\u001b[0;34m(self, follow, track, is_async, locations, stall_warnings, languages, encoding, filter_level)\u001b[0m\n\u001b[1;32m    472\u001b[0m             \u001b[0mself\u001b[0m\u001b[0;34m.\u001b[0m\u001b[0mbody\u001b[0m\u001b[0;34m[\u001b[0m\u001b[0;34m'filter_level'\u001b[0m\u001b[0;34m]\u001b[0m \u001b[0;34m=\u001b[0m \u001b[0mfilter_level\u001b[0m\u001b[0;34m.\u001b[0m\u001b[0mencode\u001b[0m\u001b[0;34m(\u001b[0m\u001b[0mencoding\u001b[0m\u001b[0;34m)\u001b[0m\u001b[0;34m\u001b[0m\u001b[0;34m\u001b[0m\u001b[0m\n\u001b[1;32m    473\u001b[0m         \u001b[0mself\u001b[0m\u001b[0;34m.\u001b[0m\u001b[0msession\u001b[0m\u001b[0;34m.\u001b[0m\u001b[0mparams\u001b[0m \u001b[0;34m=\u001b[0m \u001b[0;34m{\u001b[0m\u001b[0;34m'delimited'\u001b[0m\u001b[0;34m:\u001b[0m \u001b[0;34m'length'\u001b[0m\u001b[0;34m}\u001b[0m\u001b[0;34m\u001b[0m\u001b[0;34m\u001b[0m\u001b[0m\n\u001b[0;32m--> 474\u001b[0;31m         \u001b[0mself\u001b[0m\u001b[0;34m.\u001b[0m\u001b[0m_start\u001b[0m\u001b[0;34m(\u001b[0m\u001b[0mis_async\u001b[0m\u001b[0;34m)\u001b[0m\u001b[0;34m\u001b[0m\u001b[0;34m\u001b[0m\u001b[0m\n\u001b[0m\u001b[1;32m    475\u001b[0m \u001b[0;34m\u001b[0m\u001b[0m\n\u001b[1;32m    476\u001b[0m     def sitestream(self, follow, stall_warnings=False,\n",
            "\u001b[0;32m/usr/local/lib/python3.7/dist-packages/tweepy/streaming.py\u001b[0m in \u001b[0;36m_start\u001b[0;34m(self, is_async)\u001b[0m\n\u001b[1;32m    387\u001b[0m             \u001b[0mself\u001b[0m\u001b[0;34m.\u001b[0m\u001b[0m_thread\u001b[0m\u001b[0;34m.\u001b[0m\u001b[0mstart\u001b[0m\u001b[0;34m(\u001b[0m\u001b[0;34m)\u001b[0m\u001b[0;34m\u001b[0m\u001b[0;34m\u001b[0m\u001b[0m\n\u001b[1;32m    388\u001b[0m         \u001b[0;32melse\u001b[0m\u001b[0;34m:\u001b[0m\u001b[0;34m\u001b[0m\u001b[0;34m\u001b[0m\u001b[0m\n\u001b[0;32m--> 389\u001b[0;31m             \u001b[0mself\u001b[0m\u001b[0;34m.\u001b[0m\u001b[0m_run\u001b[0m\u001b[0;34m(\u001b[0m\u001b[0;34m)\u001b[0m\u001b[0;34m\u001b[0m\u001b[0;34m\u001b[0m\u001b[0m\n\u001b[0m\u001b[1;32m    390\u001b[0m \u001b[0;34m\u001b[0m\u001b[0m\n\u001b[1;32m    391\u001b[0m     \u001b[0;32mdef\u001b[0m \u001b[0mon_closed\u001b[0m\u001b[0;34m(\u001b[0m\u001b[0mself\u001b[0m\u001b[0;34m,\u001b[0m \u001b[0mresp\u001b[0m\u001b[0;34m)\u001b[0m\u001b[0;34m:\u001b[0m\u001b[0;34m\u001b[0m\u001b[0;34m\u001b[0m\u001b[0m\n",
            "\u001b[0;32m/usr/local/lib/python3.7/dist-packages/tweepy/streaming.py\u001b[0m in \u001b[0;36m_run\u001b[0;34m(self)\u001b[0m\n\u001b[1;32m    287\u001b[0m                     \u001b[0mself\u001b[0m\u001b[0;34m.\u001b[0m\u001b[0msnooze_time\u001b[0m \u001b[0;34m=\u001b[0m \u001b[0mself\u001b[0m\u001b[0;34m.\u001b[0m\u001b[0msnooze_time_step\u001b[0m\u001b[0;34m\u001b[0m\u001b[0;34m\u001b[0m\u001b[0m\n\u001b[1;32m    288\u001b[0m                     \u001b[0mself\u001b[0m\u001b[0;34m.\u001b[0m\u001b[0mlistener\u001b[0m\u001b[0;34m.\u001b[0m\u001b[0mon_connect\u001b[0m\u001b[0;34m(\u001b[0m\u001b[0;34m)\u001b[0m\u001b[0;34m\u001b[0m\u001b[0;34m\u001b[0m\u001b[0m\n\u001b[0;32m--> 289\u001b[0;31m                     \u001b[0mself\u001b[0m\u001b[0;34m.\u001b[0m\u001b[0m_read_loop\u001b[0m\u001b[0;34m(\u001b[0m\u001b[0mresp\u001b[0m\u001b[0;34m)\u001b[0m\u001b[0;34m\u001b[0m\u001b[0;34m\u001b[0m\u001b[0m\n\u001b[0m\u001b[1;32m    290\u001b[0m             \u001b[0;32mexcept\u001b[0m \u001b[0;34m(\u001b[0m\u001b[0mTimeout\u001b[0m\u001b[0;34m,\u001b[0m \u001b[0mssl\u001b[0m\u001b[0;34m.\u001b[0m\u001b[0mSSLError\u001b[0m\u001b[0;34m)\u001b[0m \u001b[0;32mas\u001b[0m \u001b[0mexc\u001b[0m\u001b[0;34m:\u001b[0m\u001b[0;34m\u001b[0m\u001b[0;34m\u001b[0m\u001b[0m\n\u001b[1;32m    291\u001b[0m                 \u001b[0;31m# This is still necessary, as a SSLError can actually be\u001b[0m\u001b[0;34m\u001b[0m\u001b[0;34m\u001b[0m\u001b[0;34m\u001b[0m\u001b[0m\n",
            "\u001b[0;32m/usr/local/lib/python3.7/dist-packages/tweepy/streaming.py\u001b[0m in \u001b[0;36m_read_loop\u001b[0;34m(self, resp)\u001b[0m\n\u001b[1;32m    337\u001b[0m             \u001b[0mlength\u001b[0m \u001b[0;34m=\u001b[0m \u001b[0;36m0\u001b[0m\u001b[0;34m\u001b[0m\u001b[0;34m\u001b[0m\u001b[0m\n\u001b[1;32m    338\u001b[0m             \u001b[0;32mwhile\u001b[0m \u001b[0;32mnot\u001b[0m \u001b[0mresp\u001b[0m\u001b[0;34m.\u001b[0m\u001b[0mraw\u001b[0m\u001b[0;34m.\u001b[0m\u001b[0mclosed\u001b[0m\u001b[0;34m:\u001b[0m\u001b[0;34m\u001b[0m\u001b[0;34m\u001b[0m\u001b[0m\n\u001b[0;32m--> 339\u001b[0;31m                 \u001b[0mline\u001b[0m \u001b[0;34m=\u001b[0m \u001b[0mbuf\u001b[0m\u001b[0;34m.\u001b[0m\u001b[0mread_line\u001b[0m\u001b[0;34m(\u001b[0m\u001b[0;34m)\u001b[0m\u001b[0;34m\u001b[0m\u001b[0;34m\u001b[0m\u001b[0m\n\u001b[0m\u001b[1;32m    340\u001b[0m                 \u001b[0mstripped_line\u001b[0m \u001b[0;34m=\u001b[0m \u001b[0mline\u001b[0m\u001b[0;34m.\u001b[0m\u001b[0mstrip\u001b[0m\u001b[0;34m(\u001b[0m\u001b[0;34m)\u001b[0m \u001b[0;32mif\u001b[0m \u001b[0mline\u001b[0m \u001b[0;32melse\u001b[0m \u001b[0mline\u001b[0m \u001b[0;31m# line is sometimes None so we need to check here\u001b[0m\u001b[0;34m\u001b[0m\u001b[0;34m\u001b[0m\u001b[0m\n\u001b[1;32m    341\u001b[0m                 \u001b[0;32mif\u001b[0m \u001b[0;32mnot\u001b[0m \u001b[0mstripped_line\u001b[0m\u001b[0;34m:\u001b[0m\u001b[0;34m\u001b[0m\u001b[0;34m\u001b[0m\u001b[0m\n",
            "\u001b[0;32m/usr/local/lib/python3.7/dist-packages/tweepy/streaming.py\u001b[0m in \u001b[0;36mread_line\u001b[0;34m(self, sep)\u001b[0m\n\u001b[1;32m    198\u001b[0m             \u001b[0;32melse\u001b[0m\u001b[0;34m:\u001b[0m\u001b[0;34m\u001b[0m\u001b[0;34m\u001b[0m\u001b[0m\n\u001b[1;32m    199\u001b[0m                 \u001b[0mstart\u001b[0m \u001b[0;34m=\u001b[0m \u001b[0mlen\u001b[0m\u001b[0;34m(\u001b[0m\u001b[0mself\u001b[0m\u001b[0;34m.\u001b[0m\u001b[0m_buffer\u001b[0m\u001b[0;34m)\u001b[0m\u001b[0;34m\u001b[0m\u001b[0;34m\u001b[0m\u001b[0m\n\u001b[0;32m--> 200\u001b[0;31m             \u001b[0mself\u001b[0m\u001b[0;34m.\u001b[0m\u001b[0m_buffer\u001b[0m \u001b[0;34m+=\u001b[0m \u001b[0mself\u001b[0m\u001b[0;34m.\u001b[0m\u001b[0m_stream\u001b[0m\u001b[0;34m.\u001b[0m\u001b[0mread\u001b[0m\u001b[0;34m(\u001b[0m\u001b[0mself\u001b[0m\u001b[0;34m.\u001b[0m\u001b[0m_chunk_size\u001b[0m\u001b[0;34m)\u001b[0m\u001b[0;34m\u001b[0m\u001b[0;34m\u001b[0m\u001b[0m\n\u001b[0m\u001b[1;32m    201\u001b[0m         \u001b[0;32mreturn\u001b[0m \u001b[0msix\u001b[0m\u001b[0;34m.\u001b[0m\u001b[0mb\u001b[0m\u001b[0;34m(\u001b[0m\u001b[0;34m''\u001b[0m\u001b[0;34m)\u001b[0m\u001b[0;34m\u001b[0m\u001b[0;34m\u001b[0m\u001b[0m\n\u001b[1;32m    202\u001b[0m \u001b[0;34m\u001b[0m\u001b[0m\n",
            "\u001b[0;32m/usr/local/lib/python3.7/dist-packages/urllib3/response.py\u001b[0m in \u001b[0;36mread\u001b[0;34m(self, amt, decode_content, cache_content)\u001b[0m\n\u001b[1;32m    442\u001b[0m             \u001b[0;32melse\u001b[0m\u001b[0;34m:\u001b[0m\u001b[0;34m\u001b[0m\u001b[0;34m\u001b[0m\u001b[0m\n\u001b[1;32m    443\u001b[0m                 \u001b[0mcache_content\u001b[0m \u001b[0;34m=\u001b[0m \u001b[0;32mFalse\u001b[0m\u001b[0;34m\u001b[0m\u001b[0;34m\u001b[0m\u001b[0m\n\u001b[0;32m--> 444\u001b[0;31m                 \u001b[0mdata\u001b[0m \u001b[0;34m=\u001b[0m \u001b[0mself\u001b[0m\u001b[0;34m.\u001b[0m\u001b[0m_fp\u001b[0m\u001b[0;34m.\u001b[0m\u001b[0mread\u001b[0m\u001b[0;34m(\u001b[0m\u001b[0mamt\u001b[0m\u001b[0;34m)\u001b[0m\u001b[0;34m\u001b[0m\u001b[0;34m\u001b[0m\u001b[0m\n\u001b[0m\u001b[1;32m    445\u001b[0m                 \u001b[0;32mif\u001b[0m \u001b[0mamt\u001b[0m \u001b[0;34m!=\u001b[0m \u001b[0;36m0\u001b[0m \u001b[0;32mand\u001b[0m \u001b[0;32mnot\u001b[0m \u001b[0mdata\u001b[0m\u001b[0;34m:\u001b[0m  \u001b[0;31m# Platform-specific: Buggy versions of Python.\u001b[0m\u001b[0;34m\u001b[0m\u001b[0;34m\u001b[0m\u001b[0m\n\u001b[1;32m    446\u001b[0m                     \u001b[0;31m# Close the connection when no data is returned\u001b[0m\u001b[0;34m\u001b[0m\u001b[0;34m\u001b[0m\u001b[0;34m\u001b[0m\u001b[0m\n",
            "\u001b[0;32m/usr/lib/python3.7/http/client.py\u001b[0m in \u001b[0;36mread\u001b[0;34m(self, amt)\u001b[0m\n\u001b[1;32m    463\u001b[0m             \u001b[0;31m# Amount is given, implement using readinto\u001b[0m\u001b[0;34m\u001b[0m\u001b[0;34m\u001b[0m\u001b[0;34m\u001b[0m\u001b[0m\n\u001b[1;32m    464\u001b[0m             \u001b[0mb\u001b[0m \u001b[0;34m=\u001b[0m \u001b[0mbytearray\u001b[0m\u001b[0;34m(\u001b[0m\u001b[0mamt\u001b[0m\u001b[0;34m)\u001b[0m\u001b[0;34m\u001b[0m\u001b[0;34m\u001b[0m\u001b[0m\n\u001b[0;32m--> 465\u001b[0;31m             \u001b[0mn\u001b[0m \u001b[0;34m=\u001b[0m \u001b[0mself\u001b[0m\u001b[0;34m.\u001b[0m\u001b[0mreadinto\u001b[0m\u001b[0;34m(\u001b[0m\u001b[0mb\u001b[0m\u001b[0;34m)\u001b[0m\u001b[0;34m\u001b[0m\u001b[0;34m\u001b[0m\u001b[0m\n\u001b[0m\u001b[1;32m    466\u001b[0m             \u001b[0;32mreturn\u001b[0m \u001b[0mmemoryview\u001b[0m\u001b[0;34m(\u001b[0m\u001b[0mb\u001b[0m\u001b[0;34m)\u001b[0m\u001b[0;34m[\u001b[0m\u001b[0;34m:\u001b[0m\u001b[0mn\u001b[0m\u001b[0;34m]\u001b[0m\u001b[0;34m.\u001b[0m\u001b[0mtobytes\u001b[0m\u001b[0;34m(\u001b[0m\u001b[0;34m)\u001b[0m\u001b[0;34m\u001b[0m\u001b[0;34m\u001b[0m\u001b[0m\n\u001b[1;32m    467\u001b[0m         \u001b[0;32melse\u001b[0m\u001b[0;34m:\u001b[0m\u001b[0;34m\u001b[0m\u001b[0;34m\u001b[0m\u001b[0m\n",
            "\u001b[0;32m/usr/lib/python3.7/http/client.py\u001b[0m in \u001b[0;36mreadinto\u001b[0;34m(self, b)\u001b[0m\n\u001b[1;32m    497\u001b[0m \u001b[0;34m\u001b[0m\u001b[0m\n\u001b[1;32m    498\u001b[0m         \u001b[0;32mif\u001b[0m \u001b[0mself\u001b[0m\u001b[0;34m.\u001b[0m\u001b[0mchunked\u001b[0m\u001b[0;34m:\u001b[0m\u001b[0;34m\u001b[0m\u001b[0;34m\u001b[0m\u001b[0m\n\u001b[0;32m--> 499\u001b[0;31m             \u001b[0;32mreturn\u001b[0m \u001b[0mself\u001b[0m\u001b[0;34m.\u001b[0m\u001b[0m_readinto_chunked\u001b[0m\u001b[0;34m(\u001b[0m\u001b[0mb\u001b[0m\u001b[0;34m)\u001b[0m\u001b[0;34m\u001b[0m\u001b[0;34m\u001b[0m\u001b[0m\n\u001b[0m\u001b[1;32m    500\u001b[0m \u001b[0;34m\u001b[0m\u001b[0m\n\u001b[1;32m    501\u001b[0m         \u001b[0;32mif\u001b[0m \u001b[0mself\u001b[0m\u001b[0;34m.\u001b[0m\u001b[0mlength\u001b[0m \u001b[0;32mis\u001b[0m \u001b[0;32mnot\u001b[0m \u001b[0;32mNone\u001b[0m\u001b[0;34m:\u001b[0m\u001b[0;34m\u001b[0m\u001b[0;34m\u001b[0m\u001b[0m\n",
            "\u001b[0;32m/usr/lib/python3.7/http/client.py\u001b[0m in \u001b[0;36m_readinto_chunked\u001b[0;34m(self, b)\u001b[0m\n\u001b[1;32m    592\u001b[0m         \u001b[0;32mtry\u001b[0m\u001b[0;34m:\u001b[0m\u001b[0;34m\u001b[0m\u001b[0;34m\u001b[0m\u001b[0m\n\u001b[1;32m    593\u001b[0m             \u001b[0;32mwhile\u001b[0m \u001b[0;32mTrue\u001b[0m\u001b[0;34m:\u001b[0m\u001b[0;34m\u001b[0m\u001b[0;34m\u001b[0m\u001b[0m\n\u001b[0;32m--> 594\u001b[0;31m                 \u001b[0mchunk_left\u001b[0m \u001b[0;34m=\u001b[0m \u001b[0mself\u001b[0m\u001b[0;34m.\u001b[0m\u001b[0m_get_chunk_left\u001b[0m\u001b[0;34m(\u001b[0m\u001b[0;34m)\u001b[0m\u001b[0;34m\u001b[0m\u001b[0;34m\u001b[0m\u001b[0m\n\u001b[0m\u001b[1;32m    595\u001b[0m                 \u001b[0;32mif\u001b[0m \u001b[0mchunk_left\u001b[0m \u001b[0;32mis\u001b[0m \u001b[0;32mNone\u001b[0m\u001b[0;34m:\u001b[0m\u001b[0;34m\u001b[0m\u001b[0;34m\u001b[0m\u001b[0m\n\u001b[1;32m    596\u001b[0m                     \u001b[0;32mreturn\u001b[0m \u001b[0mtotal_bytes\u001b[0m\u001b[0;34m\u001b[0m\u001b[0;34m\u001b[0m\u001b[0m\n",
            "\u001b[0;32m/usr/lib/python3.7/http/client.py\u001b[0m in \u001b[0;36m_get_chunk_left\u001b[0;34m(self)\u001b[0m\n\u001b[1;32m    560\u001b[0m                 \u001b[0mself\u001b[0m\u001b[0;34m.\u001b[0m\u001b[0m_safe_read\u001b[0m\u001b[0;34m(\u001b[0m\u001b[0;36m2\u001b[0m\u001b[0;34m)\u001b[0m  \u001b[0;31m# toss the CRLF at the end of the chunk\u001b[0m\u001b[0;34m\u001b[0m\u001b[0;34m\u001b[0m\u001b[0m\n\u001b[1;32m    561\u001b[0m             \u001b[0;32mtry\u001b[0m\u001b[0;34m:\u001b[0m\u001b[0;34m\u001b[0m\u001b[0;34m\u001b[0m\u001b[0m\n\u001b[0;32m--> 562\u001b[0;31m                 \u001b[0mchunk_left\u001b[0m \u001b[0;34m=\u001b[0m \u001b[0mself\u001b[0m\u001b[0;34m.\u001b[0m\u001b[0m_read_next_chunk_size\u001b[0m\u001b[0;34m(\u001b[0m\u001b[0;34m)\u001b[0m\u001b[0;34m\u001b[0m\u001b[0;34m\u001b[0m\u001b[0m\n\u001b[0m\u001b[1;32m    563\u001b[0m             \u001b[0;32mexcept\u001b[0m \u001b[0mValueError\u001b[0m\u001b[0;34m:\u001b[0m\u001b[0;34m\u001b[0m\u001b[0;34m\u001b[0m\u001b[0m\n\u001b[1;32m    564\u001b[0m                 \u001b[0;32mraise\u001b[0m \u001b[0mIncompleteRead\u001b[0m\u001b[0;34m(\u001b[0m\u001b[0;34mb''\u001b[0m\u001b[0;34m)\u001b[0m\u001b[0;34m\u001b[0m\u001b[0;34m\u001b[0m\u001b[0m\n",
            "\u001b[0;32m/usr/lib/python3.7/http/client.py\u001b[0m in \u001b[0;36m_read_next_chunk_size\u001b[0;34m(self)\u001b[0m\n\u001b[1;32m    520\u001b[0m     \u001b[0;32mdef\u001b[0m \u001b[0m_read_next_chunk_size\u001b[0m\u001b[0;34m(\u001b[0m\u001b[0mself\u001b[0m\u001b[0;34m)\u001b[0m\u001b[0;34m:\u001b[0m\u001b[0;34m\u001b[0m\u001b[0;34m\u001b[0m\u001b[0m\n\u001b[1;32m    521\u001b[0m         \u001b[0;31m# Read the next chunk size from the file\u001b[0m\u001b[0;34m\u001b[0m\u001b[0;34m\u001b[0m\u001b[0;34m\u001b[0m\u001b[0m\n\u001b[0;32m--> 522\u001b[0;31m         \u001b[0mline\u001b[0m \u001b[0;34m=\u001b[0m \u001b[0mself\u001b[0m\u001b[0;34m.\u001b[0m\u001b[0mfp\u001b[0m\u001b[0;34m.\u001b[0m\u001b[0mreadline\u001b[0m\u001b[0;34m(\u001b[0m\u001b[0m_MAXLINE\u001b[0m \u001b[0;34m+\u001b[0m \u001b[0;36m1\u001b[0m\u001b[0;34m)\u001b[0m\u001b[0;34m\u001b[0m\u001b[0;34m\u001b[0m\u001b[0m\n\u001b[0m\u001b[1;32m    523\u001b[0m         \u001b[0;32mif\u001b[0m \u001b[0mlen\u001b[0m\u001b[0;34m(\u001b[0m\u001b[0mline\u001b[0m\u001b[0;34m)\u001b[0m \u001b[0;34m>\u001b[0m \u001b[0m_MAXLINE\u001b[0m\u001b[0;34m:\u001b[0m\u001b[0;34m\u001b[0m\u001b[0;34m\u001b[0m\u001b[0m\n\u001b[1;32m    524\u001b[0m             \u001b[0;32mraise\u001b[0m \u001b[0mLineTooLong\u001b[0m\u001b[0;34m(\u001b[0m\u001b[0;34m\"chunk size\"\u001b[0m\u001b[0;34m)\u001b[0m\u001b[0;34m\u001b[0m\u001b[0;34m\u001b[0m\u001b[0m\n",
            "\u001b[0;32m/usr/lib/python3.7/socket.py\u001b[0m in \u001b[0;36mreadinto\u001b[0;34m(self, b)\u001b[0m\n\u001b[1;32m    587\u001b[0m         \u001b[0;32mwhile\u001b[0m \u001b[0;32mTrue\u001b[0m\u001b[0;34m:\u001b[0m\u001b[0;34m\u001b[0m\u001b[0;34m\u001b[0m\u001b[0m\n\u001b[1;32m    588\u001b[0m             \u001b[0;32mtry\u001b[0m\u001b[0;34m:\u001b[0m\u001b[0;34m\u001b[0m\u001b[0;34m\u001b[0m\u001b[0m\n\u001b[0;32m--> 589\u001b[0;31m                 \u001b[0;32mreturn\u001b[0m \u001b[0mself\u001b[0m\u001b[0;34m.\u001b[0m\u001b[0m_sock\u001b[0m\u001b[0;34m.\u001b[0m\u001b[0mrecv_into\u001b[0m\u001b[0;34m(\u001b[0m\u001b[0mb\u001b[0m\u001b[0;34m)\u001b[0m\u001b[0;34m\u001b[0m\u001b[0;34m\u001b[0m\u001b[0m\n\u001b[0m\u001b[1;32m    590\u001b[0m             \u001b[0;32mexcept\u001b[0m \u001b[0mtimeout\u001b[0m\u001b[0;34m:\u001b[0m\u001b[0;34m\u001b[0m\u001b[0;34m\u001b[0m\u001b[0m\n\u001b[1;32m    591\u001b[0m                 \u001b[0mself\u001b[0m\u001b[0;34m.\u001b[0m\u001b[0m_timeout_occurred\u001b[0m \u001b[0;34m=\u001b[0m \u001b[0;32mTrue\u001b[0m\u001b[0;34m\u001b[0m\u001b[0;34m\u001b[0m\u001b[0m\n",
            "\u001b[0;32m/usr/lib/python3.7/ssl.py\u001b[0m in \u001b[0;36mrecv_into\u001b[0;34m(self, buffer, nbytes, flags)\u001b[0m\n\u001b[1;32m   1069\u001b[0m                   \u001b[0;34m\"non-zero flags not allowed in calls to recv_into() on %s\"\u001b[0m \u001b[0;34m%\u001b[0m\u001b[0;34m\u001b[0m\u001b[0;34m\u001b[0m\u001b[0m\n\u001b[1;32m   1070\u001b[0m                   self.__class__)\n\u001b[0;32m-> 1071\u001b[0;31m             \u001b[0;32mreturn\u001b[0m \u001b[0mself\u001b[0m\u001b[0;34m.\u001b[0m\u001b[0mread\u001b[0m\u001b[0;34m(\u001b[0m\u001b[0mnbytes\u001b[0m\u001b[0;34m,\u001b[0m \u001b[0mbuffer\u001b[0m\u001b[0;34m)\u001b[0m\u001b[0;34m\u001b[0m\u001b[0;34m\u001b[0m\u001b[0m\n\u001b[0m\u001b[1;32m   1072\u001b[0m         \u001b[0;32melse\u001b[0m\u001b[0;34m:\u001b[0m\u001b[0;34m\u001b[0m\u001b[0;34m\u001b[0m\u001b[0m\n\u001b[1;32m   1073\u001b[0m             \u001b[0;32mreturn\u001b[0m \u001b[0msuper\u001b[0m\u001b[0;34m(\u001b[0m\u001b[0;34m)\u001b[0m\u001b[0;34m.\u001b[0m\u001b[0mrecv_into\u001b[0m\u001b[0;34m(\u001b[0m\u001b[0mbuffer\u001b[0m\u001b[0;34m,\u001b[0m \u001b[0mnbytes\u001b[0m\u001b[0;34m,\u001b[0m \u001b[0mflags\u001b[0m\u001b[0;34m)\u001b[0m\u001b[0;34m\u001b[0m\u001b[0;34m\u001b[0m\u001b[0m\n",
            "\u001b[0;32m/usr/lib/python3.7/ssl.py\u001b[0m in \u001b[0;36mread\u001b[0;34m(self, len, buffer)\u001b[0m\n\u001b[1;32m    927\u001b[0m         \u001b[0;32mtry\u001b[0m\u001b[0;34m:\u001b[0m\u001b[0;34m\u001b[0m\u001b[0;34m\u001b[0m\u001b[0m\n\u001b[1;32m    928\u001b[0m             \u001b[0;32mif\u001b[0m \u001b[0mbuffer\u001b[0m \u001b[0;32mis\u001b[0m \u001b[0;32mnot\u001b[0m \u001b[0;32mNone\u001b[0m\u001b[0;34m:\u001b[0m\u001b[0;34m\u001b[0m\u001b[0;34m\u001b[0m\u001b[0m\n\u001b[0;32m--> 929\u001b[0;31m                 \u001b[0;32mreturn\u001b[0m \u001b[0mself\u001b[0m\u001b[0;34m.\u001b[0m\u001b[0m_sslobj\u001b[0m\u001b[0;34m.\u001b[0m\u001b[0mread\u001b[0m\u001b[0;34m(\u001b[0m\u001b[0mlen\u001b[0m\u001b[0;34m,\u001b[0m \u001b[0mbuffer\u001b[0m\u001b[0;34m)\u001b[0m\u001b[0;34m\u001b[0m\u001b[0;34m\u001b[0m\u001b[0m\n\u001b[0m\u001b[1;32m    930\u001b[0m             \u001b[0;32melse\u001b[0m\u001b[0;34m:\u001b[0m\u001b[0;34m\u001b[0m\u001b[0;34m\u001b[0m\u001b[0m\n\u001b[1;32m    931\u001b[0m                 \u001b[0;32mreturn\u001b[0m \u001b[0mself\u001b[0m\u001b[0;34m.\u001b[0m\u001b[0m_sslobj\u001b[0m\u001b[0;34m.\u001b[0m\u001b[0mread\u001b[0m\u001b[0;34m(\u001b[0m\u001b[0mlen\u001b[0m\u001b[0;34m)\u001b[0m\u001b[0;34m\u001b[0m\u001b[0;34m\u001b[0m\u001b[0m\n",
            "\u001b[0;31mKeyboardInterrupt\u001b[0m: "
          ]
        }
      ]
    },
    {
      "cell_type": "markdown",
      "source": [
        "# CREAMOS NUESTRA CLOUD FUNCTION\n",
        "![imagen.png](data:image/png;base64,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)"
      ],
      "metadata": {
        "id": "O9LYLxkrPHI6"
      }
    },
    {
      "cell_type": "markdown",
      "source": [
        "Luego de haber copiado y pegado la Main function del colab y agregar nuestros requirements nos arrojó este error en la implementación de la function"
      ],
      "metadata": {
        "id": "MYeV341YXUfL"
      }
    },
    {
      "cell_type": "code",
      "metadata": {
        "id": "FDrQjJbsVO-4",
        "colab": {
          "base_uri": "https://localhost:8080/"
        },
        "outputId": "b6db9b51-3790-4dfb-fc95-dc9f93a3f987"
      },
      "source": [
        "# In case user service error...\n",
        "! gcloud iam service-accounts add-iam-policy-binding <project_id>@appspot.gserviceaccount.com --member=user:<mail> --role=roles/iam.serviceAccountUser"
      ],
      "execution_count": null,
      "outputs": [
        {
          "output_type": "stream",
          "name": "stdout",
          "text": [
            "/bin/bash: project_id: No such file or directory\n"
          ]
        }
      ]
    },
    {
      "cell_type": "markdown",
      "metadata": {
        "id": "7x_BX3FCG3mD"
      },
      "source": [
        "Para lanzar vuestra Cloud Function, que recoja y mande mensajes solo tenéis que ejecutar el comando siguiente (haced los pasos vistos en clase para desplegar el servicio):"
      ]
    },
    {
      "cell_type": "code",
      "metadata": {
        "id": "PcemNpnsKxFy",
        "colab": {
          "base_uri": "https://localhost:8080/"
        },
        "outputId": "99662825-3918-43f7-f8ee-2b8fc920230c"
      },
      "source": [
        "! curl -X POST https://europe-west1-practica-final-355911.cloudfunctions.net/twicht-publica -H \"Content-Type:application/json\"  -d '{\"debug\": false}'"
      ],
      "execution_count": null,
      "outputs": [
        {
          "output_type": "stream",
          "name": "stdout",
          "text": [
            "\n",
            "<html><head>\n",
            "<meta http-equiv=\"content-type\" content=\"text/html;charset=utf-8\">\n",
            "<title>403 Forbidden</title>\n",
            "</head>\n",
            "<body text=#000000 bgcolor=#ffffff>\n",
            "<h1>Error: Forbidden</h1>\n",
            "<h2>Your client does not have permission to get URL <code>/twicht-publica</code> from this server.</h2>\n",
            "<h2></h2>\n",
            "</body></html>\n"
          ]
        }
      ]
    },
    {
      "cell_type": "markdown",
      "metadata": {
        "id": "Yr3SmFrUHCvN"
      },
      "source": [
        "## Entregable 1 (3 puntos)\n",
        "\n",
        "En este entregable desarrollarás un pipeline de inferencia en streaming usando Apache Beam para ejecutar en Dataflow un job en streaming que llamará a vuestro microservicio para realizar inferencias."
      ]
    },
    {
      "cell_type": "code",
      "metadata": {
        "id": "IwlDH0KFbn1q",
        "colab": {
          "base_uri": "https://localhost:8080/"
        },
        "outputId": "8e5bcc1d-2ca3-46d6-c764-627ce8ffca9d"
      },
      "source": [
        "%mkdir /content/streaming/subscriber"
      ],
      "execution_count": null,
      "outputs": [
        {
          "output_type": "stream",
          "name": "stdout",
          "text": [
            "mkdir: cannot create directory ‘/content/streaming/subscriber’: File exists\n"
          ]
        }
      ]
    },
    {
      "cell_type": "code",
      "metadata": {
        "id": "DLNtrkgybtHE",
        "colab": {
          "base_uri": "https://localhost:8080/"
        },
        "outputId": "e231cdaf-dc6b-4678-f7d7-23fdd97798fa"
      },
      "source": [
        "%cd /content/streaming/subscriber"
      ],
      "execution_count": null,
      "outputs": [
        {
          "output_type": "stream",
          "name": "stdout",
          "text": [
            "/content/streaming/subscriber\n"
          ]
        }
      ]
    },
    {
      "cell_type": "code",
      "metadata": {
        "id": "XtBrcF2zbz04",
        "colab": {
          "base_uri": "https://localhost:8080/"
        },
        "outputId": "cfd0e22f-681f-4680-d602-e5a8343cd4ed"
      },
      "source": [
        "%%writefile requirements.txt\n",
        "\n",
        "apache-beam[gcp]==2.24.0\n",
        "fsspec==0.8.4\n",
        "gcsfs==0.7.1\n",
        "loguru==0.5.3"
      ],
      "execution_count": null,
      "outputs": [
        {
          "output_type": "stream",
          "name": "stdout",
          "text": [
            "Overwriting requirements.txt\n"
          ]
        }
      ]
    },
    {
      "cell_type": "code",
      "metadata": {
        "id": "6RN9KNMob1jY",
        "colab": {
          "base_uri": "https://localhost:8080/"
        },
        "outputId": "a27ca8f7-35c6-46ea-aaed-0d2c328e7a2b"
      },
      "source": [
        "! pip install -r requirements.txt"
      ],
      "execution_count": null,
      "outputs": [
        {
          "output_type": "stream",
          "name": "stdout",
          "text": [
            "Looking in indexes: https://pypi.org/simple, https://us-python.pkg.dev/colab-wheels/public/simple/\n",
            "Requirement already satisfied: apache-beam[gcp]==2.24.0 in /usr/local/lib/python3.7/dist-packages (from -r requirements.txt (line 2)) (2.24.0)\n",
            "Requirement already satisfied: fsspec==0.8.4 in /usr/local/lib/python3.7/dist-packages (from -r requirements.txt (line 3)) (0.8.4)\n",
            "Requirement already satisfied: gcsfs==0.7.1 in /usr/local/lib/python3.7/dist-packages (from -r requirements.txt (line 4)) (0.7.1)\n",
            "Requirement already satisfied: loguru==0.5.3 in /usr/local/lib/python3.7/dist-packages (from -r requirements.txt (line 5)) (0.5.3)\n",
            "Requirement already satisfied: google-auth-oauthlib in /usr/local/lib/python3.7/dist-packages (from gcsfs==0.7.1->-r requirements.txt (line 4)) (0.4.6)\n",
            "Requirement already satisfied: requests in /usr/local/lib/python3.7/dist-packages (from gcsfs==0.7.1->-r requirements.txt (line 4)) (2.25.0)\n",
            "Requirement already satisfied: aiohttp in /usr/local/lib/python3.7/dist-packages (from gcsfs==0.7.1->-r requirements.txt (line 4)) (3.8.1)\n",
            "Requirement already satisfied: decorator in /usr/local/lib/python3.7/dist-packages (from gcsfs==0.7.1->-r requirements.txt (line 4)) (4.4.2)\n",
            "Requirement already satisfied: google-auth>=1.2 in /usr/local/lib/python3.7/dist-packages (from gcsfs==0.7.1->-r requirements.txt (line 4)) (1.35.0)\n",
            "Requirement already satisfied: typing-extensions<3.8.0,>=3.7.0 in /usr/local/lib/python3.7/dist-packages (from apache-beam[gcp]==2.24.0->-r requirements.txt (line 2)) (3.7.4.3)\n",
            "Requirement already satisfied: mock<3.0.0,>=1.0.1 in /usr/local/lib/python3.7/dist-packages (from apache-beam[gcp]==2.24.0->-r requirements.txt (line 2)) (2.0.0)\n",
            "Requirement already satisfied: dill<0.3.2,>=0.3.1.1 in /usr/local/lib/python3.7/dist-packages (from apache-beam[gcp]==2.24.0->-r requirements.txt (line 2)) (0.3.1.1)\n",
            "Requirement already satisfied: grpcio<2,>=1.29.0 in /usr/local/lib/python3.7/dist-packages (from apache-beam[gcp]==2.24.0->-r requirements.txt (line 2)) (1.46.3)\n",
            "Requirement already satisfied: pyarrow<0.18.0,>=0.15.1 in /usr/local/lib/python3.7/dist-packages (from apache-beam[gcp]==2.24.0->-r requirements.txt (line 2)) (0.17.1)\n",
            "Requirement already satisfied: crcmod<2.0,>=1.7 in /usr/local/lib/python3.7/dist-packages (from apache-beam[gcp]==2.24.0->-r requirements.txt (line 2)) (1.7)\n",
            "Requirement already satisfied: pymongo<4.0.0,>=3.8.0 in /usr/local/lib/python3.7/dist-packages (from apache-beam[gcp]==2.24.0->-r requirements.txt (line 2)) (3.12.3)\n",
            "Requirement already satisfied: pydot<2,>=1.2.0 in /usr/local/lib/python3.7/dist-packages (from apache-beam[gcp]==2.24.0->-r requirements.txt (line 2)) (1.3.0)\n",
            "Requirement already satisfied: python-dateutil<3,>=2.8.0 in /usr/local/lib/python3.7/dist-packages (from apache-beam[gcp]==2.24.0->-r requirements.txt (line 2)) (2.8.2)\n",
            "Requirement already satisfied: httplib2<0.18.0,>=0.8 in /usr/local/lib/python3.7/dist-packages (from apache-beam[gcp]==2.24.0->-r requirements.txt (line 2)) (0.17.4)\n",
            "Requirement already satisfied: avro-python3!=1.9.2,<1.10.0,>=1.8.1 in /usr/local/lib/python3.7/dist-packages (from apache-beam[gcp]==2.24.0->-r requirements.txt (line 2)) (1.9.2.1)\n",
            "Requirement already satisfied: fastavro<0.24,>=0.21.4 in /usr/local/lib/python3.7/dist-packages (from apache-beam[gcp]==2.24.0->-r requirements.txt (line 2)) (0.23.6)\n",
            "Requirement already satisfied: oauth2client<4,>=2.0.1 in /usr/local/lib/python3.7/dist-packages (from apache-beam[gcp]==2.24.0->-r requirements.txt (line 2)) (3.0.0)\n",
            "Requirement already satisfied: numpy<2,>=1.14.3 in /usr/local/lib/python3.7/dist-packages (from apache-beam[gcp]==2.24.0->-r requirements.txt (line 2)) (1.20.0)\n",
            "Requirement already satisfied: future<1.0.0,>=0.18.2 in /usr/local/lib/python3.7/dist-packages (from apache-beam[gcp]==2.24.0->-r requirements.txt (line 2)) (0.18.2)\n",
            "Requirement already satisfied: pytz>=2018.3 in /usr/local/lib/python3.7/dist-packages (from apache-beam[gcp]==2.24.0->-r requirements.txt (line 2)) (2022.1)\n",
            "Requirement already satisfied: protobuf<4,>=3.12.2 in /usr/local/lib/python3.7/dist-packages (from apache-beam[gcp]==2.24.0->-r requirements.txt (line 2)) (3.20.1)\n",
            "Requirement already satisfied: hdfs<3.0.0,>=2.1.0 in /usr/local/lib/python3.7/dist-packages (from apache-beam[gcp]==2.24.0->-r requirements.txt (line 2)) (2.7.0)\n",
            "Requirement already satisfied: google-cloud-vision<2,>=0.38.0 in /usr/local/lib/python3.7/dist-packages (from apache-beam[gcp]==2.24.0->-r requirements.txt (line 2)) (1.0.2)\n",
            "Requirement already satisfied: google-cloud-spanner<2,>=1.13.0 in /usr/local/lib/python3.7/dist-packages (from apache-beam[gcp]==2.24.0->-r requirements.txt (line 2)) (1.19.3)\n",
            "Requirement already satisfied: google-cloud-bigquery<2,>=1.6.0 in /usr/local/lib/python3.7/dist-packages (from apache-beam[gcp]==2.24.0->-r requirements.txt (line 2)) (1.21.0)\n",
            "Requirement already satisfied: google-cloud-pubsub<2,>=0.39.0 in /usr/local/lib/python3.7/dist-packages (from apache-beam[gcp]==2.24.0->-r requirements.txt (line 2)) (1.7.2)\n",
            "Requirement already satisfied: grpcio-gcp<1,>=0.2.2 in /usr/local/lib/python3.7/dist-packages (from apache-beam[gcp]==2.24.0->-r requirements.txt (line 2)) (0.2.2)\n",
            "Requirement already satisfied: cachetools<4,>=3.1.0 in /usr/local/lib/python3.7/dist-packages (from apache-beam[gcp]==2.24.0->-r requirements.txt (line 2)) (3.1.1)\n",
            "Requirement already satisfied: google-cloud-core<2,>=0.28.1 in /usr/local/lib/python3.7/dist-packages (from apache-beam[gcp]==2.24.0->-r requirements.txt (line 2)) (1.7.2)\n",
            "Requirement already satisfied: google-cloud-bigtable<2,>=0.31.1 in /usr/local/lib/python3.7/dist-packages (from apache-beam[gcp]==2.24.0->-r requirements.txt (line 2)) (1.7.2)\n",
            "Requirement already satisfied: google-apitools<0.5.32,>=0.5.31 in /usr/local/lib/python3.7/dist-packages (from apache-beam[gcp]==2.24.0->-r requirements.txt (line 2)) (0.5.31)\n",
            "Requirement already satisfied: google-cloud-dlp<2,>=0.12.0 in /usr/local/lib/python3.7/dist-packages (from apache-beam[gcp]==2.24.0->-r requirements.txt (line 2)) (1.0.2)\n",
            "Requirement already satisfied: google-cloud-datastore<2,>=1.7.1 in /usr/local/lib/python3.7/dist-packages (from apache-beam[gcp]==2.24.0->-r requirements.txt (line 2)) (1.8.0)\n",
            "Requirement already satisfied: google-cloud-videointelligence<2,>=1.8.0 in /usr/local/lib/python3.7/dist-packages (from apache-beam[gcp]==2.24.0->-r requirements.txt (line 2)) (1.16.3)\n",
            "Requirement already satisfied: google-cloud-language<2,>=1.3.0 in /usr/local/lib/python3.7/dist-packages (from apache-beam[gcp]==2.24.0->-r requirements.txt (line 2)) (1.3.2)\n",
            "Requirement already satisfied: six>=1.12.0 in /usr/local/lib/python3.7/dist-packages (from google-apitools<0.5.32,>=0.5.31->apache-beam[gcp]==2.24.0->-r requirements.txt (line 2)) (1.15.0)\n",
            "Requirement already satisfied: fasteners>=0.14 in /usr/local/lib/python3.7/dist-packages (from google-apitools<0.5.32,>=0.5.31->apache-beam[gcp]==2.24.0->-r requirements.txt (line 2)) (0.17.3)\n",
            "Requirement already satisfied: pyasn1-modules>=0.2.1 in /usr/local/lib/python3.7/dist-packages (from google-auth>=1.2->gcsfs==0.7.1->-r requirements.txt (line 4)) (0.2.8)\n",
            "Requirement already satisfied: setuptools>=40.3.0 in /usr/local/lib/python3.7/dist-packages (from google-auth>=1.2->gcsfs==0.7.1->-r requirements.txt (line 4)) (57.4.0)\n",
            "Requirement already satisfied: rsa<5,>=3.1.4 in /usr/local/lib/python3.7/dist-packages (from google-auth>=1.2->gcsfs==0.7.1->-r requirements.txt (line 4)) (4.8)\n",
            "Requirement already satisfied: google-resumable-media!=0.4.0,<0.5.0dev,>=0.3.1 in /usr/local/lib/python3.7/dist-packages (from google-cloud-bigquery<2,>=1.6.0->apache-beam[gcp]==2.24.0->-r requirements.txt (line 2)) (0.4.1)\n",
            "Requirement already satisfied: grpc-google-iam-v1<0.13dev,>=0.12.3 in /usr/local/lib/python3.7/dist-packages (from google-cloud-bigtable<2,>=0.31.1->apache-beam[gcp]==2.24.0->-r requirements.txt (line 2)) (0.12.4)\n",
            "Requirement already satisfied: google-api-core[grpc]!=2.0.*,!=2.1.*,!=2.2.*,!=2.3.0,<3.0.0dev,>=1.31.5 in /usr/local/lib/python3.7/dist-packages (from google-cloud-bigtable<2,>=0.31.1->apache-beam[gcp]==2.24.0->-r requirements.txt (line 2)) (1.31.6)\n",
            "Requirement already satisfied: googleapis-common-protos<2.0dev,>=1.6.0 in /usr/local/lib/python3.7/dist-packages (from google-api-core[grpc]!=2.0.*,!=2.1.*,!=2.2.*,!=2.3.0,<3.0.0dev,>=1.31.5->google-cloud-bigtable<2,>=0.31.1->apache-beam[gcp]==2.24.0->-r requirements.txt (line 2)) (1.56.2)\n",
            "Requirement already satisfied: packaging>=14.3 in /usr/local/lib/python3.7/dist-packages (from google-api-core[grpc]!=2.0.*,!=2.1.*,!=2.2.*,!=2.3.0,<3.0.0dev,>=1.31.5->google-cloud-bigtable<2,>=0.31.1->apache-beam[gcp]==2.24.0->-r requirements.txt (line 2)) (21.3)\n",
            "Requirement already satisfied: docopt in /usr/local/lib/python3.7/dist-packages (from hdfs<3.0.0,>=2.1.0->apache-beam[gcp]==2.24.0->-r requirements.txt (line 2)) (0.6.2)\n",
            "Requirement already satisfied: pbr>=0.11 in /usr/local/lib/python3.7/dist-packages (from mock<3.0.0,>=1.0.1->apache-beam[gcp]==2.24.0->-r requirements.txt (line 2)) (5.9.0)\n",
            "Requirement already satisfied: pyasn1>=0.1.7 in /usr/local/lib/python3.7/dist-packages (from oauth2client<4,>=2.0.1->apache-beam[gcp]==2.24.0->-r requirements.txt (line 2)) (0.4.8)\n",
            "Requirement already satisfied: pyparsing!=3.0.5,>=2.0.2 in /usr/local/lib/python3.7/dist-packages (from packaging>=14.3->google-api-core[grpc]!=2.0.*,!=2.1.*,!=2.2.*,!=2.3.0,<3.0.0dev,>=1.31.5->google-cloud-bigtable<2,>=0.31.1->apache-beam[gcp]==2.24.0->-r requirements.txt (line 2)) (3.0.9)\n",
            "Requirement already satisfied: urllib3<1.27,>=1.21.1 in /usr/local/lib/python3.7/dist-packages (from requests->gcsfs==0.7.1->-r requirements.txt (line 4)) (1.24.3)\n",
            "Requirement already satisfied: certifi>=2017.4.17 in /usr/local/lib/python3.7/dist-packages (from requests->gcsfs==0.7.1->-r requirements.txt (line 4)) (2022.6.15)\n",
            "Requirement already satisfied: chardet<4,>=3.0.2 in /usr/local/lib/python3.7/dist-packages (from requests->gcsfs==0.7.1->-r requirements.txt (line 4)) (3.0.4)\n",
            "Requirement already satisfied: idna<3,>=2.5 in /usr/local/lib/python3.7/dist-packages (from requests->gcsfs==0.7.1->-r requirements.txt (line 4)) (2.10)\n",
            "Requirement already satisfied: charset-normalizer<3.0,>=2.0 in /usr/local/lib/python3.7/dist-packages (from aiohttp->gcsfs==0.7.1->-r requirements.txt (line 4)) (2.1.0)\n",
            "Requirement already satisfied: async-timeout<5.0,>=4.0.0a3 in /usr/local/lib/python3.7/dist-packages (from aiohttp->gcsfs==0.7.1->-r requirements.txt (line 4)) (4.0.2)\n",
            "Requirement already satisfied: multidict<7.0,>=4.5 in /usr/local/lib/python3.7/dist-packages (from aiohttp->gcsfs==0.7.1->-r requirements.txt (line 4)) (6.0.2)\n",
            "Requirement already satisfied: aiosignal>=1.1.2 in /usr/local/lib/python3.7/dist-packages (from aiohttp->gcsfs==0.7.1->-r requirements.txt (line 4)) (1.2.0)\n",
            "Requirement already satisfied: attrs>=17.3.0 in /usr/local/lib/python3.7/dist-packages (from aiohttp->gcsfs==0.7.1->-r requirements.txt (line 4)) (21.4.0)\n",
            "Requirement already satisfied: frozenlist>=1.1.1 in /usr/local/lib/python3.7/dist-packages (from aiohttp->gcsfs==0.7.1->-r requirements.txt (line 4)) (1.3.0)\n",
            "Requirement already satisfied: asynctest==0.13.0 in /usr/local/lib/python3.7/dist-packages (from aiohttp->gcsfs==0.7.1->-r requirements.txt (line 4)) (0.13.0)\n",
            "Requirement already satisfied: yarl<2.0,>=1.0 in /usr/local/lib/python3.7/dist-packages (from aiohttp->gcsfs==0.7.1->-r requirements.txt (line 4)) (1.7.2)\n",
            "Requirement already satisfied: requests-oauthlib>=0.7.0 in /usr/local/lib/python3.7/dist-packages (from google-auth-oauthlib->gcsfs==0.7.1->-r requirements.txt (line 4)) (1.3.1)\n",
            "Requirement already satisfied: oauthlib>=3.0.0 in /usr/local/lib/python3.7/dist-packages (from requests-oauthlib>=0.7.0->google-auth-oauthlib->gcsfs==0.7.1->-r requirements.txt (line 4)) (3.2.0)\n"
          ]
        }
      ]
    },
    {
      "cell_type": "code",
      "metadata": {
        "id": "JMeJPR90b3AN",
        "colab": {
          "base_uri": "https://localhost:8080/"
        },
        "outputId": "7abcbc09-b173-4031-a271-24e63358538d"
      },
      "source": [
        "%%writefile predict.py\n",
        "from __future__ import absolute_import\n",
        "from __future__ import print_function\n",
        "\n",
        "import argparse\n",
        "import requests\n",
        "import json\n",
        "import sys\n",
        "\n",
        "import apache_beam as beam\n",
        "import apache_beam.transforms.window as window\n",
        "from apache_beam.options.pipeline_options import (\n",
        "    GoogleCloudOptions,\n",
        "    StandardOptions,\n",
        "    PipelineOptions,\n",
        "    SetupOptions,\n",
        ")\n",
        "from loguru import logger\n",
        "\n",
        "\n",
        "class Predict(beam.DoFn):\n",
        "    def __init__(self, predict_server) -> None:\n",
        "        self.url = predict_server\n",
        "\n",
        "    def _predict(self, text) -> str:\n",
        "        payload = {\"text\": text}\n",
        "        headers = {\"accept\": \"application/json\", \"Content-Type\": \"application/json\"}\n",
        "        try:\n",
        "            response = requests.post(\n",
        "                self.url, data=json.dumps(payload), headers=headers\n",
        "            )\n",
        "            response = json.loads(response.text)\n",
        "        except Exception:\n",
        "            response = {\"label\": \"undefined\", \"score\": 0, \"elapsed_time\": 0}\n",
        "\n",
        "        return response\n",
        "\n",
        "    def process(self, element, window=beam.DoFn.WindowParam):\n",
        "        logger.info(f\"Text to predict: {element}\")\n",
        "        result = self._predict(element)\n",
        "        result[\"text\"] = element\n",
        "        yield json.dumps(result)\n",
        "\n",
        "\n",
        "def run(predict_server, source, sink, beam_options=None):\n",
        "    with beam.Pipeline(options=beam_options) as p:\n",
        "        _ = (\n",
        "            p\n",
        "            | \"Read data from PubSub\" >> source\n",
        "            | \"decode\" >> beam.Map(lambda x: x.decode(\"utf-8\"))\n",
        "            | \"window\" >> beam.WindowInto(window.FixedWindows(15))\n",
        "            | \"Predict\" >> beam.ParDo(Predict(predict_server))\n",
        "            | \"encode\" >> beam.Map(lambda x: x.encode(\"utf-8\")).with_output_types(bytes)\n",
        "            | \"Write predictions\" >> sink\n",
        "        )\n",
        "\n",
        "\n",
        "if __name__ == \"__main__\":\n",
        "    \"\"\"Main function\"\"\"\n",
        "    parser = argparse.ArgumentParser(\n",
        "        formatter_class=argparse.ArgumentDefaultsHelpFormatter\n",
        "    )\n",
        "\n",
        "    parser.add_argument(\n",
        "        \"--inputs_topic\",\n",
        "        dest=\"inputs_topic\",\n",
        "        required=True,\n",
        "        help=\"Directory for temporary files and preprocessed datasets to. \"\n",
        "        \"This can be a Google Cloud Storage path.\",\n",
        "    )\n",
        "\n",
        "    parser.add_argument(\n",
        "        \"--outputs_topic\",\n",
        "        dest=\"outputs_topic\",\n",
        "        required=True,\n",
        "        help=\"Directory for temporary files and preprocessed datasets to. \"\n",
        "        \"This can be a Google Cloud Storage path.\",\n",
        "    )\n",
        "\n",
        "    parser.add_argument(\n",
        "        \"--predict_server\",\n",
        "        dest=\"predict_server\",\n",
        "        required=True,\n",
        "        help=\"Directory for temporary files and preprocessed datasets to. \"\n",
        "        \"This can be a Google Cloud Storage path.\",\n",
        "    )\n",
        "\n",
        "    args, pipeline_args = parser.parse_known_args()\n",
        "    logger.info(args)\n",
        "    beam_options = PipelineOptions(pipeline_args)\n",
        "    beam_options.view_as(SetupOptions).save_main_session = True\n",
        "    # beam_options.view_as(DirectOptions).direct_num_workers = 0\n",
        "\n",
        "    project = beam_options.view_as(GoogleCloudOptions).project\n",
        "\n",
        "    if not project:\n",
        "        parser.print_usage()\n",
        "        print(\"error: argument --project is required for streaming\")\n",
        "        sys.exit(1)\n",
        "\n",
        "    beam_options.view_as(StandardOptions).streaming = True\n",
        "\n",
        "    source = beam.io.ReadFromPubSub(\n",
        "        topic=\"projects/{}/topics/{}\".format(project, args.inputs_topic)\n",
        "    ).with_output_types(bytes)\n",
        "\n",
        "    sink = beam.io.WriteToPubSub(\n",
        "        topic=\"projects/{}/topics/{}\".format(project, args.outputs_topic)\n",
        "    )\n",
        "\n",
        "    run(args.predict_server, source, sink, beam_options)"
      ],
      "execution_count": null,
      "outputs": [
        {
          "output_type": "stream",
          "name": "stdout",
          "text": [
            "Overwriting predict.py\n"
          ]
        }
      ]
    },
    {
      "cell_type": "code",
      "metadata": {
        "id": "jT_Qmb16hgEq",
        "colab": {
          "base_uri": "https://localhost:8080/"
        },
        "outputId": "77fc66fe-b4ec-4e94-c35e-98dcb0672473"
      },
      "source": [
        "%%writefile setup.py\n",
        "\n",
        "import setuptools\n",
        "\n",
        "REQUIRED_PACKAGES = [\n",
        "    \"apache-beam[gcp]==2.24.0\",\n",
        "    \"fsspec==0.8.4\",\n",
        "    \"gcsfs==0.7.1\",\n",
        "    \"loguru==0.5.3\",\n",
        "]\n",
        "\n",
        "setuptools.setup(\n",
        "    name=\"twitchstreaming\",\n",
        "    version=\"0.0.1\",\n",
        "    install_requires=REQUIRED_PACKAGES,\n",
        "    packages=setuptools.find_packages(),\n",
        "    include_package_data=True,\n",
        "    description=\"Twitch Troll Detection\",\n",
        ")"
      ],
      "execution_count": null,
      "outputs": [
        {
          "output_type": "stream",
          "name": "stdout",
          "text": [
            "Overwriting setup.py\n"
          ]
        }
      ]
    },
    {
      "cell_type": "markdown",
      "metadata": {
        "id": "-RdyxvdVHmnZ"
      },
      "source": [
        "### Validación inferencia en streaming\n",
        "\n",
        "Con el comando mostrado a continuación se genera un job en streaming de Dataflow. Antes de ejecutarlo, deberás crear dos topicos en Pub/Sub, `twitch-chat` donde se recibirán los mensajes de twitch, y `twitch-chat-predictions` donde se mandarán las predicciones generadas por vuestro microservicio.\n",
        "\n",
        "**Importante**: no te olvides de modificar la URL de tu microservicio de inferencia."
      ]
    },
    {
      "cell_type": "code",
      "metadata": {
        "id": "9j4vzFn2wUPk"
      },
      "source": [
        "GCP_WORK_DIR = 'gs://final-practice-test-execution'\n",
        "GCP_REGION = 'us-east1'"
      ],
      "execution_count": null,
      "outputs": []
    },
    {
      "cell_type": "markdown",
      "source": [
        "# CREAMOS LOS TOPICOS \n",
        "\n",
        "![imagen.png](data:image/png;base64,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)"
      ],
      "metadata": {
        "id": "JjSCqD_0cukU"
      }
    },
    {
      "cell_type": "code",
      "metadata": {
        "id": "S5ftKoXAhiJ7",
        "colab": {
          "base_uri": "https://localhost:8080/"
        },
        "outputId": "dfb7ee2d-23d1-476d-8146-ede791fccfe3"
      },
      "source": [
        "! python3 predict.py \\\n",
        "--project $PROJECT_ID \\\n",
        "--region $GCP_REGION \\\n",
        "--runner DataflowRunner \\\n",
        "--temp_location $GCP_WORK_DIR/beam-temp \\\n",
        "--setup_file ./setup.py \\\n",
        "--inputs_topic twitch-chat \\\n",
        "--outputs_topic twitch-chat-predictions \\\n",
        "--predict_server https://troll-detection-service-g2v7skqfeq-uc.a.run.app/api/model/predict \\"
      ],
      "execution_count": null,
      "outputs": [
        {
          "output_type": "stream",
          "name": "stdout",
          "text": [
            "\u001b[32m2022-07-10 10:31:33.720\u001b[0m | \u001b[1mINFO    \u001b[0m | \u001b[36m__main__\u001b[0m:\u001b[36m<module>\u001b[0m:\u001b[36m88\u001b[0m - \u001b[1mNamespace(inputs_topic='twitch-chat', outputs_topic='twitch-chat-predictions', predict_server='https://troll-detection-service-g2v7skqfeq-uc.a.run.app/api/model/predict')\u001b[0m\n",
            "usage: predict.py [-h] [--dataflow_endpoint DATAFLOW_ENDPOINT]\n",
            "                  [--project PROJECT] [--job_name JOB_NAME]\n",
            "                  [--staging_location STAGING_LOCATION]\n",
            "                  [--temp_location TEMP_LOCATION] [--region REGION]\n",
            "                  [--service_account_email SERVICE_ACCOUNT_EMAIL] [--no_auth]\n",
            "                  [--template_location TEMPLATE_LOCATION] [--label LABELS]\n",
            "                  [--update] [--transform_name_mapping TRANSFORM_NAME_MAPPING]\n",
            "                  [--enable_streaming_engine]\n",
            "                  [--dataflow_kms_key DATAFLOW_KMS_KEY]\n",
            "                  [--flexrs_goal {COST_OPTIMIZED,SPEED_OPTIMIZED}]\n",
            "predict.py: error: argument --project: expected one argument\n"
          ]
        }
      ]
    }
  ]
}